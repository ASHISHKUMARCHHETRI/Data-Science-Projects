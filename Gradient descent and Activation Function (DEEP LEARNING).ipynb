{
 "cells": [
  {
   "cell_type": "code",
   "execution_count": 50,
   "metadata": {},
   "outputs": [],
   "source": [
    "import numpy as np\n",
    "import tensorflow as tf\n",
    "from tensorflow import keras\n",
    "import pandas as pd\n",
    "import matplotlib.pyplot as plt\n",
    "%matplotlib inline\n",
    "from sklearn.model_selection import train_test_split\n",
    "from sklearn.linear_model import LinearRegression\n",
    "from sklearn.preprocessing import LabelEncoder\n",
    "import math\n",
    "from sklearn.preprocessing import MinMaxScaler"
   ]
  },
  {
   "cell_type": "code",
   "execution_count": 4,
   "metadata": {},
   "outputs": [],
   "source": [
    "data=pd.read_csv(r\"C:\\Mba notes\\novels\\500_Person_Gender_Height_Weight_Index.csv\")"
   ]
  },
  {
   "cell_type": "code",
   "execution_count": 9,
   "metadata": {},
   "outputs": [
    {
     "data": {
      "text/plain": [
       "(500, 4)"
      ]
     },
     "execution_count": 9,
     "metadata": {},
     "output_type": "execute_result"
    }
   ],
   "source": [
    "data.shape"
   ]
  },
  {
   "cell_type": "code",
   "execution_count": 10,
   "metadata": {},
   "outputs": [],
   "source": [
    "data[\"Gender\"]=LabelEncoder().fit_transform(data[\"Gender\"])"
   ]
  },
  {
   "cell_type": "code",
   "execution_count": 11,
   "metadata": {},
   "outputs": [
    {
     "data": {
      "text/plain": [
       "6"
      ]
     },
     "execution_count": 11,
     "metadata": {},
     "output_type": "execute_result"
    }
   ],
   "source": [
    "len(data[\"Index\"].unique())"
   ]
  },
  {
   "cell_type": "code",
   "execution_count": 12,
   "metadata": {},
   "outputs": [
    {
     "data": {
      "text/html": [
       "<div>\n",
       "<style scoped>\n",
       "    .dataframe tbody tr th:only-of-type {\n",
       "        vertical-align: middle;\n",
       "    }\n",
       "\n",
       "    .dataframe tbody tr th {\n",
       "        vertical-align: top;\n",
       "    }\n",
       "\n",
       "    .dataframe thead th {\n",
       "        text-align: right;\n",
       "    }\n",
       "</style>\n",
       "<table border=\"1\" class=\"dataframe\">\n",
       "  <thead>\n",
       "    <tr style=\"text-align: right;\">\n",
       "      <th></th>\n",
       "      <th>Gender</th>\n",
       "      <th>Height</th>\n",
       "      <th>Weight</th>\n",
       "      <th>Index</th>\n",
       "    </tr>\n",
       "  </thead>\n",
       "  <tbody>\n",
       "    <tr>\n",
       "      <th>0</th>\n",
       "      <td>1</td>\n",
       "      <td>174</td>\n",
       "      <td>96</td>\n",
       "      <td>4</td>\n",
       "    </tr>\n",
       "    <tr>\n",
       "      <th>1</th>\n",
       "      <td>1</td>\n",
       "      <td>189</td>\n",
       "      <td>87</td>\n",
       "      <td>2</td>\n",
       "    </tr>\n",
       "    <tr>\n",
       "      <th>2</th>\n",
       "      <td>0</td>\n",
       "      <td>185</td>\n",
       "      <td>110</td>\n",
       "      <td>4</td>\n",
       "    </tr>\n",
       "    <tr>\n",
       "      <th>3</th>\n",
       "      <td>0</td>\n",
       "      <td>195</td>\n",
       "      <td>104</td>\n",
       "      <td>3</td>\n",
       "    </tr>\n",
       "    <tr>\n",
       "      <th>4</th>\n",
       "      <td>1</td>\n",
       "      <td>149</td>\n",
       "      <td>61</td>\n",
       "      <td>3</td>\n",
       "    </tr>\n",
       "    <tr>\n",
       "      <th>...</th>\n",
       "      <td>...</td>\n",
       "      <td>...</td>\n",
       "      <td>...</td>\n",
       "      <td>...</td>\n",
       "    </tr>\n",
       "    <tr>\n",
       "      <th>495</th>\n",
       "      <td>0</td>\n",
       "      <td>150</td>\n",
       "      <td>153</td>\n",
       "      <td>5</td>\n",
       "    </tr>\n",
       "    <tr>\n",
       "      <th>496</th>\n",
       "      <td>0</td>\n",
       "      <td>184</td>\n",
       "      <td>121</td>\n",
       "      <td>4</td>\n",
       "    </tr>\n",
       "    <tr>\n",
       "      <th>497</th>\n",
       "      <td>0</td>\n",
       "      <td>141</td>\n",
       "      <td>136</td>\n",
       "      <td>5</td>\n",
       "    </tr>\n",
       "    <tr>\n",
       "      <th>498</th>\n",
       "      <td>1</td>\n",
       "      <td>150</td>\n",
       "      <td>95</td>\n",
       "      <td>5</td>\n",
       "    </tr>\n",
       "    <tr>\n",
       "      <th>499</th>\n",
       "      <td>1</td>\n",
       "      <td>173</td>\n",
       "      <td>131</td>\n",
       "      <td>5</td>\n",
       "    </tr>\n",
       "  </tbody>\n",
       "</table>\n",
       "<p>500 rows × 4 columns</p>\n",
       "</div>"
      ],
      "text/plain": [
       "     Gender  Height  Weight  Index\n",
       "0         1     174      96      4\n",
       "1         1     189      87      2\n",
       "2         0     185     110      4\n",
       "3         0     195     104      3\n",
       "4         1     149      61      3\n",
       "..      ...     ...     ...    ...\n",
       "495       0     150     153      5\n",
       "496       0     184     121      4\n",
       "497       0     141     136      5\n",
       "498       1     150      95      5\n",
       "499       1     173     131      5\n",
       "\n",
       "[500 rows x 4 columns]"
      ]
     },
     "execution_count": 12,
     "metadata": {},
     "output_type": "execute_result"
    }
   ],
   "source": [
    "data"
   ]
  },
  {
   "cell_type": "code",
   "execution_count": 7,
   "metadata": {},
   "outputs": [],
   "source": [
    "data[\"Height\"]=data[\"Height\"]/200\n",
    "data[\"Weight\"]=data[\"Weight\"]/200"
   ]
  },
  {
   "cell_type": "code",
   "execution_count": 13,
   "metadata": {},
   "outputs": [
    {
     "data": {
      "text/html": [
       "<div>\n",
       "<style scoped>\n",
       "    .dataframe tbody tr th:only-of-type {\n",
       "        vertical-align: middle;\n",
       "    }\n",
       "\n",
       "    .dataframe tbody tr th {\n",
       "        vertical-align: top;\n",
       "    }\n",
       "\n",
       "    .dataframe thead th {\n",
       "        text-align: right;\n",
       "    }\n",
       "</style>\n",
       "<table border=\"1\" class=\"dataframe\">\n",
       "  <thead>\n",
       "    <tr style=\"text-align: right;\">\n",
       "      <th></th>\n",
       "      <th>Gender</th>\n",
       "      <th>Height</th>\n",
       "      <th>Weight</th>\n",
       "      <th>Index</th>\n",
       "    </tr>\n",
       "  </thead>\n",
       "  <tbody>\n",
       "    <tr>\n",
       "      <th>0</th>\n",
       "      <td>1</td>\n",
       "      <td>174</td>\n",
       "      <td>96</td>\n",
       "      <td>4</td>\n",
       "    </tr>\n",
       "    <tr>\n",
       "      <th>1</th>\n",
       "      <td>1</td>\n",
       "      <td>189</td>\n",
       "      <td>87</td>\n",
       "      <td>2</td>\n",
       "    </tr>\n",
       "    <tr>\n",
       "      <th>2</th>\n",
       "      <td>0</td>\n",
       "      <td>185</td>\n",
       "      <td>110</td>\n",
       "      <td>4</td>\n",
       "    </tr>\n",
       "    <tr>\n",
       "      <th>3</th>\n",
       "      <td>0</td>\n",
       "      <td>195</td>\n",
       "      <td>104</td>\n",
       "      <td>3</td>\n",
       "    </tr>\n",
       "    <tr>\n",
       "      <th>4</th>\n",
       "      <td>1</td>\n",
       "      <td>149</td>\n",
       "      <td>61</td>\n",
       "      <td>3</td>\n",
       "    </tr>\n",
       "    <tr>\n",
       "      <th>...</th>\n",
       "      <td>...</td>\n",
       "      <td>...</td>\n",
       "      <td>...</td>\n",
       "      <td>...</td>\n",
       "    </tr>\n",
       "    <tr>\n",
       "      <th>495</th>\n",
       "      <td>0</td>\n",
       "      <td>150</td>\n",
       "      <td>153</td>\n",
       "      <td>5</td>\n",
       "    </tr>\n",
       "    <tr>\n",
       "      <th>496</th>\n",
       "      <td>0</td>\n",
       "      <td>184</td>\n",
       "      <td>121</td>\n",
       "      <td>4</td>\n",
       "    </tr>\n",
       "    <tr>\n",
       "      <th>497</th>\n",
       "      <td>0</td>\n",
       "      <td>141</td>\n",
       "      <td>136</td>\n",
       "      <td>5</td>\n",
       "    </tr>\n",
       "    <tr>\n",
       "      <th>498</th>\n",
       "      <td>1</td>\n",
       "      <td>150</td>\n",
       "      <td>95</td>\n",
       "      <td>5</td>\n",
       "    </tr>\n",
       "    <tr>\n",
       "      <th>499</th>\n",
       "      <td>1</td>\n",
       "      <td>173</td>\n",
       "      <td>131</td>\n",
       "      <td>5</td>\n",
       "    </tr>\n",
       "  </tbody>\n",
       "</table>\n",
       "<p>500 rows × 4 columns</p>\n",
       "</div>"
      ],
      "text/plain": [
       "     Gender  Height  Weight  Index\n",
       "0         1     174      96      4\n",
       "1         1     189      87      2\n",
       "2         0     185     110      4\n",
       "3         0     195     104      3\n",
       "4         1     149      61      3\n",
       "..      ...     ...     ...    ...\n",
       "495       0     150     153      5\n",
       "496       0     184     121      4\n",
       "497       0     141     136      5\n",
       "498       1     150      95      5\n",
       "499       1     173     131      5\n",
       "\n",
       "[500 rows x 4 columns]"
      ]
     },
     "execution_count": 13,
     "metadata": {},
     "output_type": "execute_result"
    }
   ],
   "source": [
    "data"
   ]
  },
  {
   "cell_type": "code",
   "execution_count": 14,
   "metadata": {},
   "outputs": [
    {
     "data": {
      "text/plain": [
       "(500, 4)"
      ]
     },
     "execution_count": 14,
     "metadata": {},
     "output_type": "execute_result"
    }
   ],
   "source": [
    "data.shape"
   ]
  },
  {
   "cell_type": "code",
   "execution_count": 15,
   "metadata": {},
   "outputs": [],
   "source": [
    "from sklearn.preprocessing import LabelEncoder"
   ]
  },
  {
   "cell_type": "code",
   "execution_count": 16,
   "metadata": {},
   "outputs": [],
   "source": [
    "data[\"Gender\"]=LabelEncoder().fit_transform(data.Gender)"
   ]
  },
  {
   "cell_type": "code",
   "execution_count": 17,
   "metadata": {},
   "outputs": [
    {
     "data": {
      "text/html": [
       "<div>\n",
       "<style scoped>\n",
       "    .dataframe tbody tr th:only-of-type {\n",
       "        vertical-align: middle;\n",
       "    }\n",
       "\n",
       "    .dataframe tbody tr th {\n",
       "        vertical-align: top;\n",
       "    }\n",
       "\n",
       "    .dataframe thead th {\n",
       "        text-align: right;\n",
       "    }\n",
       "</style>\n",
       "<table border=\"1\" class=\"dataframe\">\n",
       "  <thead>\n",
       "    <tr style=\"text-align: right;\">\n",
       "      <th></th>\n",
       "      <th>Gender</th>\n",
       "      <th>Height</th>\n",
       "      <th>Weight</th>\n",
       "      <th>Index</th>\n",
       "    </tr>\n",
       "  </thead>\n",
       "  <tbody>\n",
       "    <tr>\n",
       "      <th>0</th>\n",
       "      <td>1</td>\n",
       "      <td>174</td>\n",
       "      <td>96</td>\n",
       "      <td>4</td>\n",
       "    </tr>\n",
       "    <tr>\n",
       "      <th>1</th>\n",
       "      <td>1</td>\n",
       "      <td>189</td>\n",
       "      <td>87</td>\n",
       "      <td>2</td>\n",
       "    </tr>\n",
       "    <tr>\n",
       "      <th>2</th>\n",
       "      <td>0</td>\n",
       "      <td>185</td>\n",
       "      <td>110</td>\n",
       "      <td>4</td>\n",
       "    </tr>\n",
       "    <tr>\n",
       "      <th>3</th>\n",
       "      <td>0</td>\n",
       "      <td>195</td>\n",
       "      <td>104</td>\n",
       "      <td>3</td>\n",
       "    </tr>\n",
       "    <tr>\n",
       "      <th>4</th>\n",
       "      <td>1</td>\n",
       "      <td>149</td>\n",
       "      <td>61</td>\n",
       "      <td>3</td>\n",
       "    </tr>\n",
       "    <tr>\n",
       "      <th>...</th>\n",
       "      <td>...</td>\n",
       "      <td>...</td>\n",
       "      <td>...</td>\n",
       "      <td>...</td>\n",
       "    </tr>\n",
       "    <tr>\n",
       "      <th>495</th>\n",
       "      <td>0</td>\n",
       "      <td>150</td>\n",
       "      <td>153</td>\n",
       "      <td>5</td>\n",
       "    </tr>\n",
       "    <tr>\n",
       "      <th>496</th>\n",
       "      <td>0</td>\n",
       "      <td>184</td>\n",
       "      <td>121</td>\n",
       "      <td>4</td>\n",
       "    </tr>\n",
       "    <tr>\n",
       "      <th>497</th>\n",
       "      <td>0</td>\n",
       "      <td>141</td>\n",
       "      <td>136</td>\n",
       "      <td>5</td>\n",
       "    </tr>\n",
       "    <tr>\n",
       "      <th>498</th>\n",
       "      <td>1</td>\n",
       "      <td>150</td>\n",
       "      <td>95</td>\n",
       "      <td>5</td>\n",
       "    </tr>\n",
       "    <tr>\n",
       "      <th>499</th>\n",
       "      <td>1</td>\n",
       "      <td>173</td>\n",
       "      <td>131</td>\n",
       "      <td>5</td>\n",
       "    </tr>\n",
       "  </tbody>\n",
       "</table>\n",
       "<p>500 rows × 4 columns</p>\n",
       "</div>"
      ],
      "text/plain": [
       "     Gender  Height  Weight  Index\n",
       "0         1     174      96      4\n",
       "1         1     189      87      2\n",
       "2         0     185     110      4\n",
       "3         0     195     104      3\n",
       "4         1     149      61      3\n",
       "..      ...     ...     ...    ...\n",
       "495       0     150     153      5\n",
       "496       0     184     121      4\n",
       "497       0     141     136      5\n",
       "498       1     150      95      5\n",
       "499       1     173     131      5\n",
       "\n",
       "[500 rows x 4 columns]"
      ]
     },
     "execution_count": 17,
     "metadata": {},
     "output_type": "execute_result"
    }
   ],
   "source": [
    "data"
   ]
  },
  {
   "cell_type": "code",
   "execution_count": 18,
   "metadata": {},
   "outputs": [
    {
     "data": {
      "text/plain": [
       "(500, 4)"
      ]
     },
     "execution_count": 18,
     "metadata": {},
     "output_type": "execute_result"
    }
   ],
   "source": [
    "data.shape"
   ]
  },
  {
   "cell_type": "code",
   "execution_count": 19,
   "metadata": {},
   "outputs": [],
   "source": [
    "x_train,x_test,y_train,y_test=train_test_split(data[[\"Gender\",\"Height\",\"Weight\"]],data.Index,test_size=0.2)"
   ]
  },
  {
   "cell_type": "code",
   "execution_count": 20,
   "metadata": {},
   "outputs": [
    {
     "data": {
      "text/html": [
       "<div>\n",
       "<style scoped>\n",
       "    .dataframe tbody tr th:only-of-type {\n",
       "        vertical-align: middle;\n",
       "    }\n",
       "\n",
       "    .dataframe tbody tr th {\n",
       "        vertical-align: top;\n",
       "    }\n",
       "\n",
       "    .dataframe thead th {\n",
       "        text-align: right;\n",
       "    }\n",
       "</style>\n",
       "<table border=\"1\" class=\"dataframe\">\n",
       "  <thead>\n",
       "    <tr style=\"text-align: right;\">\n",
       "      <th></th>\n",
       "      <th>Gender</th>\n",
       "      <th>Height</th>\n",
       "      <th>Weight</th>\n",
       "    </tr>\n",
       "  </thead>\n",
       "  <tbody>\n",
       "    <tr>\n",
       "      <th>73</th>\n",
       "      <td>1</td>\n",
       "      <td>180</td>\n",
       "      <td>75</td>\n",
       "    </tr>\n",
       "    <tr>\n",
       "      <th>37</th>\n",
       "      <td>1</td>\n",
       "      <td>144</td>\n",
       "      <td>80</td>\n",
       "    </tr>\n",
       "    <tr>\n",
       "      <th>136</th>\n",
       "      <td>0</td>\n",
       "      <td>190</td>\n",
       "      <td>156</td>\n",
       "    </tr>\n",
       "    <tr>\n",
       "      <th>3</th>\n",
       "      <td>0</td>\n",
       "      <td>195</td>\n",
       "      <td>104</td>\n",
       "    </tr>\n",
       "    <tr>\n",
       "      <th>447</th>\n",
       "      <td>0</td>\n",
       "      <td>176</td>\n",
       "      <td>121</td>\n",
       "    </tr>\n",
       "    <tr>\n",
       "      <th>...</th>\n",
       "      <td>...</td>\n",
       "      <td>...</td>\n",
       "      <td>...</td>\n",
       "    </tr>\n",
       "    <tr>\n",
       "      <th>205</th>\n",
       "      <td>0</td>\n",
       "      <td>150</td>\n",
       "      <td>87</td>\n",
       "    </tr>\n",
       "    <tr>\n",
       "      <th>335</th>\n",
       "      <td>1</td>\n",
       "      <td>155</td>\n",
       "      <td>57</td>\n",
       "    </tr>\n",
       "    <tr>\n",
       "      <th>394</th>\n",
       "      <td>0</td>\n",
       "      <td>152</td>\n",
       "      <td>154</td>\n",
       "    </tr>\n",
       "    <tr>\n",
       "      <th>60</th>\n",
       "      <td>0</td>\n",
       "      <td>191</td>\n",
       "      <td>54</td>\n",
       "    </tr>\n",
       "    <tr>\n",
       "      <th>478</th>\n",
       "      <td>0</td>\n",
       "      <td>151</td>\n",
       "      <td>55</td>\n",
       "    </tr>\n",
       "  </tbody>\n",
       "</table>\n",
       "<p>400 rows × 3 columns</p>\n",
       "</div>"
      ],
      "text/plain": [
       "     Gender  Height  Weight\n",
       "73        1     180      75\n",
       "37        1     144      80\n",
       "136       0     190     156\n",
       "3         0     195     104\n",
       "447       0     176     121\n",
       "..      ...     ...     ...\n",
       "205       0     150      87\n",
       "335       1     155      57\n",
       "394       0     152     154\n",
       "60        0     191      54\n",
       "478       0     151      55\n",
       "\n",
       "[400 rows x 3 columns]"
      ]
     },
     "execution_count": 20,
     "metadata": {},
     "output_type": "execute_result"
    }
   ],
   "source": [
    "x_train"
   ]
  },
  {
   "cell_type": "code",
   "execution_count": 21,
   "metadata": {},
   "outputs": [
    {
     "data": {
      "text/plain": [
       "73     2\n",
       "37     4\n",
       "136    5\n",
       "3      3\n",
       "447    4\n",
       "      ..\n",
       "205    4\n",
       "335    2\n",
       "394    5\n",
       "60     0\n",
       "478    2\n",
       "Name: Index, Length: 400, dtype: int64"
      ]
     },
     "execution_count": 21,
     "metadata": {},
     "output_type": "execute_result"
    }
   ],
   "source": [
    "y_train"
   ]
  },
  {
   "cell_type": "code",
   "execution_count": 22,
   "metadata": {},
   "outputs": [
    {
     "data": {
      "text/plain": [
       "(400, 3)"
      ]
     },
     "execution_count": 22,
     "metadata": {},
     "output_type": "execute_result"
    }
   ],
   "source": [
    "x_train.shape"
   ]
  },
  {
   "cell_type": "code",
   "execution_count": 23,
   "metadata": {},
   "outputs": [
    {
     "data": {
      "text/plain": [
       "(400,)"
      ]
     },
     "execution_count": 23,
     "metadata": {},
     "output_type": "execute_result"
    }
   ],
   "source": [
    "y_train.shape"
   ]
  },
  {
   "cell_type": "code",
   "execution_count": 179,
   "metadata": {},
   "outputs": [],
   "source": [
    "model1=LinearRegression()"
   ]
  },
  {
   "cell_type": "code",
   "execution_count": 180,
   "metadata": {},
   "outputs": [
    {
     "data": {
      "text/plain": [
       "LinearRegression()"
      ]
     },
     "execution_count": 180,
     "metadata": {},
     "output_type": "execute_result"
    }
   ],
   "source": [
    "model1.fit(x_train,y_train)"
   ]
  },
  {
   "cell_type": "raw",
   "metadata": {},
   "source": []
  },
  {
   "cell_type": "code",
   "execution_count": 24,
   "metadata": {},
   "outputs": [],
   "source": [
    "model=keras.Sequential([\n",
    "    keras.layers.Dense(100,input_shape=(3,)),\n",
    "    keras.layers.Dense(1,activation=\"relu\")\n",
    "    \n",
    "]\n",
    ")"
   ]
  },
  {
   "cell_type": "code",
   "execution_count": 25,
   "metadata": {},
   "outputs": [],
   "source": [
    "model.compile(\n",
    "    optimizer=\"adam\",\n",
    "    loss=\"binary_crossentropy\",\n",
    "    metrics=[\"accuracy\"]\n",
    ")"
   ]
  },
  {
   "cell_type": "code",
   "execution_count": 29,
   "metadata": {},
   "outputs": [
    {
     "name": "stdout",
     "output_type": "stream",
     "text": [
      "Epoch 1/5\n",
      "4/4 [==============================] - 0s 2ms/step - loss: 55.3756 - accuracy: 0.0400\n",
      "Epoch 2/5\n",
      "4/4 [==============================] - 0s 2ms/step - loss: 55.3756 - accuracy: 0.0400\n",
      "Epoch 3/5\n",
      "4/4 [==============================] - 0s 3ms/step - loss: 55.3756 - accuracy: 0.0400\n",
      "Epoch 4/5\n",
      "4/4 [==============================] - 0s 4ms/step - loss: 55.3756 - accuracy: 0.0400\n",
      "Epoch 5/5\n",
      "4/4 [==============================] - 0s 4ms/step - loss: 55.3756 - accuracy: 0.0400\n"
     ]
    },
    {
     "data": {
      "text/plain": [
       "<tensorflow.python.keras.callbacks.History at 0x1f4c7334940>"
      ]
     },
     "execution_count": 29,
     "metadata": {},
     "output_type": "execute_result"
    }
   ],
   "source": [
    "model.fit(x_test,y_test,epochs=5)\n"
   ]
  },
  {
   "cell_type": "code",
   "execution_count": 31,
   "metadata": {},
   "outputs": [
    {
     "ename": "ValueError",
     "evalue": "too many values to unpack (expected 2)",
     "output_type": "error",
     "traceback": [
      "\u001b[1;31m---------------------------------------------------------------------------\u001b[0m",
      "\u001b[1;31mValueError\u001b[0m                                Traceback (most recent call last)",
      "\u001b[1;32m<ipython-input-31-a0493f135755>\u001b[0m in \u001b[0;36m<module>\u001b[1;34m\u001b[0m\n\u001b[1;32m----> 1\u001b[1;33m \u001b[0mcoef\u001b[0m\u001b[1;33m,\u001b[0m\u001b[0mintercept\u001b[0m\u001b[1;33m=\u001b[0m\u001b[0mmodel\u001b[0m\u001b[1;33m.\u001b[0m\u001b[0mget_weights\u001b[0m\u001b[1;33m(\u001b[0m\u001b[1;33m)\u001b[0m\u001b[1;33m\u001b[0m\u001b[1;33m\u001b[0m\u001b[0m\n\u001b[0m\u001b[0;32m      2\u001b[0m \u001b[0mcoef\u001b[0m\u001b[1;33m,\u001b[0m\u001b[0mintercept\u001b[0m\u001b[1;33m\u001b[0m\u001b[1;33m\u001b[0m\u001b[0m\n",
      "\u001b[1;31mValueError\u001b[0m: too many values to unpack (expected 2)"
     ]
    }
   ],
   "source": [
    "coef,intercept=model.get_weights()\n",
    "coef,intercept"
   ]
  },
  {
   "cell_type": "code",
   "execution_count": 47,
   "metadata": {},
   "outputs": [
    {
     "data": {
      "text/plain": [
       "251    5\n",
       "358    1\n",
       "135    5\n",
       "270    5\n",
       "394    5\n",
       "      ..\n",
       "305    4\n",
       "325    2\n",
       "318    4\n",
       "107    5\n",
       "336    5\n",
       "Name: Index, Length: 400, dtype: int64"
      ]
     },
     "execution_count": 47,
     "metadata": {},
     "output_type": "execute_result"
    }
   ],
   "source": [
    "y_train"
   ]
  },
  {
   "cell_type": "code",
   "execution_count": null,
   "metadata": {},
   "outputs": [
    {
     "name": "stdout",
     "output_type": "stream",
     "text": [
      "Epoch 1/5000\n",
      " 1/13 [=>............................] - ETA: 0s - loss: 58.8076 - accuracy: 0.0312WARNING:tensorflow:Callbacks method `on_train_batch_begin` is slow compared to the batch time (batch time: 0.0000s vs `on_train_batch_begin` time: 0.0082s). Check your callbacks.\n",
      "13/13 [==============================] - 0s 3ms/step - loss: 57.7279 - accuracy: 0.0225\n",
      "Epoch 2/5000\n",
      "13/13 [==============================] - 0s 2ms/step - loss: 57.7279 - accuracy: 0.0225\n",
      "Epoch 3/5000\n",
      "13/13 [==============================] - 0s 2ms/step - loss: 57.7279 - accuracy: 0.0225\n",
      "Epoch 4/5000\n",
      "13/13 [==============================] - 0s 2ms/step - loss: 57.7279 - accuracy: 0.0225\n",
      "Epoch 5/5000\n",
      "13/13 [==============================] - 0s 2ms/step - loss: 57.7279 - accuracy: 0.0225\n",
      "Epoch 6/5000\n",
      "13/13 [==============================] - 0s 2ms/step - loss: 57.7279 - accuracy: 0.0225\n",
      "Epoch 7/5000\n",
      "13/13 [==============================] - 0s 2ms/step - loss: 57.7279 - accuracy: 0.0225\n",
      "Epoch 8/5000\n",
      "13/13 [==============================] - 0s 2ms/step - loss: 57.7279 - accuracy: 0.0225\n",
      "Epoch 9/5000\n",
      "13/13 [==============================] - 0s 2ms/step - loss: 57.7279 - accuracy: 0.0225\n",
      "Epoch 10/5000\n",
      "13/13 [==============================] - 0s 2ms/step - loss: 57.7279 - accuracy: 0.0225\n",
      "Epoch 11/5000\n",
      "13/13 [==============================] - 0s 2ms/step - loss: 57.7279 - accuracy: 0.0225\n",
      "Epoch 12/5000\n",
      "13/13 [==============================] - 0s 2ms/step - loss: 57.7279 - accuracy: 0.0225\n",
      "Epoch 13/5000\n",
      "13/13 [==============================] - 0s 2ms/step - loss: 57.7279 - accuracy: 0.0225\n",
      "Epoch 14/5000\n",
      "13/13 [==============================] - 0s 2ms/step - loss: 57.7279 - accuracy: 0.0225\n",
      "Epoch 15/5000\n",
      "13/13 [==============================] - 0s 2ms/step - loss: 57.7279 - accuracy: 0.0225\n",
      "Epoch 16/5000\n",
      "13/13 [==============================] - 0s 2ms/step - loss: 57.7279 - accuracy: 0.0225\n",
      "Epoch 17/5000\n",
      "13/13 [==============================] - 0s 2ms/step - loss: 57.7279 - accuracy: 0.0225\n",
      "Epoch 18/5000\n",
      "13/13 [==============================] - 0s 2ms/step - loss: 57.7279 - accuracy: 0.0225\n",
      "Epoch 19/5000\n",
      "13/13 [==============================] - 0s 2ms/step - loss: 57.7279 - accuracy: 0.0225\n",
      "Epoch 20/5000\n",
      "13/13 [==============================] - 0s 2ms/step - loss: 57.7279 - accuracy: 0.0225\n",
      "Epoch 21/5000\n",
      "13/13 [==============================] - 0s 2ms/step - loss: 57.7279 - accuracy: 0.0225\n",
      "Epoch 22/5000\n",
      "13/13 [==============================] - 0s 2ms/step - loss: 57.7279 - accuracy: 0.0225\n",
      "Epoch 23/5000\n",
      "13/13 [==============================] - 0s 2ms/step - loss: 57.7279 - accuracy: 0.0225\n",
      "Epoch 24/5000\n",
      "13/13 [==============================] - ETA: 0s - loss: 62.6639 - accuracy: 0.0000e+0 - 0s 2ms/step - loss: 57.7279 - accuracy: 0.0225\n",
      "Epoch 25/5000\n",
      "13/13 [==============================] - 0s 2ms/step - loss: 57.7279 - accuracy: 0.0225\n",
      "Epoch 26/5000\n",
      "13/13 [==============================] - 0s 2ms/step - loss: 57.7279 - accuracy: 0.0225\n",
      "Epoch 27/5000\n",
      "13/13 [==============================] - 0s 2ms/step - loss: 57.7279 - accuracy: 0.0225\n",
      "Epoch 28/5000\n",
      "13/13 [==============================] - 0s 2ms/step - loss: 57.7279 - accuracy: 0.0225\n",
      "Epoch 29/5000\n",
      "13/13 [==============================] - 0s 2ms/step - loss: 57.7279 - accuracy: 0.0225\n",
      "Epoch 30/5000\n",
      "13/13 [==============================] - 0s 2ms/step - loss: 57.7279 - accuracy: 0.0225\n",
      "Epoch 31/5000\n",
      "13/13 [==============================] - 0s 2ms/step - loss: 57.7279 - accuracy: 0.0225\n",
      "Epoch 32/5000\n",
      "13/13 [==============================] - 0s 2ms/step - loss: 57.7279 - accuracy: 0.0225\n",
      "Epoch 33/5000\n",
      "13/13 [==============================] - 0s 2ms/step - loss: 57.7279 - accuracy: 0.0225\n",
      "Epoch 34/5000\n",
      "13/13 [==============================] - 0s 2ms/step - loss: 57.7279 - accuracy: 0.0225\n",
      "Epoch 35/5000\n",
      "13/13 [==============================] - 0s 2ms/step - loss: 57.7279 - accuracy: 0.0225\n",
      "Epoch 36/5000\n",
      "13/13 [==============================] - 0s 2ms/step - loss: 57.7279 - accuracy: 0.0225\n",
      "Epoch 37/5000\n",
      "13/13 [==============================] - 0s 2ms/step - loss: 57.7279 - accuracy: 0.0225\n",
      "Epoch 38/5000\n",
      "13/13 [==============================] - 0s 2ms/step - loss: 57.7279 - accuracy: 0.0225\n",
      "Epoch 39/5000\n",
      "13/13 [==============================] - 0s 2ms/step - loss: 57.7279 - accuracy: 0.0225\n",
      "Epoch 40/5000\n",
      "13/13 [==============================] - 0s 2ms/step - loss: 57.7279 - accuracy: 0.0225\n",
      "Epoch 41/5000\n",
      "13/13 [==============================] - 0s 2ms/step - loss: 57.7279 - accuracy: 0.0225\n",
      "Epoch 42/5000\n",
      "13/13 [==============================] - 0s 2ms/step - loss: 57.7279 - accuracy: 0.0225\n",
      "Epoch 43/5000\n",
      "13/13 [==============================] - 0s 2ms/step - loss: 57.7279 - accuracy: 0.0225\n",
      "Epoch 44/5000\n",
      "13/13 [==============================] - 0s 2ms/step - loss: 57.7279 - accuracy: 0.0225\n",
      "Epoch 45/5000\n",
      "13/13 [==============================] - 0s 2ms/step - loss: 57.7279 - accuracy: 0.0225\n",
      "Epoch 46/5000\n",
      "13/13 [==============================] - 0s 2ms/step - loss: 57.7279 - accuracy: 0.0225\n",
      "Epoch 47/5000\n",
      "13/13 [==============================] - 0s 2ms/step - loss: 57.7279 - accuracy: 0.0225\n",
      "Epoch 48/5000\n",
      "13/13 [==============================] - 0s 2ms/step - loss: 57.7279 - accuracy: 0.0225\n",
      "Epoch 49/5000\n",
      "13/13 [==============================] - 0s 2ms/step - loss: 57.7279 - accuracy: 0.0225\n",
      "Epoch 50/5000\n",
      "13/13 [==============================] - 0s 2ms/step - loss: 57.7279 - accuracy: 0.0225\n",
      "Epoch 51/5000\n",
      "13/13 [==============================] - 0s 2ms/step - loss: 57.7279 - accuracy: 0.0225\n",
      "Epoch 52/5000\n",
      "13/13 [==============================] - 0s 2ms/step - loss: 57.7279 - accuracy: 0.0225\n",
      "Epoch 53/5000\n",
      "13/13 [==============================] - 0s 2ms/step - loss: 57.7279 - accuracy: 0.0225\n",
      "Epoch 54/5000\n",
      "13/13 [==============================] - 0s 2ms/step - loss: 57.7279 - accuracy: 0.0225\n",
      "Epoch 55/5000\n",
      "13/13 [==============================] - 0s 2ms/step - loss: 57.7279 - accuracy: 0.0225\n",
      "Epoch 56/5000\n",
      "13/13 [==============================] - 0s 2ms/step - loss: 57.7279 - accuracy: 0.0225\n",
      "Epoch 57/5000\n",
      "13/13 [==============================] - 0s 2ms/step - loss: 57.7279 - accuracy: 0.0225\n",
      "Epoch 58/5000\n",
      "13/13 [==============================] - 0s 2ms/step - loss: 57.7279 - accuracy: 0.0225\n",
      "Epoch 59/5000\n",
      "13/13 [==============================] - 0s 2ms/step - loss: 57.7279 - accuracy: 0.0225\n",
      "Epoch 60/5000\n",
      "13/13 [==============================] - 0s 2ms/step - loss: 57.7279 - accuracy: 0.0225\n",
      "Epoch 61/5000\n",
      "13/13 [==============================] - 0s 2ms/step - loss: 57.7279 - accuracy: 0.0225\n",
      "Epoch 62/5000\n",
      "13/13 [==============================] - 0s 2ms/step - loss: 57.7279 - accuracy: 0.0225\n",
      "Epoch 63/5000\n",
      "13/13 [==============================] - 0s 2ms/step - loss: 57.7279 - accuracy: 0.0225\n",
      "Epoch 64/5000\n",
      "13/13 [==============================] - 0s 2ms/step - loss: 57.7279 - accuracy: 0.0225\n",
      "Epoch 65/5000\n",
      "13/13 [==============================] - 0s 2ms/step - loss: 57.7279 - accuracy: 0.0225\n",
      "Epoch 66/5000\n",
      "13/13 [==============================] - 0s 2ms/step - loss: 57.7279 - accuracy: 0.0225\n",
      "Epoch 67/5000\n",
      "13/13 [==============================] - 0s 2ms/step - loss: 57.7279 - accuracy: 0.0225\n",
      "Epoch 68/5000\n",
      "13/13 [==============================] - 0s 2ms/step - loss: 57.7279 - accuracy: 0.0225\n",
      "Epoch 69/5000\n",
      "13/13 [==============================] - 0s 2ms/step - loss: 57.7279 - accuracy: 0.0225\n",
      "Epoch 70/5000\n",
      "13/13 [==============================] - 0s 2ms/step - loss: 57.7279 - accuracy: 0.0225\n",
      "Epoch 71/5000\n",
      "13/13 [==============================] - 0s 2ms/step - loss: 57.7279 - accuracy: 0.0225\n",
      "Epoch 72/5000\n",
      "13/13 [==============================] - 0s 2ms/step - loss: 57.7279 - accuracy: 0.0225\n",
      "Epoch 73/5000\n",
      "13/13 [==============================] - 0s 2ms/step - loss: 57.7279 - accuracy: 0.0225\n",
      "Epoch 74/5000\n",
      "13/13 [==============================] - 0s 1ms/step - loss: 57.7279 - accuracy: 0.0225\n",
      "Epoch 75/5000\n",
      "13/13 [==============================] - 0s 1ms/step - loss: 57.7279 - accuracy: 0.0225\n",
      "Epoch 76/5000\n",
      "13/13 [==============================] - 0s 1ms/step - loss: 57.7279 - accuracy: 0.0225\n",
      "Epoch 77/5000\n",
      "13/13 [==============================] - 0s 2ms/step - loss: 57.7279 - accuracy: 0.0225\n",
      "Epoch 78/5000\n",
      "13/13 [==============================] - 0s 2ms/step - loss: 57.7279 - accuracy: 0.0225\n",
      "Epoch 79/5000\n",
      "13/13 [==============================] - 0s 2ms/step - loss: 57.7279 - accuracy: 0.0225\n",
      "Epoch 80/5000\n",
      "13/13 [==============================] - 0s 2ms/step - loss: 57.7279 - accuracy: 0.0225\n",
      "Epoch 81/5000\n",
      "13/13 [==============================] - 0s 1ms/step - loss: 57.7279 - accuracy: 0.0225\n",
      "Epoch 82/5000\n",
      "13/13 [==============================] - 0s 2ms/step - loss: 57.7279 - accuracy: 0.0225\n",
      "Epoch 83/5000\n",
      "13/13 [==============================] - 0s 2ms/step - loss: 57.7279 - accuracy: 0.0225\n",
      "Epoch 84/5000\n",
      "13/13 [==============================] - 0s 2ms/step - loss: 57.7279 - accuracy: 0.0225\n",
      "Epoch 85/5000\n",
      "13/13 [==============================] - 0s 2ms/step - loss: 57.7279 - accuracy: 0.0225\n",
      "Epoch 86/5000\n",
      "13/13 [==============================] - 0s 3ms/step - loss: 57.7279 - accuracy: 0.0225\n",
      "Epoch 87/5000\n",
      "13/13 [==============================] - 0s 2ms/step - loss: 57.7279 - accuracy: 0.0225\n",
      "Epoch 88/5000\n",
      "13/13 [==============================] - 0s 1ms/step - loss: 57.7279 - accuracy: 0.0225\n",
      "Epoch 89/5000\n",
      "13/13 [==============================] - 0s 978us/step - loss: 57.7279 - accuracy: 0.0225\n",
      "Epoch 90/5000\n",
      "13/13 [==============================] - 0s 2ms/step - loss: 57.7279 - accuracy: 0.0225\n",
      "Epoch 91/5000\n",
      "13/13 [==============================] - 0s 2ms/step - loss: 57.7279 - accuracy: 0.0225\n",
      "Epoch 92/5000\n",
      "13/13 [==============================] - 0s 3ms/step - loss: 57.7279 - accuracy: 0.0225\n",
      "Epoch 93/5000\n",
      "13/13 [==============================] - 0s 3ms/step - loss: 57.7279 - accuracy: 0.0225\n",
      "Epoch 94/5000\n",
      "13/13 [==============================] - 0s 3ms/step - loss: 57.7279 - accuracy: 0.0225\n",
      "Epoch 95/5000\n",
      "13/13 [==============================] - 0s 3ms/step - loss: 57.7279 - accuracy: 0.0225\n",
      "Epoch 96/5000\n",
      "13/13 [==============================] - 0s 3ms/step - loss: 57.7279 - accuracy: 0.0225\n",
      "Epoch 97/5000\n",
      "13/13 [==============================] - 0s 3ms/step - loss: 57.7279 - accuracy: 0.0225\n",
      "Epoch 98/5000\n",
      "13/13 [==============================] - 0s 3ms/step - loss: 57.7279 - accuracy: 0.0225\n",
      "Epoch 99/5000\n",
      "13/13 [==============================] - 0s 3ms/step - loss: 57.7279 - accuracy: 0.0225\n",
      "Epoch 100/5000\n",
      "13/13 [==============================] - 0s 2ms/step - loss: 57.7279 - accuracy: 0.0225\n",
      "Epoch 101/5000\n",
      "13/13 [==============================] - 0s 2ms/step - loss: 57.7279 - accuracy: 0.0225\n",
      "Epoch 102/5000\n",
      "13/13 [==============================] - 0s 3ms/step - loss: 57.7279 - accuracy: 0.0225\n",
      "Epoch 103/5000\n",
      "13/13 [==============================] - 0s 2ms/step - loss: 57.7279 - accuracy: 0.0225\n",
      "Epoch 104/5000\n",
      "13/13 [==============================] - 0s 3ms/step - loss: 57.7279 - accuracy: 0.0225\n",
      "Epoch 105/5000\n",
      "13/13 [==============================] - 0s 3ms/step - loss: 57.7279 - accuracy: 0.0225\n",
      "Epoch 106/5000\n",
      "13/13 [==============================] - 0s 2ms/step - loss: 57.7279 - accuracy: 0.0225\n",
      "Epoch 107/5000\n",
      "13/13 [==============================] - 0s 2ms/step - loss: 57.7279 - accuracy: 0.0225\n",
      "Epoch 108/5000\n",
      "13/13 [==============================] - 0s 3ms/step - loss: 57.7279 - accuracy: 0.0225\n",
      "Epoch 109/5000\n",
      "13/13 [==============================] - 0s 2ms/step - loss: 57.7279 - accuracy: 0.0225\n",
      "Epoch 110/5000\n",
      "13/13 [==============================] - 0s 2ms/step - loss: 57.7279 - accuracy: 0.0225\n",
      "Epoch 111/5000\n",
      "13/13 [==============================] - 0s 3ms/step - loss: 57.7279 - accuracy: 0.0225\n",
      "Epoch 112/5000\n",
      "13/13 [==============================] - 0s 3ms/step - loss: 57.7279 - accuracy: 0.0225\n",
      "Epoch 113/5000\n",
      "13/13 [==============================] - 0s 3ms/step - loss: 57.7279 - accuracy: 0.0225\n",
      "Epoch 114/5000\n",
      "13/13 [==============================] - 0s 3ms/step - loss: 57.7279 - accuracy: 0.0225\n",
      "Epoch 115/5000\n",
      "13/13 [==============================] - 0s 3ms/step - loss: 57.7279 - accuracy: 0.0225\n",
      "Epoch 116/5000\n",
      "13/13 [==============================] - 0s 3ms/step - loss: 57.7279 - accuracy: 0.0225\n",
      "Epoch 117/5000\n",
      "13/13 [==============================] - 0s 2ms/step - loss: 57.7279 - accuracy: 0.0225\n",
      "Epoch 118/5000\n",
      "13/13 [==============================] - 0s 3ms/step - loss: 57.7279 - accuracy: 0.0225\n",
      "Epoch 119/5000\n",
      "13/13 [==============================] - 0s 3ms/step - loss: 57.7279 - accuracy: 0.0225\n",
      "Epoch 120/5000\n",
      "13/13 [==============================] - 0s 3ms/step - loss: 57.7279 - accuracy: 0.0225\n",
      "Epoch 121/5000\n",
      "13/13 [==============================] - 0s 3ms/step - loss: 57.7279 - accuracy: 0.0225\n",
      "Epoch 122/5000\n",
      "13/13 [==============================] - 0s 2ms/step - loss: 57.7279 - accuracy: 0.0225\n",
      "Epoch 123/5000\n",
      "13/13 [==============================] - 0s 3ms/step - loss: 57.7279 - accuracy: 0.0225\n",
      "Epoch 124/5000\n",
      "13/13 [==============================] - 0s 3ms/step - loss: 57.7279 - accuracy: 0.0225\n",
      "Epoch 125/5000\n",
      "13/13 [==============================] - 0s 3ms/step - loss: 57.7279 - accuracy: 0.0225\n",
      "Epoch 126/5000\n",
      "13/13 [==============================] - 0s 3ms/step - loss: 57.7279 - accuracy: 0.0225\n",
      "Epoch 127/5000\n",
      "13/13 [==============================] - 0s 2ms/step - loss: 57.7279 - accuracy: 0.0225\n",
      "Epoch 128/5000\n",
      "13/13 [==============================] - 0s 3ms/step - loss: 57.7279 - accuracy: 0.0225\n",
      "Epoch 129/5000\n",
      "13/13 [==============================] - 0s 2ms/step - loss: 57.7279 - accuracy: 0.0225\n",
      "Epoch 130/5000\n",
      "13/13 [==============================] - 0s 2ms/step - loss: 57.7279 - accuracy: 0.0225\n",
      "Epoch 131/5000\n",
      "13/13 [==============================] - 0s 2ms/step - loss: 57.7279 - accuracy: 0.0225\n",
      "Epoch 132/5000\n",
      "13/13 [==============================] - 0s 2ms/step - loss: 57.7279 - accuracy: 0.0225\n",
      "Epoch 133/5000\n",
      "13/13 [==============================] - 0s 3ms/step - loss: 57.7279 - accuracy: 0.0225\n",
      "Epoch 134/5000\n",
      "13/13 [==============================] - 0s 3ms/step - loss: 57.7279 - accuracy: 0.0225\n",
      "Epoch 135/5000\n",
      "13/13 [==============================] - 0s 3ms/step - loss: 57.7279 - accuracy: 0.0225\n",
      "Epoch 136/5000\n",
      "13/13 [==============================] - 0s 3ms/step - loss: 57.7279 - accuracy: 0.0225\n",
      "Epoch 137/5000\n",
      "13/13 [==============================] - 0s 3ms/step - loss: 57.7279 - accuracy: 0.0225\n",
      "Epoch 138/5000\n",
      "13/13 [==============================] - 0s 2ms/step - loss: 57.7279 - accuracy: 0.0225\n",
      "Epoch 139/5000\n",
      "13/13 [==============================] - 0s 3ms/step - loss: 57.7279 - accuracy: 0.0225\n",
      "Epoch 140/5000\n",
      "13/13 [==============================] - 0s 3ms/step - loss: 57.7279 - accuracy: 0.0225\n",
      "Epoch 141/5000\n",
      "13/13 [==============================] - 0s 3ms/step - loss: 57.7279 - accuracy: 0.0225\n",
      "Epoch 142/5000\n",
      "13/13 [==============================] - 0s 3ms/step - loss: 57.7279 - accuracy: 0.0225\n",
      "Epoch 143/5000\n",
      "13/13 [==============================] - 0s 3ms/step - loss: 57.7279 - accuracy: 0.0225\n",
      "Epoch 144/5000\n",
      "13/13 [==============================] - 0s 2ms/step - loss: 57.7279 - accuracy: 0.0225\n",
      "Epoch 145/5000\n",
      "13/13 [==============================] - 0s 2ms/step - loss: 57.7279 - accuracy: 0.0225\n",
      "Epoch 146/5000\n",
      "13/13 [==============================] - 0s 3ms/step - loss: 57.7279 - accuracy: 0.0225\n",
      "Epoch 147/5000\n",
      "13/13 [==============================] - 0s 3ms/step - loss: 57.7279 - accuracy: 0.0225\n",
      "Epoch 148/5000\n",
      "13/13 [==============================] - 0s 3ms/step - loss: 57.7279 - accuracy: 0.0225\n",
      "Epoch 149/5000\n",
      "13/13 [==============================] - 0s 3ms/step - loss: 57.7279 - accuracy: 0.0225\n",
      "Epoch 150/5000\n",
      "13/13 [==============================] - 0s 2ms/step - loss: 57.7279 - accuracy: 0.0225\n",
      "Epoch 151/5000\n",
      "13/13 [==============================] - ETA: 0s - loss: 56.3975 - accuracy: 0.062 - 0s 2ms/step - loss: 57.7279 - accuracy: 0.0225\n",
      "Epoch 152/5000\n",
      "13/13 [==============================] - 0s 2ms/step - loss: 57.7279 - accuracy: 0.0225\n",
      "Epoch 153/5000\n",
      "13/13 [==============================] - 0s 3ms/step - loss: 57.7279 - accuracy: 0.0225\n",
      "Epoch 154/5000\n",
      "13/13 [==============================] - 0s 3ms/step - loss: 57.7279 - accuracy: 0.0225\n",
      "Epoch 155/5000\n",
      "13/13 [==============================] - 0s 3ms/step - loss: 57.7279 - accuracy: 0.0225\n",
      "Epoch 156/5000\n",
      "13/13 [==============================] - 0s 3ms/step - loss: 57.7279 - accuracy: 0.0225\n",
      "Epoch 157/5000\n"
     ]
    },
    {
     "name": "stdout",
     "output_type": "stream",
     "text": [
      "13/13 [==============================] - 0s 3ms/step - loss: 57.7279 - accuracy: 0.0225\n",
      "Epoch 158/5000\n",
      "13/13 [==============================] - 0s 3ms/step - loss: 57.7279 - accuracy: 0.0225\n",
      "Epoch 159/5000\n",
      "13/13 [==============================] - 0s 3ms/step - loss: 57.7279 - accuracy: 0.0225\n",
      "Epoch 160/5000\n",
      "13/13 [==============================] - 0s 3ms/step - loss: 57.7279 - accuracy: 0.0225\n",
      "Epoch 161/5000\n",
      "13/13 [==============================] - 0s 3ms/step - loss: 57.7279 - accuracy: 0.0225\n",
      "Epoch 162/5000\n",
      "13/13 [==============================] - 0s 3ms/step - loss: 57.7279 - accuracy: 0.0225\n",
      "Epoch 163/5000\n",
      "13/13 [==============================] - 0s 3ms/step - loss: 57.7279 - accuracy: 0.0225\n",
      "Epoch 164/5000\n",
      "13/13 [==============================] - 0s 3ms/step - loss: 57.7279 - accuracy: 0.0225\n",
      "Epoch 165/5000\n",
      "13/13 [==============================] - 0s 3ms/step - loss: 57.7279 - accuracy: 0.0225\n",
      "Epoch 166/5000\n",
      "13/13 [==============================] - 0s 3ms/step - loss: 57.7279 - accuracy: 0.0225\n",
      "Epoch 167/5000\n",
      "13/13 [==============================] - 0s 3ms/step - loss: 57.7279 - accuracy: 0.0225\n",
      "Epoch 168/5000\n",
      "13/13 [==============================] - 0s 3ms/step - loss: 57.7279 - accuracy: 0.0225\n",
      "Epoch 169/5000\n",
      "13/13 [==============================] - 0s 3ms/step - loss: 57.7279 - accuracy: 0.0225\n",
      "Epoch 170/5000\n",
      "13/13 [==============================] - 0s 3ms/step - loss: 57.7279 - accuracy: 0.0225\n",
      "Epoch 171/5000\n",
      "13/13 [==============================] - 0s 3ms/step - loss: 57.7279 - accuracy: 0.0225\n",
      "Epoch 172/5000\n",
      "13/13 [==============================] - 0s 3ms/step - loss: 57.7279 - accuracy: 0.0225\n",
      "Epoch 173/5000\n",
      "13/13 [==============================] - 0s 3ms/step - loss: 57.7279 - accuracy: 0.0225\n",
      "Epoch 174/5000\n",
      "13/13 [==============================] - 0s 3ms/step - loss: 57.7279 - accuracy: 0.0225\n",
      "Epoch 175/5000\n",
      "13/13 [==============================] - 0s 3ms/step - loss: 57.7279 - accuracy: 0.0225\n",
      "Epoch 176/5000\n",
      "13/13 [==============================] - 0s 3ms/step - loss: 57.7279 - accuracy: 0.0225\n",
      "Epoch 177/5000\n",
      "13/13 [==============================] - 0s 3ms/step - loss: 57.7279 - accuracy: 0.0225\n",
      "Epoch 178/5000\n",
      "13/13 [==============================] - 0s 3ms/step - loss: 57.7279 - accuracy: 0.0225\n",
      "Epoch 179/5000\n",
      "13/13 [==============================] - 0s 3ms/step - loss: 57.7279 - accuracy: 0.0225\n",
      "Epoch 180/5000\n",
      "13/13 [==============================] - 0s 3ms/step - loss: 57.7279 - accuracy: 0.0225\n",
      "Epoch 181/5000\n",
      "13/13 [==============================] - 0s 3ms/step - loss: 57.7279 - accuracy: 0.0225\n",
      "Epoch 182/5000\n",
      "13/13 [==============================] - 0s 3ms/step - loss: 57.7279 - accuracy: 0.0225\n",
      "Epoch 183/5000\n",
      "13/13 [==============================] - 0s 3ms/step - loss: 57.7279 - accuracy: 0.0225\n",
      "Epoch 184/5000\n",
      "13/13 [==============================] - 0s 3ms/step - loss: 57.7279 - accuracy: 0.0225\n",
      "Epoch 185/5000\n",
      "13/13 [==============================] - 0s 3ms/step - loss: 57.7279 - accuracy: 0.0225\n",
      "Epoch 186/5000\n",
      "13/13 [==============================] - 0s 3ms/step - loss: 57.7279 - accuracy: 0.0225\n",
      "Epoch 187/5000\n",
      "13/13 [==============================] - 0s 3ms/step - loss: 57.7279 - accuracy: 0.0225\n",
      "Epoch 188/5000\n",
      "13/13 [==============================] - 0s 3ms/step - loss: 57.7279 - accuracy: 0.0225\n",
      "Epoch 189/5000\n",
      "13/13 [==============================] - 0s 3ms/step - loss: 57.7279 - accuracy: 0.0225\n",
      "Epoch 190/5000\n",
      "13/13 [==============================] - 0s 3ms/step - loss: 57.7279 - accuracy: 0.0225\n",
      "Epoch 191/5000\n",
      "13/13 [==============================] - 0s 3ms/step - loss: 57.7279 - accuracy: 0.0225\n",
      "Epoch 192/5000\n",
      "13/13 [==============================] - 0s 3ms/step - loss: 57.7279 - accuracy: 0.0225\n",
      "Epoch 193/5000\n",
      "13/13 [==============================] - 0s 3ms/step - loss: 57.7279 - accuracy: 0.0225\n",
      "Epoch 194/5000\n",
      "13/13 [==============================] - 0s 3ms/step - loss: 57.7279 - accuracy: 0.0225\n",
      "Epoch 195/5000\n",
      "13/13 [==============================] - 0s 3ms/step - loss: 57.7279 - accuracy: 0.0225\n",
      "Epoch 196/5000\n",
      "13/13 [==============================] - 0s 3ms/step - loss: 57.7279 - accuracy: 0.0225\n",
      "Epoch 197/5000\n",
      "13/13 [==============================] - 0s 3ms/step - loss: 57.7279 - accuracy: 0.0225\n",
      "Epoch 198/5000\n",
      "13/13 [==============================] - 0s 3ms/step - loss: 57.7279 - accuracy: 0.0225\n",
      "Epoch 199/5000\n",
      "13/13 [==============================] - 0s 3ms/step - loss: 57.7279 - accuracy: 0.0225\n",
      "Epoch 200/5000\n",
      "13/13 [==============================] - 0s 3ms/step - loss: 57.7279 - accuracy: 0.0225\n",
      "Epoch 201/5000\n",
      "13/13 [==============================] - 0s 3ms/step - loss: 57.7279 - accuracy: 0.0225\n",
      "Epoch 202/5000\n",
      "13/13 [==============================] - 0s 3ms/step - loss: 57.7279 - accuracy: 0.0225\n",
      "Epoch 203/5000\n",
      "13/13 [==============================] - 0s 3ms/step - loss: 57.7279 - accuracy: 0.0225\n",
      "Epoch 204/5000\n",
      "13/13 [==============================] - 0s 3ms/step - loss: 57.7279 - accuracy: 0.0225\n",
      "Epoch 205/5000\n",
      "13/13 [==============================] - 0s 3ms/step - loss: 57.7279 - accuracy: 0.0225\n",
      "Epoch 206/5000\n",
      "13/13 [==============================] - 0s 3ms/step - loss: 57.7279 - accuracy: 0.0225\n",
      "Epoch 207/5000\n",
      "13/13 [==============================] - 0s 3ms/step - loss: 57.7279 - accuracy: 0.0225\n",
      "Epoch 208/5000\n",
      "13/13 [==============================] - 0s 3ms/step - loss: 57.7279 - accuracy: 0.0225\n",
      "Epoch 209/5000\n",
      "13/13 [==============================] - 0s 3ms/step - loss: 57.7279 - accuracy: 0.0225\n",
      "Epoch 210/5000\n",
      "13/13 [==============================] - 0s 2ms/step - loss: 57.7279 - accuracy: 0.0225\n",
      "Epoch 211/5000\n",
      "13/13 [==============================] - 0s 3ms/step - loss: 57.7279 - accuracy: 0.0225\n",
      "Epoch 212/5000\n",
      "13/13 [==============================] - 0s 3ms/step - loss: 57.7279 - accuracy: 0.0225\n",
      "Epoch 213/5000\n",
      "13/13 [==============================] - 0s 3ms/step - loss: 57.7279 - accuracy: 0.0225\n",
      "Epoch 214/5000\n",
      "13/13 [==============================] - 0s 3ms/step - loss: 57.7279 - accuracy: 0.0225\n",
      "Epoch 215/5000\n",
      "13/13 [==============================] - 0s 4ms/step - loss: 57.7279 - accuracy: 0.0225\n",
      "Epoch 216/5000\n",
      "13/13 [==============================] - 0s 3ms/step - loss: 57.7279 - accuracy: 0.0225\n",
      "Epoch 217/5000\n",
      "13/13 [==============================] - 0s 3ms/step - loss: 57.7279 - accuracy: 0.0225\n",
      "Epoch 218/5000\n",
      "13/13 [==============================] - 0s 3ms/step - loss: 57.7279 - accuracy: 0.0225\n",
      "Epoch 219/5000\n",
      "13/13 [==============================] - 0s 3ms/step - loss: 57.7279 - accuracy: 0.0225\n",
      "Epoch 220/5000\n",
      "13/13 [==============================] - 0s 3ms/step - loss: 57.7279 - accuracy: 0.0225\n",
      "Epoch 221/5000\n",
      "13/13 [==============================] - 0s 3ms/step - loss: 57.7279 - accuracy: 0.0225\n",
      "Epoch 222/5000\n",
      "13/13 [==============================] - 0s 2ms/step - loss: 57.7279 - accuracy: 0.0225\n",
      "Epoch 223/5000\n",
      "13/13 [==============================] - 0s 3ms/step - loss: 57.7279 - accuracy: 0.0225\n",
      "Epoch 224/5000\n",
      "13/13 [==============================] - 0s 3ms/step - loss: 57.7279 - accuracy: 0.0225\n",
      "Epoch 225/5000\n",
      "13/13 [==============================] - 0s 3ms/step - loss: 57.7279 - accuracy: 0.0225\n",
      "Epoch 226/5000\n",
      "13/13 [==============================] - 0s 3ms/step - loss: 57.7279 - accuracy: 0.0225\n",
      "Epoch 227/5000\n",
      "13/13 [==============================] - 0s 3ms/step - loss: 57.7279 - accuracy: 0.0225\n",
      "Epoch 228/5000\n",
      "13/13 [==============================] - 0s 3ms/step - loss: 57.7279 - accuracy: 0.0225\n",
      "Epoch 229/5000\n",
      "13/13 [==============================] - 0s 3ms/step - loss: 57.7279 - accuracy: 0.0225\n",
      "Epoch 230/5000\n",
      "13/13 [==============================] - 0s 2ms/step - loss: 57.7279 - accuracy: 0.0225\n",
      "Epoch 231/5000\n",
      "13/13 [==============================] - 0s 3ms/step - loss: 57.7279 - accuracy: 0.0225\n",
      "Epoch 232/5000\n",
      "13/13 [==============================] - 0s 3ms/step - loss: 57.7279 - accuracy: 0.0225\n",
      "Epoch 233/5000\n",
      "13/13 [==============================] - 0s 3ms/step - loss: 57.7279 - accuracy: 0.0225\n",
      "Epoch 234/5000\n",
      "13/13 [==============================] - 0s 3ms/step - loss: 57.7279 - accuracy: 0.0225\n",
      "Epoch 235/5000\n",
      "13/13 [==============================] - 0s 4ms/step - loss: 57.7279 - accuracy: 0.0225\n",
      "Epoch 236/5000\n",
      "13/13 [==============================] - 0s 3ms/step - loss: 57.7279 - accuracy: 0.0225\n",
      "Epoch 237/5000\n",
      "13/13 [==============================] - 0s 3ms/step - loss: 57.7279 - accuracy: 0.0225\n",
      "Epoch 238/5000\n",
      "13/13 [==============================] - 0s 3ms/step - loss: 57.7279 - accuracy: 0.0225\n",
      "Epoch 239/5000\n",
      "13/13 [==============================] - 0s 3ms/step - loss: 57.7279 - accuracy: 0.0225\n",
      "Epoch 240/5000\n",
      "13/13 [==============================] - 0s 3ms/step - loss: 57.7279 - accuracy: 0.0225\n",
      "Epoch 241/5000\n",
      "13/13 [==============================] - 0s 3ms/step - loss: 57.7279 - accuracy: 0.0225\n",
      "Epoch 242/5000\n",
      "13/13 [==============================] - 0s 3ms/step - loss: 57.7279 - accuracy: 0.0225\n",
      "Epoch 243/5000\n",
      "13/13 [==============================] - 0s 3ms/step - loss: 57.7279 - accuracy: 0.0225\n",
      "Epoch 244/5000\n",
      "13/13 [==============================] - 0s 3ms/step - loss: 57.7279 - accuracy: 0.0225\n",
      "Epoch 245/5000\n",
      "13/13 [==============================] - 0s 3ms/step - loss: 57.7279 - accuracy: 0.0225\n",
      "Epoch 246/5000\n",
      "13/13 [==============================] - 0s 3ms/step - loss: 57.7279 - accuracy: 0.0225\n",
      "Epoch 247/5000\n",
      "13/13 [==============================] - 0s 3ms/step - loss: 57.7279 - accuracy: 0.0225\n",
      "Epoch 248/5000\n",
      "13/13 [==============================] - 0s 3ms/step - loss: 57.7279 - accuracy: 0.0225\n",
      "Epoch 249/5000\n",
      "13/13 [==============================] - 0s 3ms/step - loss: 57.7279 - accuracy: 0.0225\n",
      "Epoch 250/5000\n",
      "13/13 [==============================] - 0s 3ms/step - loss: 57.7279 - accuracy: 0.0225\n",
      "Epoch 251/5000\n",
      "13/13 [==============================] - 0s 2ms/step - loss: 57.7279 - accuracy: 0.0225\n",
      "Epoch 252/5000\n",
      "13/13 [==============================] - 0s 975us/step - loss: 57.7279 - accuracy: 0.0225\n",
      "Epoch 253/5000\n",
      "13/13 [==============================] - 0s 1ms/step - loss: 57.7279 - accuracy: 0.0225\n",
      "Epoch 254/5000\n",
      "13/13 [==============================] - 0s 2ms/step - loss: 57.7279 - accuracy: 0.0225\n",
      "Epoch 255/5000\n",
      "13/13 [==============================] - 0s 1ms/step - loss: 57.7279 - accuracy: 0.0225\n",
      "Epoch 256/5000\n",
      "13/13 [==============================] - 0s 2ms/step - loss: 57.7279 - accuracy: 0.0225\n",
      "Epoch 257/5000\n",
      "13/13 [==============================] - 0s 1ms/step - loss: 57.7279 - accuracy: 0.0225\n",
      "Epoch 258/5000\n",
      "13/13 [==============================] - 0s 3ms/step - loss: 57.7279 - accuracy: 0.0225\n",
      "Epoch 259/5000\n",
      "13/13 [==============================] - 0s 3ms/step - loss: 57.7279 - accuracy: 0.0225\n",
      "Epoch 260/5000\n",
      "13/13 [==============================] - 0s 3ms/step - loss: 57.7279 - accuracy: 0.0225\n",
      "Epoch 261/5000\n",
      "13/13 [==============================] - 0s 3ms/step - loss: 57.7279 - accuracy: 0.0225\n",
      "Epoch 262/5000\n",
      "13/13 [==============================] - 0s 3ms/step - loss: 57.7279 - accuracy: 0.0225\n",
      "Epoch 263/5000\n",
      "13/13 [==============================] - 0s 3ms/step - loss: 57.7279 - accuracy: 0.0225\n",
      "Epoch 264/5000\n",
      "13/13 [==============================] - 0s 3ms/step - loss: 57.7279 - accuracy: 0.0225\n",
      "Epoch 265/5000\n",
      "13/13 [==============================] - 0s 3ms/step - loss: 57.7279 - accuracy: 0.0225\n",
      "Epoch 266/5000\n",
      "13/13 [==============================] - 0s 3ms/step - loss: 57.7279 - accuracy: 0.0225\n",
      "Epoch 267/5000\n",
      "13/13 [==============================] - 0s 3ms/step - loss: 57.7279 - accuracy: 0.0225\n",
      "Epoch 268/5000\n",
      "13/13 [==============================] - 0s 3ms/step - loss: 57.7279 - accuracy: 0.0225\n",
      "Epoch 269/5000\n",
      "13/13 [==============================] - 0s 3ms/step - loss: 57.7279 - accuracy: 0.0225\n",
      "Epoch 270/5000\n",
      "13/13 [==============================] - 0s 2ms/step - loss: 57.7279 - accuracy: 0.0225\n",
      "Epoch 271/5000\n",
      "13/13 [==============================] - 0s 3ms/step - loss: 57.7279 - accuracy: 0.0225\n",
      "Epoch 272/5000\n",
      "13/13 [==============================] - 0s 3ms/step - loss: 57.7279 - accuracy: 0.0225\n",
      "Epoch 273/5000\n",
      "13/13 [==============================] - 0s 3ms/step - loss: 57.7279 - accuracy: 0.0225\n",
      "Epoch 274/5000\n",
      "13/13 [==============================] - 0s 3ms/step - loss: 57.7279 - accuracy: 0.0225\n",
      "Epoch 275/5000\n",
      "13/13 [==============================] - 0s 3ms/step - loss: 57.7279 - accuracy: 0.0225\n",
      "Epoch 276/5000\n",
      "13/13 [==============================] - 0s 3ms/step - loss: 57.7279 - accuracy: 0.0225\n",
      "Epoch 277/5000\n",
      "13/13 [==============================] - 0s 3ms/step - loss: 57.7279 - accuracy: 0.0225\n",
      "Epoch 278/5000\n",
      "13/13 [==============================] - 0s 2ms/step - loss: 57.7279 - accuracy: 0.0225\n",
      "Epoch 279/5000\n",
      "13/13 [==============================] - 0s 3ms/step - loss: 57.7279 - accuracy: 0.0225\n",
      "Epoch 280/5000\n",
      "13/13 [==============================] - 0s 3ms/step - loss: 57.7279 - accuracy: 0.0225\n",
      "Epoch 281/5000\n",
      "13/13 [==============================] - 0s 3ms/step - loss: 57.7279 - accuracy: 0.0225\n",
      "Epoch 282/5000\n",
      "13/13 [==============================] - 0s 3ms/step - loss: 57.7279 - accuracy: 0.0225\n",
      "Epoch 283/5000\n",
      "13/13 [==============================] - 0s 3ms/step - loss: 57.7279 - accuracy: 0.0225\n",
      "Epoch 284/5000\n",
      "13/13 [==============================] - 0s 3ms/step - loss: 57.7279 - accuracy: 0.0225\n",
      "Epoch 285/5000\n",
      "13/13 [==============================] - 0s 3ms/step - loss: 57.7279 - accuracy: 0.0225\n",
      "Epoch 286/5000\n",
      "13/13 [==============================] - 0s 1ms/step - loss: 57.7279 - accuracy: 0.0225\n",
      "Epoch 287/5000\n",
      "13/13 [==============================] - 0s 1ms/step - loss: 57.7279 - accuracy: 0.0225\n",
      "Epoch 288/5000\n",
      "13/13 [==============================] - 0s 1ms/step - loss: 57.7279 - accuracy: 0.0225\n",
      "Epoch 289/5000\n",
      "13/13 [==============================] - 0s 2ms/step - loss: 57.7279 - accuracy: 0.0225\n",
      "Epoch 290/5000\n",
      "13/13 [==============================] - 0s 2ms/step - loss: 57.7279 - accuracy: 0.0225\n",
      "Epoch 291/5000\n",
      "13/13 [==============================] - 0s 2ms/step - loss: 57.7279 - accuracy: 0.0225\n",
      "Epoch 292/5000\n",
      "13/13 [==============================] - ETA: 0s - loss: 58.8076 - accuracy: 0.0000e+0 - 0s 1ms/step - loss: 57.7279 - accuracy: 0.0225\n",
      "Epoch 293/5000\n",
      "13/13 [==============================] - 0s 2ms/step - loss: 57.7279 - accuracy: 0.0225\n",
      "Epoch 294/5000\n",
      "13/13 [==============================] - 0s 2ms/step - loss: 57.7279 - accuracy: 0.0225\n",
      "Epoch 295/5000\n",
      "13/13 [==============================] - 0s 2ms/step - loss: 57.7279 - accuracy: 0.0225\n",
      "Epoch 296/5000\n",
      "13/13 [==============================] - 0s 2ms/step - loss: 57.7279 - accuracy: 0.0225\n",
      "Epoch 297/5000\n",
      "13/13 [==============================] - 0s 2ms/step - loss: 57.7279 - accuracy: 0.0225\n",
      "Epoch 298/5000\n",
      "13/13 [==============================] - 0s 2ms/step - loss: 57.7279 - accuracy: 0.0225\n",
      "Epoch 299/5000\n",
      "13/13 [==============================] - 0s 2ms/step - loss: 57.7279 - accuracy: 0.0225\n",
      "Epoch 300/5000\n",
      "13/13 [==============================] - 0s 2ms/step - loss: 57.7279 - accuracy: 0.0225\n",
      "Epoch 301/5000\n",
      "13/13 [==============================] - 0s 2ms/step - loss: 57.7279 - accuracy: 0.0225\n",
      "Epoch 302/5000\n",
      "13/13 [==============================] - 0s 2ms/step - loss: 57.7279 - accuracy: 0.0225\n",
      "Epoch 303/5000\n",
      "13/13 [==============================] - 0s 2ms/step - loss: 57.7279 - accuracy: 0.0225\n",
      "Epoch 304/5000\n",
      "13/13 [==============================] - 0s 2ms/step - loss: 57.7279 - accuracy: 0.0225\n",
      "Epoch 305/5000\n",
      "13/13 [==============================] - 0s 2ms/step - loss: 57.7279 - accuracy: 0.0225\n",
      "Epoch 306/5000\n",
      "13/13 [==============================] - 0s 2ms/step - loss: 57.7279 - accuracy: 0.0225\n",
      "Epoch 307/5000\n",
      "13/13 [==============================] - 0s 2ms/step - loss: 57.7279 - accuracy: 0.0225\n",
      "Epoch 308/5000\n",
      "13/13 [==============================] - 0s 2ms/step - loss: 57.7279 - accuracy: 0.0225\n",
      "Epoch 309/5000\n",
      "13/13 [==============================] - 0s 2ms/step - loss: 57.7279 - accuracy: 0.0225\n",
      "Epoch 310/5000\n",
      "13/13 [==============================] - 0s 3ms/step - loss: 57.7279 - accuracy: 0.0225\n",
      "Epoch 311/5000\n",
      "13/13 [==============================] - 0s 3ms/step - loss: 57.7279 - accuracy: 0.0225\n",
      "Epoch 312/5000\n",
      "13/13 [==============================] - 0s 3ms/step - loss: 57.7279 - accuracy: 0.0225\n",
      "Epoch 313/5000\n",
      "13/13 [==============================] - 0s 3ms/step - loss: 57.7279 - accuracy: 0.0225\n",
      "Epoch 314/5000\n",
      "13/13 [==============================] - 0s 3ms/step - loss: 57.7279 - accuracy: 0.0225\n",
      "Epoch 315/5000\n"
     ]
    },
    {
     "name": "stdout",
     "output_type": "stream",
     "text": [
      "13/13 [==============================] - 0s 3ms/step - loss: 57.7279 - accuracy: 0.0225\n",
      "Epoch 316/5000\n",
      "13/13 [==============================] - 0s 3ms/step - loss: 57.7279 - accuracy: 0.0225\n",
      "Epoch 317/5000\n",
      "13/13 [==============================] - 0s 3ms/step - loss: 57.7279 - accuracy: 0.0225\n",
      "Epoch 318/5000\n",
      "13/13 [==============================] - 0s 3ms/step - loss: 57.7279 - accuracy: 0.0225\n",
      "Epoch 319/5000\n",
      "13/13 [==============================] - 0s 3ms/step - loss: 57.7279 - accuracy: 0.0225\n",
      "Epoch 320/5000\n",
      "13/13 [==============================] - 0s 3ms/step - loss: 57.7279 - accuracy: 0.0225\n",
      "Epoch 321/5000\n",
      "13/13 [==============================] - 0s 3ms/step - loss: 57.7279 - accuracy: 0.0225\n",
      "Epoch 322/5000\n",
      "13/13 [==============================] - 0s 3ms/step - loss: 57.7279 - accuracy: 0.0225\n",
      "Epoch 323/5000\n",
      "13/13 [==============================] - 0s 3ms/step - loss: 57.7279 - accuracy: 0.0225\n",
      "Epoch 324/5000\n",
      "13/13 [==============================] - 0s 3ms/step - loss: 57.7279 - accuracy: 0.0225\n",
      "Epoch 325/5000\n",
      "13/13 [==============================] - 0s 3ms/step - loss: 57.7279 - accuracy: 0.0225\n",
      "Epoch 326/5000\n",
      "13/13 [==============================] - 0s 3ms/step - loss: 57.7279 - accuracy: 0.0225\n",
      "Epoch 327/5000\n",
      "13/13 [==============================] - 0s 3ms/step - loss: 57.7279 - accuracy: 0.0225\n",
      "Epoch 328/5000\n",
      "13/13 [==============================] - 0s 3ms/step - loss: 57.7279 - accuracy: 0.0225\n",
      "Epoch 329/5000\n",
      "13/13 [==============================] - 0s 3ms/step - loss: 57.7279 - accuracy: 0.0225\n",
      "Epoch 330/5000\n",
      "13/13 [==============================] - 0s 3ms/step - loss: 57.7279 - accuracy: 0.0225\n",
      "Epoch 331/5000\n",
      "13/13 [==============================] - 0s 3ms/step - loss: 57.7279 - accuracy: 0.0225\n",
      "Epoch 332/5000\n",
      "13/13 [==============================] - 0s 3ms/step - loss: 57.7279 - accuracy: 0.0225\n",
      "Epoch 333/5000\n",
      "13/13 [==============================] - 0s 3ms/step - loss: 57.7279 - accuracy: 0.0225\n",
      "Epoch 334/5000\n",
      "13/13 [==============================] - 0s 4ms/step - loss: 57.7279 - accuracy: 0.0225\n",
      "Epoch 335/5000\n",
      "13/13 [==============================] - 0s 3ms/step - loss: 57.7279 - accuracy: 0.0225\n",
      "Epoch 336/5000\n",
      "13/13 [==============================] - 0s 3ms/step - loss: 57.7279 - accuracy: 0.0225\n",
      "Epoch 337/5000\n",
      "13/13 [==============================] - 0s 3ms/step - loss: 57.7279 - accuracy: 0.0225\n",
      "Epoch 338/5000\n",
      "13/13 [==============================] - 0s 3ms/step - loss: 57.7279 - accuracy: 0.0225\n",
      "Epoch 339/5000\n",
      "13/13 [==============================] - 0s 3ms/step - loss: 57.7279 - accuracy: 0.0225\n",
      "Epoch 340/5000\n",
      "13/13 [==============================] - 0s 3ms/step - loss: 57.7279 - accuracy: 0.0225\n",
      "Epoch 341/5000\n",
      "13/13 [==============================] - 0s 3ms/step - loss: 57.7279 - accuracy: 0.0225\n",
      "Epoch 342/5000\n",
      "13/13 [==============================] - 0s 4ms/step - loss: 57.7279 - accuracy: 0.0225\n",
      "Epoch 343/5000\n",
      "13/13 [==============================] - ETA: 0s - loss: 63.6279 - accuracy: 0.0000e+0 - 0s 4ms/step - loss: 57.7279 - accuracy: 0.0225\n",
      "Epoch 344/5000\n",
      "13/13 [==============================] - 0s 4ms/step - loss: 57.7279 - accuracy: 0.0225\n",
      "Epoch 345/5000\n",
      "13/13 [==============================] - 0s 4ms/step - loss: 57.7279 - accuracy: 0.0225\n",
      "Epoch 346/5000\n",
      "13/13 [==============================] - 0s 3ms/step - loss: 57.7279 - accuracy: 0.0225\n",
      "Epoch 347/5000\n",
      "13/13 [==============================] - 0s 4ms/step - loss: 57.7279 - accuracy: 0.0225\n",
      "Epoch 348/5000\n",
      "13/13 [==============================] - 0s 3ms/step - loss: 57.7279 - accuracy: 0.0225\n",
      "Epoch 349/5000\n",
      "13/13 [==============================] - 0s 3ms/step - loss: 57.7279 - accuracy: 0.0225\n",
      "Epoch 350/5000\n",
      "13/13 [==============================] - 0s 3ms/step - loss: 57.7279 - accuracy: 0.0225\n",
      "Epoch 351/5000\n",
      "13/13 [==============================] - 0s 3ms/step - loss: 57.7279 - accuracy: 0.0225\n",
      "Epoch 352/5000\n",
      "13/13 [==============================] - 0s 3ms/step - loss: 57.7279 - accuracy: 0.0225\n",
      "Epoch 353/5000\n",
      "13/13 [==============================] - 0s 3ms/step - loss: 57.7279 - accuracy: 0.0225\n",
      "Epoch 354/5000\n",
      "13/13 [==============================] - 0s 3ms/step - loss: 57.7279 - accuracy: 0.0225\n",
      "Epoch 355/5000\n",
      "13/13 [==============================] - 0s 3ms/step - loss: 57.7279 - accuracy: 0.0225\n",
      "Epoch 356/5000\n",
      "13/13 [==============================] - 0s 3ms/step - loss: 57.7279 - accuracy: 0.0225\n",
      "Epoch 357/5000\n",
      "13/13 [==============================] - 0s 3ms/step - loss: 57.7279 - accuracy: 0.0225\n",
      "Epoch 358/5000\n",
      "13/13 [==============================] - 0s 3ms/step - loss: 57.7279 - accuracy: 0.0225\n",
      "Epoch 359/5000\n",
      "13/13 [==============================] - 0s 3ms/step - loss: 57.7279 - accuracy: 0.0225\n",
      "Epoch 360/5000\n",
      "13/13 [==============================] - 0s 3ms/step - loss: 57.7279 - accuracy: 0.0225\n",
      "Epoch 361/5000\n",
      "13/13 [==============================] - 0s 3ms/step - loss: 57.7279 - accuracy: 0.0225\n",
      "Epoch 362/5000\n",
      "13/13 [==============================] - 0s 3ms/step - loss: 57.7279 - accuracy: 0.0225\n",
      "Epoch 363/5000\n",
      "13/13 [==============================] - 0s 3ms/step - loss: 57.7279 - accuracy: 0.0225\n",
      "Epoch 364/5000\n",
      "13/13 [==============================] - 0s 2ms/step - loss: 57.7279 - accuracy: 0.0225\n",
      "Epoch 365/5000\n",
      "13/13 [==============================] - 0s 3ms/step - loss: 57.7279 - accuracy: 0.0225\n",
      "Epoch 366/5000\n",
      "13/13 [==============================] - 0s 3ms/step - loss: 57.7279 - accuracy: 0.0225\n",
      "Epoch 367/5000\n",
      "13/13 [==============================] - 0s 3ms/step - loss: 57.7279 - accuracy: 0.0225\n",
      "Epoch 368/5000\n",
      "13/13 [==============================] - 0s 4ms/step - loss: 57.7279 - accuracy: 0.0225\n",
      "Epoch 369/5000\n",
      "13/13 [==============================] - 0s 3ms/step - loss: 57.7279 - accuracy: 0.0225\n",
      "Epoch 370/5000\n",
      "13/13 [==============================] - 0s 3ms/step - loss: 57.7279 - accuracy: 0.0225\n",
      "Epoch 371/5000\n",
      "13/13 [==============================] - 0s 3ms/step - loss: 57.7279 - accuracy: 0.0225\n",
      "Epoch 372/5000\n",
      "13/13 [==============================] - 0s 3ms/step - loss: 57.7279 - accuracy: 0.0225\n",
      "Epoch 373/5000\n",
      "13/13 [==============================] - 0s 3ms/step - loss: 57.7279 - accuracy: 0.0225\n",
      "Epoch 374/5000\n",
      "13/13 [==============================] - 0s 3ms/step - loss: 57.7279 - accuracy: 0.0225\n",
      "Epoch 375/5000\n",
      "13/13 [==============================] - 0s 3ms/step - loss: 57.7279 - accuracy: 0.0225\n",
      "Epoch 376/5000\n",
      "13/13 [==============================] - 0s 3ms/step - loss: 57.7279 - accuracy: 0.0225\n",
      "Epoch 377/5000\n",
      "13/13 [==============================] - 0s 3ms/step - loss: 57.7279 - accuracy: 0.0225\n",
      "Epoch 378/5000\n",
      "13/13 [==============================] - 0s 3ms/step - loss: 57.7279 - accuracy: 0.0225\n",
      "Epoch 379/5000\n",
      "13/13 [==============================] - 0s 3ms/step - loss: 57.7279 - accuracy: 0.0225\n",
      "Epoch 380/5000\n",
      "13/13 [==============================] - 0s 3ms/step - loss: 57.7279 - accuracy: 0.0225\n",
      "Epoch 381/5000\n",
      "13/13 [==============================] - 0s 3ms/step - loss: 57.7279 - accuracy: 0.0225\n",
      "Epoch 382/5000\n",
      "13/13 [==============================] - 0s 3ms/step - loss: 57.7279 - accuracy: 0.0225\n",
      "Epoch 383/5000\n",
      "13/13 [==============================] - 0s 3ms/step - loss: 57.7279 - accuracy: 0.0225\n",
      "Epoch 384/5000\n",
      "13/13 [==============================] - 0s 3ms/step - loss: 57.7279 - accuracy: 0.0225\n",
      "Epoch 385/5000\n",
      "13/13 [==============================] - 0s 3ms/step - loss: 57.7279 - accuracy: 0.0225\n",
      "Epoch 386/5000\n",
      "13/13 [==============================] - 0s 3ms/step - loss: 57.7279 - accuracy: 0.0225\n",
      "Epoch 387/5000\n",
      "13/13 [==============================] - 0s 3ms/step - loss: 57.7279 - accuracy: 0.0225\n",
      "Epoch 388/5000\n",
      "13/13 [==============================] - 0s 4ms/step - loss: 57.7279 - accuracy: 0.0225\n",
      "Epoch 389/5000\n",
      "13/13 [==============================] - 0s 3ms/step - loss: 57.7279 - accuracy: 0.0225\n",
      "Epoch 390/5000\n",
      "13/13 [==============================] - 0s 3ms/step - loss: 57.7279 - accuracy: 0.0225\n",
      "Epoch 391/5000\n",
      "13/13 [==============================] - 0s 3ms/step - loss: 57.7279 - accuracy: 0.0225\n",
      "Epoch 392/5000\n",
      "13/13 [==============================] - 0s 3ms/step - loss: 57.7279 - accuracy: 0.0225\n",
      "Epoch 393/5000\n",
      "13/13 [==============================] - 0s 3ms/step - loss: 57.7279 - accuracy: 0.0225\n",
      "Epoch 394/5000\n",
      "13/13 [==============================] - 0s 3ms/step - loss: 57.7279 - accuracy: 0.0225\n",
      "Epoch 395/5000\n",
      "13/13 [==============================] - 0s 3ms/step - loss: 57.7279 - accuracy: 0.0225\n",
      "Epoch 396/5000\n",
      "13/13 [==============================] - 0s 4ms/step - loss: 57.7279 - accuracy: 0.0225\n",
      "Epoch 397/5000\n",
      "13/13 [==============================] - 0s 3ms/step - loss: 57.7279 - accuracy: 0.0225\n",
      "Epoch 398/5000\n",
      "13/13 [==============================] - 0s 3ms/step - loss: 57.7279 - accuracy: 0.0225\n",
      "Epoch 399/5000\n",
      "13/13 [==============================] - 0s 3ms/step - loss: 57.7279 - accuracy: 0.0225\n",
      "Epoch 400/5000\n",
      "13/13 [==============================] - 0s 3ms/step - loss: 57.7279 - accuracy: 0.0225\n",
      "Epoch 401/5000\n",
      "13/13 [==============================] - 0s 3ms/step - loss: 57.7279 - accuracy: 0.0225\n",
      "Epoch 402/5000\n",
      "13/13 [==============================] - 0s 3ms/step - loss: 57.7279 - accuracy: 0.0225\n",
      "Epoch 403/5000\n",
      "13/13 [==============================] - 0s 3ms/step - loss: 57.7279 - accuracy: 0.0225\n",
      "Epoch 404/5000\n",
      "13/13 [==============================] - 0s 3ms/step - loss: 57.7279 - accuracy: 0.0225\n",
      "Epoch 405/5000\n",
      "13/13 [==============================] - 0s 3ms/step - loss: 57.7279 - accuracy: 0.0225\n",
      "Epoch 406/5000\n",
      "13/13 [==============================] - 0s 3ms/step - loss: 57.7279 - accuracy: 0.0225\n",
      "Epoch 407/5000\n",
      "13/13 [==============================] - 0s 3ms/step - loss: 57.7279 - accuracy: 0.0225\n",
      "Epoch 408/5000\n",
      "13/13 [==============================] - 0s 3ms/step - loss: 57.7279 - accuracy: 0.0225\n",
      "Epoch 409/5000\n",
      "13/13 [==============================] - 0s 3ms/step - loss: 57.7279 - accuracy: 0.0225\n",
      "Epoch 410/5000\n",
      "13/13 [==============================] - 0s 3ms/step - loss: 57.7279 - accuracy: 0.0225\n",
      "Epoch 411/5000\n",
      "13/13 [==============================] - 0s 3ms/step - loss: 57.7279 - accuracy: 0.0225\n",
      "Epoch 412/5000\n",
      "13/13 [==============================] - 0s 3ms/step - loss: 57.7279 - accuracy: 0.0225\n",
      "Epoch 413/5000\n",
      "13/13 [==============================] - 0s 3ms/step - loss: 57.7279 - accuracy: 0.0225\n",
      "Epoch 414/5000\n",
      "13/13 [==============================] - 0s 3ms/step - loss: 57.7279 - accuracy: 0.0225\n",
      "Epoch 415/5000\n",
      "13/13 [==============================] - 0s 3ms/step - loss: 57.7279 - accuracy: 0.0225\n",
      "Epoch 416/5000\n",
      "13/13 [==============================] - 0s 3ms/step - loss: 57.7279 - accuracy: 0.0225\n",
      "Epoch 417/5000\n",
      "13/13 [==============================] - 0s 3ms/step - loss: 57.7279 - accuracy: 0.0225\n",
      "Epoch 418/5000\n",
      "13/13 [==============================] - 0s 3ms/step - loss: 57.7279 - accuracy: 0.0225\n",
      "Epoch 419/5000\n",
      "13/13 [==============================] - 0s 4ms/step - loss: 57.7279 - accuracy: 0.0225\n",
      "Epoch 420/5000\n",
      "13/13 [==============================] - 0s 3ms/step - loss: 57.7279 - accuracy: 0.0225\n",
      "Epoch 421/5000\n",
      "13/13 [==============================] - 0s 4ms/step - loss: 57.7279 - accuracy: 0.0225\n",
      "Epoch 422/5000\n",
      "13/13 [==============================] - 0s 3ms/step - loss: 57.7279 - accuracy: 0.0225\n",
      "Epoch 423/5000\n",
      "13/13 [==============================] - 0s 3ms/step - loss: 57.7279 - accuracy: 0.0225\n",
      "Epoch 424/5000\n",
      "13/13 [==============================] - 0s 3ms/step - loss: 57.7279 - accuracy: 0.0225\n",
      "Epoch 425/5000\n",
      "13/13 [==============================] - 0s 3ms/step - loss: 57.7279 - accuracy: 0.0225\n",
      "Epoch 426/5000\n",
      "13/13 [==============================] - 0s 3ms/step - loss: 57.7279 - accuracy: 0.0225\n",
      "Epoch 427/5000\n",
      "13/13 [==============================] - 0s 3ms/step - loss: 57.7279 - accuracy: 0.0225\n",
      "Epoch 428/5000\n",
      "13/13 [==============================] - 0s 4ms/step - loss: 57.7279 - accuracy: 0.0225\n",
      "Epoch 429/5000\n",
      "13/13 [==============================] - 0s 4ms/step - loss: 57.7279 - accuracy: 0.0225\n",
      "Epoch 430/5000\n",
      "13/13 [==============================] - 0s 3ms/step - loss: 57.7279 - accuracy: 0.0225\n",
      "Epoch 431/5000\n",
      "13/13 [==============================] - 0s 3ms/step - loss: 57.7279 - accuracy: 0.0225\n",
      "Epoch 432/5000\n",
      "13/13 [==============================] - 0s 3ms/step - loss: 57.7279 - accuracy: 0.0225\n",
      "Epoch 433/5000\n",
      "13/13 [==============================] - 0s 3ms/step - loss: 57.7279 - accuracy: 0.0225\n",
      "Epoch 434/5000\n",
      "13/13 [==============================] - 0s 3ms/step - loss: 57.7279 - accuracy: 0.0225\n",
      "Epoch 435/5000\n",
      "13/13 [==============================] - 0s 3ms/step - loss: 57.7279 - accuracy: 0.0225\n",
      "Epoch 436/5000\n",
      "13/13 [==============================] - 0s 3ms/step - loss: 57.7279 - accuracy: 0.0225\n",
      "Epoch 437/5000\n",
      "13/13 [==============================] - 0s 3ms/step - loss: 57.7279 - accuracy: 0.0225\n",
      "Epoch 438/5000\n",
      "13/13 [==============================] - 0s 3ms/step - loss: 57.7279 - accuracy: 0.0225\n",
      "Epoch 439/5000\n",
      "13/13 [==============================] - 0s 3ms/step - loss: 57.7279 - accuracy: 0.0225\n",
      "Epoch 440/5000\n",
      "13/13 [==============================] - 0s 3ms/step - loss: 57.7279 - accuracy: 0.0225\n",
      "Epoch 441/5000\n",
      "13/13 [==============================] - 0s 3ms/step - loss: 57.7279 - accuracy: 0.0225\n",
      "Epoch 442/5000\n",
      "13/13 [==============================] - 0s 3ms/step - loss: 57.7279 - accuracy: 0.0225\n",
      "Epoch 443/5000\n",
      "13/13 [==============================] - 0s 3ms/step - loss: 57.7279 - accuracy: 0.0225\n",
      "Epoch 444/5000\n",
      "13/13 [==============================] - 0s 3ms/step - loss: 57.7279 - accuracy: 0.0225\n",
      "Epoch 445/5000\n",
      "13/13 [==============================] - 0s 3ms/step - loss: 57.7279 - accuracy: 0.0225\n",
      "Epoch 446/5000\n",
      "13/13 [==============================] - 0s 3ms/step - loss: 57.7279 - accuracy: 0.0225\n",
      "Epoch 447/5000\n",
      "13/13 [==============================] - 0s 3ms/step - loss: 57.7279 - accuracy: 0.0225\n",
      "Epoch 448/5000\n",
      "13/13 [==============================] - 0s 3ms/step - loss: 57.7279 - accuracy: 0.0225\n",
      "Epoch 449/5000\n",
      "13/13 [==============================] - 0s 3ms/step - loss: 57.7279 - accuracy: 0.0225\n",
      "Epoch 450/5000\n",
      "13/13 [==============================] - 0s 3ms/step - loss: 57.7279 - accuracy: 0.0225\n",
      "Epoch 451/5000\n",
      "13/13 [==============================] - 0s 3ms/step - loss: 57.7279 - accuracy: 0.0225\n",
      "Epoch 452/5000\n",
      "13/13 [==============================] - 0s 3ms/step - loss: 57.7279 - accuracy: 0.0225\n",
      "Epoch 453/5000\n",
      "13/13 [==============================] - 0s 3ms/step - loss: 57.7279 - accuracy: 0.0225\n",
      "Epoch 454/5000\n",
      "13/13 [==============================] - 0s 3ms/step - loss: 57.7279 - accuracy: 0.0225\n",
      "Epoch 455/5000\n",
      "13/13 [==============================] - 0s 3ms/step - loss: 57.7279 - accuracy: 0.0225\n",
      "Epoch 456/5000\n",
      "13/13 [==============================] - 0s 3ms/step - loss: 57.7279 - accuracy: 0.0225\n",
      "Epoch 457/5000\n",
      "13/13 [==============================] - 0s 3ms/step - loss: 57.7279 - accuracy: 0.0225\n",
      "Epoch 458/5000\n",
      "13/13 [==============================] - 0s 3ms/step - loss: 57.7279 - accuracy: 0.0225\n",
      "Epoch 459/5000\n",
      "13/13 [==============================] - 0s 3ms/step - loss: 57.7279 - accuracy: 0.0225\n",
      "Epoch 460/5000\n",
      "13/13 [==============================] - 0s 3ms/step - loss: 57.7279 - accuracy: 0.0225\n",
      "Epoch 461/5000\n",
      "13/13 [==============================] - 0s 3ms/step - loss: 57.7279 - accuracy: 0.0225\n",
      "Epoch 462/5000\n",
      "13/13 [==============================] - 0s 3ms/step - loss: 57.7279 - accuracy: 0.0225\n",
      "Epoch 463/5000\n",
      "13/13 [==============================] - 0s 3ms/step - loss: 57.7279 - accuracy: 0.0225\n",
      "Epoch 464/5000\n",
      "13/13 [==============================] - 0s 3ms/step - loss: 57.7279 - accuracy: 0.0225\n",
      "Epoch 465/5000\n",
      "13/13 [==============================] - 0s 3ms/step - loss: 57.7279 - accuracy: 0.0225\n",
      "Epoch 466/5000\n",
      "13/13 [==============================] - 0s 3ms/step - loss: 57.7279 - accuracy: 0.0225\n",
      "Epoch 467/5000\n",
      " 1/13 [=>............................] - ETA: 0s - loss: 57.8436 - accuracy: 0.0000e+0"
     ]
    }
   ],
   "source": [
    "model.fit(x_train,y_train,epochs=5000)"
   ]
  },
  {
   "cell_type": "code",
   "execution_count": null,
   "metadata": {},
   "outputs": [],
   "source": []
  },
  {
   "cell_type": "code",
   "execution_count": null,
   "metadata": {},
   "outputs": [],
   "source": []
  },
  {
   "cell_type": "code",
   "execution_count": 28,
   "metadata": {},
   "outputs": [
    {
     "ename": "ValueError",
     "evalue": "too many values to unpack (expected 2)",
     "output_type": "error",
     "traceback": [
      "\u001b[1;31m---------------------------------------------------------------------------\u001b[0m",
      "\u001b[1;31mValueError\u001b[0m                                Traceback (most recent call last)",
      "\u001b[1;32m<ipython-input-28-a0493f135755>\u001b[0m in \u001b[0;36m<module>\u001b[1;34m\u001b[0m\n\u001b[1;32m----> 1\u001b[1;33m \u001b[0mcoef\u001b[0m\u001b[1;33m,\u001b[0m\u001b[0mintercept\u001b[0m\u001b[1;33m=\u001b[0m\u001b[0mmodel\u001b[0m\u001b[1;33m.\u001b[0m\u001b[0mget_weights\u001b[0m\u001b[1;33m(\u001b[0m\u001b[1;33m)\u001b[0m\u001b[1;33m\u001b[0m\u001b[1;33m\u001b[0m\u001b[0m\n\u001b[0m\u001b[0;32m      2\u001b[0m \u001b[0mcoef\u001b[0m\u001b[1;33m,\u001b[0m\u001b[0mintercept\u001b[0m\u001b[1;33m\u001b[0m\u001b[1;33m\u001b[0m\u001b[0m\n",
      "\u001b[1;31mValueError\u001b[0m: too many values to unpack (expected 2)"
     ]
    }
   ],
   "source": [
    "coef,intercept=model.get_weights()\n",
    "coef,intercept"
   ]
  },
  {
   "cell_type": "code",
   "execution_count": 87,
   "metadata": {},
   "outputs": [
    {
     "data": {
      "text/plain": [
       "0.9999546021312976"
      ]
     },
     "execution_count": 87,
     "metadata": {},
     "output_type": "execute_result"
    }
   ],
   "source": [
    "def sigmoid(x):\n",
    "    import math\n",
    "    return 1/(1+math.exp(-x))\n",
    "sigmoid(10)"
   ]
  },
  {
   "cell_type": "code",
   "execution_count": 159,
   "metadata": {},
   "outputs": [],
   "source": [
    "import numpy as np\n",
    "import tensorflow as ts\n",
    "from tensorflow import keras\n",
    "import matplotlib.pyplot as plt\n",
    "%matplotlib inline\n",
    "import seaborn as sn\n",
    "from sklearn.linear_model import LogisticRegression\n",
    "from sklearn.linear_model import LinearRegression"
   ]
  },
  {
   "cell_type": "code",
   "execution_count": 160,
   "metadata": {},
   "outputs": [],
   "source": [
    "mnist=keras.datasets.mnist.load_data()"
   ]
  },
  {
   "cell_type": "code",
   "execution_count": 161,
   "metadata": {},
   "outputs": [
    {
     "data": {
      "text/plain": [
       "2"
      ]
     },
     "execution_count": 161,
     "metadata": {},
     "output_type": "execute_result"
    }
   ],
   "source": [
    "len(mnist)"
   ]
  },
  {
   "cell_type": "code",
   "execution_count": 162,
   "metadata": {},
   "outputs": [],
   "source": [
    "(x_train,y_train),(x_test,y_test)=keras.datasets.mnist.load_data()"
   ]
  },
  {
   "cell_type": "code",
   "execution_count": 163,
   "metadata": {},
   "outputs": [
    {
     "data": {
      "text/plain": [
       "60000"
      ]
     },
     "execution_count": 163,
     "metadata": {},
     "output_type": "execute_result"
    }
   ],
   "source": [
    "len(x_train)"
   ]
  },
  {
   "cell_type": "code",
   "execution_count": 164,
   "metadata": {},
   "outputs": [
    {
     "data": {
      "text/plain": [
       "<matplotlib.image.AxesImage at 0x1e95cf7d460>"
      ]
     },
     "execution_count": 164,
     "metadata": {},
     "output_type": "execute_result"
    },
    {
     "data": {
      "image/png": "[encoded data removed]",
      "text/plain": [
       "<Figure size 288x288 with 1 Axes>"
      ]
     },
     "metadata": {
      "needs_background": "light"
     },
     "output_type": "display_data"
    }
   ],
   "source": [
    "plt.matshow(x_train[7])"
   ]
  },
  {
   "cell_type": "code",
   "execution_count": 165,
   "metadata": {},
   "outputs": [
    {
     "data": {
      "text/plain": [
       "(60000, 28, 28)"
      ]
     },
     "execution_count": 165,
     "metadata": {},
     "output_type": "execute_result"
    }
   ],
   "source": [
    "x_train.shape"
   ]
  },
  {
   "cell_type": "code",
   "execution_count": 166,
   "metadata": {},
   "outputs": [],
   "source": [
    "x_train_flattened=x_train.reshape(len(x_train),28*28)\n"
   ]
  },
  {
   "cell_type": "code",
   "execution_count": 167,
   "metadata": {},
   "outputs": [],
   "source": [
    "x_test_flattened=x_test.reshape(len(x_test),28*28)"
   ]
  },
  {
   "cell_type": "code",
   "execution_count": 168,
   "metadata": {},
   "outputs": [
    {
     "data": {
      "text/plain": [
       "(10000, 28, 28)"
      ]
     },
     "execution_count": 168,
     "metadata": {},
     "output_type": "execute_result"
    }
   ],
   "source": [
    "x_test.shape"
   ]
  },
  {
   "cell_type": "code",
   "execution_count": 169,
   "metadata": {},
   "outputs": [],
   "source": [
    "x_train=x_train/255\n",
    "x_test=x_test/255"
   ]
  },
  {
   "cell_type": "code",
   "execution_count": 170,
   "metadata": {},
   "outputs": [],
   "source": [
    "model=keras.Sequential([\n",
    "    keras.layers.Dense(10,input_shape=(784,),activation=\"sigmoid\")\n",
    "])"
   ]
  },
  {
   "cell_type": "code",
   "execution_count": 171,
   "metadata": {},
   "outputs": [],
   "source": [
    "model.compile(\n",
    "   optimizer=\"adam\",\n",
    "    loss=\"sparse_categorical_crossentropy\",\n",
    "    metrics=\"accuracy\"\n",
    ")"
   ]
  },
  {
   "cell_type": "code",
   "execution_count": 172,
   "metadata": {},
   "outputs": [
    {
     "name": "stdout",
     "output_type": "stream",
     "text": [
      "Epoch 1/5\n",
      "1875/1875 [==============================] - 5s 3ms/step - loss: 2.2360 - accuracy: 0.5328\n",
      "Epoch 2/5\n",
      "1875/1875 [==============================] - 6s 3ms/step - loss: 1.5119 - accuracy: 0.6959\n",
      "Epoch 3/5\n",
      "1875/1875 [==============================] - 6s 3ms/step - loss: 1.3217 - accuracy: 0.7403\n",
      "Epoch 4/5\n",
      "1875/1875 [==============================] - 5s 3ms/step - loss: 1.2312 - accuracy: 0.7454\n",
      "Epoch 5/5\n",
      "1875/1875 [==============================] - 5s 3ms/step - loss: 1.2011 - accuracy: 0.7484\n"
     ]
    },
    {
     "data": {
      "text/plain": [
       "<tensorflow.python.keras.callbacks.History at 0x1e95d00c1c0>"
      ]
     },
     "execution_count": 172,
     "metadata": {},
     "output_type": "execute_result"
    }
   ],
   "source": [
    "model.fit(x_train_flattened,y_train,epochs=5)"
   ]
  },
  {
   "cell_type": "code",
   "execution_count": 157,
   "metadata": {},
   "outputs": [
    {
     "ename": "NameError",
     "evalue": "name 'x_test_flattened' is not defined",
     "output_type": "error",
     "traceback": [
      "\u001b[1;31m---------------------------------------------------------------------------\u001b[0m",
      "\u001b[1;31mNameError\u001b[0m                                 Traceback (most recent call last)",
      "\u001b[1;32m<ipython-input-157-b8fc885fcad4>\u001b[0m in \u001b[0;36m<module>\u001b[1;34m\u001b[0m\n\u001b[1;32m----> 1\u001b[1;33m \u001b[0mmodel\u001b[0m\u001b[1;33m.\u001b[0m\u001b[0mevaluate\u001b[0m\u001b[1;33m(\u001b[0m\u001b[0mx_test_flattened\u001b[0m\u001b[1;33m,\u001b[0m\u001b[0my_test\u001b[0m\u001b[1;33m)\u001b[0m\u001b[1;33m\u001b[0m\u001b[1;33m\u001b[0m\u001b[0m\n\u001b[0m",
      "\u001b[1;31mNameError\u001b[0m: name 'x_test_flattened' is not defined"
     ]
    }
   ],
   "source": [
    "model.evaluate(x_test_flattened,y_test)"
   ]
  },
  {
   "cell_type": "code",
   "execution_count": 63,
   "metadata": {},
   "outputs": [],
   "source": [
    "y_predicted=model.predict(x_test_flattened)"
   ]
  },
  {
   "cell_type": "code",
   "execution_count": 64,
   "metadata": {},
   "outputs": [],
   "source": [
    "y_predicted_labels=[np.argmax(i) for i in y_predicted]"
   ]
  },
  {
   "cell_type": "code",
   "execution_count": 65,
   "metadata": {},
   "outputs": [
    {
     "data": {
      "text/plain": [
       "[7, 2, 1, 0, 0]"
      ]
     },
     "execution_count": 65,
     "metadata": {},
     "output_type": "execute_result"
    }
   ],
   "source": [
    "y_predicted_labels[:5]"
   ]
  },
  {
   "cell_type": "code",
   "execution_count": 68,
   "metadata": {},
   "outputs": [],
   "source": [
    "cm=tf.math.confusion_matrix(labels=y_test,predictions=y_predicted_labels)"
   ]
  },
  {
   "cell_type": "code",
   "execution_count": 69,
   "metadata": {},
   "outputs": [
    {
     "data": {
      "text/plain": [
       "<tf.Tensor: shape=(10, 10), dtype=int32, numpy=\n",
       "array([[ 960,    0,    3,   10,    0,    4,    1,    1,    1,    0],\n",
       "       [  42, 1033,   22,   20,    0,    3,    2,    1,   12,    0],\n",
       "       [ 156,    2,  844,   20,    0,    1,    1,    3,    5,    0],\n",
       "       [  46,    1,   46,  906,    0,    5,    0,    2,    3,    1],\n",
       "       [ 213,    0,    0,   26,  725,    0,    8,    2,    4,    4],\n",
       "       [ 183,    0,    1,  213,    8,  481,    2,    1,    2,    1],\n",
       "       [ 227,    2,    5,    2,    8,   15,  698,    0,    1,    0],\n",
       "       [ 109,    3,   15,   43,    7,    1,    0,  843,    1,    6],\n",
       "       [ 356,    0,   10,  125,    6,   33,    1,    0,  437,    6],\n",
       "       [ 296,    1,    0,   40,   41,   10,    0,   27,    2,  592]])>"
      ]
     },
     "execution_count": 69,
     "metadata": {},
     "output_type": "execute_result"
    }
   ],
   "source": [
    "cm"
   ]
  },
  {
   "cell_type": "code",
   "execution_count": 73,
   "metadata": {},
   "outputs": [
    {
     "data": {
      "text/plain": [
       "<matplotlib.axes._subplots.AxesSubplot at 0x1bcfbc47c40>"
      ]
     },
     "execution_count": 73,
     "metadata": {},
     "output_type": "execute_result"
    },
    {
     "data": {
      "image/png": "[encoded data removed]",
      "text/plain": [
       "<Figure size 720x504 with 2 Axes>"
      ]
     },
     "metadata": {
      "needs_background": "light"
     },
     "output_type": "display_data"
    }
   ],
   "source": [
    "plt.figure(figsize=(10,7))\n",
    "sn.heatmap(cm,annot=True,)"
   ]
  },
  {
   "cell_type": "code",
   "execution_count": 84,
   "metadata": {},
   "outputs": [
    {
     "name": "stdout",
     "output_type": "stream",
     "text": [
      "Epoch 1/10\n",
      "1875/1875 [==============================] - 1s 742us/step - loss: 0.5880 - accuracy: 0.8465\n",
      "Epoch 2/10\n",
      "1875/1875 [==============================] - 1s 767us/step - loss: 0.3707 - accuracy: 0.8934\n",
      "Epoch 3/10\n",
      "1875/1875 [==============================] - 1s 745us/step - loss: 0.3546 - accuracy: 0.8965\n",
      "Epoch 4/10\n",
      "1875/1875 [==============================] - 1s 735us/step - loss: 0.3246 - accuracy: 0.9038\n",
      "Epoch 5/10\n",
      "1875/1875 [==============================] - 1s 724us/step - loss: 0.3055 - accuracy: 0.9097\n",
      "Epoch 6/10\n",
      "1875/1875 [==============================] - 1s 721us/step - loss: 0.2923 - accuracy: 0.9137\n",
      "Epoch 7/10\n",
      "1875/1875 [==============================] - 1s 724us/step - loss: 0.2889 - accuracy: 0.9127\n",
      "Epoch 8/10\n",
      "1875/1875 [==============================] - 1s 736us/step - loss: 0.2740 - accuracy: 0.9164\n",
      "Epoch 9/10\n",
      "1875/1875 [==============================] - 1s 749us/step - loss: 0.2741 - accuracy: 0.9167\n",
      "Epoch 10/10\n",
      "1875/1875 [==============================] - 1s 742us/step - loss: 0.2654 - accuracy: 0.9198\n"
     ]
    },
    {
     "data": {
      "text/plain": [
       "<tensorflow.python.keras.callbacks.History at 0x1bcfe8d2b80>"
      ]
     },
     "execution_count": 84,
     "metadata": {},
     "output_type": "execute_result"
    }
   ],
   "source": [
    "model=keras.Sequential([\n",
    "    keras.layers.Dense(100,input_shape=(784,),activation=\"sigmoid\"),\n",
    "    keras.layers.Dense(10,activation=\"sigmoid\")\n",
    "])\n",
    "model.compile(\n",
    "    optimizer=\"adam\",\n",
    "    loss=\"sparse_categorical_crossentropy\",\n",
    "    metrics=\"accuracy\"\n",
    ")\n",
    "model.fit(x_train_flattened,y_train,epochs=10)"
   ]
  },
  {
   "cell_type": "code",
   "execution_count": 85,
   "metadata": {},
   "outputs": [
    {
     "name": "stdout",
     "output_type": "stream",
     "text": [
      "313/313 [==============================] - 0s 671us/step - loss: 0.2471 - accuracy: 0.9245\n"
     ]
    },
    {
     "data": {
      "text/plain": [
       "[0.2470513880252838, 0.9244999885559082]"
      ]
     },
     "execution_count": 85,
     "metadata": {},
     "output_type": "execute_result"
    }
   ],
   "source": [
    "model.evaluate(x_test_flattened,y_test)"
   ]
  },
  {
   "cell_type": "code",
   "execution_count": 107,
   "metadata": {},
   "outputs": [
    {
     "name": "stdout",
     "output_type": "stream",
     "text": [
      "Epoch 1/10\n",
      "WARNING:tensorflow:Model was constructed with shape (None, 784) for input Tensor(\"flatten_12_input:0\", shape=(None, 784), dtype=float32), but it was called on an input with incompatible shape (32, 28, 28).\n",
      "WARNING:tensorflow:Model was constructed with shape (None, 784) for input Tensor(\"flatten_12_input:0\", shape=(None, 784), dtype=float32), but it was called on an input with incompatible shape (32, 28, 28).\n",
      "1875/1875 [==============================] - 3s 1ms/step - loss: 0.3966 - accuracy: 0.8960\n",
      "Epoch 2/10\n",
      "1875/1875 [==============================] - 2s 1ms/step - loss: 0.1508 - accuracy: 0.9557\n",
      "Epoch 3/10\n",
      "1875/1875 [==============================] - 2s 1ms/step - loss: 0.1003 - accuracy: 0.9702\n",
      "Epoch 4/10\n",
      "1875/1875 [==============================] - 2s 1ms/step - loss: 0.0726 - accuracy: 0.9780\n",
      "Epoch 5/10\n",
      "1875/1875 [==============================] - 2s 1ms/step - loss: 0.0539 - accuracy: 0.9835\n",
      "Epoch 6/10\n",
      "1875/1875 [==============================] - 3s 1ms/step - loss: 0.0401 - accuracy: 0.9875\n",
      "Epoch 7/10\n",
      "1875/1875 [==============================] - 3s 2ms/step - loss: 0.0299 - accuracy: 0.9909\n",
      "Epoch 8/10\n",
      "1875/1875 [==============================] - 3s 1ms/step - loss: 0.0236 - accuracy: 0.9930\n",
      "Epoch 9/10\n",
      "1875/1875 [==============================] - 3s 1ms/step - loss: 0.0175 - accuracy: 0.9948\n",
      "Epoch 10/10\n",
      "1875/1875 [==============================] - 3s 1ms/step - loss: 0.0145 - accuracy: 0.9959\n"
     ]
    },
    {
     "data": {
      "text/plain": [
       "<tensorflow.python.keras.callbacks.History at 0x1bc9d8cfa90>"
      ]
     },
     "execution_count": 107,
     "metadata": {},
     "output_type": "execute_result"
    }
   ],
   "source": [
    "model=keras.Sequential([\n",
    "    keras.layers.Flatten(input_shape=(28*28,)),\n",
    "    keras.layers.Dense(300,activation=\"sigmoid\"),\n",
    "    keras.layers.Dense(100,activation=\"sigmoid\"),\n",
    "    keras.layers.Dense(10,activation=\"sigmoid\")\n",
    "])\n",
    "model.compile(\n",
    "    optimizer=\"adam\",\n",
    "    loss=\"sparse_categorical_crossentropy\",\n",
    "    metrics=\"accuracy\"\n",
    ")\n",
    "model.fit(x_train,y_train,epochs=10)"
   ]
  },
  {
   "cell_type": "code",
   "execution_count": 108,
   "metadata": {},
   "outputs": [
    {
     "name": "stdout",
     "output_type": "stream",
     "text": [
      "WARNING:tensorflow:Model was constructed with shape (None, 784) for input Tensor(\"flatten_12_input:0\", shape=(None, 784), dtype=float32), but it was called on an input with incompatible shape (32, 28, 28).\n",
      "   1/1875 [..............................] - ETA: 0s - loss: 0.0036 - accuracy: 1.0000WARNING:tensorflow:Callbacks method `on_test_batch_end` is slow compared to the batch time (batch time: 0.0000s vs `on_test_batch_end` time: 0.0010s). Check your callbacks.\n",
      "1875/1875 [==============================] - 2s 807us/step - loss: 0.0108 - accuracy: 0.9970\n"
     ]
    },
    {
     "data": {
      "text/plain": [
       "[0.010839947499334812, 0.9970499873161316]"
      ]
     },
     "execution_count": 108,
     "metadata": {},
     "output_type": "execute_result"
    }
   ],
   "source": [
    "model.evaluate(x_train,y_train)"
   ]
  },
  {
   "cell_type": "code",
   "execution_count": 120,
   "metadata": {},
   "outputs": [],
   "source": [
    "import math\n",
    "def sigmoid(x):\n",
    "    return 1/(1+math.exp(-x))\n"
   ]
  },
  {
   "cell_type": "code",
   "execution_count": 133,
   "metadata": {},
   "outputs": [
    {
     "data": {
      "text/plain": [
       "1.7078639924081707e-91"
      ]
     },
     "execution_count": 133,
     "metadata": {},
     "output_type": "execute_result"
    }
   ],
   "source": [
    "sigmoid(-209)"
   ]
  },
  {
   "cell_type": "code",
   "execution_count": 124,
   "metadata": {},
   "outputs": [],
   "source": [
    "def tanh(x):\n",
    "    return (math.exp(x)-math.exp(-x)/math.exp(x)+math.exp(-x))"
   ]
  },
  {
   "cell_type": "code",
   "execution_count": 125,
   "metadata": {},
   "outputs": [
    {
     "data": {
      "text/plain": [
       "22026.465840204586"
      ]
     },
     "execution_count": 125,
     "metadata": {},
     "output_type": "execute_result"
    }
   ],
   "source": [
    "tanh(10)"
   ]
  },
  {
   "cell_type": "code",
   "execution_count": 126,
   "metadata": {},
   "outputs": [],
   "source": [
    "def relu(x):\n",
    "    return max(0,x)"
   ]
  },
  {
   "cell_type": "code",
   "execution_count": 127,
   "metadata": {},
   "outputs": [
    {
     "data": {
      "text/plain": [
       "11"
      ]
     },
     "execution_count": 127,
     "metadata": {},
     "output_type": "execute_result"
    }
   ],
   "source": [
    "relu(11)"
   ]
  },
  {
   "cell_type": "code",
   "execution_count": 128,
   "metadata": {},
   "outputs": [],
   "source": [
    "def leaky_relu(x):\n",
    "    return max(0.1*x,x)"
   ]
  },
  {
   "cell_type": "code",
   "execution_count": 129,
   "metadata": {},
   "outputs": [
    {
     "data": {
      "text/plain": [
       "-1.0"
      ]
     },
     "execution_count": 129,
     "metadata": {},
     "output_type": "execute_result"
    }
   ],
   "source": [
    "leaky_relu(-10)"
   ]
  },
  {
   "cell_type": "code",
   "execution_count": 25,
   "metadata": {},
   "outputs": [
    {
     "data": {
      "text/plain": [
       "array([[2, 1, 1],\n",
       "       [3, 1, 2],\n",
       "       [4, 2, 1]])"
      ]
     },
     "execution_count": 25,
     "metadata": {},
     "output_type": "execute_result"
    }
   ],
   "source": [
    "\n",
    "y_true1=np.array([[2,4,3],[3,4,6],[7,9,3]])\n",
    "y_predicted1=np.array([[4,3,2],[6,3,4],[3,7,4]])\n",
    "result1=abs(y_true-y_predicted)\n",
    "result1"
   ]
  },
  {
   "cell_type": "code",
   "execution_count": 91,
   "metadata": {},
   "outputs": [],
   "source": [
    "y_true=[2,4,8,3,6,10,0]\n",
    "y_predicted=[7,4,9,10,0,3,5]"
   ]
  },
  {
   "cell_type": "code",
   "execution_count": 92,
   "metadata": {},
   "outputs": [],
   "source": [
    "epsilon=1e-15\n",
    "y_true_new=[]\n",
    "for i in y_true:\n",
    "    x=i/10\n",
    "    y_true_new.append(x)\n",
    "    \n",
    "    \n",
    "y_predicted_new=[]\n",
    "for i in y_predicted:\n",
    "    x=i/10\n",
    "    y_predicted_new.append(x)\n"
   ]
  },
  {
   "cell_type": "code",
   "execution_count": 93,
   "metadata": {},
   "outputs": [
    {
     "data": {
      "text/plain": [
       "[0.2, 0.4, 0.8, 0.3, 0.6, 1.0, 0.0]"
      ]
     },
     "execution_count": 93,
     "metadata": {},
     "output_type": "execute_result"
    }
   ],
   "source": [
    "y_true_new"
   ]
  },
  {
   "cell_type": "code",
   "execution_count": 95,
   "metadata": {},
   "outputs": [
    {
     "data": {
      "text/plain": [
       "[0.7, 0.4, 0.9, 0.999999999999999, 0.0, 0.3, 0.5]"
      ]
     },
     "execution_count": 95,
     "metadata": {},
     "output_type": "execute_result"
    }
   ],
   "source": [
    "y_predicted_new1=[max(j,epsilon) for j in y_predicted_new]\n",
    "y_predicted_new1=[min(j,1-epsilon) for j in y_predicted_new]\n",
    "y_predicted_new1"
   ]
  },
  {
   "cell_type": "code",
   "execution_count": 97,
   "metadata": {},
   "outputs": [
    {
     "data": {
      "text/plain": [
       "[0.2, 0.4, 0.8, 0.3, 0.6, 1.0, 1e-15]"
      ]
     },
     "execution_count": 97,
     "metadata": {},
     "output_type": "execute_result"
    }
   ],
   "source": [
    "y_true_new1=[min(i,1-epsilon) for i in y_true_new ]\n",
    "y_true_new1=[max(i,epsilon) for i in y_true_new ]\n",
    "y_true_new1"
   ]
  },
  {
   "cell_type": "code",
   "execution_count": 105,
   "metadata": {},
   "outputs": [
    {
     "data": {
      "text/plain": [
       "2.302585092994046"
      ]
     },
     "execution_count": 105,
     "metadata": {},
     "output_type": "execute_result"
    }
   ],
   "source": [
    "np.log(10)"
   ]
  },
  {
   "cell_type": "code",
   "execution_count": 12,
   "metadata": {},
   "outputs": [
    {
     "data": {
      "text/plain": [
       "0.999999694097773"
      ]
     },
     "execution_count": 12,
     "metadata": {},
     "output_type": "execute_result"
    }
   ],
   "source": [
    "def sigmoid(x):\n",
    "    return 1/(1+math.exp(-x))\n",
    "sigmoid(15)"
   ]
  },
  {
   "cell_type": "code",
   "execution_count": 14,
   "metadata": {},
   "outputs": [],
   "source": [
    "def get_prediction(gender,height,weight):\n",
    "    x=coef[0]*gender+coef[1]*height +coef[1]*weight +bias\n",
    "    return sigmoid(x)"
   ]
  },
  {
   "cell_type": "code",
   "execution_count": 33,
   "metadata": {},
   "outputs": [
    {
     "name": "stdout",
     "output_type": "stream",
     "text": [
      "hello world\n"
     ]
    }
   ],
   "source": [
    "print(\"hello world\")"
   ]
  },
  {
   "cell_type": "code",
   "execution_count": 34,
   "metadata": {},
   "outputs": [],
   "source": [
    "def log_loss(y_true,y_predicted):\n",
    "    epsilon=1e-15\n",
    "    y_predicted_new=[max(i,epsilon) for i in y_predicted_new]\n",
    "    y_predicted_new=[min(i,1-epsilon) for i in y_predicted_new]\n",
    "    y_predicted_new=np.array(y_predicted_new)\n",
    "    return -np.mean(y_yrue*np.log(y_predicted_new)+(1-y_true)*np.log(1-y_predicted_new))"
   ]
  },
  {
   "cell_type": "code",
   "execution_count": 36,
   "metadata": {},
   "outputs": [
    {
     "data": {
      "text/plain": [
       "array([0.99999386, 0.5       , 0.73105858])"
      ]
     },
     "execution_count": 36,
     "metadata": {},
     "output_type": "execute_result"
    }
   ],
   "source": [
    "def sigmoid_numpy(x):\n",
    "    return 1/(1+np.exp(-x))\n",
    "sigmoid_numpy(np.array([12,0,1]))"
   ]
  },
  {
   "cell_type": "markdown",
   "metadata": {},
   "source": [
    "# Stochastic Gradient"
   ]
  },
  {
   "cell_type": "code",
   "execution_count": 7,
   "metadata": {},
   "outputs": [
    {
     "data": {
      "text/html": [
       "<div>\n",
       "<style scoped>\n",
       "    .dataframe tbody tr th:only-of-type {\n",
       "        vertical-align: middle;\n",
       "    }\n",
       "\n",
       "    .dataframe tbody tr th {\n",
       "        vertical-align: top;\n",
       "    }\n",
       "\n",
       "    .dataframe thead th {\n",
       "        text-align: right;\n",
       "    }\n",
       "</style>\n",
       "<table border=\"1\" class=\"dataframe\">\n",
       "  <thead>\n",
       "    <tr style=\"text-align: right;\">\n",
       "      <th></th>\n",
       "      <th>Gender</th>\n",
       "      <th>Height</th>\n",
       "      <th>Weight</th>\n",
       "      <th>Index</th>\n",
       "    </tr>\n",
       "  </thead>\n",
       "  <tbody>\n",
       "    <tr>\n",
       "      <th>0</th>\n",
       "      <td>Male</td>\n",
       "      <td>174</td>\n",
       "      <td>96</td>\n",
       "      <td>4</td>\n",
       "    </tr>\n",
       "    <tr>\n",
       "      <th>1</th>\n",
       "      <td>Male</td>\n",
       "      <td>189</td>\n",
       "      <td>87</td>\n",
       "      <td>2</td>\n",
       "    </tr>\n",
       "    <tr>\n",
       "      <th>2</th>\n",
       "      <td>Female</td>\n",
       "      <td>185</td>\n",
       "      <td>110</td>\n",
       "      <td>4</td>\n",
       "    </tr>\n",
       "    <tr>\n",
       "      <th>3</th>\n",
       "      <td>Female</td>\n",
       "      <td>195</td>\n",
       "      <td>104</td>\n",
       "      <td>3</td>\n",
       "    </tr>\n",
       "    <tr>\n",
       "      <th>4</th>\n",
       "      <td>Male</td>\n",
       "      <td>149</td>\n",
       "      <td>61</td>\n",
       "      <td>3</td>\n",
       "    </tr>\n",
       "    <tr>\n",
       "      <th>...</th>\n",
       "      <td>...</td>\n",
       "      <td>...</td>\n",
       "      <td>...</td>\n",
       "      <td>...</td>\n",
       "    </tr>\n",
       "    <tr>\n",
       "      <th>495</th>\n",
       "      <td>Female</td>\n",
       "      <td>150</td>\n",
       "      <td>153</td>\n",
       "      <td>5</td>\n",
       "    </tr>\n",
       "    <tr>\n",
       "      <th>496</th>\n",
       "      <td>Female</td>\n",
       "      <td>184</td>\n",
       "      <td>121</td>\n",
       "      <td>4</td>\n",
       "    </tr>\n",
       "    <tr>\n",
       "      <th>497</th>\n",
       "      <td>Female</td>\n",
       "      <td>141</td>\n",
       "      <td>136</td>\n",
       "      <td>5</td>\n",
       "    </tr>\n",
       "    <tr>\n",
       "      <th>498</th>\n",
       "      <td>Male</td>\n",
       "      <td>150</td>\n",
       "      <td>95</td>\n",
       "      <td>5</td>\n",
       "    </tr>\n",
       "    <tr>\n",
       "      <th>499</th>\n",
       "      <td>Male</td>\n",
       "      <td>173</td>\n",
       "      <td>131</td>\n",
       "      <td>5</td>\n",
       "    </tr>\n",
       "  </tbody>\n",
       "</table>\n",
       "<p>500 rows × 4 columns</p>\n",
       "</div>"
      ],
      "text/plain": [
       "     Gender  Height  Weight  Index\n",
       "0      Male     174      96      4\n",
       "1      Male     189      87      2\n",
       "2    Female     185     110      4\n",
       "3    Female     195     104      3\n",
       "4      Male     149      61      3\n",
       "..      ...     ...     ...    ...\n",
       "495  Female     150     153      5\n",
       "496  Female     184     121      4\n",
       "497  Female     141     136      5\n",
       "498    Male     150      95      5\n",
       "499    Male     173     131      5\n",
       "\n",
       "[500 rows x 4 columns]"
      ]
     },
     "execution_count": 7,
     "metadata": {},
     "output_type": "execute_result"
    }
   ],
   "source": [
    "scale=MinMaxScaler()\n",
    "data"
   ]
  },
  {
   "cell_type": "code",
   "execution_count": 39,
   "metadata": {},
   "outputs": [],
   "source": [
    "scaled_x=scale.fit_transform(data.drop(data[[\"Gender\",\"Index\"]],axis=\"columns\"))\n",
    "scaled_y=scale.fit_transform(data.drop(data[[\"Gender\",\"Height\",\"Weight\"]],axis=\"columns\"))"
   ]
  },
  {
   "cell_type": "code",
   "execution_count": 40,
   "metadata": {},
   "outputs": [],
   "source": [
    "df2=pd.DataFrame(scaled_x)"
   ]
  },
  {
   "cell_type": "code",
   "execution_count": 41,
   "metadata": {},
   "outputs": [],
   "source": [
    "df2['Height']=df2[0]"
   ]
  },
  {
   "cell_type": "code",
   "execution_count": 42,
   "metadata": {},
   "outputs": [],
   "source": [
    "df2[\"Weight\"]=df2[1]"
   ]
  },
  {
   "cell_type": "code",
   "execution_count": 43,
   "metadata": {},
   "outputs": [
    {
     "data": {
      "text/html": [
       "<div>\n",
       "<style scoped>\n",
       "    .dataframe tbody tr th:only-of-type {\n",
       "        vertical-align: middle;\n",
       "    }\n",
       "\n",
       "    .dataframe tbody tr th {\n",
       "        vertical-align: top;\n",
       "    }\n",
       "\n",
       "    .dataframe thead th {\n",
       "        text-align: right;\n",
       "    }\n",
       "</style>\n",
       "<table border=\"1\" class=\"dataframe\">\n",
       "  <thead>\n",
       "    <tr style=\"text-align: right;\">\n",
       "      <th></th>\n",
       "      <th>0</th>\n",
       "      <th>1</th>\n",
       "      <th>Height</th>\n",
       "      <th>Weight</th>\n",
       "    </tr>\n",
       "  </thead>\n",
       "  <tbody>\n",
       "    <tr>\n",
       "      <th>0</th>\n",
       "      <td>0.576271</td>\n",
       "      <td>0.418182</td>\n",
       "      <td>0.576271</td>\n",
       "      <td>0.418182</td>\n",
       "    </tr>\n",
       "    <tr>\n",
       "      <th>1</th>\n",
       "      <td>0.830508</td>\n",
       "      <td>0.336364</td>\n",
       "      <td>0.830508</td>\n",
       "      <td>0.336364</td>\n",
       "    </tr>\n",
       "    <tr>\n",
       "      <th>2</th>\n",
       "      <td>0.762712</td>\n",
       "      <td>0.545455</td>\n",
       "      <td>0.762712</td>\n",
       "      <td>0.545455</td>\n",
       "    </tr>\n",
       "    <tr>\n",
       "      <th>3</th>\n",
       "      <td>0.932203</td>\n",
       "      <td>0.490909</td>\n",
       "      <td>0.932203</td>\n",
       "      <td>0.490909</td>\n",
       "    </tr>\n",
       "    <tr>\n",
       "      <th>4</th>\n",
       "      <td>0.152542</td>\n",
       "      <td>0.100000</td>\n",
       "      <td>0.152542</td>\n",
       "      <td>0.100000</td>\n",
       "    </tr>\n",
       "    <tr>\n",
       "      <th>...</th>\n",
       "      <td>...</td>\n",
       "      <td>...</td>\n",
       "      <td>...</td>\n",
       "      <td>...</td>\n",
       "    </tr>\n",
       "    <tr>\n",
       "      <th>495</th>\n",
       "      <td>0.169492</td>\n",
       "      <td>0.936364</td>\n",
       "      <td>0.169492</td>\n",
       "      <td>0.936364</td>\n",
       "    </tr>\n",
       "    <tr>\n",
       "      <th>496</th>\n",
       "      <td>0.745763</td>\n",
       "      <td>0.645455</td>\n",
       "      <td>0.745763</td>\n",
       "      <td>0.645455</td>\n",
       "    </tr>\n",
       "    <tr>\n",
       "      <th>497</th>\n",
       "      <td>0.016949</td>\n",
       "      <td>0.781818</td>\n",
       "      <td>0.016949</td>\n",
       "      <td>0.781818</td>\n",
       "    </tr>\n",
       "    <tr>\n",
       "      <th>498</th>\n",
       "      <td>0.169492</td>\n",
       "      <td>0.409091</td>\n",
       "      <td>0.169492</td>\n",
       "      <td>0.409091</td>\n",
       "    </tr>\n",
       "    <tr>\n",
       "      <th>499</th>\n",
       "      <td>0.559322</td>\n",
       "      <td>0.736364</td>\n",
       "      <td>0.559322</td>\n",
       "      <td>0.736364</td>\n",
       "    </tr>\n",
       "  </tbody>\n",
       "</table>\n",
       "<p>500 rows × 4 columns</p>\n",
       "</div>"
      ],
      "text/plain": [
       "            0         1    Height    Weight\n",
       "0    0.576271  0.418182  0.576271  0.418182\n",
       "1    0.830508  0.336364  0.830508  0.336364\n",
       "2    0.762712  0.545455  0.762712  0.545455\n",
       "3    0.932203  0.490909  0.932203  0.490909\n",
       "4    0.152542  0.100000  0.152542  0.100000\n",
       "..        ...       ...       ...       ...\n",
       "495  0.169492  0.936364  0.169492  0.936364\n",
       "496  0.745763  0.645455  0.745763  0.645455\n",
       "497  0.016949  0.781818  0.016949  0.781818\n",
       "498  0.169492  0.409091  0.169492  0.409091\n",
       "499  0.559322  0.736364  0.559322  0.736364\n",
       "\n",
       "[500 rows x 4 columns]"
      ]
     },
     "execution_count": 43,
     "metadata": {},
     "output_type": "execute_result"
    }
   ],
   "source": [
    "df2"
   ]
  },
  {
   "cell_type": "code",
   "execution_count": 44,
   "metadata": {},
   "outputs": [],
   "source": [
    "df3=df2.drop(df2[[0,1]],axis=\"columns\")"
   ]
  },
  {
   "cell_type": "markdown",
   "metadata": {},
   "source": [
    "# def batch_gradient_descent(x,y_true,epochs,learning_rate=0.01):\n",
    "    number_of_features=x.shape[1]\n",
    "    w=np.ones(shape=(number_of_features))\n",
    "    b=0\n",
    "    total_samples=x.shape[0]\n",
    "    cost_list=[]\n",
    "    epoc_list=[]\n",
    "    for i in range(epochs):\n",
    "        y_predicted=np.dot(w,scaled_x.T)+b\n",
    "        w_grad=-(2/total_samples)*(x.T.dot(y_true-y_predicted))\n",
    "        b_grad=-(2/total_samples)*np.sum(y_true-y_predicted)\n",
    "        w=w-learning_rate*w_grad\n",
    "        b=b-learning_rate*b_grad\n",
    "        cost=np.mean(np.square(y_true-y_predicted))\n",
    "        if i%10==0:\n",
    "            cost_list.append(cost)\n",
    "            epoc_list.append(i)\n",
    "    return w,b,cost,cost_list,epoc_list\n",
    "w,b,cost,cost_list,epoc_list=batch_gradient_descent(scaled_x,scaled_y.reshape(scaled_y.shape[0],),5000)\n",
    "w,b,cost"
   ]
  },
  {
   "cell_type": "code",
   "execution_count": 55,
   "metadata": {},
   "outputs": [
    {
     "data": {
      "text/plain": [
       "[<matplotlib.lines.Line2D at 0x260526885b0>]"
      ]
     },
     "execution_count": 55,
     "metadata": {},
     "output_type": "execute_result"
    },
    {
     "data": {
      "image/png": "[encoded data removed]",
      "text/plain": [
       "<Figure size 432x288 with 1 Axes>"
      ]
     },
     "metadata": {
      "needs_background": "light"
     },
     "output_type": "display_data"
    }
   ],
   "source": [
    "plt.plot(epoc_list,cost_list)"
   ]
  },
  {
   "cell_type": "markdown",
   "metadata": {},
   "source": [
    "# Gradient Descent from scratch"
   ]
  },
  {
   "cell_type": "code",
   "execution_count": 15,
   "metadata": {},
   "outputs": [],
   "source": [
    "import numpy as np\n",
    "import math"
   ]
  },
  {
   "cell_type": "code",
   "execution_count": 16,
   "metadata": {},
   "outputs": [],
   "source": [
    "def sigmoid(y):\n",
    "    return 1/(1+np.exp(-y))"
   ]
  },
  {
   "cell_type": "code",
   "execution_count": 37,
   "metadata": {},
   "outputs": [],
   "source": [
    "def log_loss(y_true,y_pred):\n",
    "    \n",
    "    if y_true>=1 or y_pred>=1 or y_true<=0 or y_pred<=0:\n",
    "        print(\"This function takes values only between 0 and 1\")\n",
    "        \n",
    "    else:\n",
    "        \n",
    "        loss=(y_true*math.log(y_pred))+((1-y_true)*math.log(1-y_pred))\n",
    "        return loss    \n",
    "        "
   ]
  },
  {
   "cell_type": "code",
   "execution_count": 42,
   "metadata": {},
   "outputs": [],
   "source": [
    "def mse(y_true,y_pred):\n",
    "    return (y_true-y_pred)**2"
   ]
  },
  {
   "cell_type": "code",
   "execution_count": 40,
   "metadata": {},
   "outputs": [
    {
     "data": {
      "text/plain": [
       "-0.639031859650177"
      ]
     },
     "execution_count": 40,
     "metadata": {},
     "output_type": "execute_result"
    }
   ],
   "source": [
    "log_loss(0.7,0.8)"
   ]
  },
  {
   "cell_type": "code",
   "execution_count": 52,
   "metadata": {},
   "outputs": [],
   "source": [
    "def gradient(param1,param2,y_true,epochs):\n",
    "    w1=w2=1\n",
    "    bias=1\n",
    "    rate=0.1\n",
    "    \n",
    "    for i in range(epochs):\n",
    "        y_pred=w1*param1 + w2*param2 + bias\n",
    "        y_pred=sigmoid(y_pred)\n",
    "        loss=mse(y_true,y_pred)\n",
    "        y_true=sigmoid(y_true)\n",
    "        w1=w1-rate*np.dot(param1,y_pred-y_true)\n",
    "        w2=w2-rate*np.dot(param2,y_pred-y_true)\n",
    "        bias=y_pred-y_true\n",
    "        \n",
    "        print(f\"Epoch:{i},param1:{w1},param2:{w2},bias:{bias},loss:{loss}\")\n",
    "    return w1,w2,bias\n",
    "        "
   ]
  },
  {
   "cell_type": "code",
   "execution_count": 53,
   "metadata": {},
   "outputs": [
    {
     "name": "stdout",
     "output_type": "stream",
     "text": [
      "Epoch:0,param1:0.9928121965839025,param2:0.9892182948758539,bias:0.017969508540243595,loss:9.000100208810027\n",
      "Epoch:1,param1:0.8838348246125269,param2:0.8257522369187905,bias:0.27244342992843895,loss:0.0003217450593267335\n",
      "Epoch:2,param1:0.753600663694684,param2:0.6304009955420262,bias:0.3255854022946072,loss:0.07416683491303086\n",
      "Epoch:3,param1:0.6189055213632024,param2:0.42835828204480386,bias:0.33673785582870386,loss:0.10558322225495288\n",
      "Epoch:4,param1:0.48466036681598734,param2:0.22699055022398126,bias:0.33561288636803766,loss:0.11086821831757505\n",
      "Epoch:5,param1:0.3586179127094996,param2:0.03792686906424966,bias:0.31510613526621933,loss:0.09891804440147176\n",
      "Epoch:6,param1:0.27090146558968575,param2:-0.09364780161547115,bias:0.2192911177995347,loss:0.04803010662930669\n",
      "Epoch:7,param1:0.26363668258123313,param2:-0.1045449761281501,bias:0.01816195752113159,loss:0.0003287688315200203\n",
      "Epoch:8,param1:0.28343419896611055,param2:-0.07484870155083398,bias:-0.04949379096219353,loss:0.002450302090903241\n",
      "Epoch:9,param1:0.2855902136804513,param2:-0.07161467947932289,bias:-0.005390036785851815,loss:2.9068813702624588e-05\n"
     ]
    },
    {
     "data": {
      "text/plain": [
       "(0.2855902136804513, -0.07161467947932289, -0.005390036785851815)"
      ]
     },
     "execution_count": 53,
     "metadata": {},
     "output_type": "execute_result"
    }
   ],
   "source": [
    "gradient(4,6,4,10)"
   ]
  },
  {
   "cell_type": "code",
   "execution_count": 54,
   "metadata": {},
   "outputs": [
    {
     "data": {
      "text/plain": [
       "127.5"
      ]
     },
     "execution_count": 54,
     "metadata": {},
     "output_type": "execute_result"
    }
   ],
   "source": [
    "255/2"
   ]
  },
  {
   "cell_type": "code",
   "execution_count": null,
   "metadata": {},
   "outputs": [],
   "source": []
  }
 ],
 "metadata": {
  "kernelspec": {
   "display_name": "Python 3",
   "language": "python",
   "name": "python3"
  },
  "language_info": {
   "codemirror_mode": {
    "name": "ipython",
    "version": 3
   },
   "file_extension": ".py",
   "mimetype": "text/x-python",
   "name": "python",
   "nbconvert_exporter": "python",
   "pygments_lexer": "ipython3",
   "version": "3.8.3"
  }
 },
 "nbformat": 4,
 "nbformat_minor": 4
}
