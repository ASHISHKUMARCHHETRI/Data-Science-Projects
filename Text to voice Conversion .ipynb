{
 "cells": [
  {
   "cell_type": "code",
   "execution_count": 1,
   "metadata": {},
   "outputs": [],
   "source": [
    "from newspaper import Article\n",
    "import nltk\n",
    "from gtts import gTTS\n",
    "import os\n",
    "from googletrans import Translator"
   ]
  },
  {
   "cell_type": "code",
   "execution_count": 4,
   "metadata": {},
   "outputs": [],
   "source": [
    "article=Article('https://www.biographyonline.net/spiritual/buddha.html#:~:text=Buddha%20was%20born%20approximately%20400%20BCE%20in%20the,from%20the%20pain%20and%20suffering%20of%20the%20world.')\n",
    "article.download()\n",
    "article.parse()\n",
    "article.nlp()"
   ]
  },
  {
   "cell_type": "code",
   "execution_count": 5,
   "metadata": {},
   "outputs": [
    {
     "name": "stdout",
     "output_type": "stream",
     "text": [
      "Siddhartha, who later became known as the Buddha – or The Enlightened One – was a prince who forsook the comforts of a palace to seek enlightenment. He realised the essential unreality of the world and experienced the bliss of Nirvana. After his enlightenment, he spent the remainder of his life teaching others how to escape the endless cycle of birth and death.\n",
      "\n",
      "Daibutsu Buddha Kamakura, Japan\n",
      "\n",
      "Buddha was born approximately 400 BCE in the district of Lumbini, which is now modern-day Nepal, close to the Indian border. He was brought up in a palace with all the comforts and luxuries possible. Growing up a young noble prince, it is said his father sought to shield the young prince Siddhartha from the pain and suffering of the world. It is said his father had a premonition that Siddhartha would one day renounce the world.\n",
      "\n",
      "However, at one point in his early adult life, Siddhartha sought to find a greater meaning to life. In disguise, he left the palace and wandered around the kingdom. Here, Siddhartha came across different people suffering from old age and illness and witnessed death. This showed him the transitory nature of life, which had a great impact on him. As a consequence, Siddhartha resolved to seek a deeper meaning of life.\n",
      "\n",
      "Secretly, Siddhartha left the palace – leaving behind his wife, son and all the worldly comforts that he had enjoyed. He devoted himself to meditation, seeking enlightenment amongst the ascetics of the forest.\n",
      "\n",
      "In his intense quest for enlightenment, Siddhartha fasted excessively so his body wasted away; however, despite his great efforts enlightenment still remained a far cry. At one point, a passing woman gave him some food to eat and Siddhartha realised it was a mistake to seek enlightenment by torturing the body. He regained his strength and resolved to follow a ‘middle path’, avoiding excesses of both fasting and feasting.\n",
      "\n",
      "On one day, Siddhartha resolved to sit under a Bodhi tree until he attained enlightenment. For several days, he sat in meditation seeking Nirvana. He was tested by various forces which tried to prevent him realising the goal.\n",
      "\n",
      "However, Siddhartha was successful and entered into the blissful consciousness of Nirvana for several days. On returning to normal consciousness, Siddhartha the Buddha (Buddha means ‘enlightened one’) made the decision to spend the remainder of his life teaching others how to escape the inherent suffering of life.\n",
      "\n",
      "For many years, Buddha travelled around India, especially around the Ganges plain and in Nepal, teaching his philosophy of liberation. His teachings were transmitted orally and not written down until many years after his death.\n",
      "\n",
      "Many stories relate to the life of the Buddha in this teaching phase. His essential teachings were of love, compassion and tolerance. The Buddha taught that a seeker must have compassion for all living beings and this was the most important teaching. Although the Buddha disliked formal rules, a monastic following sprung up for those interested in following his path. He advocated strict celibacy for those wishing to follow his monastic path.\n",
      "\n",
      "The Buddha would often give talks on enlightenment, but on one occasion, he simply held up a flower and maintained silence. Many left not understanding the point, but when later questioned, the Buddha replied that his real teaching could only be understood in silence. Talks could only give limited intellectual information which was not real enlightenment.\n",
      "\n",
      "The Buddha sought to avoid deep philosophy, he avoided using the term God, preferring to talk about the practical way that a person may escape the cycle of birth and rebirth and attain enlightenment. Like many spiritual teachers, he often taught in parables to keep his teachings simple and practical.\n",
      "\n",
      "The Buddha attracted hostility from those jealous of his popularity and spiritual development. One of his own monks Devadatta later became jealous of the Buddha and sought to split the community. He even tried on three occasions to kill the Buddha, but on each occasion, he failed. The Buddha was a contemporary of Jain teacher Mahavira, but though they had great mutual respect, they did not physically meet.\n",
      "\n",
      "The Buddha passed away after many years of teaching and travelling throughout India. On his deathbed, he told Ananda (his dearest disciple) that he should now rely on his teachings and own ethical conduct to be the guide of his life.\n",
      "\n",
      "“For centuries the light of the Buddha has shone as a beacon beckoning men from across the sea of darkness. Like lost children, millions of seekers have reached out to the light with their heart’s inmost cry, and the Buddha has shown them the Way. The world stood before the Buddha with its ignorance, and the Buddha, the Enlightened One, gave man Truth. The world offered its age-old suffering to the Buddha’s heart and the Buddha, Lord of Compassion, showed man the Dharma.”\n",
      "\n",
      "– Sri Chinmoy\n",
      "\n",
      "Prince Siddhartha: The Story of Buddha\n",
      "\n",
      "Prince Siddhartha: The Story of Buddha at Amazon\n",
      "\n",
      "Citation: Pettinger, Tejvan. “Biography of Lord Buddha”, Oxford, UK – www.biographyonline.net. 19th May 2013. Updated 26 June 2017\n",
      "\n",
      "Teachings of the Buddha\n",
      "\n",
      "Some of the fundamentals of the teachings of Gautama Buddha are:\n",
      "\n",
      "* The Four Noble Truths: that suffering is an inherent part of existence; that the origin of suffering is ignorance and the main symptoms of that ignorance are attachment and craving; that attachment and craving can be ceased; and that following the Noble Eightfold Path will lead to the cessation of attachment and craving and therefore suffering.\n",
      "\n",
      "* The Noble Eightfold Path: right understanding, right thought, right speech, right action, right livelihood, right effort, right mindfulness, and right concentration.\n",
      "\n",
      "* Love. The Buddha stressed the importance of calming the mind and seeking the peace that each individual has within. With this inner peace, we can react to awkward situations with love, compassion and generosity.\n",
      "\n",
      "Conquer the angry man by love.\n",
      "\n",
      "Conquer the ill-natured man by goodness.\n",
      "\n",
      "Conquer the miser with generosity.\n",
      "\n",
      "Conquer the liar with truth.\n",
      "\n",
      "– The Dhammapada\n",
      "\n",
      "* Power of the Mind. The Buddha taught it is our own mind which creates our own suffering, but also we can use this power to create happiness.\n",
      "\n",
      "“Your worst enemy cannot harm you as much\n",
      "\n",
      "as your own unguarded thoughts.”\n",
      "\n",
      "– Lord Buddha\n",
      "\n",
      "“All that we are is the result of what we have thought.\n",
      "\n",
      "If a man speaks or acts with an evil thought, pain follows him.\n",
      "\n",
      "If a man speaks or acts with a pure thought, happiness follows him, like a shadow that never leaves him.”\n",
      "\n",
      "– Lord Buddha\n",
      "\n",
      "Related pages\n",
      "\n",
      "Spiritual figures – Famous saints, mystics and religious figures. Including Jesus Christ, The Buddha, Lord Krishna, St Teresa of Avila.\n",
      "\n",
      "Famous Religious leaders and founders – Key people who helped to found different religions and spiritual movements. Including Moses, Sri Krishna, Buddha, Jesus Christ, Muhammad and Guru Nanak.\n",
      "\n",
      "100 most influential people – A list of 100 most influential people as chosen by Michael H. Hast, from his book 100 most influential people in the world. Includes; Muhammad, Jesus Christ, Lord Buddha, Confucius, St Paul and Johann Gutenberg.\n",
      "\n",
      "Buddhist links\n"
     ]
    }
   ],
   "source": [
    "mytext=article.text\n",
    "print(mytext)"
   ]
  },
  {
   "cell_type": "code",
   "execution_count": 8,
   "metadata": {},
   "outputs": [],
   "source": [
    "voice=gTTS(text=mytext, lang=\"en\",slow=False)\n",
    "voice.save(\"Budhha.mp3\")"
   ]
  },
  {
   "cell_type": "code",
   "execution_count": 9,
   "metadata": {},
   "outputs": [
    {
     "data": {
      "text/plain": [
       "0"
      ]
     },
     "execution_count": 9,
     "metadata": {},
     "output_type": "execute_result"
    }
   ],
   "source": [
    "os.system('start Budhha.mp3')"
   ]
  },
  {
   "cell_type": "code",
   "execution_count": 10,
   "metadata": {},
   "outputs": [],
   "source": [
    "article2=Article(\"https://www.britannica.com/technology/artificial-intelligence/Reasoning\")\n",
    "article2.download()\n",
    "article2.parse()"
   ]
  },
  {
   "cell_type": "code",
   "execution_count": 11,
   "metadata": {},
   "outputs": [
    {
     "name": "stdout",
     "output_type": "stream",
     "text": [
      "Reasoning To reason is to draw inferences appropriate to the situation. Inferences are classified as either deductive or inductive. An example of the former is, “Fred must be in either the museum or the café. He is not in the café; therefore he is in the museum,” and of the latter, “Previous accidents of this sort were caused by instrument failure; therefore this accident was caused by instrument failure.” The most significant difference between these forms of reasoning is that in the deductive case the truth of the premises guarantees the truth of the conclusion, whereas in the inductive case the truth of the premise lends support to the conclusion without giving absolute assurance. Inductive reasoning is common in science, where data are collected and tentative models are developed to describe and predict future behaviour—until the appearance of anomalous data forces the model to be revised. Deductive reasoning is common in mathematics and logic, where elaborate structures of irrefutable theorems are built up from a small set of basic axioms and rules. There has been considerable success in programming computers to draw inferences, especially deductive inferences. However, true reasoning involves more than just drawing inferences; it involves drawing inferences relevant to the solution of the particular task or situation. This is one of the hardest problems confronting AI.\n",
      "\n",
      "Problem solving Problem solving, particularly in artificial intelligence, may be characterized as a systematic search through a range of possible actions in order to reach some predefined goal or solution. Problem-solving methods divide into special purpose and general purpose. A special-purpose method is tailor-made for a particular problem and often exploits very specific features of the situation in which the problem is embedded. In contrast, a general-purpose method is applicable to a wide variety of problems. One general-purpose technique used in AI is means-end analysis—a step-by-step, or incremental, reduction of the difference between the current state and the final goal. The program selects actions from a list of means—in the case of a simple robot this might consist of PICKUP, PUTDOWN, MOVEFORWARD, MOVEBACK, MOVELEFT, and MOVERIGHT—until the goal is reached. Many diverse problems have been solved by artificial intelligence programs. Some examples are finding the winning move (or sequence of moves) in a board game, devising mathematical proofs, and manipulating “virtual objects” in a computer-generated world.\n",
      "\n",
      "Perception In perception the environment is scanned by means of various sensory organs, real or artificial, and the scene is decomposed into separate objects in various spatial relationships. Analysis is complicated by the fact that an object may appear different depending on the angle from which it is viewed, the direction and intensity of illumination in the scene, and how much the object contrasts with the surrounding field. Observe the testing of micro-robots to sort out the better equipped and the more intelligent Overview of artificial intelligence. Contunico © ZDF Enterprises GmbH, Mainz See all videos for this article At present, artificial perception is sufficiently well advanced to enable optical sensors to identify individuals, autonomous vehicles to drive at moderate speeds on the open road, and robots to roam through buildings collecting empty soda cans. One of the earliest systems to integrate perception and action was FREDDY, a stationary robot with a moving television eye and a pincer hand, constructed at the University of Edinburgh, Scotland, during the period 1966–73 under the direction of Donald Michie. FREDDY was able to recognize a variety of objects and could be instructed to assemble simple artifacts, such as a toy car, from a random heap of components.\n"
     ]
    }
   ],
   "source": [
    "print(article2.text)"
   ]
  },
  {
   "cell_type": "code",
   "execution_count": 12,
   "metadata": {},
   "outputs": [
    {
     "name": "stdout",
     "output_type": "stream",
     "text": [
      "Reasoning To reason is to draw inferences appropriate to the situation. Inferences are classified as either deductive or inductive. An example of the former is, “Fred must be in either the museum or the café. He is not in the café; therefore he is in the museum,” and of the latter, “Previous accidents of this sort were caused by instrument failure; therefore this accident was caused by instrument failure.” The most significant difference between these forms of reasoning is that in the deductive case the truth of the premises guarantees the truth of the conclusion, whereas in the inductive case the truth of the premise lends support to the conclusion without giving absolute assurance. Inductive reasoning is common in science, where data are collected and tentative models are developed to describe and predict future behaviour—until the appearance of anomalous data forces the model to be revised. Deductive reasoning is common in mathematics and logic, where elaborate structures of irrefutable theorems are built up from a small set of basic axioms and rules. There has been considerable success in programming computers to draw inferences, especially deductive inferences. However, true reasoning involves more than just drawing inferences; it involves drawing inferences relevant to the solution of the particular task or situation. This is one of the hardest problems confronting AI.\n",
      "\n",
      "Problem solving Problem solving, particularly in artificial intelligence, may be characterized as a systematic search through a range of possible actions in order to reach some predefined goal or solution. Problem-solving methods divide into special purpose and general purpose. A special-purpose method is tailor-made for a particular problem and often exploits very specific features of the situation in which the problem is embedded. In contrast, a general-purpose method is applicable to a wide variety of problems. One general-purpose technique used in AI is means-end analysis—a step-by-step, or incremental, reduction of the difference between the current state and the final goal. The program selects actions from a list of means—in the case of a simple robot this might consist of PICKUP, PUTDOWN, MOVEFORWARD, MOVEBACK, MOVELEFT, and MOVERIGHT—until the goal is reached. Many diverse problems have been solved by artificial intelligence programs. Some examples are finding the winning move (or sequence of moves) in a board game, devising mathematical proofs, and manipulating “virtual objects” in a computer-generated world.\n",
      "\n",
      "Perception In perception the environment is scanned by means of various sensory organs, real or artificial, and the scene is decomposed into separate objects in various spatial relationships. Analysis is complicated by the fact that an object may appear different depending on the angle from which it is viewed, the direction and intensity of illumination in the scene, and how much the object contrasts with the surrounding field. Observe the testing of micro-robots to sort out the better equipped and the more intelligent Overview of artificial intelligence. Contunico © ZDF Enterprises GmbH, Mainz See all videos for this article At present, artificial perception is sufficiently well advanced to enable optical sensors to identify individuals, autonomous vehicles to drive at moderate speeds on the open road, and robots to roam through buildings collecting empty soda cans. One of the earliest systems to integrate perception and action was FREDDY, a stationary robot with a moving television eye and a pincer hand, constructed at the University of Edinburgh, Scotland, during the period 1966–73 under the direction of Donald Michie. FREDDY was able to recognize a variety of objects and could be instructed to assemble simple artifacts, such as a toy car, from a random heap of components.\n"
     ]
    }
   ],
   "source": [
    "article2.nlp()\n",
    "print(article2.text)\n"
   ]
  },
  {
   "cell_type": "code",
   "execution_count": 15,
   "metadata": {},
   "outputs": [],
   "source": [
    "ai_voice=gTTS(text=article2.text,lang='en',slow=False)\n",
    "ai_voice.save(\"AI.mp3\")"
   ]
  },
  {
   "cell_type": "code",
   "execution_count": 16,
   "metadata": {},
   "outputs": [
    {
     "data": {
      "text/plain": [
       "0"
      ]
     },
     "execution_count": 16,
     "metadata": {},
     "output_type": "execute_result"
    }
   ],
   "source": [
    "os.system(\"start AI.mp3\")"
   ]
  },
  {
   "cell_type": "code",
   "execution_count": 1,
   "metadata": {},
   "outputs": [],
   "source": []
  },
  {
   "cell_type": "code",
   "execution_count": 4,
   "metadata": {},
   "outputs": [
    {
     "name": "stdout",
     "output_type": "stream",
     "text": [
      "Translated(src=en, dest=hi, text=क्या हाल है, pronunciation=kya haal hai, extra_data=\"{'translat...\")\n",
      "क्या हाल है\n"
     ]
    }
   ],
   "source": [
    "translater=Translator()\n",
    "out=translater.translate(\"how are you\",dest=\"hi\")\n",
    "print(out)\n",
    "print(out.text)"
   ]
  },
  {
   "cell_type": "code",
   "execution_count": 5,
   "metadata": {},
   "outputs": [
    {
     "name": "stdout",
     "output_type": "stream",
     "text": [
      "क्या हाल है\n"
     ]
    }
   ],
   "source": [
    "print(out.text)"
   ]
  },
  {
   "cell_type": "code",
   "execution_count": 15,
   "metadata": {},
   "outputs": [
    {
     "data": {
      "text/plain": [
       "0"
      ]
     },
     "execution_count": 15,
     "metadata": {},
     "output_type": "execute_result"
    }
   ],
   "source": [
    "article=Article('https://www.biographyonline.net/spiritual/buddha.html#:~:text=Buddha%20was%20born%20approximately%20400%20BCE%20in%20the,from%20the%20pain%20and%20suffering%20of%20the%20world.')\n",
    "article.download()\n",
    "article.parse()\n",
    "article.nlp()\n",
    "hindi=translater.translate(article.text,dest=\"hi\")\n",
    "voice=gTTS(text=hindi.text)\n",
    "voice.save(\"try.mp3\")\n",
    "os.system(\"start try.mp3\")"
   ]
  },
  {
   "cell_type": "code",
   "execution_count": 2,
   "metadata": {},
   "outputs": [],
   "source": [
    "article=Article(\"https://economictimes.indiatimes.com/news/economy/policy/view-artificial-intelligence-for-inclusive-growth/articleshow/78566916.cms?from=mdr\")\n",
    "article.download()\n",
    "article.parse()"
   ]
  },
  {
   "cell_type": "code",
   "execution_count": 3,
   "metadata": {},
   "outputs": [
    {
     "name": "stdout",
     "output_type": "stream",
     "text": [
      "The use of automation was one of the trends that were accelerated by the pandemic. The adoption of Artificial Intelligence (AI) is not limited to businesses, but economies have also turned their focus on building up their AI capabilities as a means to augment growth. Developed economies like the US, China and EU countries are already in the race. Now, India too is set to join them. In the last couple of years, the Government of India established a Task Force on Artificial Intelligence and mandated the NITI Aayog to prepare a National strategy on AI with a view to leverage AI for inclusive growth. However, AI adoption remained at a nascent stage in India. India's first Artificial Intelligence summit, Responsible AI for Social Empowerment (RAISE) 2020 has turned the possibility of AI adoption into an imminent reality.Amidst the accelerated adoption of AI-based technologies, India seems to stand at the precipice of the fourth industrial revolution. The competitive advantage of low-cost labour may fade away in the near future as economies begin to reap the benefits of AI in the form of increased productivity and cost advantages, and become more profitable than labour. Hence, it would be a timely move for India to build its AI capabilities, lest the global digital divide widens even more and we are left behind.The report titled “Rewire for Growth” by Accenture estimates that AI has the potential to add $957 billion to India’s economy in 2035. As the post-Covid economy begins to rebuild itself, AI will present an opportunity to leapfrog by opening up newer sources of value and growth, beyond the physical limitations of capital and labour. However, AI elicits excitement and apprehension in equal measures. As much as AI and machine learning (ML) hold immense possibilities for the future of economy, there are a number of issues and apprehensions surrounding it, and one of them is job displacement and by extension, unequal growth.The skill-biased technological changes in the past have been assumed to be the cause for rising wage inequality. Contrary to this assumption, technological advancements have proven to be beneficial for everyone in the long-run. Since the first industrial revolution and up to the advancement in the information technology now, the world has only stood to gain more. AI is only one of the many phenomena that have disrupted economies and the way we work. according to experts, AI, like any other new technology in the past, will create more jobs than it destroys. Since we look at employment from the narrow confines of existing jobs, it limits our understanding of the extent of impact that AI can have in generating employment.Moreover, AI will penetrate more broadly because of the ML processes, wherein systems progressively learn and improve their performance with time. Thus, government interventions as well as private sector innovations will be instrumental in steering AI to create equitable growth. While there are positive cascading effects to realise in the future, the past technological changes show that newer technologies are often accessible only to the wealthy. The past couple of decades have also showed that innovation can democratise the access of such newer technologies. The mobile phone and the internet are two examples of such technological advancements whose cost went down enough to reach the larger population. The continued innovation by businesses made it possible to lower the cost of these entities that were once considered a luxury, and India was able to usher a digital revolution.Nevertheless, initial adoption of a technology has its sets of challenges, and more so for the developing economies. The limited access to the select few can widen the income inequality, and the transformation phase of adoption is likely to replace some jobs before it generates them. In a developing economy like India that has an overflowing labour market coupled with unemployment, the transition could become particularly difficult. While historically, newer technologies have proven to be beneficial in the long-run, the short-term losses cannot be justified. The onus however lies on the policies rather than the technology. Governments in the past could not anticipate the comprehensive impact of technological revolutions, but the GoI’s focus on responsible AI should allay such fears with respect to governance.AI is one of the many tools that can be used to either bridge the inequalities or create more. To achieve the former, the right policy approach and business practices at the outset are crucial for cushioning the negative externalities. Hence, a collaborative approach is the first step to realise the vision of AI-driven equitable growth. The knowledge gap could become the biggest impediment for designing policies for the futures, and therefore, the government, the industry and the academia are three spheres that need to work synergistically to bridge that knowledge gap. With technologies progressing much faster than they used to in the last century coupled with the pandemic-induced threats to the economy, the policymakers cannot design policies fast enough unless an AI ecosystem is built with the industry and academia as vital partners.The collaborative efforts are the key to accelerate technology diffusion by promoting innovations that democratise the access of new technologies, enhancing research and development in AI that address the issues of data protection, transparency and accountability so that it gains public trust and encourages greater investment. With greater inclusion of stakeholders and greater diversity at each step of building an AI ecosystem, India can look to reap the gains of automation in not only the long-run, but also the short-run.Amit Kapoor is chair, Institute for Competitiveness, India and visiting scholar, Stanford University. Harshula Sinha is researcher, Institute for Competitiveness, India.\n"
     ]
    }
   ],
   "source": [
    "print(article.text)"
   ]
  },
  {
   "cell_type": "code",
   "execution_count": 20,
   "metadata": {},
   "outputs": [],
   "source": [
    "\n",
    "def voice_hindi(article):\n",
    "    article.download()\n",
    "    article.parse()\n",
    "    article.nlp()\n",
    "    translator=Translator()\n",
    "    hindi=translator.translate(article.text,dest=\"hi\")\n",
    "    voice=gTTS(text=hindi.text)\n",
    "    voice.save(\"eco2.mp3\")"
   ]
  },
  {
   "cell_type": "code",
   "execution_count": 21,
   "metadata": {},
   "outputs": [],
   "source": [
    "article=Article(\"https://economictimes.indiatimes.com/news/economy/policy/view-artificial-intelligence-for-inclusive-growth/articleshow/78566916.cms?from=mdr\")\n",
    "voice_hindi(article)"
   ]
  },
  {
   "cell_type": "code",
   "execution_count": 2,
   "metadata": {},
   "outputs": [
    {
     "data": {
      "text/plain": [
       "0"
      ]
     },
     "execution_count": 2,
     "metadata": {},
     "output_type": "execute_result"
    }
   ],
   "source": [
    "os.system(\"start eco2.mp3\")"
   ]
  },
  {
   "cell_type": "code",
   "execution_count": 6,
   "metadata": {},
   "outputs": [
    {
     "name": "stdout",
     "output_type": "stream",
     "text": [
      "Cookies must be enabled in your browser\n"
     ]
    }
   ],
   "source": [
    "article2=Article(\"http://45.116.207.209/moodle/pluginfile.php/11211/mod_resource/content/0/Evangelism%20Marketing%20Article.pdf\")\n",
    "article2.download()\n",
    "article2.parse()\n",
    "article2.nlp()\n",
    "print(article2.text)"
   ]
  },
  {
   "cell_type": "code",
   "execution_count": 56,
   "metadata": {},
   "outputs": [],
   "source": [
    "def voice(article,save_name,language):\n",
    "    article.download()\n",
    "    article.parse()\n",
    "    article.nlp()\n",
    "    save=save_name+\".mp3\"\n",
    "    language=language.lower()\n",
    "    if language==\"english\":\n",
    "        voice=gTTS(text=article.text,lang=\"en\")\n",
    "        voice.save(\"save_name.mp3\")\n",
    "        print(\"Succces\")\n",
    "    elif language==\"hindi\":\n",
    "        translator=Translator()\n",
    "        hindi=translator.translate(article.text,dest=\"hi\")\n",
    "        voice=gTTS(text=hindi.text)\n",
    "        voice.save(save)\n",
    "        print(\"Sucess\")\n",
    "    else:\n",
    "        print(\"Does not Support language Conversion\")\n",
    "    "
   ]
  },
  {
   "cell_type": "code",
   "execution_count": 60,
   "metadata": {},
   "outputs": [
    {
     "name": "stdout",
     "output_type": "stream",
     "text": [
      "Sucess\n"
     ]
    }
   ],
   "source": [
    "\n",
    "voice(article2,'abc','Hindi')"
   ]
  },
  {
   "cell_type": "code",
   "execution_count": 61,
   "metadata": {},
   "outputs": [
    {
     "data": {
      "text/plain": [
       "0"
      ]
     },
     "execution_count": 61,
     "metadata": {},
     "output_type": "execute_result"
    }
   ],
   "source": [
    "os.system(\"start abc.mp3\")"
   ]
  },
  {
   "cell_type": "code",
   "execution_count": 62,
   "metadata": {},
   "outputs": [
    {
     "name": "stdout",
     "output_type": "stream",
     "text": [
      "Does not Support language Conversion\n"
     ]
    }
   ],
   "source": [
    "voice(article2,'abc','Bindi')"
   ]
  },
  {
   "cell_type": "code",
   "execution_count": null,
   "metadata": {},
   "outputs": [],
   "source": []
  },
  {
   "cell_type": "code",
   "execution_count": null,
   "metadata": {},
   "outputs": [],
   "source": []
  }
 ],
 "metadata": {
  "kernelspec": {
   "display_name": "Python 3",
   "language": "python",
   "name": "python3"
  },
  "language_info": {
   "codemirror_mode": {
    "name": "ipython",
    "version": 3
   },
   "file_extension": ".py",
   "mimetype": "text/x-python",
   "name": "python",
   "nbconvert_exporter": "python",
   "pygments_lexer": "ipython3",
   "version": "3.8.3"
  }
 },
 "nbformat": 4,
 "nbformat_minor": 4
}
