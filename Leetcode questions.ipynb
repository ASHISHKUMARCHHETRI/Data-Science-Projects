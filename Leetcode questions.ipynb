{
 "cells": [
  {
   "cell_type": "markdown",
   "metadata": {},
   "source": [
    "### LeetCode"
   ]
  },
  {
   "cell_type": "code",
   "execution_count": 2,
   "metadata": {},
   "outputs": [
    {
     "ename": "SyntaxError",
     "evalue": "invalid syntax (<ipython-input-2-7045b2b8f31e>, line 1)",
     "output_type": "error",
     "traceback": [
      "\u001b[1;36m  File \u001b[1;32m\"<ipython-input-2-7045b2b8f31e>\"\u001b[1;36m, line \u001b[1;32m1\u001b[0m\n\u001b[1;33m    Given an array of integers nums and an integer target, return indices of the two numbers such that they add up to target.\u001b[0m\n\u001b[1;37m          ^\u001b[0m\n\u001b[1;31mSyntaxError\u001b[0m\u001b[1;31m:\u001b[0m invalid syntax\n"
     ]
    }
   ],
   "source": [
    "Given an array of integers nums and an integer target, return indices of the two numbers such that they add up to target.\n",
    "\n",
    "You may assume that each input would have exactly one solution, and you may not use the same element twice.\n",
    "\n",
    "You can return the answer in any order.\n",
    "\n",
    "Example 1:\n",
    "\n",
    "Input: nums = [2,7,11,15], target = 9\n",
    "Output: [0,1]\n",
    "Output: Because nums[0] + nums[1] == 9, we return [0, 1].\n",
    "Example 2:\n",
    "\n",
    "Input: nums = [3,2,4], target = 6\n",
    "Output: [1,2]\n",
    "Example 3:\n",
    "\n",
    "Input: nums = [3,3], target = 6\n",
    "Output: [0,1]"
   ]
  },
  {
   "cell_type": "code",
   "execution_count": 8,
   "metadata": {},
   "outputs": [],
   "source": [
    "from typing import Optional\n",
    "def twoSum(nums: list, target: int):\n",
    "    d = {}\n",
    "    for i in range(len(nums)):\n",
    "        if nums[i] in d: return [i, d[nums[i]]]\n",
    "        d[target - nums[i]] = i\n"
   ]
  },
  {
   "cell_type": "code",
   "execution_count": 63,
   "metadata": {},
   "outputs": [],
   "source": [
    "def twoSum(nums:list,target:int):\n",
    "    d={}\n",
    "    for i in range(len(nums)):\n",
    "        if nums[i] in d:\n",
    "            return [i,d[nums[i]]]\n",
    "        else:\n",
    "            return [i,d[nums[i]]]\n",
    "        d[target-nums[i]]=i"
   ]
  },
  {
   "cell_type": "code",
   "execution_count": 65,
   "metadata": {},
   "outputs": [
    {
     "ename": "SyntaxError",
     "evalue": "'return' outside function (<ipython-input-65-b83996a96792>, line 5)",
     "output_type": "error",
     "traceback": [
      "\u001b[1;36m  File \u001b[1;32m\"<ipython-input-65-b83996a96792>\"\u001b[1;36m, line \u001b[1;32m5\u001b[0m\n\u001b[1;33m    return [i,d]\u001b[0m\n\u001b[1;37m    ^\u001b[0m\n\u001b[1;31mSyntaxError\u001b[0m\u001b[1;31m:\u001b[0m 'return' outside function\n"
     ]
    }
   ],
   "source": [
    "d={2,7,11,15}\n",
    "a=[i for i in range(10) if i%2==0]\n",
    "for i in range(len(a)):\n",
    "    if a[i] in d:\n",
    "        "
   ]
  },
  {
   "cell_type": "code",
   "execution_count": null,
   "metadata": {},
   "outputs": [],
   "source": [
    "# sol 2\n",
    "def sum_target(arr,target):\n",
    "    sol=[]\n",
    "    for i in range(0,len(arr)-1):\n",
    "        for j in range(i+1,len(arr)):\n",
    "            if arr[i]+arr[j]==target:\n",
    "                sol.append([i,j])\n",
    "                break\n",
    "    sol=[i for i in sol[0]]\n",
    "    return sol"
   ]
  },
  {
   "cell_type": "code",
   "execution_count": null,
   "metadata": {},
   "outputs": [],
   "source": [
    "sum_target([3,3],6)"
   ]
  },
  {
   "cell_type": "code",
   "execution_count": null,
   "metadata": {},
   "outputs": [],
   "source": [
    "sum_target([3,2,4],6)"
   ]
  },
  {
   "cell_type": "markdown",
   "metadata": {},
   "source": [
    "### Reverse Integer"
   ]
  },
  {
   "cell_type": "code",
   "execution_count": null,
   "metadata": {},
   "outputs": [],
   "source": [
    "7. Reverse Integer\n",
    "Easy\n",
    "Add to List\n",
    "\n",
    "Share\n",
    "Given a signed 32-bit integer x, return x with its digits reversed. If reversing x causes the value to go outside the\n",
    "signed 32-bit integer range [-231, 231 - 1], then return 0.\n",
    "\n",
    "Assume the environment does not allow you to store 64-bit integers (signed or unsigned)."
   ]
  },
  {
   "cell_type": "code",
   "execution_count": 25,
   "metadata": {},
   "outputs": [
    {
     "name": "stdout",
     "output_type": "stream",
     "text": [
      "0\n"
     ]
    }
   ],
   "source": [
    "a=1534236469\n",
    "r=list(reversed(str(a)))\n",
    "if r[-1]=='-':\n",
    "    r.pop()\n",
    "    s=-int(\"\".join(r))\n",
    "else:\n",
    "    s=int(\"\".join(r))\n",
    "\n",
    "if s>2147483647 or s<-2147483648:\n",
    "    print(0)\n",
    "else:\n",
    "    print(s)\n"
   ]
  },
  {
   "cell_type": "code",
   "execution_count": 108,
   "metadata": {},
   "outputs": [
    {
     "data": {
      "text/plain": [
       "2147483647"
      ]
     },
     "execution_count": 108,
     "metadata": {},
     "output_type": "execute_result"
    }
   ],
   "source": [
    "2**31-1"
   ]
  },
  {
   "cell_type": "code",
   "execution_count": null,
   "metadata": {},
   "outputs": [],
   "source": [
    "-2147483648"
   ]
  },
  {
   "cell_type": "code",
   "execution_count": null,
   "metadata": {},
   "outputs": [],
   "source": []
  },
  {
   "cell_type": "code",
   "execution_count": 47,
   "metadata": {},
   "outputs": [
    {
     "data": {
      "text/plain": [
       "[0, 1]"
      ]
     },
     "execution_count": 47,
     "metadata": {},
     "output_type": "execute_result"
    }
   ],
   "source": [
    "list(reversed(twoSum([2,7,5,11],9)))"
   ]
  },
  {
   "cell_type": "code",
   "execution_count": 43,
   "metadata": {},
   "outputs": [],
   "source": [
    "# sol 2\n",
    "def sum_target(arr,target):\n",
    "    sol=[]\n",
    "    for i in range(0,len(arr)-1):\n",
    "        for j in range(i+1,len(arr)):\n",
    "            if arr[i]+arr[j]==target:\n",
    "                sol.append([i,j])\n",
    "                break\n",
    "    sol=[i for i in sol[0]]\n",
    "    return sol"
   ]
  },
  {
   "cell_type": "code",
   "execution_count": 44,
   "metadata": {},
   "outputs": [
    {
     "data": {
      "text/plain": [
       "[0, 1]"
      ]
     },
     "execution_count": 44,
     "metadata": {},
     "output_type": "execute_result"
    }
   ],
   "source": [
    "sum_target([3,3],6)"
   ]
  },
  {
   "cell_type": "code",
   "execution_count": 45,
   "metadata": {},
   "outputs": [
    {
     "data": {
      "text/plain": [
       "[1, 2]"
      ]
     },
     "execution_count": 45,
     "metadata": {},
     "output_type": "execute_result"
    }
   ],
   "source": [
    "sum_target([3,2,4],6)"
   ]
  },
  {
   "cell_type": "code",
   "execution_count": 117,
   "metadata": {},
   "outputs": [
    {
     "data": {
      "text/plain": [
       "'abc'"
      ]
     },
     "execution_count": 117,
     "metadata": {},
     "output_type": "execute_result"
    }
   ],
   "source": [
    "a=['a','b','c']\n",
    "\"\".join(a)"
   ]
  },
  {
   "cell_type": "code",
   "execution_count": 121,
   "metadata": {},
   "outputs": [
    {
     "data": {
      "text/plain": [
       "{'a', 'b'}"
      ]
     },
     "execution_count": 121,
     "metadata": {},
     "output_type": "execute_result"
    }
   ],
   "source": [
    "b=['a','b']\n",
    "c=set(a).intersection(b)\n",
    "c"
   ]
  },
  {
   "cell_type": "code",
   "execution_count": 123,
   "metadata": {},
   "outputs": [
    {
     "name": "stdout",
     "output_type": "stream",
     "text": [
      "a\n",
      ",\n",
      "b\n",
      ",\n",
      "c\n",
      ",\n",
      "d\n",
      ",\n",
      "e\n"
     ]
    }
   ],
   "source": [
    "a='abcde'\n",
    "a=\",\".join(a)\n",
    "for i in a:\n",
    "    print(i)"
   ]
  },
  {
   "cell_type": "code",
   "execution_count": 135,
   "metadata": {},
   "outputs": [
    {
     "name": "stdout",
     "output_type": "stream",
     "text": [
      "zero r\n",
      "r\n",
      "one e\n",
      "e\n",
      "two z\n"
     ]
    }
   ],
   "source": [
    "d=['zero','one','two']\n",
    "s='rez'\n",
    "for i,j in zip(d,s):\n",
    "    print(i,j)\n",
    "    if j in i:\n",
    "        print(j)\n",
    "        "
   ]
  },
  {
   "cell_type": "markdown",
   "metadata": {},
   "source": [
    "### Power of Two"
   ]
  },
  {
   "cell_type": "code",
   "execution_count": null,
   "metadata": {},
   "outputs": [],
   "source": [
    "Given an integer n, return true if it is a power of two. Otherwise, return false.\n",
    "\n",
    "An integer n is a power of two, if there exists an integer x such that n == 2x.\n",
    "\n",
    " \n",
    "\n",
    "Example 1:\n",
    "\n",
    "Input: n = 1\n",
    "Output: true\n",
    "Explanation: 20 = 1\n",
    "Example 2:\n",
    "\n",
    "Input: n = 16\n",
    "Output: true\n",
    "Explanation: 24 = 16\n",
    "Example 3:\n",
    "\n",
    "Input: n = 3\n",
    "Output: false\n",
    "Example 4:\n",
    "\n",
    "Input: n = 4\n",
    "Output: true\n",
    "Example 5:\n",
    "\n",
    "Input: n = 5\n",
    "Output: false"
   ]
  },
  {
   "cell_type": "code",
   "execution_count": 31,
   "metadata": {},
   "outputs": [],
   "source": [
    "n=16\n",
    "def pow_two(n):\n",
    "    for i in range(int(n/2)):\n",
    "        a=[]\n",
    "        n=n/2\n",
    "        if n==1:\n",
    "            a.append(True)\n",
    "            break\n",
    "        else:\n",
    "            a.append(False)\n",
    "    return a[-1]\n",
    "    "
   ]
  },
  {
   "cell_type": "code",
   "execution_count": 72,
   "metadata": {},
   "outputs": [],
   "source": []
  },
  {
   "cell_type": "code",
   "execution_count": 73,
   "metadata": {},
   "outputs": [
    {
     "name": "stdout",
     "output_type": "stream",
     "text": [
      "3\n",
      "1\n"
     ]
    },
    {
     "data": {
      "text/plain": [
       "True"
      ]
     },
     "execution_count": 73,
     "metadata": {},
     "output_type": "execute_result"
    }
   ],
   "source": [
    "pow_two(7)"
   ]
  },
  {
   "cell_type": "code",
   "execution_count": 20,
   "metadata": {},
   "outputs": [
    {
     "data": {
      "text/plain": [
       "3"
      ]
     },
     "execution_count": 20,
     "metadata": {},
     "output_type": "execute_result"
    }
   ],
   "source": [
    "n=11//3\n",
    "n"
   ]
  },
  {
   "cell_type": "markdown",
   "metadata": {},
   "source": [
    "### Reconstruct Original Digits from English"
   ]
  },
  {
   "cell_type": "code",
   "execution_count": null,
   "metadata": {},
   "outputs": [],
   "source": [
    "Given a string s containing an out-of-order English representation of digits 0-9, return the digits in ascending order.\n",
    "Example 1:\n",
    "\n",
    "Input: s = \"owoztneoer\"\n",
    "Output: \"012\"\n",
    "Example 2:\n",
    "\n",
    "Input: s = \"fviefuro\"\n",
    "Output: \"45\""
   ]
  },
  {
   "cell_type": "markdown",
   "metadata": {},
   "source": [
    "### Longest Common Prefix Easy"
   ]
  },
  {
   "cell_type": "code",
   "execution_count": null,
   "metadata": {},
   "outputs": [],
   "source": [
    "Write a function to find the longest common prefix string amongst an array of strings.\n",
    "\n",
    "If there is no common prefix, return an empty string \"\".\n",
    "\n",
    " \n",
    "\n",
    "Example 1:\n",
    "\n",
    "Input: strs = [\"flower\",\"flow\",\"flight\"]\n",
    "Output: \"fl\"\n",
    "Example 2:\n",
    "\n",
    "Input: strs = [\"dog\",\"racecar\",\"car\"]\n",
    "Output: \"\"\n",
    "Explanation: There is no common prefix among the input strings."
   ]
  },
  {
   "cell_type": "code",
   "execution_count": 5,
   "metadata": {},
   "outputs": [
    {
     "data": {
      "text/plain": [
       "'flower'"
      ]
     },
     "execution_count": 5,
     "metadata": {},
     "output_type": "execute_result"
    }
   ],
   "source": [
    "st=['flower','flow','flight']\n",
    "m=max(st)\n",
    "m\n"
   ]
  },
  {
   "cell_type": "code",
   "execution_count": 8,
   "metadata": {},
   "outputs": [
    {
     "data": {
      "text/plain": [
       "['()[]']"
      ]
     },
     "execution_count": 8,
     "metadata": {},
     "output_type": "execute_result"
    }
   ],
   "source": [
    "a=[\"(]\"]\n",
    "b=\"()[]\"\n",
    "b.split()"
   ]
  },
  {
   "cell_type": "markdown",
   "metadata": {},
   "source": [
    "### Valid Parentheses"
   ]
  },
  {
   "cell_type": "code",
   "execution_count": null,
   "metadata": {},
   "outputs": [],
   "source": [
    "Given a string s containing just the characters '(', ')', '{', '}', '[' and ']', determine if the input string is valid.\n",
    "\n",
    "An input string is valid if:\n",
    "\n",
    "Open brackets must be closed by the same type of brackets.\n",
    "Open brackets must be closed in the correct order.\n",
    " \n",
    "\n",
    "Example 1:\n",
    "\n",
    "Input: s = \"()\"\n",
    "Output: true\n",
    "Example 2:\n",
    "\n",
    "Input: s = \"()[]{}\"\n",
    "Output: true\n",
    "Example 3:\n",
    "\n",
    "Input: s = \"(]\"\n",
    "Output: false\n",
    "Example 4:\n",
    "\n",
    "Input: s = \"([)]\"\n",
    "Output: false\n",
    "Example 5:\n",
    "\n",
    "Input: s = \"{[]}\"\n",
    "Output: true"
   ]
  },
  {
   "cell_type": "code",
   "execution_count": 15,
   "metadata": {},
   "outputs": [],
   "source": [
    "s=\"{[]\"\n",
    "class Solution:\n",
    "    \n",
    "    def __init__(self,s):\n",
    "        self.s=s\n",
    "    \n",
    "    def parenthesis_match(self):\n",
    "        stack=[]\n",
    "        for char in s:\n",
    "            if char in ['(','[','{']:\n",
    "                stack.append(char)\n",
    "            else:\n",
    "                if not stack:\n",
    "                    return False\n",
    "                current_char = stack.pop()\n",
    "                if current_char == '(':\n",
    "                    if char != \")\":\n",
    "                        return False\n",
    "                if current_char == '{':\n",
    "                    if char != \"}\":\n",
    "                        return False\n",
    "                if current_char == '[':\n",
    "                    if char != \"]\":\n",
    "                        return False\n",
    "        if stack:\n",
    "            return False\n",
    "        return True    "
   ]
  },
  {
   "cell_type": "code",
   "execution_count": 16,
   "metadata": {},
   "outputs": [
    {
     "data": {
      "text/plain": [
       "False"
      ]
     },
     "execution_count": 16,
     "metadata": {},
     "output_type": "execute_result"
    }
   ],
   "source": [
    "obj=Solution(s)\n",
    "obj.parenthesis_match()  "
   ]
  },
  {
   "cell_type": "markdown",
   "metadata": {},
   "source": [
    "### Merge two sorted list"
   ]
  },
  {
   "cell_type": "code",
   "execution_count": null,
   "metadata": {},
   "outputs": [],
   "source": [
    "Merge two sorted linked lists and return it as a sorted list. The list should be made by splicing together the nodes of\n",
    "the first two lists.\n",
    "Input: l1 = [1,2,4], l2 = [1,3,4]\n",
    "Output: [1,1,2,3,4,4]\n",
    "Example 2:\n",
    "\n",
    "Input: l1 = [], l2 = []\n",
    "Output: []\n",
    "Example 3:\n",
    "\n",
    "Input: l1 = [], l2 = [0]\n",
    "Output: [0]\n",
    "\n",
    "126\n",
    "\n",
    "Multiple if's means your code would go and check all the if conditions, where as in case of elif, if one if condition \n",
    "satisfies it would not check other conditions.."
   ]
  },
  {
   "cell_type": "code",
   "execution_count": 7,
   "metadata": {},
   "outputs": [],
   "source": [
    "def merge(l1,l2):\n",
    "    arr=[]\n",
    "    if len(l1)==0 and len(l2)==0:\n",
    "        return []\n",
    "\n",
    "    elif len(l1)==0 and len(l2)!=0:\n",
    "        return l2\n",
    "\n",
    "    elif len(l2)==0 and len(l1)!=0:\n",
    "        return l1\n",
    "\n",
    "    else:\n",
    "        for i in range(len(l1)):\n",
    "            arr.append(l1[i])\n",
    "            arr.append(l2[i])\n",
    "        return arr"
   ]
  },
  {
   "cell_type": "code",
   "execution_count": 8,
   "metadata": {},
   "outputs": [
    {
     "data": {
      "text/plain": [
       "[1, 1, 2, 3, 4, 4]"
      ]
     },
     "execution_count": 8,
     "metadata": {},
     "output_type": "execute_result"
    }
   ],
   "source": [
    "merge([1,2,4],[1,3,4])"
   ]
  },
  {
   "cell_type": "code",
   "execution_count": 9,
   "metadata": {},
   "outputs": [],
   "source": [
    "# For linked list"
   ]
  },
  {
   "cell_type": "code",
   "execution_count": 10,
   "metadata": {},
   "outputs": [
    {
     "data": {
      "text/plain": [
       "4321"
      ]
     },
     "execution_count": 10,
     "metadata": {},
     "output_type": "execute_result"
    }
   ],
   "source": [
    "a=1234\n",
    "r=list(reversed(str(a)))\n",
    "r=\"\".join(r)\n",
    "int(r)"
   ]
  },
  {
   "cell_type": "code",
   "execution_count": 21,
   "metadata": {},
   "outputs": [
    {
     "data": {
      "text/plain": [
       "[1, 2, 3]"
      ]
     },
     "execution_count": 21,
     "metadata": {},
     "output_type": "execute_result"
    }
   ],
   "source": [
    "a=[1,2,3,2,1,2,3]\n",
    "list(set(a))"
   ]
  },
  {
   "cell_type": "code",
   "execution_count": 22,
   "metadata": {},
   "outputs": [
    {
     "data": {
      "text/plain": [
       "[1, 2, 3, 2, 1, 2, 3, '_']"
      ]
     },
     "execution_count": 22,
     "metadata": {},
     "output_type": "execute_result"
    }
   ],
   "source": [
    "a.append(\"_\")\n",
    "a"
   ]
  },
  {
   "cell_type": "markdown",
   "metadata": {},
   "source": [
    "### Plus one"
   ]
  },
  {
   "cell_type": "code",
   "execution_count": null,
   "metadata": {},
   "outputs": [],
   "source": [
    "Given a non-empty array of decimal digits representing a non-negative integer, increment one to the integer.\n",
    "\n",
    "The digits are stored such that the most significant digit is at the head of the list, and each element in the array\n",
    "contains a single digit.\n",
    "\n",
    "You may assume the integer does not contain any leading zero, except the number 0 itself."
   ]
  },
  {
   "cell_type": "code",
   "execution_count": null,
   "metadata": {},
   "outputs": [],
   "source": [
    "arr=[]\n",
    "        for i in range(len(digits)):\n",
    "            arr.append(digits[i]*(10**(len(digits)-i-1)))\n",
    "        arr=sum(arr)+1\n",
    "        result=[]\n",
    "        for i in str(arr):\n",
    "            result.append(int(i))\n",
    "        return result"
   ]
  },
  {
   "cell_type": "markdown",
   "metadata": {},
   "source": [
    "### Add Binary"
   ]
  },
  {
   "cell_type": "code",
   "execution_count": null,
   "metadata": {},
   "outputs": [],
   "source": [
    "Add to List\n",
    "\n",
    "Share\n",
    "Given two binary strings a and b, return their sum as a binary string.\n",
    "\n",
    " \n",
    "\n",
    "Example 1:\n",
    "\n",
    "Input: a = \"11\", b = \"1\"\n",
    "Output: \"100\"\n",
    "Example 2:\n",
    "\n",
    "Input: a = \"1010\", b = \"1011\"\n",
    "Output: \"10101\""
   ]
  },
  {
   "cell_type": "code",
   "execution_count": 29,
   "metadata": {},
   "outputs": [],
   "source": [
    "a = \"11\"\n",
    "b = \"1\""
   ]
  },
  {
   "cell_type": "code",
   "execution_count": 34,
   "metadata": {},
   "outputs": [
    {
     "data": {
      "text/plain": [
       "'100'"
      ]
     },
     "execution_count": 34,
     "metadata": {},
     "output_type": "execute_result"
    }
   ],
   "source": [
    "sm=int(a,2)+int(b,2)\n",
    "r=bin(sm)\n",
    "r[2:]"
   ]
  },
  {
   "cell_type": "code",
   "execution_count": 55,
   "metadata": {},
   "outputs": [
    {
     "name": "stdout",
     "output_type": "stream",
     "text": [
      "010\n"
     ]
    }
   ],
   "source": [
    "max_length=max(len(a),len(b))\n",
    "a=a.zfill(max_length)\n",
    "b=b.zfill(max_length)\n",
    "result=\"\"\n",
    "carry=0\n",
    "for i in range(max_length-1,-1,-1):\n",
    "    r=carry\n",
    "    r += 1 if a[i] == '1' else 0\n",
    "    r += 1 if b[i] == '1' else 0\n",
    "    result = ('1' if r % 2 == 1 else '0') + result\n",
    "if carry != 0:\n",
    "    result = '1' + result\n",
    "print(result.zfill(max_length))"
   ]
  },
  {
   "cell_type": "markdown",
   "metadata": {},
   "source": [
    "### Climbing Stairs"
   ]
  },
  {
   "cell_type": "code",
   "execution_count": null,
   "metadata": {},
   "outputs": [],
   "source": [
    "You are climbing a staircase. It takes n steps to reach the top.\n",
    "\n",
    "Each time you can either climb 1 or 2 steps. In how many distinct ways can you climb to the top?\n",
    "\n",
    "Example 1:\n",
    "\n",
    "Input: n = 2\n",
    "Output: 2\n",
    "Explanation: There are two ways to climb to the top.\n",
    "1. 1 step + 1 step\n",
    "2. 2 steps\n",
    "Example 2:\n",
    "\n",
    "Input: n = 3\n",
    "Output: 3\n",
    "Explanation: There are three ways to climb to the top.\n",
    "1. 1 step + 1 step + 1 step\n",
    "2. 1 step + 2 steps\n",
    "3. 2 steps + 1 step"
   ]
  },
  {
   "cell_type": "code",
   "execution_count": 13,
   "metadata": {},
   "outputs": [
    {
     "name": "stdout",
     "output_type": "stream",
     "text": [
      "Number of ways = 1\n"
     ]
    }
   ],
   "source": [
    "def countWays(n, m):\n",
    "     \n",
    "    temp = 0\n",
    "    res = [1]\n",
    "     \n",
    "    for i in range(1, n + 1):\n",
    "        s = i - m - 1\n",
    "        e = i - 1\n",
    "        if (s >= 0):\n",
    "            temp -= res[s]\n",
    "        temp += res[e]\n",
    "        res.append(temp)\n",
    "         \n",
    "    return res[n]\n",
    " \n",
    "# Driver Code\n",
    "n = 5\n",
    "m = 3\n",
    " \n",
    "print('Number of ways =', countWays(1, 2))"
   ]
  },
  {
   "cell_type": "markdown",
   "metadata": {},
   "source": [
    "### Merge Sorted Array"
   ]
  },
  {
   "cell_type": "code",
   "execution_count": null,
   "metadata": {},
   "outputs": [],
   "source": [
    "You are given two integer arrays nums1 and nums2, sorted in non-decreasing order, and two integers m and n, representing \n",
    "the number of elements in nums1 and nums2 respectively.\n",
    "\n",
    "Merge nums1 and nums2 into a single array sorted in non-decreasing order.\n",
    "\n",
    "The final sorted array should not be returned by the function, but instead be stored inside the array nums1. To accommodate\n",
    "this, nums1 has a length of m + n, where the first m elements denote the elements that should be merged, and the last\n",
    "n elements are set to 0 and should be ignored. nums2 has a length of n.\n",
    "\n",
    " \n",
    "\n",
    "Example 1:\n",
    "\n",
    "Input: nums1 = [1,2,3,0,0,0], m = 3, nums2 = [2,5,6], n = 3\n",
    "Output: [1,2,2,3,5,6]\n",
    "Explanation: The arrays we are merging are [1,2,3] and [2,5,6].\n",
    "The result of the merge is [1,2,2,3,5,6] with the underlined elements coming from nums1.\n",
    "Example 2:\n",
    "\n",
    "Input: nums1 = [1], m = 1, nums2 = [], n = 0\n",
    "Output: [1]\n",
    "Explanation: The arrays we are merging are [1] and [].\n",
    "The result of the merge is [1].\n",
    "Example 3:\n",
    "\n",
    "Input: nums1 = [0], m = 0, nums2 = [1], n = 1\n",
    "Output: [1]\n",
    "Explanation: The arrays we are merging are [] and [1].\n",
    "The result of the merge is [1].\n",
    "Note that because m = 0, there are no elements in nums1. The 0 is only there to ensure the merge result can fit in nums1."
   ]
  },
  {
   "cell_type": "code",
   "execution_count": 41,
   "metadata": {},
   "outputs": [
    {
     "data": {
      "text/plain": [
       "[1, 2, 2, 3, 5, 6]"
      ]
     },
     "execution_count": 41,
     "metadata": {},
     "output_type": "execute_result"
    }
   ],
   "source": [
    "nums1 = [1,2,3,0,0,0]\n",
    "m = 3\n",
    "nums2 = [2,5,6]\n",
    "n = 3\n",
    "\n",
    "r=None\n",
    "\n",
    "for i in range(len(nums1)):\n",
    "    if nums1[0]==0:\n",
    "        nums1.remove(0)\n",
    "for i in range(len(nums2)):\n",
    "    if nums2[0]==0:\n",
    "        nums2.remove(0)\n",
    "    \n",
    "r=nums1[:3]+nums2[:3]\n",
    "r.sort()\n",
    "r"
   ]
  },
  {
   "cell_type": "code",
   "execution_count": null,
   "metadata": {},
   "outputs": [],
   "source": [
    "Output: [1,2,2,3,5,6]"
   ]
  },
  {
   "cell_type": "code",
   "execution_count": 22,
   "metadata": {},
   "outputs": [
    {
     "data": {
      "text/plain": [
       "[1, 1, 2, 2, 3]"
      ]
     },
     "execution_count": 22,
     "metadata": {},
     "output_type": "execute_result"
    }
   ],
   "source": [
    "a=[1,2,3,2,1]\n",
    "a.sort()\n",
    "a"
   ]
  },
  {
   "cell_type": "markdown",
   "metadata": {},
   "source": [
    "### Reverse bits of a given 32 bits unsigned integer."
   ]
  },
  {
   "cell_type": "code",
   "execution_count": null,
   "metadata": {},
   "outputs": [],
   "source": [
    "Note that in some languages such as Java, there is no unsigned integer type. In this case, both input and output will be\n",
    "given as a signed integer type. They should not affect your implementation, as the integer's internal binary representation\n",
    "is the same, whether it is signed or unsigned.\n",
    "In Java, the compiler represents the signed integers using 2's complement notation. Therefore, in Example 2 above,\n",
    "the input represents the signed integer -3 and the output represents the signed integer -1073741825.\n",
    "Follow up:\n",
    "\n",
    "If this function is called many times, how would you optimize it?\n",
    "\n",
    " \n",
    "\n",
    "Example 1:\n",
    "\n",
    "Input: n = 00000010100101000001111010011100\n",
    "Output:    964176192 (00111001011110000010100101000000)\n",
    "Explanation: The input binary string 00000010100101000001111010011100 represents the unsigned integer 43261596, \n",
    "    so return 964176192 which its binary representation is 00111001011110000010100101000000.\n",
    "Example 2:\n",
    "\n",
    "Input: n = 11111111111111111111111111111101\n",
    "Output:   3221225471 (10111111111111111111111111111111)\n",
    "Explanation: The input binary string 11111111111111111111111111111101 represents the unsigned integer 4294967293,\n",
    "so return 3221225471 which its binary representation is 10111111111111111111111111111111."
   ]
  },
  {
   "cell_type": "code",
   "execution_count": 10,
   "metadata": {},
   "outputs": [],
   "source": [
    "def reverseBits(n) :\n",
    "     \n",
    "    rev = 0\n",
    "     \n",
    "    # traversing bits of 'n' from the right\n",
    "    while (n > 0) :\n",
    "         \n",
    "        # bitwise left shift 'rev' by 1\n",
    "        rev = rev << 1\n",
    "         \n",
    "        # if current bit is '1'\n",
    "        if (n & 1 == 1) :\n",
    "            rev = rev ^ 1  # ^ is a bitwise operator XOR\n",
    "         \n",
    "        # bitwise right shift 'n' by 1\n",
    "        n = n >> 1\n",
    "         \n",
    "     \n",
    "    # required number\n",
    "    return rev\n",
    "     \n",
    "# Driver code\n",
    "n = 11\n",
    "print(reverseBits(n))"
   ]
  },
  {
   "cell_type": "code",
   "execution_count": 124,
   "metadata": {},
   "outputs": [],
   "source": [
    "def reverseBits(n):\n",
    "    n = (n >> 16) | (n << 16)\n",
    "    n = ((n & 0xff00ff00) >> 8) | ((n & 0x00ff00ff) << 8)\n",
    "    n = ((n & 0xf0f0f0f0) >> 4) | ((n & 0x0f0f0f0f) << 4)\n",
    "    n = ((n & 0xcccccccc) >> 2) | ((n & 0x33333333) << 2)\n",
    "    n = ((n & 0xaaaaaaaa) >> 1) | ((n & 0x55555555) << 1)\n",
    "    return n"
   ]
  },
  {
   "cell_type": "code",
   "execution_count": null,
   "metadata": {},
   "outputs": [],
   "source": [
    "def reverseBits(self, n):\n",
    "        num=bin(n)[2:]\n",
    "        num=num.zfill(32)\n",
    "        r=list(reversed(num))\n",
    "        r=\"\".join(r)\n",
    "        return int(r,2)"
   ]
  },
  {
   "cell_type": "code",
   "execution_count": 154,
   "metadata": {},
   "outputs": [],
   "source": [
    "n = \"00000010100101000001111010011100\""
   ]
  },
  {
   "cell_type": "code",
   "execution_count": 164,
   "metadata": {},
   "outputs": [
    {
     "data": {
      "text/plain": [
       "('0b101', '0b1', 4)"
      ]
     },
     "execution_count": 164,
     "metadata": {},
     "output_type": "execute_result"
    }
   ],
   "source": [
    "a=bin(5)\n",
    "b=bin(1)\n",
    "a,b,5^1"
   ]
  },
  {
   "cell_type": "code",
   "execution_count": 162,
   "metadata": {},
   "outputs": [
    {
     "data": {
      "text/plain": [
       "3"
      ]
     },
     "execution_count": 162,
     "metadata": {},
     "output_type": "execute_result"
    }
   ],
   "source": [
    "2^1"
   ]
  },
  {
   "cell_type": "code",
   "execution_count": 155,
   "metadata": {},
   "outputs": [
    {
     "name": "stdout",
     "output_type": "stream",
     "text": [
      "Yes\n",
      "Yes\n",
      "Yes\n",
      "Yes\n",
      "Yes\n"
     ]
    }
   ],
   "source": [
    "n=int(n,2)\n",
    "j=5\n",
    "ret,power=0,31\n",
    "while j:\n",
    "    print(\"Yes\")\n",
    "    j=j-1\n",
    "    "
   ]
  },
  {
   "cell_type": "code",
   "execution_count": 1,
   "metadata": {},
   "outputs": [
    {
     "data": {
      "text/plain": [
       "-13"
      ]
     },
     "execution_count": 1,
     "metadata": {},
     "output_type": "execute_result"
    }
   ],
   "source": [
    "~12"
   ]
  },
  {
   "cell_type": "code",
   "execution_count": 4,
   "metadata": {},
   "outputs": [
    {
     "data": {
      "text/plain": [
       "3"
      ]
     },
     "execution_count": 4,
     "metadata": {},
     "output_type": "execute_result"
    }
   ],
   "source": [
    "n=\"00000000000000000000000000001011\"\n",
    "count=0\n",
    "for i in str(n):\n",
    "    if i==\"1\":\n",
    "        count+=1\n",
    "count"
   ]
  },
  {
   "cell_type": "code",
   "execution_count": 5,
   "metadata": {},
   "outputs": [
    {
     "data": {
      "text/plain": [
       "'1011'"
      ]
     },
     "execution_count": 5,
     "metadata": {},
     "output_type": "execute_result"
    }
   ],
   "source": [
    "bin(11)[2:]"
   ]
  },
  {
   "cell_type": "code",
   "execution_count": 8,
   "metadata": {},
   "outputs": [
    {
     "data": {
      "text/plain": [
       "'69516234'"
      ]
     },
     "execution_count": 8,
     "metadata": {},
     "output_type": "execute_result"
    }
   ],
   "source": [
    "a=\"43261596\"\n",
    "b=list(reversed(a))\n",
    "\"\".join(b)"
   ]
  },
  {
   "cell_type": "code",
   "execution_count": 12,
   "metadata": {},
   "outputs": [
    {
     "name": "stdout",
     "output_type": "stream",
     "text": [
      "10100101000001111010011100 00111001011110000010100101\n"
     ]
    },
    {
     "data": {
      "text/plain": [
       "15065253"
      ]
     },
     "execution_count": 12,
     "metadata": {},
     "output_type": "execute_result"
    }
   ],
   "source": [
    "n=43261596\n",
    "num=bin(n)[2:]\n",
    "r=list(reversed(num))\n",
    "r=\"\".join(r)\n",
    "print(num,r)\n",
    "int(r,2)"
   ]
  },
  {
   "cell_type": "code",
   "execution_count": 20,
   "metadata": {},
   "outputs": [],
   "source": [
    "if len(num)!=32:\n",
    "    num.zfill(32)"
   ]
  },
  {
   "cell_type": "code",
   "execution_count": 23,
   "metadata": {},
   "outputs": [
    {
     "data": {
      "text/plain": [
       "32"
      ]
     },
     "execution_count": 23,
     "metadata": {},
     "output_type": "execute_result"
    }
   ],
   "source": [
    "len(num.zfill(32))"
   ]
  },
  {
   "cell_type": "code",
   "execution_count": 19,
   "metadata": {},
   "outputs": [
    {
     "data": {
      "text/plain": [
       "'00001'"
      ]
     },
     "execution_count": 19,
     "metadata": {},
     "output_type": "execute_result"
    }
   ],
   "source": [
    "a=\"1\"\n",
    "a.zfill(5)\n"
   ]
  },
  {
   "cell_type": "markdown",
   "metadata": {},
   "source": [
    "### Isomorphic Strings"
   ]
  },
  {
   "cell_type": "code",
   "execution_count": null,
   "metadata": {},
   "outputs": [],
   "source": [
    "Given two strings s and t, determine if they are isomorphic.\n",
    "\n",
    "Two strings s and t are isomorphic if the characters in s can be replaced to get t.\n",
    "\n",
    "All occurrences of a character must be replaced with another character while preserving the order of characters. \n",
    "No two characters may map to the same character, but a character may map to itself.\n",
    "\n",
    " \n",
    "\n",
    "Example 1:\n",
    "\n",
    "Input: s = \"egg\", t = \"add\"\n",
    "Output: true\n",
    "Example 2:\n",
    "\n",
    "Input: s = \"foo\", t = \"bar\"\n",
    "Output: false\n",
    "Example 3:\n",
    "\n",
    "Input: s = \"paper\", t = \"title\"\n",
    "Output: true"
   ]
  },
  {
   "cell_type": "code",
   "execution_count": 28,
   "metadata": {},
   "outputs": [
    {
     "name": "stdout",
     "output_type": "stream",
     "text": [
      "True\n"
     ]
    }
   ],
   "source": [
    "s = \"egg\";\n",
    "t = \"add\";\n",
    "count=0\n",
    "for i in range(len(s)):\n",
    "    if s.count(s[i])!=t.count(t[i]):\n",
    "        count=count-1\n",
    "    else:\n",
    "        count=count+1\n",
    "if count==len(s):\n",
    "    print(True)\n",
    "else:\n",
    "    print(False)\n",
    "        "
   ]
  },
  {
   "cell_type": "code",
   "execution_count": 38,
   "metadata": {},
   "outputs": [],
   "source": [
    "s=\"bbbaaaba\"\n",
    "t=\"aaabbbba\"\n",
    "mapping_s_t={}\n",
    "mapping_t_s={}\n",
    "for c1,c2 in zip(s,t):\n",
    "    if (c1 not in mapping_s_t) and (c2 not in mapping_t_s):\n",
    "        pass\n",
    "        \n",
    "    "
   ]
  },
  {
   "cell_type": "code",
   "execution_count": 35,
   "metadata": {},
   "outputs": [],
   "source": [
    "def isIsomorphic(self, s: str, t: str) -> bool:\n",
    "        \n",
    "        mapping_s_t = {}\n",
    "        mapping_t_s = {}\n",
    "        \n",
    "        for c1, c2 in zip(s, t):\n",
    "            \n",
    "            # Case 1: No mapping exists in either of the dictionaries\n",
    "            if (c1 not in mapping_s_t) and (c2 not in mapping_t_s):\n",
    "                mapping_s_t[c1] = c2\n",
    "                mapping_t_s[c2] = c1\n",
    "            \n",
    "            # Case 2: Ether mapping doesn't exist in one of the dictionaries or Mapping exists and\n",
    "            # it doesn't match in either of the dictionaries or both            \n",
    "            elif mapping_s_t.get(c1) != c2 or mapping_t_s.get(c2) != c1:\n",
    "                return False\n",
    "            \n",
    "        return True"
   ]
  },
  {
   "cell_type": "code",
   "execution_count": null,
   "metadata": {},
   "outputs": [],
   "source": [
    "X=[]\n",
    "Y=[]\n",
    "for i in s:\n",
    "    X.append(s.index(i))\n",
    "for i in t:\n",
    "    Y.append(t.index(i))\n",
    "if X==Y:\n",
    "    return True\n",
    "return False"
   ]
  },
  {
   "cell_type": "code",
   "execution_count": 44,
   "metadata": {},
   "outputs": [
    {
     "data": {
      "text/plain": [
       "([0, 0, 0, 3, 3, 3, 0, 3], [0, 0, 0, 3, 3, 3, 3, 0])"
      ]
     },
     "execution_count": 44,
     "metadata": {},
     "output_type": "execute_result"
    }
   ],
   "source": [
    "x=[]\n",
    "y=[]\n",
    "for i in s:\n",
    "    x.append(s.index(i))\n",
    "for j in t:\n",
    "    y.append(t.index(j))\n",
    "x,y"
   ]
  },
  {
   "cell_type": "code",
   "execution_count": 2,
   "metadata": {},
   "outputs": [
    {
     "name": "stdout",
     "output_type": "stream",
     "text": [
      "0\n",
      "1\n",
      "2\n",
      "0\n"
     ]
    }
   ],
   "source": [
    "a=[1,2,3,1]\n",
    "a1,a1=0\n",
    "\n",
    "        "
   ]
  },
  {
   "cell_type": "code",
   "execution_count": null,
   "metadata": {},
   "outputs": [],
   "source": []
  },
  {
   "cell_type": "code",
   "execution_count": null,
   "metadata": {},
   "outputs": [],
   "source": []
  },
  {
   "cell_type": "markdown",
   "metadata": {},
   "source": [
    "# SQL"
   ]
  },
  {
   "cell_type": "code",
   "execution_count": null,
   "metadata": {},
   "outputs": [],
   "source": [
    "Write an SQL query to find all dates' id with higher temperature compared to its previous dates (yesterday).\n",
    "\n",
    "Return the result table in any order.\n",
    "\n",
    "The query result format is in the following example:\n",
    "\n",
    "Weather\n",
    "+----+------------+-------------+\n",
    "| id | recordDate | Temperature |\n",
    "+----+------------+-------------+\n",
    "| 1  | 2015-01-01 | 10          |\n",
    "| 2  | 2015-01-02 | 25          |\n",
    "| 3  | 2015-01-03 | 20          |\n",
    "| 4  | 2015-01-04 | 30          |\n",
    "+----+------------+-------------+\n",
    "\n",
    "Result table:\n",
    "+----+\n",
    "| id |\n",
    "+----+\n",
    "| 2  |\n",
    "| 4  |\n",
    "+----+\n",
    "In 2015-01-02, temperature was higher than the previous day (10 -> 25).\n",
    "In 2015-01-04, temperature was higher than the previous day (20 -> 30)."
   ]
  },
  {
   "cell_type": "code",
   "execution_count": null,
   "metadata": {},
   "outputs": [],
   "source": [
    "SELECT Weather.Id \n",
    "FROM   Weather \n",
    "       JOIN Weather AS w \n",
    "         ON w.RecordDate = SUBDATE(Weather.RecordDate, 1) \n",
    "WHERE  Weather.Temperature > w.Temperature "
   ]
  },
  {
   "cell_type": "code",
   "execution_count": null,
   "metadata": {},
   "outputs": [],
   "source": [
    "SELECT\n",
    "    weather.id AS 'Id'\n",
    "FROM\n",
    "    weather\n",
    "        JOIN\n",
    "    weather w ON DATEDIFF(weather.recordDate, w.recordDate) = 1\n",
    "        AND weather.Temperature > w.Temperature"
   ]
  },
  {
   "cell_type": "code",
   "execution_count": null,
   "metadata": {},
   "outputs": [],
   "source": [
    "620. Not Boring Movies\n",
    "Table: Cinema\n",
    "\n",
    "+----------------+----------+\n",
    "| Column Name    | Type     |\n",
    "+----------------+----------+\n",
    "| id             | int      |\n",
    "| movie          | varchar  |\n",
    "| description    | varchar  |\n",
    "| rating         | float    |\n",
    "+----------------+----------+\n",
    "id is the primary key for this table.\n",
    "Each row contains information about the name of a movie, its genre, and its rating.\n",
    "rating is a 2 decimal places float in the range [0, 10]\n",
    " \n",
    "\n",
    "Write an SQL query to report the movies with an odd-numbered ID and a description that is not \"boring\".\n",
    "\n",
    "Return the result table in descending order by rating.\n",
    "\n",
    "The query result format is in the following example:\n",
    "\n",
    " \n",
    "\n",
    "Cinema table:\n",
    "+----+------------+-------------+--------+\n",
    "| id | movie      | description | rating |\n",
    "+----+------------+-------------+--------+\n",
    "| 1  | War        | great 3D    | 8.9    |\n",
    "| 2  | Science    | fiction     | 8.5    |\n",
    "| 3  | irish      | boring      | 6.2    |\n",
    "| 4  | Ice song   | Fantacy     | 8.6    |\n",
    "| 5  | House card | Interesting | 9.1    |\n",
    "+----+------------+-------------+--------+\n",
    "\n",
    "Result table:\n",
    "+----+------------+-------------+--------+\n",
    "| id | movie      | description | rating |\n",
    "+----+------------+-------------+--------+\n",
    "| 5  | House card | Interesting | 9.1    |\n",
    "| 1  | War        | great 3D    | 8.9    |\n",
    "+----+------------+-------------+--------+\n",
    "\n",
    "We have three movies with odd-numbered ID: 1, 3, and 5. The movie with ID = 3 is boring so we don't include it in the answer."
   ]
  },
  {
   "cell_type": "code",
   "execution_count": null,
   "metadata": {},
   "outputs": [],
   "source": [
    "select * from Cinema where mod(id,2)=1 and description != 'boring' order by rating DESC;"
   ]
  },
  {
   "cell_type": "markdown",
   "metadata": {},
   "source": [
    "### Swap Salary"
   ]
  },
  {
   "cell_type": "code",
   "execution_count": null,
   "metadata": {},
   "outputs": [],
   "source": [
    "Add to List\n",
    "\n",
    "Share\n",
    "SQL Schema\n",
    "Table: Salary\n",
    "\n",
    "+-------------+----------+\n",
    "| Column Name | Type     |\n",
    "+-------------+----------+\n",
    "| id          | int      |\n",
    "| name        | varchar  |\n",
    "| sex         | ENUM     |\n",
    "| salary      | int      |\n",
    "+-------------+----------+\n",
    "id is the primary key for this table.\n",
    "The sex column is ENUM value of type ('m', 'f').\n",
    "The table contains information about an employee.\n",
    " \n",
    "\n",
    "Write an SQL query to swap all 'f' and 'm' values (i.e., change all 'f' values to 'm' and vice versa) with a single update statement and no intermediate temp table(s).\n",
    "\n",
    "Note that you must write a single update statement, DO NOT write any select statement for this problem.\n",
    "\n",
    "The query result format is in the following example:\n",
    "\n",
    " \n",
    "\n",
    "Salary table:\n",
    "+----+------+-----+--------+\n",
    "| id | name | sex | salary |\n",
    "+----+------+-----+--------+\n",
    "| 1  | A    | m   | 2500   |\n",
    "| 2  | B    | f   | 1500   |\n",
    "| 3  | C    | m   | 5500   |\n",
    "| 4  | D    | f   | 500    |\n",
    "+----+------+-----+--------+\n",
    "\n",
    "Result table:\n",
    "+----+------+-----+--------+\n",
    "| id | name | sex | salary |\n",
    "+----+------+-----+--------+\n",
    "| 1  | A    | f   | 2500   |\n",
    "| 2  | B    | m   | 1500   |\n",
    "| 3  | C    | f   | 5500   |\n",
    "| 4  | D    | m   | 500    |\n",
    "+----+------+-----+--------+\n",
    "(1, A) and (3, C) were changed from 'm' to 'f'.\n",
    "(2, B) and (4, D) were changed from 'f' to 'm'."
   ]
  },
  {
   "cell_type": "markdown",
   "metadata": {},
   "source": [
    "### Biggest Single Number"
   ]
  },
  {
   "cell_type": "code",
   "execution_count": null,
   "metadata": {},
   "outputs": [],
   "source": [
    "Table number contains many numbers in column num including duplicated ones.\n",
    "Can you write a SQL query to find the biggest number, which only appears once.\n",
    "\n",
    "+---+\n",
    "|num|\n",
    "+---+\n",
    "| 8 |\n",
    "| 8 |\n",
    "| 3 |\n",
    "| 3 |\n",
    "| 1 |\n",
    "| 4 |\n",
    "| 5 |\n",
    "| 6 |\n",
    "For the sample data above, your query should return the following result:\n",
    "+---+\n",
    "|num|\n",
    "+---+\n",
    "| 6 |\n",
    "Note:\n",
    "If there is no such number, just output null."
   ]
  },
  {
   "cell_type": "code",
   "execution_count": 42,
   "metadata": {},
   "outputs": [
    {
     "data": {
      "text/plain": [
       "86"
      ]
     },
     "execution_count": 42,
     "metadata": {},
     "output_type": "execute_result"
    }
   ],
   "source": [
    "30+28+28"
   ]
  },
  {
   "cell_type": "code",
   "execution_count": 43,
   "metadata": {},
   "outputs": [
    {
     "data": {
      "text/plain": [
       "28.666666666666668"
      ]
     },
     "execution_count": 43,
     "metadata": {},
     "output_type": "execute_result"
    }
   ],
   "source": [
    "86/3"
   ]
  },
  {
   "cell_type": "code",
   "execution_count": 69,
   "metadata": {},
   "outputs": [
    {
     "data": {
      "text/plain": [
       "26"
      ]
     },
     "execution_count": 69,
     "metadata": {},
     "output_type": "execute_result"
    }
   ],
   "source": [
    "n =10100101000001111010011100\n",
    "n=str(n)\n",
    "len(n)"
   ]
  },
  {
   "cell_type": "code",
   "execution_count": 75,
   "metadata": {},
   "outputs": [
    {
     "data": {
      "text/plain": [
       "964176192"
      ]
     },
     "execution_count": 75,
     "metadata": {},
     "output_type": "execute_result"
    }
   ],
   "source": [
    "n = \"00000010100101000001111010011100\"\n",
    "r=str()\n",
    "for i in range(len(n)):\n",
    "    r=str(r)+n[len(n)-i-1]\n",
    "\n",
    "int(r,2)"
   ]
  },
  {
   "cell_type": "code",
   "execution_count": 1,
   "metadata": {},
   "outputs": [
    {
     "ename": "NameError",
     "evalue": "name 'printstring' is not defined",
     "output_type": "error",
     "traceback": [
      "\u001b[1;31m---------------------------------------------------------------------------\u001b[0m",
      "\u001b[1;31mNameError\u001b[0m                                 Traceback (most recent call last)",
      "\u001b[1;32m<ipython-input-1-ca2d4254ad54>\u001b[0m in \u001b[0;36m<module>\u001b[1;34m\u001b[0m\n\u001b[1;32m----> 1\u001b[1;33m \u001b[0mprintstring\u001b[0m\u001b[1;33m(\u001b[0m\u001b[1;36m1\u001b[0m\u001b[1;33m)\u001b[0m\u001b[1;33m\u001b[0m\u001b[1;33m\u001b[0m\u001b[0m\n\u001b[0m",
      "\u001b[1;31mNameError\u001b[0m: name 'printstring' is not defined"
     ]
    }
   ],
   "source": [
    "printstring(1)"
   ]
  },
  {
   "cell_type": "code",
   "execution_count": 7,
   "metadata": {},
   "outputs": [
    {
     "data": {
      "text/plain": [
       "90"
      ]
     },
     "execution_count": 7,
     "metadata": {},
     "output_type": "execute_result"
    }
   ],
   "source": [
    "ord(\"Z\")"
   ]
  },
  {
   "cell_type": "code",
   "execution_count": 5,
   "metadata": {},
   "outputs": [
    {
     "data": {
      "text/plain": [
       "25"
      ]
     },
     "execution_count": 5,
     "metadata": {},
     "output_type": "execute_result"
    }
   ],
   "source": [
    "90-65"
   ]
  },
  {
   "cell_type": "code",
   "execution_count": 26,
   "metadata": {},
   "outputs": [
    {
     "data": {
      "text/plain": [
       "'\\x14'"
      ]
     },
     "execution_count": 26,
     "metadata": {},
     "output_type": "execute_result"
    }
   ],
   "source": [
    "chr(20)"
   ]
  },
  {
   "cell_type": "code",
   "execution_count": 31,
   "metadata": {},
   "outputs": [
    {
     "name": "stdout",
     "output_type": "stream",
     "text": [
      "0\n",
      "0\n",
      "3\n",
      "2\n",
      "1\n"
     ]
    }
   ],
   "source": [
    "a=\"12300\"\n",
    "for i in range(len(a),0,-1):\n",
    "    print(a[i-1])"
   ]
  },
  {
   "cell_type": "code",
   "execution_count": 43,
   "metadata": {},
   "outputs": [
    {
     "name": "stdout",
     "output_type": "stream",
     "text": [
      "25\n",
      "125\n"
     ]
    },
    {
     "data": {
      "text/plain": [
       "24"
      ]
     },
     "execution_count": 43,
     "metadata": {},
     "output_type": "execute_result"
    }
   ],
   "source": [
    "a=503\n",
    "sq=25\n",
    "count=0\n",
    "while (sq<a):\n",
    "    count=count+a//sq\n",
    "    sq=sq*5\n",
    "count  "
   ]
  },
  {
   "cell_type": "code",
   "execution_count": 42,
   "metadata": {},
   "outputs": [
    {
     "data": {
      "text/plain": [
       "20"
      ]
     },
     "execution_count": 42,
     "metadata": {},
     "output_type": "execute_result"
    }
   ],
   "source": [
    "500//25"
   ]
  },
  {
   "cell_type": "code",
   "execution_count": 3,
   "metadata": {},
   "outputs": [
    {
     "ename": "SyntaxError",
     "evalue": "leading zeros in decimal integer literals are not permitted; use an 0o prefix for octal integers (<ipython-input-3-ae7d34f9a6ac>, line 1)",
     "output_type": "error",
     "traceback": [
      "\u001b[1;36m  File \u001b[1;32m\"<ipython-input-3-ae7d34f9a6ac>\"\u001b[1;36m, line \u001b[1;32m1\u001b[0m\n\u001b[1;33m    bits=00000010100101000001111010011100\u001b[0m\n\u001b[1;37m                                        ^\u001b[0m\n\u001b[1;31mSyntaxError\u001b[0m\u001b[1;31m:\u001b[0m leading zeros in decimal integer literals are not permitted; use an 0o prefix for octal integers\n"
     ]
    }
   ],
   "source": [
    "bits=\"00000010100101000001111010011100\"\n",
    "\n"
   ]
  },
  {
   "cell_type": "code",
   "execution_count": 165,
   "metadata": {},
   "outputs": [
    {
     "name": "stdout",
     "output_type": "stream",
     "text": [
      "03\n"
     ]
    }
   ],
   "source": [
    "print('{0:02d}'.format(3))"
   ]
  },
  {
   "cell_type": "code",
   "execution_count": null,
   "metadata": {},
   "outputs": [],
   "source": [
    "data = {'Name':['Tom', 'nick', 'krish', 'jack'],\n",
    "        'Age':[20, 21, 19, 18]}"
   ]
  },
  {
   "cell_type": "code",
   "execution_count": 229,
   "metadata": {},
   "outputs": [],
   "source": [
    "import pandas as pd\n",
    "df=pd.DataFrame({\"x\":[100,200,300,400,None,200,500,600],\"y\":[\"a\",\"b\",\"c\",\"a\",\"c\",\"d\",\"e\",None]})"
   ]
  },
  {
   "cell_type": "code",
   "execution_count": 230,
   "metadata": {},
   "outputs": [
    {
     "data": {
      "text/html": [
       "<div>\n",
       "<style scoped>\n",
       "    .dataframe tbody tr th:only-of-type {\n",
       "        vertical-align: middle;\n",
       "    }\n",
       "\n",
       "    .dataframe tbody tr th {\n",
       "        vertical-align: top;\n",
       "    }\n",
       "\n",
       "    .dataframe thead th {\n",
       "        text-align: right;\n",
       "    }\n",
       "</style>\n",
       "<table border=\"1\" class=\"dataframe\">\n",
       "  <thead>\n",
       "    <tr style=\"text-align: right;\">\n",
       "      <th></th>\n",
       "      <th>x</th>\n",
       "      <th>y</th>\n",
       "    </tr>\n",
       "  </thead>\n",
       "  <tbody>\n",
       "    <tr>\n",
       "      <th>0</th>\n",
       "      <td>100.0</td>\n",
       "      <td>a</td>\n",
       "    </tr>\n",
       "    <tr>\n",
       "      <th>1</th>\n",
       "      <td>200.0</td>\n",
       "      <td>b</td>\n",
       "    </tr>\n",
       "    <tr>\n",
       "      <th>2</th>\n",
       "      <td>300.0</td>\n",
       "      <td>c</td>\n",
       "    </tr>\n",
       "    <tr>\n",
       "      <th>3</th>\n",
       "      <td>400.0</td>\n",
       "      <td>a</td>\n",
       "    </tr>\n",
       "    <tr>\n",
       "      <th>4</th>\n",
       "      <td>NaN</td>\n",
       "      <td>c</td>\n",
       "    </tr>\n",
       "    <tr>\n",
       "      <th>5</th>\n",
       "      <td>200.0</td>\n",
       "      <td>d</td>\n",
       "    </tr>\n",
       "    <tr>\n",
       "      <th>6</th>\n",
       "      <td>500.0</td>\n",
       "      <td>e</td>\n",
       "    </tr>\n",
       "    <tr>\n",
       "      <th>7</th>\n",
       "      <td>600.0</td>\n",
       "      <td>None</td>\n",
       "    </tr>\n",
       "  </tbody>\n",
       "</table>\n",
       "</div>"
      ],
      "text/plain": [
       "       x     y\n",
       "0  100.0     a\n",
       "1  200.0     b\n",
       "2  300.0     c\n",
       "3  400.0     a\n",
       "4    NaN     c\n",
       "5  200.0     d\n",
       "6  500.0     e\n",
       "7  600.0  None"
      ]
     },
     "execution_count": 230,
     "metadata": {},
     "output_type": "execute_result"
    }
   ],
   "source": [
    "df"
   ]
  },
  {
   "cell_type": "code",
   "execution_count": 197,
   "metadata": {},
   "outputs": [
    {
     "data": {
      "text/html": [
       "<div>\n",
       "<style scoped>\n",
       "    .dataframe tbody tr th:only-of-type {\n",
       "        vertical-align: middle;\n",
       "    }\n",
       "\n",
       "    .dataframe tbody tr th {\n",
       "        vertical-align: top;\n",
       "    }\n",
       "\n",
       "    .dataframe thead th {\n",
       "        text-align: right;\n",
       "    }\n",
       "</style>\n",
       "<table border=\"1\" class=\"dataframe\">\n",
       "  <thead>\n",
       "    <tr style=\"text-align: right;\">\n",
       "      <th></th>\n",
       "      <th>x</th>\n",
       "      <th>y</th>\n",
       "    </tr>\n",
       "  </thead>\n",
       "  <tbody>\n",
       "    <tr>\n",
       "      <th>3</th>\n",
       "      <td>400</td>\n",
       "      <td>a</td>\n",
       "    </tr>\n",
       "    <tr>\n",
       "      <th>7</th>\n",
       "      <td>600</td>\n",
       "      <td>a</td>\n",
       "    </tr>\n",
       "  </tbody>\n",
       "</table>\n",
       "</div>"
      ],
      "text/plain": [
       "     x  y\n",
       "3  400  a\n",
       "7  600  a"
      ]
     },
     "execution_count": 197,
     "metadata": {},
     "output_type": "execute_result"
    }
   ],
   "source": [
    "df[(df[\"y\"]==\"a\") & (df[\"x\"]>300)]"
   ]
  },
  {
   "cell_type": "code",
   "execution_count": 208,
   "metadata": {},
   "outputs": [
    {
     "data": {
      "text/plain": [
       "<pandas.core.groupby.generic.DataFrameGroupBy object at 0x000001AA7626AC70>"
      ]
     },
     "execution_count": 208,
     "metadata": {},
     "output_type": "execute_result"
    }
   ],
   "source": [
    "(df.groupby(\"x\"))"
   ]
  },
  {
   "cell_type": "code",
   "execution_count": 214,
   "metadata": {},
   "outputs": [],
   "source": [
    "def sq(x):\n",
    "    return x*x"
   ]
  },
  {
   "cell_type": "code",
   "execution_count": 219,
   "metadata": {},
   "outputs": [
    {
     "data": {
      "text/plain": [
       "[10.0, 40.0, 90.0, 160.0, 90.0, 40.0, 250.0, 360.0]"
      ]
     },
     "execution_count": 219,
     "metadata": {},
     "output_type": "execute_result"
    }
   ],
   "source": [
    "list(map(lambda x: x*x/1000,df[\"x\"]))"
   ]
  },
  {
   "cell_type": "code",
   "execution_count": 225,
   "metadata": {},
   "outputs": [
    {
     "data": {
      "text/plain": [
       "[400.0, 500.0, 600.0]"
      ]
     },
     "execution_count": 225,
     "metadata": {},
     "output_type": "execute_result"
    }
   ],
   "source": [
    "list(filter(lambda x: x>300,df[\"x\"]))"
   ]
  },
  {
   "cell_type": "code",
   "execution_count": 259,
   "metadata": {},
   "outputs": [
    {
     "data": {
      "text/plain": [
       "[100.0, 200.0, 300.0, 400.0, nan, 200.0, 500.0, 600.0]"
      ]
     },
     "execution_count": 259,
     "metadata": {},
     "output_type": "execute_result"
    }
   ],
   "source": [
    "list(filter(None,df[\"x\"]))"
   ]
  },
  {
   "cell_type": "code",
   "execution_count": 28,
   "metadata": {},
   "outputs": [
    {
     "name": "stdout",
     "output_type": "stream",
     "text": [
      "3\n",
      "5\n",
      "7\n",
      "11\n",
      "13\n",
      "17\n",
      "19\n",
      "23\n",
      "29\n",
      "31\n",
      "37\n",
      "41\n",
      "43\n",
      "47\n",
      "53\n",
      "59\n",
      "61\n",
      "67\n",
      "71\n",
      "73\n",
      "79\n",
      "83\n",
      "89\n",
      "97\n"
     ]
    }
   ],
   "source": [
    "for i in range(3,100):\n",
    "    for j in range(2,int(i/2)+1):\n",
    "        if i%j==0:\n",
    "            break\n",
    "    else:\n",
    "        print(i)"
   ]
  },
  {
   "cell_type": "code",
   "execution_count": 49,
   "metadata": {},
   "outputs": [
    {
     "name": "stdout",
     "output_type": "stream",
     "text": [
      "4\n",
      "6\n",
      "8\n",
      "9\n"
     ]
    },
    {
     "data": {
      "text/plain": [
       "4"
      ]
     },
     "execution_count": 49,
     "metadata": {},
     "output_type": "execute_result"
    }
   ],
   "source": [
    "n=10\n",
    "if n<2:\n",
    "    print(0)\n",
    "elif n==2:\n",
    "    print(1)\n",
    "count=1\n",
    "for i in range(3,n):\n",
    "    for j in range(2,math.sqrt(n)+1):\n",
    "        if i%j==0:\n",
    "            print(i)\n",
    "            break\n",
    "    else:\n",
    "        count+=1\n",
    "count"
   ]
  },
  {
   "cell_type": "code",
   "execution_count": 43,
   "metadata": {},
   "outputs": [
    {
     "name": "stdout",
     "output_type": "stream",
     "text": [
      "False\n",
      "True\n"
     ]
    }
   ],
   "source": [
    "n=5\n",
    "if (n == 0):\n",
    "    print(False)\n",
    "while (n != 1):\n",
    "    if (n % 2 != 0):\n",
    "        print(False)\n",
    "    n = n // 2\n",
    "print(True) "
   ]
  },
  {
   "cell_type": "code",
   "execution_count": 74,
   "metadata": {},
   "outputs": [
    {
     "data": {
      "text/plain": [
       "16"
      ]
     },
     "execution_count": 74,
     "metadata": {},
     "output_type": "execute_result"
    }
   ],
   "source": [
    "if n<0:\n",
    "    return False\n",
    "b=bin(n)[2:]\n",
    "if b.count(\"1\")==1:\n",
    "    return True \n",
    "else:\n",
    "    return False"
   ]
  },
  {
   "cell_type": "markdown",
   "metadata": {},
   "source": [
    "### Power Of any Number"
   ]
  },
  {
   "cell_type": "code",
   "execution_count": 118,
   "metadata": {},
   "outputs": [
    {
     "name": "stdout",
     "output_type": "stream",
     "text": [
      "Yes\n"
     ]
    }
   ],
   "source": [
    "n=16\n",
    "while n>1:\n",
    "    if n%2!=0:\n",
    "        print(\"No\")\n",
    "        break\n",
    "    n=n//2\n",
    "else:\n",
    "    print(\"Yes\")"
   ]
  },
  {
   "cell_type": "code",
   "execution_count": 128,
   "metadata": {},
   "outputs": [
    {
     "data": {
      "text/plain": [
       "[2, 3, 0, 0, 1]"
      ]
     },
     "execution_count": 128,
     "metadata": {},
     "output_type": "execute_result"
    }
   ],
   "source": [
    "nums = [1,0,1,1]\n",
    "d=[]\n",
    "for i in range(0,len(nums)-1):\n",
    "    for j in range(1,len(nums)):\n",
    "        if nums[i]==nums[j]:\n",
    "            d.append(abs(i-j))\n",
    "d"
   ]
  },
  {
   "cell_type": "code",
   "execution_count": null,
   "metadata": {},
   "outputs": [],
   "source": [
    "d={}\n",
    "        for i in range(len(nums)):\n",
    "            if nums[i] not in d:\n",
    "                d[nums[i]]=i\n",
    "            else:\n",
    "                if abs(i - d[nums[i]]) <=k:\n",
    "                    return True\n",
    "                else:\n",
    "                    d[nums[i]]=i\n",
    "        return False"
   ]
  },
  {
   "cell_type": "code",
   "execution_count": 129,
   "metadata": {},
   "outputs": [],
   "source": [
    "def containsNearbyDuplicate(self, nums: [int], k: int) -> bool:\n",
    "    dictionary = dict()\n",
    "\n",
    "    for index, val in enumerate(nums):\n",
    "        if val in dictionary and abs(index - dictionary[val]) <= k:\n",
    "            return True\n",
    "\n",
    "        dictionary[val] = index\n",
    "\n",
    "    return False"
   ]
  },
  {
   "cell_type": "code",
   "execution_count": 134,
   "metadata": {},
   "outputs": [
    {
     "name": "stdout",
     "output_type": "stream",
     "text": [
      "1 2\n"
     ]
    }
   ],
   "source": [
    "nums = [1,0,1,1]\n",
    "k=1\n",
    "dictionary=dict()\n",
    "for index,val in enumerate(nums):\n",
    "    if val in dictionary and abs(index-dictionary[val])<=k:\n",
    "        print(val,dictionary[val])\n",
    "    dictionary[val]=index\n",
    "\n",
    "    "
   ]
  },
  {
   "cell_type": "code",
   "execution_count": 148,
   "metadata": {},
   "outputs": [
    {
     "name": "stdout",
     "output_type": "stream",
     "text": [
      "49\n",
      "16\n",
      "97\n",
      "81\n",
      "130\n",
      "1\n",
      "10\n",
      "10\n",
      "1\n",
      "1\n",
      "True\n"
     ]
    }
   ],
   "source": [
    "limit=10\n",
    "n=7\n",
    "for j in range(1000):\n",
    "    s=0\n",
    "    n=str(n)\n",
    "    for i in n:\n",
    "        i=int(i)\n",
    "        s=s+i*i\n",
    "        n=s\n",
    "        print(s)\n",
    "    if s==1:\n",
    "        print(True)\n",
    "        break\n",
    "else:\n",
    "    print(False)"
   ]
  },
  {
   "cell_type": "code",
   "execution_count": 168,
   "metadata": {},
   "outputs": [
    {
     "name": "stdout",
     "output_type": "stream",
     "text": [
      "1 2\n"
     ]
    }
   ],
   "source": [
    "nums = [1,0,1,1]\n",
    "k=1\n",
    "dictionary=dict()\n",
    "for index,val in enumerate(nums):\n",
    "    if val in dictionary and abs(index-dictionary[val])<=k:\n",
    "        print(val,dictionary[val])\n",
    "    dictionary[val]=index\n"
   ]
  },
  {
   "cell_type": "code",
   "execution_count": 94,
   "metadata": {},
   "outputs": [
    {
     "name": "stdout",
     "output_type": "stream",
     "text": [
      "True\n",
      "False\n"
     ]
    },
    {
     "data": {
      "text/plain": [
       "{1: 2, 0: 1}"
      ]
     },
     "execution_count": 94,
     "metadata": {},
     "output_type": "execute_result"
    }
   ],
   "source": [
    "d={}\n",
    "for i in range(len(nums)):\n",
    "    if nums[i] not in d:\n",
    "        d[nums[i]]=i\n",
    "    else:\n",
    "        if abs(i - d[nums[i]]) <=k:\n",
    "            print(True)\n",
    "        else:\n",
    "            d[nums[i]]=i\n",
    "print(False)\n",
    "d"
   ]
  },
  {
   "cell_type": "code",
   "execution_count": 88,
   "metadata": {},
   "outputs": [],
   "source": []
  },
  {
   "cell_type": "code",
   "execution_count": null,
   "metadata": {},
   "outputs": [],
   "source": []
  },
  {
   "cell_type": "code",
   "execution_count": null,
   "metadata": {},
   "outputs": [],
   "source": []
  },
  {
   "cell_type": "code",
   "execution_count": 165,
   "metadata": {},
   "outputs": [
    {
     "data": {
      "text/plain": [
       "{1: 'a', 3: 'b', 4: 'c', 5: 'd', 2: 'e'}"
      ]
     },
     "execution_count": 165,
     "metadata": {},
     "output_type": "execute_result"
    }
   ],
   "source": [
    "a=(1,3,4,5,2)\n",
    "b=(\"a\",\"b\",\"c\",\"d\",\"e\")\n",
    "dict(zip(a,b))"
   ]
  },
  {
   "cell_type": "code",
   "execution_count": 38,
   "metadata": {},
   "outputs": [
    {
     "data": {
      "text/plain": [
       "[3, 42, 42, 3]"
      ]
     },
     "execution_count": 38,
     "metadata": {},
     "output_type": "execute_result"
    }
   ],
   "source": [
    "numbers = [12,83,104,129,140,184,199,300,306,312,321,325,341,344,349,356,370,405,423,444,446,465,471,491,500,506,508,530,539,543,569,591,606,607,612,614,623,627,645,662,670,685,689,726,731,737,744,747,764,773,778,787,802,805,811,819,829,841,879,905,918,918,929,955,997]\n",
    "target = 789\n",
    "l=[]\n",
    "for i in range(len(numbers)-1):\n",
    "    for j in range(1,len(numbers)):\n",
    "        if numbers[i]+numbers[j]==target and i!=j:\n",
    "            l.append(i+1)\n",
    "            l.append(j+1)\n",
    "            break\n",
    "l"
   ]
  },
  {
   "cell_type": "code",
   "execution_count": 15,
   "metadata": {},
   "outputs": [
    {
     "data": {
      "text/plain": [
       "[1, 3, 4, 5]"
      ]
     },
     "execution_count": 15,
     "metadata": {},
     "output_type": "execute_result"
    }
   ],
   "source": [
    "# two pointer Technique\n",
    "nums = [2,7,11,15]\n",
    "target = 9\n",
    "l = 0\n",
    "r = len(numbers)-1;\n",
    "while l < r:\n",
    "    if numbers[l] + numbers[r] == target: return [l+1,r+1]\n",
    "    elif numbers[l] + numbers[r] < target:\n",
    "        l += 1\n",
    "    else:\n",
    "        r -= 1"
   ]
  },
  {
   "cell_type": "code",
   "execution_count": null,
   "metadata": {},
   "outputs": [],
   "source": []
  },
  {
   "cell_type": "code",
   "execution_count": null,
   "metadata": {},
   "outputs": [],
   "source": []
  },
  {
   "cell_type": "code",
   "execution_count": 40,
   "metadata": {},
   "outputs": [
    {
     "data": {
      "text/plain": [
       "[3, 42]"
      ]
     },
     "execution_count": 40,
     "metadata": {},
     "output_type": "execute_result"
    }
   ],
   "source": [
    "sorted(set(l))"
   ]
  },
  {
   "cell_type": "code",
   "execution_count": 42,
   "metadata": {},
   "outputs": [],
   "source": [
    "def twoSum(self, nums, target):\n",
    "      \"\"\"\n",
    "      :type nums: List[int]\n",
    "      :type target: int\n",
    "      :rtype: List[int]\n",
    "      \"\"\"\n",
    "      required = {}\n",
    "      for i in range(len(nums)):\n",
    "         if target - nums[i] in required:\n",
    "            return [required[target - nums[i]],i]\n",
    "         else:\n",
    "            required[nums[i]]=i"
   ]
  },
  {
   "cell_type": "markdown",
   "metadata": {},
   "source": [
    "<span style='color:Red'> message/text </span>"
   ]
  },
  {
   "cell_type": "markdown",
   "metadata": {},
   "source": [
    "<font color='Voilet'>text</font>"
   ]
  },
  {
   "cell_type": "code",
   "execution_count": 57,
   "metadata": {},
   "outputs": [
    {
     "name": "stdout",
     "output_type": "stream",
     "text": [
      "0 0\n",
      "0 1\n",
      "2 2\n",
      "3 3\n"
     ]
    }
   ],
   "source": [
    "\n",
    "nums = [2,7,11,15]\n",
    "\n",
    "target = 9\n",
    "required={}\n",
    "for i in range(len(nums)):\n",
    "    if target- nums[i] in required:\n",
    "        print(required[target-nums[i]],i)\n",
    "    else:\n",
    "        required[nums[i]]=i\n",
    "        print(required[nums[i]],i)"
   ]
  },
  {
   "cell_type": "code",
   "execution_count": 56,
   "metadata": {},
   "outputs": [
    {
     "ename": "IndexError",
     "evalue": "list assignment index out of range",
     "output_type": "error",
     "traceback": [
      "\u001b[1;31m---------------------------------------------------------------------------\u001b[0m",
      "\u001b[1;31mIndexError\u001b[0m                                Traceback (most recent call last)",
      "\u001b[1;32m<ipython-input-56-abb50d50b975>\u001b[0m in \u001b[0;36m<module>\u001b[1;34m\u001b[0m\n\u001b[0;32m      7\u001b[0m         \u001b[0mprint\u001b[0m\u001b[1;33m(\u001b[0m\u001b[0mnums\u001b[0m\u001b[1;33m[\u001b[0m\u001b[0mtarget\u001b[0m\u001b[1;33m-\u001b[0m\u001b[0mnums\u001b[0m\u001b[1;33m[\u001b[0m\u001b[0mi\u001b[0m\u001b[1;33m]\u001b[0m\u001b[1;33m]\u001b[0m\u001b[1;33m,\u001b[0m\u001b[0mi\u001b[0m\u001b[1;33m)\u001b[0m\u001b[1;33m\u001b[0m\u001b[1;33m\u001b[0m\u001b[0m\n\u001b[0;32m      8\u001b[0m     \u001b[1;32melse\u001b[0m\u001b[1;33m:\u001b[0m\u001b[1;33m\u001b[0m\u001b[1;33m\u001b[0m\u001b[0m\n\u001b[1;32m----> 9\u001b[1;33m         \u001b[0mnums\u001b[0m\u001b[1;33m[\u001b[0m\u001b[0mnums\u001b[0m\u001b[1;33m[\u001b[0m\u001b[0mi\u001b[0m\u001b[1;33m]\u001b[0m\u001b[1;33m]\u001b[0m\u001b[1;33m=\u001b[0m\u001b[0mi\u001b[0m\u001b[1;33m\u001b[0m\u001b[1;33m\u001b[0m\u001b[0m\n\u001b[0m",
      "\u001b[1;31mIndexError\u001b[0m: list assignment index out of range"
     ]
    }
   ],
   "source": [
    "nums = [2,7,11,15]\n",
    "\n",
    "target = 9\n",
    "required={}\n",
    "for i in range(len(nums)):\n",
    "    if target- nums[i] in required:\n",
    "        print(nums[target-nums[i]],i)\n",
    "    else:\n",
    "        nums[nums[i]]=i"
   ]
  },
  {
   "cell_type": "code",
   "execution_count": 94,
   "metadata": {},
   "outputs": [
    {
     "data": {
      "text/plain": [
       "2365100"
      ]
     },
     "execution_count": 94,
     "metadata": {},
     "output_type": "execute_result"
    }
   ],
   "source": []
  },
  {
   "cell_type": "code",
   "execution_count": null,
   "metadata": {},
   "outputs": [],
   "source": [
    "nums = [2,7,11,15]\n",
    "target = 9\n",
    "dictionary={}\n",
    "for i in range(len(nums)):\n",
    "    if target - nums[i] in required:\n",
    "        "
   ]
  },
  {
   "cell_type": "code",
   "execution_count": 8,
   "metadata": {},
   "outputs": [
    {
     "name": "stdout",
     "output_type": "stream",
     "text": [
      "False\n"
     ]
    },
    {
     "data": {
      "text/plain": [
       "([2, 2, 2, 2], [1, 3, 3, 3])"
      ]
     },
     "execution_count": 8,
     "metadata": {},
     "output_type": "execute_result"
    }
   ],
   "source": [
    "s = \"aacc\"\n",
    "t=  \"ccac\"\n",
    "m1=[]\n",
    "m2=[]\n",
    "\n",
    "for i in range(len(s)):\n",
    "    m1.append(s.count(s[i]))\n",
    "    m2.append(s.count(t[i]))\n",
    "if m1==m2:\n",
    "    print(True)\n",
    "else:\n",
    "    print(False)\n",
    "sorted(m1),sorted(m2)"
   ]
  },
  {
   "cell_type": "code",
   "execution_count": 13,
   "metadata": {},
   "outputs": [
    {
     "data": {
      "text/plain": [
       "(['a', 'a', 'c', 'c'], ['a', 'c', 'c', 'c'])"
      ]
     },
     "execution_count": 13,
     "metadata": {},
     "output_type": "execute_result"
    }
   ],
   "source": [
    "s = \"aacc\"\n",
    "t=  \"ccac\"\n",
    "s=sorted(s)\n",
    "t=sorted(t)\n",
    "s,t"
   ]
  },
  {
   "cell_type": "code",
   "execution_count": 101,
   "metadata": {},
   "outputs": [
    {
     "data": {
      "text/plain": [
       "2"
      ]
     },
     "execution_count": 101,
     "metadata": {},
     "output_type": "execute_result"
    }
   ],
   "source": [
    "num=38\n",
    "for i in range(9):\n",
    "    num=[int(i) for i in str(num)]\n",
    "    if sum(num)<=9:\n",
    "        break\n",
    "    num=sum(num)\n",
    "sum(num)\n",
    "\n",
    "    \n",
    "    "
   ]
  },
  {
   "cell_type": "code",
   "execution_count": 119,
   "metadata": {},
   "outputs": [
    {
     "name": "stdout",
     "output_type": "stream",
     "text": [
      "4\n"
     ]
    }
   ],
   "source": [
    "num=40\n",
    "print(1 + (num - 1) % 9 if num else 0)\n"
   ]
  },
  {
   "cell_type": "code",
   "execution_count": 130,
   "metadata": {},
   "outputs": [
    {
     "data": {
      "text/plain": [
       "2"
      ]
     },
     "execution_count": 130,
     "metadata": {},
     "output_type": "execute_result"
    }
   ],
   "source": [
    "num=38\n",
    "num%9"
   ]
  },
  {
   "cell_type": "code",
   "execution_count": 115,
   "metadata": {},
   "outputs": [
    {
     "name": "stdout",
     "output_type": "stream",
     "text": [
      "9\n",
      "0\n"
     ]
    }
   ],
   "source": [
    "num=90\n",
    "if num == 0:\n",
    "    print(0)\n",
    "if num % 9 == 0:\n",
    "    print(9)\n",
    "print(num % 9)"
   ]
  },
  {
   "cell_type": "markdown",
   "metadata": {},
   "source": [
    "power of 3"
   ]
  },
  {
   "cell_type": "code",
   "execution_count": 117,
   "metadata": {},
   "outputs": [
    {
     "name": "stdout",
     "output_type": "stream",
     "text": [
      "9\n",
      "3\n",
      "1\n",
      "False\n",
      "True\n"
     ]
    }
   ],
   "source": [
    "n=27\n",
    "while n>1:\n",
    "    n=n//3\n",
    "    print(n)\n",
    "    if n%3!=0:\n",
    "        print(False)\n",
    "        break\n",
    "if n==1:\n",
    "    print(True)\n",
    "    "
   ]
  },
  {
   "cell_type": "code",
   "execution_count": 155,
   "metadata": {},
   "outputs": [
    {
     "data": {
      "text/plain": [
       "3"
      ]
     },
     "execution_count": 155,
     "metadata": {},
     "output_type": "execute_result"
    }
   ],
   "source": [
    "n=22\n",
    "a=bin(int(n))[2:]\n",
    "a.count(\"1\")"
   ]
  },
  {
   "cell_type": "code",
   "execution_count": 173,
   "metadata": {},
   "outputs": [
    {
     "data": {
      "text/plain": [
       "[0, 2, 1]"
      ]
     },
     "execution_count": 173,
     "metadata": {},
     "output_type": "execute_result"
    }
   ],
   "source": [
    "arr=[]\n",
    "n=45\n",
    "while n>1:\n",
    "    n=n//3\n",
    "    arr.append(n%3)\n",
    "arr"
   ]
  },
  {
   "cell_type": "markdown",
   "metadata": {},
   "source": [
    "### Ugly Numbers"
   ]
  },
  {
   "cell_type": "code",
   "execution_count": 10,
   "metadata": {},
   "outputs": [],
   "source": [
    "def isUgly(n: int) -> bool:\n",
    "    if(n==1):\n",
    "        return True\n",
    "    if(n == 0):\n",
    "        return False\n",
    "    numbers = [2,3,5]\n",
    "    for i in range(len(numbers)):\n",
    "        while(n%numbers[i] == 0):\n",
    "            n /= numbers[i]\n",
    "    if(n == 1):\n",
    "        return True\n",
    "    return False"
   ]
  },
  {
   "cell_type": "code",
   "execution_count": null,
   "metadata": {},
   "outputs": [],
   "source": [
    "n=45\n",
    "numbers=[2,3,5]\n",
    "for i in range(len(numbers)):\n",
    "    while (n%numbers[i]==0):\n",
    "        n=n/numbers[i]\n",
    "    if (n==1):\n",
    "        return True\n",
    "    return False"
   ]
  },
  {
   "cell_type": "code",
   "execution_count": 15,
   "metadata": {},
   "outputs": [
    {
     "data": {
      "text/plain": [
       "False"
      ]
     },
     "execution_count": 15,
     "metadata": {},
     "output_type": "execute_result"
    }
   ],
   "source": [
    "isUgly(46)"
   ]
  },
  {
   "cell_type": "code",
   "execution_count": 25,
   "metadata": {},
   "outputs": [
    {
     "name": "stdout",
     "output_type": "stream",
     "text": [
      "8\n"
     ]
    }
   ],
   "source": [
    "nums = [9,6,4,2,3,5,7,0,1]\n",
    "nums=sorted(nums)\n",
    "l=len(nums)\n",
    "nums.append(0)\n",
    "j=0\n",
    "for i in range(l+1):\n",
    "    if nums[i]!=j:\n",
    "        print(j)\n",
    "        break\n",
    "    j=j+1\n",
    "        "
   ]
  },
  {
   "cell_type": "code",
   "execution_count": 22,
   "metadata": {},
   "outputs": [
    {
     "data": {
      "text/plain": [
       "2"
      ]
     },
     "execution_count": 22,
     "metadata": {},
     "output_type": "execute_result"
    }
   ],
   "source": [
    "def missingNumber(self, nums):\n",
    "        num_set = set(nums)\n",
    "        n = len(nums) + 1\n",
    "        for number in range(n):\n",
    "            if number not in num_set:\n",
    "                return number"
   ]
  },
  {
   "cell_type": "code",
   "execution_count": 27,
   "metadata": {},
   "outputs": [
    {
     "data": {
      "text/plain": [
       "2"
      ]
     },
     "execution_count": 27,
     "metadata": {},
     "output_type": "execute_result"
    }
   ],
   "source": [
    "missing = len(nums)\n",
    "for i, num in enumerate(nums):\n",
    "    missing ^= i ^ num\n",
    "missing"
   ]
  },
  {
   "cell_type": "code",
   "execution_count": 34,
   "metadata": {},
   "outputs": [
    {
     "data": {
      "text/plain": [
       "(37, 45.0)"
      ]
     },
     "execution_count": 34,
     "metadata": {},
     "output_type": "execute_result"
    }
   ],
   "source": [
    "n=[9,6,4,2,3,5,7,0,1]\n",
    "s=sum(n)\n",
    "l=len(n)\n",
    "g_s=(l*(l+1))/2\n",
    "print()"
   ]
  },
  {
   "cell_type": "code",
   "execution_count": 44,
   "metadata": {},
   "outputs": [
    {
     "data": {
      "text/plain": [
       "[1, 3, 12, 0, 0]"
      ]
     },
     "execution_count": 44,
     "metadata": {},
     "output_type": "execute_result"
    }
   ],
   "source": [
    "nums = [0,1,0,3,12]\n",
    "arr=[]\n",
    "for i in nums:\n",
    "    if i!=0:\n",
    "        arr.append(i)\n",
    "l=len(nums)-len(arr)\n",
    "for i in range(l):\n",
    "    arr.append(0)\n",
    "arr"
   ]
  },
  {
   "cell_type": "code",
   "execution_count": 49,
   "metadata": {},
   "outputs": [
    {
     "name": "stdout",
     "output_type": "stream",
     "text": [
      "[1, 0, 3, 12, 0]\n",
      "[1, 3, 12, 0, 0]\n"
     ]
    }
   ],
   "source": [
    "nums = [0,1,0,3,12]\n",
    "for i in range(2):\n",
    "    nums.remove(0)\n",
    "    nums.append(0)\n",
    "    print(nums)"
   ]
  },
  {
   "cell_type": "code",
   "execution_count": 78,
   "metadata": {},
   "outputs": [
    {
     "name": "stdout",
     "output_type": "stream",
     "text": [
      "False\n",
      "False\n",
      "True\n"
     ]
    }
   ],
   "source": [
    "pattern = \"aaaa\"\n",
    "s = \"dog cat cat dog\"\n",
    "s=s.split()\n",
    "if len(s)!=len(pattern):\n",
    "    print(False)\n",
    "else:\n",
    "    for i in range(len(pattern)):\n",
    "        if pattern.index(pattern[i])!=s.index(s[i]):\n",
    "            print(False)\n",
    "    else:\n",
    "        print(True)\n",
    "        "
   ]
  },
  {
   "cell_type": "code",
   "execution_count": 83,
   "metadata": {},
   "outputs": [
    {
     "data": {
      "text/plain": [
       "['dog', 'cat', 'cat', 'dog']"
      ]
     },
     "execution_count": 83,
     "metadata": {},
     "output_type": "execute_result"
    }
   ],
   "source": [
    "s = \"dog cat cat dog\"\n",
    "s.split()"
   ]
  },
  {
   "cell_type": "code",
   "execution_count": 87,
   "metadata": {},
   "outputs": [
    {
     "data": {
      "text/plain": [
       "[1, 2, 3, 4]"
      ]
     },
     "execution_count": 87,
     "metadata": {},
     "output_type": "execute_result"
    }
   ],
   "source": [
    "d={3:30,2:20,4:40,1:10}\n",
    "sorted(d)"
   ]
  },
  {
   "cell_type": "code",
   "execution_count": 100,
   "metadata": {},
   "outputs": [
    {
     "data": {
      "text/plain": [
       "[0, 1, 1, 2, 1, 2]"
      ]
     },
     "execution_count": 100,
     "metadata": {},
     "output_type": "execute_result"
    }
   ],
   "source": [
    "n=5\n",
    "arr=[]\n",
    "for i in range(n+1):\n",
    "    r=bin(i)[2:]\n",
    "    arr.append(r.count(\"1\"))\n",
    "arr   "
   ]
  },
  {
   "cell_type": "code",
   "execution_count": 117,
   "metadata": {},
   "outputs": [
    {
     "name": "stdout",
     "output_type": "stream",
     "text": [
      "False\n",
      "False\n"
     ]
    }
   ],
   "source": [
    "# power of 4\n",
    "n=8\n",
    "while n:\n",
    "    if n%4!=0:\n",
    "        print(False)\n",
    "        break\n",
    "    n=n//4\n",
    "    if n==1:\n",
    "        print(True)\n",
    "    else:\n",
    "        print(False)"
   ]
  },
  {
   "cell_type": "code",
   "execution_count": 158,
   "metadata": {},
   "outputs": [
    {
     "data": {
      "text/plain": [
       "['o', 'l', 'l', 'e', 'h']"
      ]
     },
     "execution_count": 158,
     "metadata": {},
     "output_type": "execute_result"
    }
   ],
   "source": [
    "s = [\"h\",\"e\",\"l\",\"l\",\"o\"]\n",
    "temp = s[::]\n",
    "for i in range(len(s)):\n",
    "    s[i] = temp[len(s)-i-1]\n",
    "s"
   ]
  },
  {
   "cell_type": "code",
   "execution_count": 145,
   "metadata": {},
   "outputs": [
    {
     "name": "stdout",
     "output_type": "stream",
     "text": [
      "['a', 'h', 'e', 'l', 'l', 'o']\n"
     ]
    }
   ],
   "source": [
    "s = [\"h\",\"e\",\"l\",\"l\",\"o\"]\n",
    "s.insert(0,\"a\")\n",
    "print(s)"
   ]
  },
  {
   "cell_type": "code",
   "execution_count": 15,
   "metadata": {},
   "outputs": [
    {
     "data": {
      "text/plain": [
       "['o', 'l', 'l', 'e', 'h']"
      ]
     },
     "execution_count": 15,
     "metadata": {},
     "output_type": "execute_result"
    }
   ],
   "source": [
    "s = [\"h\",\"e\",\"l\",\"l\",\"o\"]\n",
    "left, right = 0, len(s) - 1\n",
    "while left < right:\n",
    "    s[left], s[right] = s[right], s[left]\n",
    "    left, right = left + 1, right - 1\n"
   ]
  },
  {
   "cell_type": "code",
   "execution_count": 2,
   "metadata": {},
   "outputs": [
    {
     "data": {
      "text/plain": [
       "['o', 'l', 'l', 'e', 'h']"
      ]
     },
     "execution_count": 2,
     "metadata": {},
     "output_type": "execute_result"
    }
   ],
   "source": [
    "s = [\"h\",\"e\",\"l\",\"l\",\"o\"]\n",
    "s.reverse()\n",
    "s"
   ]
  },
  {
   "cell_type": "code",
   "execution_count": 14,
   "metadata": {},
   "outputs": [
    {
     "data": {
      "text/plain": [
       "['Hello', 'How', 'are', 'You']"
      ]
     },
     "execution_count": 14,
     "metadata": {},
     "output_type": "execute_result"
    }
   ],
   "source": [
    "a=\"abcd\"\n",
    "a=list(a)\n",
    "a.reverse()\n",
    "b=\"Hello How are You\"\n",
    "b.split()"
   ]
  },
  {
   "cell_type": "code",
   "execution_count": 22,
   "metadata": {},
   "outputs": [
    {
     "data": {
      "text/plain": [
       "['r', 'q', 'p', 'o', 'l', 'l', 'e', 'h']"
      ]
     },
     "execution_count": 22,
     "metadata": {},
     "output_type": "execute_result"
    }
   ],
   "source": [
    "s = [\"h\",\"e\",\"l\",\"l\",\"o\",\"p\",\"q\",\"r\"]\n",
    "left,right=0,len(s)-1\n",
    "while left<right:\n",
    "    s[left],s[right]=s[right],s[left]\n",
    "    left,right=left+1,right-1\n",
    "s"
   ]
  },
  {
   "cell_type": "code",
   "execution_count": 52,
   "metadata": {},
   "outputs": [
    {
     "data": {
      "text/plain": [
       "'leotcede'"
      ]
     },
     "execution_count": 52,
     "metadata": {},
     "output_type": "execute_result"
    }
   ],
   "source": [
    "# reverse vowels of the string\n",
    "s = \"leetcode\"\n",
    "ind=[]\n",
    "val=[]\n",
    "vowels=[\"a\",\"e\",\"i\",\"o\",\"u\"]\n",
    "for i in range(len(s)):\n",
    "    if s[i] in vowels:\n",
    "        ind.append(i)\n",
    "        val.append(s[i])\n",
    "val.reverse()\n",
    "ind,val\n",
    "s=list(s)\n",
    "for i in range(len(ind)):\n",
    "    s[ind[i]]=val[i]\n",
    "\"\".join(s)"
   ]
  },
  {
   "cell_type": "code",
   "execution_count": 59,
   "metadata": {},
   "outputs": [
    {
     "name": "stdout",
     "output_type": "stream",
     "text": [
      "['hello']\n"
     ]
    },
    {
     "data": {
      "text/plain": [
       "['hello']"
      ]
     },
     "execution_count": 59,
     "metadata": {},
     "output_type": "execute_result"
    }
   ],
   "source": [
    "s=\"hello\"\n",
    "s=s.split()\n",
    "print(s)\n",
    "left,right=0,len(s)-1\n",
    "while left<right:\n",
    "    s[left],s[right]=s[right],s[left]\n",
    "    left,right=left+1,right-1\n",
    "s"
   ]
  },
  {
   "cell_type": "code",
   "execution_count": 64,
   "metadata": {},
   "outputs": [
    {
     "data": {
      "text/plain": [
       "'hello'"
      ]
     },
     "execution_count": 64,
     "metadata": {},
     "output_type": "execute_result"
    }
   ],
   "source": [
    "s=\"hello\"\n",
    "s.strip()"
   ]
  },
  {
   "cell_type": "code",
   "execution_count": 81,
   "metadata": {},
   "outputs": [
    {
     "name": "stdout",
     "output_type": "stream",
     "text": [
      "Help on built-in function round in module builtins:\n",
      "\n",
      "round(number, ndigits=None)\n",
      "    Round a number to a given precision in decimal digits.\n",
      "    \n",
      "    The return value is an integer if ndigits is omitted or None.  Otherwise\n",
      "    the return value has the same type as the number.  ndigits may be negative.\n",
      "\n"
     ]
    }
   ],
   "source": [
    "help(round)"
   ]
  },
  {
   "cell_type": "markdown",
   "metadata": {},
   "source": [
    "### <font color=\"Orange\"> Intersection of Two Arrays</font>\n"
   ]
  },
  {
   "cell_type": "code",
   "execution_count": 3,
   "metadata": {},
   "outputs": [
    {
     "data": {
      "text/plain": [
       "{2}"
      ]
     },
     "execution_count": 3,
     "metadata": {},
     "output_type": "execute_result"
    }
   ],
   "source": [
    "nums1 = [1,2,2,1]\n",
    "nums2 = [2,2]\n",
    "arr=[]\n",
    "for i in nums1:\n",
    "    for j in nums2:\n",
    "        if i==j:\n",
    "            arr.append(i)\n",
    "set(arr)"
   ]
  },
  {
   "cell_type": "code",
   "execution_count": 6,
   "metadata": {},
   "outputs": [
    {
     "name": "stdout",
     "output_type": "stream",
     "text": [
      "[2] {1, 2} {2}\n"
     ]
    }
   ],
   "source": [
    "set1 = set(nums1)\n",
    "set2 = set(nums2)\n",
    "print(list(set2 & set1),set1,set2)"
   ]
  },
  {
   "cell_type": "code",
   "execution_count": 64,
   "metadata": {},
   "outputs": [
    {
     "data": {
      "text/plain": [
       "[2, 2]"
      ]
     },
     "execution_count": 64,
     "metadata": {},
     "output_type": "execute_result"
    }
   ],
   "source": [
    "nums1 = [1,2,2,1]\n",
    "nums2 = [2,2]\n",
    "nums1 and nums2"
   ]
  },
  {
   "cell_type": "code",
   "execution_count": 38,
   "metadata": {},
   "outputs": [
    {
     "data": {
      "text/plain": [
       "([4, 4, 9], [4, 8, 9, 9])"
      ]
     },
     "execution_count": 38,
     "metadata": {},
     "output_type": "execute_result"
    }
   ],
   "source": [
    "a=[4,9,4]\n",
    "b=[9,9,8,4]\n",
    "sorted(a),sorted(b)"
   ]
  },
  {
   "cell_type": "code",
   "execution_count": null,
   "metadata": {},
   "outputs": [],
   "source": [
    "# Intersection 2\n",
    "result = []\n",
    "for i in nums1:\n",
    "    if i in nums2:\n",
    "        result.append(i)\n",
    "        nums2.remove(i)\n",
    "\n",
    "return result"
   ]
  },
  {
   "cell_type": "code",
   "execution_count": 61,
   "metadata": {},
   "outputs": [
    {
     "data": {
      "text/plain": [
       "{4}"
      ]
     },
     "execution_count": 61,
     "metadata": {},
     "output_type": "execute_result"
    }
   ],
   "source": [
    "a={1,2,3,4,3,2}\n",
    "b={4,5,6,7}\n",
    "a & b"
   ]
  },
  {
   "attachments": {
    "c3a6938f7873041b8da235f89746644a718d2686e171798507391b8d923d59c3.jpg": {
     "image/jpeg": "[encoded data removed]"
    }
   },
   "cell_type": "markdown",
   "metadata": {},
   "source": [
    "![c3a6938f7873041b8da235f89746644a718d2686e171798507391b8d923d59c3.jpg](attachment:c3a6938f7873041b8da235f89746644a718d2686e171798507391b8d923d59c3.jpg)"
   ]
  },
  {
   "cell_type": "markdown",
   "metadata": {},
   "source": [
    "### Valid Perfect Square"
   ]
  },
  {
   "cell_type": "code",
   "execution_count": null,
   "metadata": {},
   "outputs": [],
   "source": [
    "Add to List\n",
    "\n",
    "Share\n",
    "Given a positive integer num, write a function which returns True if num is a perfect square else False.\n",
    "\n",
    "Follow up: Do not use any built-in library function such as sqrt.\n",
    "\n",
    " \n",
    "\n",
    "Example 1:\n",
    "\n",
    "Input: num = 16\n",
    "Output: true\n",
    "Example 2:\n",
    "\n",
    "Input: num = 14\n",
    "Output: false"
   ]
  },
  {
   "cell_type": "code",
   "execution_count": null,
   "metadata": {},
   "outputs": [],
   "source": [
    "x = num**0.5;return True if int(x) == x else False"
   ]
  },
  {
   "cell_type": "code",
   "execution_count": 10,
   "metadata": {},
   "outputs": [
    {
     "name": "stdout",
     "output_type": "stream",
     "text": [
      "False\n"
     ]
    }
   ],
   "source": [
    "n=17\n",
    "i = 1\n",
    "the_sum = 0\n",
    "while the_sum < n:\n",
    "    the_sum += i\n",
    "    if the_sum == n:\n",
    "        print(True)\n",
    "    i += 2\n",
    "print(False)"
   ]
  },
  {
   "cell_type": "code",
   "execution_count": 17,
   "metadata": {},
   "outputs": [
    {
     "name": "stdout",
     "output_type": "stream",
     "text": [
      "Yes 4 4.0\n"
     ]
    }
   ],
   "source": [
    "n=16\n",
    "import math\n",
    "r=math.sqrt(n)\n",
    "if int(r)==r:\n",
    "    print(\"Yes\")\n",
    "else:\n",
    "    print(\"No\")"
   ]
  },
  {
   "cell_type": "code",
   "execution_count": 26,
   "metadata": {},
   "outputs": [
    {
     "name": "stdout",
     "output_type": "stream",
     "text": [
      "Yes\n"
     ]
    }
   ],
   "source": [
    "n=4\n",
    "r=0\n",
    "for i in range(1,n,2):\n",
    "    r=r+i\n",
    "    if r==n:\n",
    "        print(\"Yes\")\n",
    "        break"
   ]
  },
  {
   "cell_type": "code",
   "execution_count": 48,
   "metadata": {},
   "outputs": [],
   "source": [
    "def sqrt(num):\n",
    "    \"\"\"\"\n",
    "    Here we return if the number is perfect square or not\n",
    "    Method is by rooting the number,if we get an int it is perfect square else it is not\n",
    "    \n",
    "    >>> sqrt(num)==num**5\n",
    "    \"\"\"\n",
    "    x = num**0.5;return True if int(x) == x else False\n"
   ]
  },
  {
   "cell_type": "code",
   "execution_count": 49,
   "metadata": {},
   "outputs": [
    {
     "name": "stdout",
     "output_type": "stream",
     "text": [
      "Help on function sqrt in module __main__:\n",
      "\n",
      "sqrt(num)\n",
      "    \"\n",
      "    Here we return if the number is perfect square or not\n",
      "    Method is by rooting the number,if we get an int it is perfect square else it is not\n",
      "    \n",
      "    >>> sqrt(num)==num**5\n",
      "\n"
     ]
    }
   ],
   "source": [
    "help(sqrt)"
   ]
  },
  {
   "cell_type": "code",
   "execution_count": 51,
   "metadata": {},
   "outputs": [],
   "source": [
    "l,h=0,n-1\n",
    "ret=0\n",
    "while l>h:\n",
    "    ret=guess(n)\n",
    "    if n==0:\n",
    "        print(\"Yes\")\n",
    "    elif n==1:\n",
    "        l=l+1\n",
    "    elif n==-1:\n",
    "        h=h-1"
   ]
  },
  {
   "cell_type": "code",
   "execution_count": 50,
   "metadata": {},
   "outputs": [],
   "source": [
    "def guessNumber(self, n: int) -> int:\n",
    "        \n",
    "    l = 0 \n",
    "    r = n \n",
    "\n",
    "    while l <= r: \n",
    "        mid = (l+r)//2\n",
    "\n",
    "        if guess(mid) == 0:\n",
    "            return mid \n",
    "        elif guess(mid) == 1: \n",
    "            l = mid +1\n",
    "        else: \n",
    "            r = mid "
   ]
  },
  {
   "cell_type": "code",
   "execution_count": 4,
   "metadata": {},
   "outputs": [
    {
     "name": "stdout",
     "output_type": "stream",
     "text": [
      "Yes\n"
     ]
    }
   ],
   "source": [
    "a=\"aab\"\n",
    "b=\"baa\"\n",
    "for i in range(len(a)):\n",
    "    if a.count(a[i])!=b.count(a[i]):\n",
    "        print(\"No\")\n",
    "else:\n",
    "    print(\"Yes\")"
   ]
  },
  {
   "cell_type": "code",
   "execution_count": 37,
   "metadata": {},
   "outputs": [
    {
     "data": {
      "text/plain": [
       "(['a', 'a'], ['a', 'a', 'b'])"
      ]
     },
     "execution_count": 37,
     "metadata": {},
     "output_type": "execute_result"
    }
   ],
   "source": [
    "ransomNote = \"aa\"\n",
    "magazine = \"aab\"\n",
    "magazine=\",\".join(magazine)\n",
    "magazine=magazine.split(\",\")\n",
    "ransomNote = \",\".join(ransomNote)\n",
    "ransomNote=ransomNote.split(\",\")\n",
    "ransomNote=sorted(ransomNote)\n",
    "magazine=sorted(magazine)\n",
    "for i in range(len(ransomNote)):\n",
    "    if ransomNote.count(ransomNote[i])>=magazine.count(ransomNote[i]):\n",
    "        continue\n",
    "    return True\n",
    "return False\n"
   ]
  },
  {
   "cell_type": "code",
   "execution_count": 31,
   "metadata": {},
   "outputs": [
    {
     "data": {
      "text/plain": [
       "False"
      ]
     },
     "execution_count": 31,
     "metadata": {},
     "output_type": "execute_result"
    }
   ],
   "source": [
    "def isTrue(a,b):\n",
    "    for i in range(len(ransomNote)):\n",
    "        if ransomNote[i] in magazine:\n",
    "            magazine.remove(ransomNote[i])\n",
    "        else:\n",
    "            return False\n",
    "    return True\n",
    "isTrue(\"aa\",\"aab\")"
   ]
  },
  {
   "cell_type": "markdown",
   "metadata": {},
   "source": [
    "### Counter Uses"
   ]
  },
  {
   "cell_type": "code",
   "execution_count": 2,
   "metadata": {},
   "outputs": [],
   "source": [
    "from collections import Counter"
   ]
  },
  {
   "cell_type": "code",
   "execution_count": 8,
   "metadata": {},
   "outputs": [],
   "source": [
    "def first(s):\n",
    "    count=Counter(s)\n",
    "    for idx,ch in enumerate(s):\n",
    "        if count[ch]==1:\n",
    "            count\n",
    "    return -1"
   ]
  },
  {
   "cell_type": "code",
   "execution_count": 10,
   "metadata": {},
   "outputs": [
    {
     "data": {
      "text/plain": [
       "10"
      ]
     },
     "execution_count": 10,
     "metadata": {},
     "output_type": "execute_result"
    }
   ],
   "source": [
    "first(\"kkggttyyiiann\")"
   ]
  },
  {
   "cell_type": "code",
   "execution_count": 11,
   "metadata": {},
   "outputs": [
    {
     "data": {
      "text/plain": [
       "Counter({'l': 2, 'e': 3, 't': 1, 'c': 1, 'o': 1, 'd': 1})"
      ]
     },
     "execution_count": 11,
     "metadata": {},
     "output_type": "execute_result"
    }
   ],
   "source": [
    "s=\"leetcodel\"\n",
    "count=Counter(s)\n",
    "count\n",
    "        "
   ]
  },
  {
   "cell_type": "code",
   "execution_count": 16,
   "metadata": {},
   "outputs": [
    {
     "data": {
      "text/plain": [
       "FreqDist({'e': 3, 'l': 2, 't': 1, 'c': 1, 'o': 1, 'd': 1})"
      ]
     },
     "execution_count": 16,
     "metadata": {},
     "output_type": "execute_result"
    }
   ],
   "source": [
    "from nltk.probability import FreqDist\n",
    "f=FreqDist(s)\n",
    "f"
   ]
  },
  {
   "cell_type": "code",
   "execution_count": 20,
   "metadata": {},
   "outputs": [
    {
     "name": "stdout",
     "output_type": "stream",
     "text": [
      "e\n"
     ]
    }
   ],
   "source": [
    "s = \"abcd\"\n",
    "t = \"abcde\"\n",
    "for i in t:\n",
    "    if i not in s:\n",
    "        print(i)"
   ]
  },
  {
   "cell_type": "code",
   "execution_count": 24,
   "metadata": {},
   "outputs": [],
   "source": [
    "def findTheDifference(self, s, t):\n",
    "    return [i for i in set(t) if s.count(i)!=t.count(i)][0]"
   ]
  },
  {
   "cell_type": "code",
   "execution_count": 36,
   "metadata": {},
   "outputs": [
    {
     "name": "stdout",
     "output_type": "stream",
     "text": [
      "2 3\n"
     ]
    }
   ],
   "source": [
    "s=\"aa\"\n",
    "t=\"aaa\"\n",
    "arr=[]\n",
    "for i in set(t):\n",
    "    print(s.count(i),t.count(i))"
   ]
  },
  {
   "cell_type": "code",
   "execution_count": 2,
   "metadata": {},
   "outputs": [
    {
     "data": {
      "text/plain": [
       "('abc', 'ahcgdb')"
      ]
     },
     "execution_count": 2,
     "metadata": {},
     "output_type": "execute_result"
    }
   ],
   "source": [
    "s=\"abc\"\n",
    "t=\"ahcgdb\"\n"
   ]
  },
  {
   "cell_type": "code",
   "execution_count": 6,
   "metadata": {},
   "outputs": [
    {
     "name": "stdout",
     "output_type": "stream",
     "text": [
      "3\n"
     ]
    },
    {
     "data": {
      "text/plain": [
       "3"
      ]
     },
     "execution_count": 6,
     "metadata": {},
     "output_type": "execute_result"
    }
   ],
   "source": [
    "s=\"ccc\"\n",
    "def count(s):\n",
    "    arr=[]\n",
    "    if s.count(s[0])==len(s):\n",
    "        print(len(s))\n",
    "        return len(s)\n",
    "    for i in s:\n",
    "        if s.count(i)>0 and s.count(i)%2==0:\n",
    "            arr.append(i)\n",
    "    if len(arr)==len(s):\n",
    "        return len(arr)\n",
    "    else:\n",
    "        return len(arr)+1\n",
    "count(s)"
   ]
  },
  {
   "cell_type": "code",
   "execution_count": 10,
   "metadata": {},
   "outputs": [
    {
     "data": {
      "text/plain": [
       "[1, 4, 3, 4]"
      ]
     },
     "execution_count": 10,
     "metadata": {},
     "output_type": "execute_result"
    }
   ],
   "source": [
    "a=[1,3,4,3,4]\n",
    "a.remove(3)\n",
    "a"
   ]
  },
  {
   "cell_type": "code",
   "execution_count": 21,
   "metadata": {},
   "outputs": [],
   "source": [
    "s=bin(11)[2:]+ bin(123)[2:]\n"
   ]
  },
  {
   "cell_type": "code",
   "execution_count": 23,
   "metadata": {},
   "outputs": [
    {
     "data": {
      "text/plain": [
       "[1, 2, 3, 4]"
      ]
     },
     "execution_count": 23,
     "metadata": {},
     "output_type": "execute_result"
    }
   ],
   "source": [
    "a=[1,2,3,4,3,2]\n",
    "a=set(a)\n",
    "a=list(a)\n",
    "a"
   ]
  },
  {
   "cell_type": "code",
   "execution_count": 28,
   "metadata": {},
   "outputs": [
    {
     "name": "stdout",
     "output_type": "stream",
     "text": [
      "3 2\n",
      "4 3\n",
      "5 3\n",
      "6 4\n"
     ]
    },
    {
     "data": {
      "text/plain": [
       "([3, 4, 5, 6], [1, 2, 2, 3, 3, 4, 7, 8])"
      ]
     },
     "execution_count": 28,
     "metadata": {},
     "output_type": "execute_result"
    }
   ],
   "source": [
    "nums = [4,3,2,7,8,2,3,1]\n",
    "arr=[]\n",
    "nums=sorted(nums)\n",
    "for i in range(len(nums)):\n",
    "    if (i+1)!=nums[i]:\n",
    "        print(i+1,nums[i])\n",
    "        arr.append(i+1)\n",
    "arr,nums"
   ]
  },
  {
   "cell_type": "code",
   "execution_count": 1,
   "metadata": {},
   "outputs": [],
   "source": [
    "# Longest Palindrome\n",
    "def longestPalindrome(self, s):\n",
    "    ans = 0\n",
    "    for v in collections.Counter(s).itervalues():\n",
    "        ans += v / 2 * 2\n",
    "        if ans % 2 == 0 and v % 2 == 1:\n",
    "            ans += 1\n",
    "    return ans"
   ]
  },
  {
   "cell_type": "code",
   "execution_count": 10,
   "metadata": {},
   "outputs": [
    {
     "name": "stdout",
     "output_type": "stream",
     "text": [
      "3\n",
      "3\n",
      "3\n",
      "1\n"
     ]
    }
   ],
   "source": [
    "s=bananas\n",
    "n = 0\n",
    "d = {}\n",
    "l = list(s)\n",
    "l.sort()\n",
    "for x in l:\n",
    "    if x not in d:\n",
    "        d[x] = 1\n",
    "    else:\n",
    "        del d[x]\n",
    "        n += 2\n",
    "if len(d) >= 1:\n",
    "    n += 1\n",
    "return n\n",
    "\n",
    "        "
   ]
  },
  {
   "cell_type": "code",
   "execution_count": 19,
   "metadata": {},
   "outputs": [
    {
     "data": {
      "text/plain": [
       "2"
      ]
     },
     "execution_count": 19,
     "metadata": {},
     "output_type": "execute_result"
    }
   ],
   "source": [
    "s = \"aa\"\n",
    "c=[s.count(i) for i in set(s)]\n",
    "r=0\n",
    "for i in c:\n",
    "    if i>1:\n",
    "        r=r+i\n",
    "r"
   ]
  },
  {
   "cell_type": "code",
   "execution_count": 23,
   "metadata": {},
   "outputs": [],
   "source": [
    "d.values()\n",
    "n=None"
   ]
  },
  {
   "cell_type": "code",
   "execution_count": 51,
   "metadata": {},
   "outputs": [
    {
     "name": "stdout",
     "output_type": "stream",
     "text": [
      "1\n",
      "3\n",
      "6\n",
      "10\n"
     ]
    },
    {
     "data": {
      "text/plain": [
       "3"
      ]
     },
     "execution_count": 51,
     "metadata": {},
     "output_type": "execute_result"
    }
   ],
   "source": [
    "# staircase problem\n",
    "i=1\n",
    "r=0\n",
    "while r<=8:\n",
    "    r=r+i\n",
    "    i=i+1\n",
    "    print(r)\n",
    "l=i-2\n",
    "l"
   ]
  },
  {
   "cell_type": "code",
   "execution_count": 72,
   "metadata": {},
   "outputs": [
    {
     "data": {
      "text/plain": [
       "12"
      ]
     },
     "execution_count": 72,
     "metadata": {},
     "output_type": "execute_result"
    }
   ],
   "source": [
    "s = \"tattarrattat\"\n",
    "def longest_palindrome(s):\n",
    "    r=0\n",
    "    if s.count(s[0])==len(s):\n",
    "        return len(s)\n",
    "    for i in set(s):\n",
    "        if s.count(i)%2==0 and s.count(i)>0:\n",
    "            r=r+s.count(i)\n",
    "        if s.count(i)%2==1 and s.count(i)>2:\n",
    "            r=r+s.count(i)-1\n",
    "    for i in set(s):\n",
    "        if s.count(i)==1 or (s.count(i)>=3 and s.count(i)%2==1):\n",
    "            r=r+1\n",
    "            break\n",
    "        \n",
    "    return r\n",
    "longest_palindrome(s)"
   ]
  },
  {
   "cell_type": "code",
   "execution_count": 97,
   "metadata": {},
   "outputs": [
    {
     "data": {
      "text/plain": [
       "2"
      ]
     },
     "execution_count": 97,
     "metadata": {},
     "output_type": "execute_result"
    }
   ],
   "source": [
    "nums=[2,2,1]\n",
    "def thirdMax(nums):\n",
    "    n1=list(set(nums))\n",
    "    for i in range(3):\n",
    "        try:\n",
    "            m=max(n1)\n",
    "            n1.remove(m)\n",
    "        except Exception as e:\n",
    "            return max(nums)\n",
    "    return m\n",
    "thirdMax(nums)   "
   ]
  },
  {
   "cell_type": "code",
   "execution_count": 80,
   "metadata": {},
   "outputs": [],
   "source": [
    "nums=[2,3,4,2,3,4,5]\n",
    "m=max(nums)\n",
    "r=nums.remove(m)\n",
    "r"
   ]
  },
  {
   "cell_type": "code",
   "execution_count": 117,
   "metadata": {},
   "outputs": [
    {
     "data": {
      "text/plain": [
       "5"
      ]
     },
     "execution_count": 117,
     "metadata": {},
     "output_type": "execute_result"
    }
   ],
   "source": [
    "# Number of Segments in a String\n",
    "s=\"Hello, my name is John\"\n",
    "def countSegments(s):\n",
    "    s=s.strip()\n",
    "    s=s.split(\" \")\n",
    "    return len(s)\n",
    "countSegments(s)"
   ]
  },
  {
   "cell_type": "code",
   "execution_count": 121,
   "metadata": {},
   "outputs": [
    {
     "data": {
      "text/plain": [
       "[',', ',', ',', ',', '', '', '', '', '', '', '', 'a,', 'eaefa']"
      ]
     },
     "execution_count": 121,
     "metadata": {},
     "output_type": "execute_result"
    }
   ],
   "source": [
    "s=\", , , ,        a, eaefa\"\n",
    "s=s.strip()\n",
    "s=s.split(\" \")\n",
    "s"
   ]
  },
  {
   "cell_type": "code",
   "execution_count": null,
   "metadata": {},
   "outputs": [],
   "source": [
    "# Minimum Moves to Equal Array Elements\n"
   ]
  },
  {
   "cell_type": "code",
   "execution_count": 7,
   "metadata": {},
   "outputs": [
    {
     "data": {
      "text/plain": [
       "2"
      ]
     },
     "execution_count": 7,
     "metadata": {},
     "output_type": "execute_result"
    }
   ],
   "source": [
    "#  Assign Cookies\n",
    "g=[10,9,8,7]\n",
    "s=[5,6,7,8] \n",
    "r=0\n",
    "for i in g:\n",
    "    for j in s:\n",
    "        if i<=j:\n",
    "            r+=1\n",
    "            s.remove(j)\n",
    "r"
   ]
  },
  {
   "cell_type": "code",
   "execution_count": 11,
   "metadata": {},
   "outputs": [
    {
     "data": {
      "text/plain": [
       "2"
      ]
     },
     "execution_count": 11,
     "metadata": {},
     "output_type": "execute_result"
    }
   ],
   "source": [
    "# Hamming Distance\n",
    "x=1\n",
    "y=4\n",
    "a1=bin(x)[2:]\n",
    "a1=a1.zfill(4)\n",
    "a2=bin(y)[2:]\n",
    "a2=a2.zfill(4)\n",
    "r=0\n",
    "for i in range(len(a1)):\n",
    "    if a1[i]!=a2[i]:\n",
    "        r+=1\n",
    "r"
   ]
  },
  {
   "cell_type": "code",
   "execution_count": 14,
   "metadata": {},
   "outputs": [
    {
     "data": {
      "text/plain": [
       "3"
      ]
     },
     "execution_count": 14,
     "metadata": {},
     "output_type": "execute_result"
    }
   ],
   "source": [
    "16^19"
   ]
  },
  {
   "cell_type": "code",
   "execution_count": 21,
   "metadata": {},
   "outputs": [
    {
     "data": {
      "text/plain": [
       "16"
      ]
     },
     "execution_count": 21,
     "metadata": {},
     "output_type": "execute_result"
    }
   ],
   "source": [
    "# island parametr\n",
    "grid = [[0,1,0,0],[1,1,1,0],[0,1,0,0],[1,1,0,0]]\n",
    "p = 0\n",
    "for i in range(len(grid)):\n",
    "    for j in range(len(grid[i])):\n",
    "        if grid[i][j]:\n",
    "            p += 4 - (i and grid[i-1][j])*2 - (j and grid[i][j - 1])*2\n",
    "p\n"
   ]
  },
  {
   "cell_type": "code",
   "execution_count": 37,
   "metadata": {},
   "outputs": [
    {
     "data": {
      "text/plain": [
       "5"
      ]
     },
     "execution_count": 37,
     "metadata": {},
     "output_type": "execute_result"
    }
   ],
   "source": [
    "n=5\n",
    "a=0\n",
    "b=1\n",
    "c=0\n",
    "for i in range(n-1):\n",
    "    c=a+b\n",
    "    a,b=b,c\n",
    "    \n",
    "c"
   ]
  },
  {
   "cell_type": "code",
   "execution_count": 4,
   "metadata": {},
   "outputs": [
    {
     "data": {
      "text/plain": [
       "[2, 3, 3, 4, 4, 5]"
      ]
     },
     "execution_count": 4,
     "metadata": {},
     "output_type": "execute_result"
    }
   ],
   "source": [
    "a=[3,2,4,5,4,3]\n",
    "a.sort()\n",
    "a"
   ]
  },
  {
   "cell_type": "code",
   "execution_count": 9,
   "metadata": {},
   "outputs": [
    {
     "data": {
      "text/plain": [
       "'[2, 3, 3, 4, 4, 5][2, 3, 3, 4, 4, 5]'"
      ]
     },
     "execution_count": 9,
     "metadata": {},
     "output_type": "execute_result"
    }
   ],
   "source": [
    "f\"{a}{a}\""
   ]
  },
  {
   "cell_type": "code",
   "execution_count": 20,
   "metadata": {},
   "outputs": [
    {
     "name": "stdout",
     "output_type": "stream",
     "text": [
      "yes\n"
     ]
    },
    {
     "data": {
      "text/plain": [
       "(['a', 'a', 'a', 'b', 'b', 'b', 'c', 'c', 'c'], 'abcabcabc')"
      ]
     },
     "execution_count": 20,
     "metadata": {},
     "output_type": "execute_result"
    }
   ],
   "source": [
    "s='abcabcabc'\n",
    "l=sorted((set(s)))\n",
    "t=sorted(s)\n",
    "r=len(s)//len(l)\n",
    "if sorted(l*r)==t:\n",
    "    print(\"yes\")\n",
    "else:\n",
    "    print(\"false\")\n"
   ]
  },
  {
   "cell_type": "code",
   "execution_count": null,
   "metadata": {},
   "outputs": [],
   "source": []
  },
  {
   "cell_type": "code",
   "execution_count": 4,
   "metadata": {},
   "outputs": [
    {
     "data": {
      "text/plain": [
       "'abababab'"
      ]
     },
     "execution_count": 4,
     "metadata": {},
     "output_type": "execute_result"
    }
   ],
   "source": [
    "s*2"
   ]
  },
  {
   "cell_type": "code",
   "execution_count": 5,
   "metadata": {},
   "outputs": [],
   "source": [
    "g = [1,2,3]\n",
    "s = [1,1]\n",
    "def cookies(g,s):\n",
    "    g.sort()\n",
    "    s.sort()\n",
    "    i=0\n",
    "    j=0\n",
    "    r=0\n",
    "    noc=len(g)\n",
    "    noco=len(g)\n",
    "    ans=0\n",
    "    while (i<noc and j<noco):\n",
    "        if i<=j:\n",
    "            r+=1\n",
    "            i+=1\n",
    "            j+=1\n",
    "        else:\n",
    "            j+=1\n",
    "    return r"
   ]
  },
  {
   "cell_type": "code",
   "execution_count": 6,
   "metadata": {},
   "outputs": [
    {
     "data": {
      "text/plain": [
       "3"
      ]
     },
     "execution_count": 6,
     "metadata": {},
     "output_type": "execute_result"
    }
   ],
   "source": [
    "cookies(g,s)"
   ]
  },
  {
   "cell_type": "code",
   "execution_count": null,
   "metadata": {},
   "outputs": [],
   "source": [
    "class Solution:\n",
    "    def findContentChildren(self, g: List[int], s: List[int]) -> int:\n",
    "        g.sort()\n",
    "        s.sort()\n",
    "        i=0\n",
    "        j=0\n",
    "        noc=len(g)\n",
    "        noco=len(s)\n",
    "   \n",
    "        ans=0\n",
    "        while(i<noc and j<noco):\n",
    "    \n",
    "            if g[i]<=s[j]:\n",
    "                ans+=1\n",
    "                j+=1\n",
    "                i+=1\n",
    "            else:\n",
    "                j+=1\n",
    "            \n",
    "        return ans"
   ]
  },
  {
   "cell_type": "code",
   "execution_count": null,
   "metadata": {},
   "outputs": [],
   "source": [
    " def repeatedSubstringPattern(self, s: str) -> bool:\n",
    "        \n",
    "        i=1\n",
    "        while (i*2 <= len(s)):\n",
    "            x = len(s)//i\n",
    "            if s[:i]*x == s:\n",
    "                return True\n",
    "            i += 1\n",
    "            \n",
    "        return False"
   ]
  },
  {
   "cell_type": "code",
   "execution_count": 64,
   "metadata": {},
   "outputs": [
    {
     "data": {
      "text/plain": [
       "'2-5G-3J'"
      ]
     },
     "execution_count": 64,
     "metadata": {},
     "output_type": "execute_result"
    }
   ],
   "source": [
    "# License key formating\n",
    "s =\"2-5g-3-J\"\n",
    "k = 2\n",
    "arr=[]\n",
    "s=s.split(\"-\")\n",
    "s=\"\".join(s)\n",
    "s=s.upper()\n",
    "gr=len(s)//k\n",
    "l=len(s)\n",
    "if l%k!=0:\n",
    "    m=l//k\n",
    "    r=l-m*k\n",
    "    arr.append(s[0:r])\n",
    "    i=r\n",
    "    while i<l:\n",
    "        arr.append(s[i:i+k])\n",
    "        i+=k\n",
    "else:\n",
    "    i=0\n",
    "    while i<l:\n",
    "        arr.append(s[i:i+k])\n",
    "        i+=k\n",
    "arr=\"-\".join(arr) \n",
    "arr    "
   ]
  },
  {
   "cell_type": "code",
   "execution_count": 87,
   "metadata": {},
   "outputs": [
    {
     "data": {
      "text/plain": [
       "2"
      ]
     },
     "execution_count": 87,
     "metadata": {},
     "output_type": "execute_result"
    }
   ],
   "source": [
    "# Number Complement\n",
    "a=bin(5)[2:]\n",
    "arr=str()\n",
    "for i in range(len(a)):\n",
    "    if a[i]==\"1\":\n",
    "        arr=arr+\"0\"\n",
    "    elif a[i]==\"0\":\n",
    "        arr=arr+\"1\"\n",
    "int(arr,2)"
   ]
  },
  {
   "cell_type": "code",
   "execution_count": 61,
   "metadata": {},
   "outputs": [
    {
     "name": "stdout",
     "output_type": "stream",
     "text": [
      "[2, 28]\n",
      "[4, 14]\n",
      "[7, 8]\n",
      "[8, 7]\n",
      "[14, 4]\n",
      "[28, 2]\n",
      "[56, 1]\n"
     ]
    }
   ],
   "source": [
    "# construct a rectangle\n",
    "area=56\n",
    "mn=area\n",
    "for i in range(int(area/2),0,-1):\n",
    "    if area%i==0:\n",
    "        print([area//i,i])"
   ]
  },
  {
   "cell_type": "code",
   "execution_count": 63,
   "metadata": {},
   "outputs": [
    {
     "data": {
      "text/plain": [
       "3"
      ]
     },
     "execution_count": 63,
     "metadata": {},
     "output_type": "execute_result"
    }
   ],
   "source": [
    "# Max Consecutive Ones\n",
    "nums = [1,1,0,1,1,1]\n",
    "r=0\n",
    "l=0\n",
    "for i in nums:\n",
    "    if i==1:\n",
    "        r=r+1\n",
    "    elif i==0:\n",
    "        r=0\n",
    "    l=max(r,l)\n",
    "l  "
   ]
  },
  {
   "cell_type": "code",
   "execution_count": 32,
   "metadata": {},
   "outputs": [
    {
     "data": {
      "text/plain": [
       "[[1, 2], [2, 3], [3, 4]]"
      ]
     },
     "execution_count": 32,
     "metadata": {},
     "output_type": "execute_result"
    }
   ],
   "source": [
    "# find poison duration\n",
    "timeSeries=[1,2,3]\n",
    "duration=2\n",
    "arr=[]\n",
    "for i in timeSeries:\n",
    "    arr.append([i,i+duration-1])\n",
    "arr"
   ]
  },
  {
   "cell_type": "code",
   "execution_count": 34,
   "metadata": {},
   "outputs": [
    {
     "data": {
      "text/plain": [
       "6"
      ]
     },
     "execution_count": 34,
     "metadata": {},
     "output_type": "execute_result"
    }
   ],
   "source": [
    "r=0\n",
    "arr1=[]\n",
    "for i in range(len(arr)-1):\n",
    "    if arr[i][1]>=arr[i+1][0]:\n",
    "        r=r+arr[i+1][1]-arr[i][0]+1\n",
    "    else:\n",
    "        r=r+duration\n",
    "\n",
    "r"
   ]
  },
  {
   "cell_type": "code",
   "execution_count": null,
   "metadata": {},
   "outputs": [],
   "source": [
    "def merge(self, intervals: List[List[int]]) -> List[List[int]]:\n",
    "\n",
    "        intervals.sort(key=lambda x: x[0])\n",
    "\n",
    "        merged = []\n",
    "        for interval in intervals:\n",
    "            # if the list of merged intervals is empty or if the current\n",
    "            # interval does not overlap with the previous, simply append it.\n",
    "            if not merged or merged[-1][1] < interval[0]:\n",
    "                merged.append(interval)\n",
    "            else:\n",
    "            # otherwise, there is overlap, so we merge the current and previous\n",
    "            # intervals.\n",
    "                merged[-1][1] = max(merged[-1][1], interval[1])\n",
    "\n",
    "        return merged"
   ]
  },
  {
   "cell_type": "code",
   "execution_count": 9,
   "metadata": {},
   "outputs": [
    {
     "data": {
      "text/plain": [
       "['Alaska', 'Dad']"
      ]
     },
     "execution_count": 9,
     "metadata": {},
     "output_type": "execute_result"
    }
   ],
   "source": [
    "a=\"qwertyuiop\"\n",
    "b=\"asdfghjkl\"\n",
    "c=\"zxcvbnm\"\n",
    "\n",
    "words = [\"Hello\",\"Alaska\",\"Dad\",\"Peace\"]\n",
    "d = {\n",
    "            \"1\": \"qwertyuiop\",\n",
    "            \"2\": \"asdfghjkl\",\n",
    "            \"3\": \"zxcvbnm\"\n",
    "        }\n",
    "res = []\n",
    "for word in words:\n",
    "    for val in d.values():\n",
    "        if len(set(word.lower()).intersection(val)) == len(set(word.lower())):\n",
    "            res.append(word)\n",
    "            break\n",
    "res\n"
   ]
  },
  {
   "cell_type": "code",
   "execution_count": null,
   "metadata": {},
   "outputs": [],
   "source": [
    "Input: nums1 = [4,1,2], nums2 = [1,3,4,2]\n",
    "Output: [-1,3,-1]"
   ]
  },
  {
   "cell_type": "code",
   "execution_count": 17,
   "metadata": {},
   "outputs": [
    {
     "data": {
      "text/plain": [
       "[-1, 3, -1]"
      ]
     },
     "execution_count": 17,
     "metadata": {},
     "output_type": "execute_result"
    }
   ],
   "source": [
    "# find next greater element\n",
    "nums1 = [4,1,2]\n",
    "nums2 = [1,3,4,2]\n",
    "arr=[]\n",
    "for i in nums1:\n",
    "    ind=nums2.index(i)\n",
    "    for j in range(ind,len(nums2)):\n",
    "        if nums2[j]>i:\n",
    "            arr.append(nums2[j])\n",
    "            break\n",
    "    else:\n",
    "        arr.append(-1)\n",
    "            \n",
    "arr         "
   ]
  },
  {
   "cell_type": "code",
   "execution_count": null,
   "metadata": {},
   "outputs": [],
   "source": []
  },
  {
   "cell_type": "code",
   "execution_count": null,
   "metadata": {},
   "outputs": [],
   "source": []
  },
  {
   "cell_type": "code",
   "execution_count": 26,
   "metadata": {},
   "outputs": [],
   "source": [
    "# Merge Intervals\n",
    "def merge(intervals):\n",
    "\n",
    "        intervals.sort(key=lambda x: x[0])\n",
    "\n",
    "        merged = []\n",
    "        for interval in intervals:\n",
    "            # if the list of merged intervals is empty or if the current\n",
    "            # interval does not overlap with the previous, simply append it.\n",
    "            if not merged or merged[-1][1] < interval[0]:\n",
    "                merged.append(interval)\n",
    "            else:\n",
    "            # otherwise, there is overlap, so we merge the current and previous\n",
    "            # intervals.\n",
    "                merged[-1][1] = max(merged[-1][1], interval[1])\n",
    "\n",
    "        return merged"
   ]
  },
  {
   "cell_type": "code",
   "execution_count": 39,
   "metadata": {},
   "outputs": [
    {
     "data": {
      "text/plain": [
       "[[1, 3], [8, 18]]"
      ]
     },
     "execution_count": 39,
     "metadata": {},
     "output_type": "execute_result"
    }
   ],
   "source": [
    "intervals = [[1,3],[10,16],[8,10],[15,18]]\n",
    "intervals.sort()\n",
    "intervals\n",
    "merged=[]\n",
    "for interval in intervals:\n",
    "    if not merged or merged[-1][1]<interval[0]:\n",
    "        merged.append(interval)\n",
    "    else:\n",
    "        merged[-1][1]=max(merged[-1][1],interval[1])\n",
    "merged"
   ]
  },
  {
   "cell_type": "code",
   "execution_count": 97,
   "metadata": {},
   "outputs": [
    {
     "name": "stdout",
     "output_type": "stream",
     "text": [
      "[2, 'Not']\n",
      "[2, 'Not', 1, 'Yes']\n",
      "[2, 'Not', 1, 'Yes', 2, 'Yes']\n",
      "[2, 'Not', 1, 'Yes', 2, 'Yes', 3, 'Yes']\n"
     ]
    }
   ],
   "source": [
    "a=[]\n",
    "b=[2,1,2,3]\n",
    "for i in b:\n",
    "    if not a:\n",
    "        a.append(i)\n",
    "        a.append(\"Not\")\n",
    "    else:\n",
    "        a.append(i)\n",
    "        a.append(\"Yes\")\n",
    "    print(a)"
   ]
  },
  {
   "cell_type": "code",
   "execution_count": 96,
   "metadata": {},
   "outputs": [
    {
     "data": {
      "text/plain": [
       "49"
      ]
     },
     "execution_count": 96,
     "metadata": {},
     "output_type": "execute_result"
    }
   ],
   "source": [
    "num=100\n",
    "int(\"100\",7)"
   ]
  },
  {
   "cell_type": "markdown",
   "metadata": {},
   "source": [
    "\"\"\"\"\"\"\"\"\"\"\"\"\"\"\"\"\"\"\"\"\"\"\"\"\"\"\"\"\"\"\"\"\"\"\"\"\"\"''''''''''''''''''''''''''''''''''''''''''''''''''''''''''''''''''''''''''''''''''''''''''''''''''''''''''''''''''''''''''''''''''''''''''''''''''''''''''''''''''''''''''''''''''''''''''''''''''''''''''''''''''''''''''''''''''''''''''''''''''''''''''''''''''''''''''''''''''''''''''''''''''''"
   ]
  },
  {
   "cell_type": "code",
   "execution_count": 59,
   "metadata": {},
   "outputs": [
    {
     "data": {
      "text/plain": [
       "'-10'"
      ]
     },
     "execution_count": 59,
     "metadata": {},
     "output_type": "execute_result"
    }
   ],
   "source": [
    "i=0\n",
    "n=-7\n",
    "s=str()\n",
    "n1=abs(n)\n",
    "while n1>=1:\n",
    "    i=n1%7\n",
    "    n1=n1/7\n",
    "    s=s+str(int(i))\n",
    "s=list(reversed(s))\n",
    "s=\"\".join(s)\n",
    "if n<0:\n",
    "    s=\"-\"+s\n",
    "s"
   ]
  },
  {
   "cell_type": "code",
   "execution_count": null,
   "metadata": {},
   "outputs": [],
   "source": [
    "score = [5,4,3,2,1]\n",
    "[\"Gold Medal\",\"Silver Medal\",\"Bronze Medal\",\"4\",\"5\"]"
   ]
  },
  {
   "cell_type": "code",
   "execution_count": null,
   "metadata": {},
   "outputs": [],
   "source": [
    "score = [5,4,3,2,1]\n"
   ]
  },
  {
   "cell_type": "code",
   "execution_count": 98,
   "metadata": {},
   "outputs": [],
   "source": [
    "word=\"GooglT\"\n",
    "if word[0]==word[0].upper() and word[1:]==word[1:].lower():\n",
    "    print(True)"
   ]
  },
  {
   "cell_type": "code",
   "execution_count": null,
   "metadata": {},
   "outputs": [],
   "source": [
    "s = \"Let's take LeetCode contest\"\n",
    "Output: \"s'teL ekat edoCteeL tsetnoc\""
   ]
  },
  {
   "cell_type": "code",
   "execution_count": 129,
   "metadata": {},
   "outputs": [
    {
     "data": {
      "text/plain": [
       "\"s'teL ekat edoCteeL tsetnoc\""
      ]
     },
     "execution_count": 129,
     "metadata": {},
     "output_type": "execute_result"
    }
   ],
   "source": [
    "s = \"Let's take LeetCode contest\"\n",
    "s=s[::-1]\n",
    "s=s.split(\" \")\n",
    "s.reverse()\n",
    "\" \".join(s)"
   ]
  },
  {
   "cell_type": "code",
   "execution_count": 124,
   "metadata": {},
   "outputs": [
    {
     "data": {
      "text/plain": [
       "\"tsetnoc edoCteeL ekat s'teL\""
      ]
     },
     "execution_count": 124,
     "metadata": {},
     "output_type": "execute_result"
    }
   ],
   "source": [
    "s = \"Let's take LeetCode contest\"\n",
    "s[::-1]"
   ]
  },
  {
   "cell_type": "code",
   "execution_count": 173,
   "metadata": {},
   "outputs": [
    {
     "data": {
      "text/plain": [
       "'bacdfeghji'"
      ]
     },
     "execution_count": 173,
     "metadata": {},
     "output_type": "execute_result"
    }
   ],
   "source": [
    "s = \"abcdefghij\"\n",
    "# Output: \"bacdfeg\"\n",
    "k = 2\n",
    "s=list(s)\n",
    "for i in range(0,int(len(s)),2*k):\n",
    "    s[i:i+k]=s[i:i+k][::-1]\n",
    "\"\".join(s)   \n"
   ]
  },
  {
   "cell_type": "code",
   "execution_count": 187,
   "metadata": {},
   "outputs": [
    {
     "data": {
      "text/plain": [
       "0"
      ]
     },
     "execution_count": 187,
     "metadata": {},
     "output_type": "execute_result"
    }
   ],
   "source": [
    "s = \"PLPALLP\"\n",
    "a=s.count(\"A\")\n",
    "l=0\n",
    "for i in s:\n",
    "    if i==\"L\":\n",
    "        l+=1\n",
    "        if l==3:\n",
    "            break\n",
    "    else:\n",
    "        l=0\n",
    "l"
   ]
  },
  {
   "cell_type": "code",
   "execution_count": 203,
   "metadata": {},
   "outputs": [
    {
     "data": {
      "text/plain": [
       "496"
      ]
     },
     "execution_count": 203,
     "metadata": {},
     "output_type": "execute_result"
    }
   ],
   "source": [
    "# Perfect Number\n",
    "import math\n",
    "n=496\n",
    "arr=[1]\n",
    "for i in range(2,int(math.sqrt(n))+1):\n",
    "    if n%i==0:\n",
    "        arr.append(i)\n",
    "        arr.append(n//i)\n",
    "sum(arr)"
   ]
  },
  {
   "cell_type": "code",
   "execution_count": 31,
   "metadata": {},
   "outputs": [
    {
     "data": {
      "text/plain": [
       "(['Gold Medal', 'Silver Medal'], [1, 2])"
      ]
     },
     "execution_count": 31,
     "metadata": {},
     "output_type": "execute_result"
    }
   ],
   "source": [
    "score = [10,4]\n",
    "arr=[]\n",
    "ranks=[]\n",
    "for i in score:\n",
    "    r=len(score)+1\n",
    "    for j in score:\n",
    "        if i>=j:\n",
    "            r-=1\n",
    "    arr.append(r)\n",
    "ranks=[]\n",
    "for i in arr:\n",
    "    if i==1:\n",
    "        ranks.append(\"Gold Medal\")\n",
    "    elif i==2:\n",
    "        ranks.append(\"Silver Medal\")\n",
    "    elif i==3:\n",
    "        ranks.append(\"Bronze Medal\")\n",
    "    else:\n",
    "        ranks.append(str(i))\n",
    "ranks,arr   "
   ]
  },
  {
   "cell_type": "code",
   "execution_count": null,
   "metadata": {},
   "outputs": [],
   "source": [
    "# [\"Gold Medal\",\"5\",\"Bronze Medal\",\"Silver Medal\",\"4\"]"
   ]
  },
  {
   "cell_type": "code",
   "execution_count": 5,
   "metadata": {},
   "outputs": [
    {
     "data": {
      "text/plain": [
       "[[0, 1], [0, 1], [0, 1], [0, 1], [0, 1], [0, 1]]"
      ]
     },
     "execution_count": 5,
     "metadata": {},
     "output_type": "execute_result"
    }
   ],
   "source": [
    "metrics=[[1,2,3,4],\n",
    "         [5,6,7,8],\n",
    "         [9,10,11,12]\n",
    "        ]\n",
    "r=2\n",
    "c=6\n",
    "arr1=[]\n",
    "nums=[]\n",
    "for i in metrics:\n",
    "    for j in i:\n",
    "        nums.append(j)\n",
    "    \n",
    "for i in range(c):\n",
    "    arr=[]\n",
    "    for j in range(r):\n",
    "        arr.append(j)\n",
    "    arr1.append(arr)\n",
    "arr1      "
   ]
  },
  {
   "cell_type": "code",
   "execution_count": 16,
   "metadata": {},
   "outputs": [
    {
     "data": {
      "text/plain": [
       "array([[1, 2, 3, 4, 5, 6]])"
      ]
     },
     "execution_count": 16,
     "metadata": {},
     "output_type": "execute_result"
    }
   ],
   "source": [
    "import numpy\n",
    "a=[[1,2,3],[4,5,6]]\n",
    "a=numpy.array(a)"
   ]
  },
  {
   "cell_type": "code",
   "execution_count": 18,
   "metadata": {},
   "outputs": [
    {
     "name": "stdout",
     "output_type": "stream",
     "text": [
      "[[1 2 3 4 5 6]]\n"
     ]
    }
   ],
   "source": [
    "r=5\n",
    "c=6\n",
    "try:\n",
    "    a.reshape(r,c)\n",
    "except Exception as e:\n",
    "    print(a)"
   ]
  },
  {
   "cell_type": "code",
   "execution_count": 1,
   "metadata": {},
   "outputs": [],
   "source": [
    "# merge intervals"
   ]
  },
  {
   "cell_type": "code",
   "execution_count": 14,
   "metadata": {},
   "outputs": [
    {
     "data": {
      "text/plain": [
       "48"
      ]
     },
     "execution_count": 14,
     "metadata": {},
     "output_type": "execute_result"
    }
   ],
   "source": [
    "d={}\n",
    "l1=0\n",
    "candyType = [90,15,41,51,36,41,51,85,32,23,6,69,43,36,16,78,26,34,96,17,84,66,54,69,3,56,18,84,49,82,3,75,70,16,3,42,1,95,20,60,5,3,5,78,96,42,25,34,71,70,68,20,57,62,77,48,62,29,79,8,44,13,89,82,93,44,66,33,61,30,73,85,55,90,94,57,42,42,17,25,37,34,89,53,92,28,49,53,3,96,6,87,98,35,20,79,67,66,4,94]\n",
    "for i in range(len(candyType)):\n",
    "    if i not in d:\n",
    "        d[candyType[i]]=1\n",
    "    if sum(d.values())<=len(candyType)/2:\n",
    "        l1=sum(d.values())\n",
    "    else:\n",
    "        l1=len(candyType)/2\n",
    "l1"
   ]
  },
  {
   "cell_type": "code",
   "execution_count": 8,
   "metadata": {},
   "outputs": [
    {
     "data": {
      "text/plain": [
       "100"
      ]
     },
     "execution_count": 8,
     "metadata": {},
     "output_type": "execute_result"
    }
   ],
   "source": [
    "len([90,15,41,51,36,41,51,85,32,23,6,69,43,36,16,78,26,34,96,17,84,66,54,69,3,56,18,84,49,82,3,75,70,16,3,42,1,95,20,60,5,3,5,78,96,42,25,34,71,70,68,20,57,62,77,48,62,29,79,8,44,13,89,82,93,44,66,33,61,30,73,85,55,90,94,57,42,42,17,25,37,34,89,53,92,28,49,53,3,96,6,87,98,35,20,79,67,66,4,94])"
   ]
  },
  {
   "cell_type": "code",
   "execution_count": null,
   "metadata": {},
   "outputs": [],
   "source": []
  },
  {
   "cell_type": "code",
   "execution_count": 1,
   "metadata": {},
   "outputs": [
    {
     "ename": "NameError",
     "evalue": "name 'intervals' is not defined",
     "output_type": "error",
     "traceback": [
      "\u001b[1;31m---------------------------------------------------------------------------\u001b[0m",
      "\u001b[1;31mNameError\u001b[0m                                 Traceback (most recent call last)",
      "\u001b[1;32m<ipython-input-1-74b5d724f5cd>\u001b[0m in \u001b[0;36m<module>\u001b[1;34m\u001b[0m\n\u001b[1;32m----> 1\u001b[1;33m \u001b[0mintervals\u001b[0m\u001b[1;33m.\u001b[0m\u001b[0msort\u001b[0m\u001b[1;33m(\u001b[0m\u001b[0mkey\u001b[0m\u001b[1;33m=\u001b[0m\u001b[1;32mlambda\u001b[0m \u001b[0mx\u001b[0m\u001b[1;33m:\u001b[0m\u001b[0mx\u001b[0m\u001b[1;33m[\u001b[0m\u001b[1;36m0\u001b[0m\u001b[1;33m]\u001b[0m\u001b[1;33m)\u001b[0m\u001b[1;33m\u001b[0m\u001b[1;33m\u001b[0m\u001b[0m\n\u001b[0m",
      "\u001b[1;31mNameError\u001b[0m: name 'intervals' is not defined"
     ]
    }
   ],
   "source": [
    "intervals=\n",
    "intervals.sort(key=lambda x:x[0])"
   ]
  },
  {
   "cell_type": "code",
   "execution_count": 103,
   "metadata": {},
   "outputs": [],
   "source": [
    "def merge(intervals):\n",
    "\n",
    "    intervals.sort(key=lambda x: x[0])\n",
    "\n",
    "    merged = []\n",
    "    for interval in intervals:\n",
    "        # if the list of merged intervals is empty or if the current\n",
    "        # interval does not overlap with the previous, simply append it.\n",
    "        if not merged or merged[-1][1] < interval[0]:\n",
    "            merged.append(interval)\n",
    "        else:\n",
    "        # otherwise, there is overlap, so we merge the current and previous\n",
    "        # intervals.\n",
    "            merged[-1][1] = max(merged[-1][1], interval[1])\n",
    "\n",
    "    return merged\n"
   ]
  },
  {
   "cell_type": "code",
   "execution_count": 109,
   "metadata": {},
   "outputs": [],
   "source": [
    "interval=[[1,4],[3,6],[6,10],[5,8],[20,28]]\n",
    "interval.sort(key=lambda x:x[0])\n",
    "merged=[]\n",
    "for i in interval:\n",
    "    if not merged or merged[-1][1]<i[0]:\n",
    "        merged.append(i)\n",
    "    else:\n",
    "        merged[-1][1]=max(merged[-1][1],i[1])"
   ]
  },
  {
   "cell_type": "code",
   "execution_count": 74,
   "metadata": {},
   "outputs": [
    {
     "data": {
      "text/plain": [
       "False"
      ]
     },
     "execution_count": 74,
     "metadata": {},
     "output_type": "execute_result"
    }
   ],
   "source": [
    "def isValid(s):\n",
    "\n",
    "    stack = []\n",
    "    open_brackets = {'(', '{', '['}\n",
    "    close_brackets = {')', '}', ']'}\n",
    "    matching_brackets = {')':'(', '}':'{', ']':'['}\n",
    "\n",
    "    for b in s:\n",
    "        if b in open_brackets:\n",
    "            stack.append(b)\n",
    "        elif b in close_brackets:\n",
    "            if not stack:\n",
    "                return False\n",
    "            curr_b = stack.pop()\n",
    "            if matching_brackets[b] != curr_b:\n",
    "                return False\n",
    "    if stack:\n",
    "        return False\n",
    "    else:\n",
    "        return True\n",
    "isValid(\"({[}])\")"
   ]
  },
  {
   "cell_type": "code",
   "execution_count": 26,
   "metadata": {},
   "outputs": [
    {
     "name": "stdout",
     "output_type": "stream",
     "text": [
      "2\n"
     ]
    }
   ],
   "source": [
    "import numpy as np\n",
    "m = 18\n",
    "n = 3\n",
    "ops = [[16,1],[14,3],[14,2],[4,1],[10,1],[11,1],[8,3],[16,2],[13,1],[8,3],[2,2],[9,1],[3,1],[2,2],[6,3]]\n",
    "print(min(op[0] for op in ops) * min(op[1] for op in ops) if ops else m * n)\n",
    "    "
   ]
  },
  {
   "cell_type": "code",
   "execution_count": 35,
   "metadata": {},
   "outputs": [
    {
     "data": {
      "text/plain": [
       "2"
      ]
     },
     "execution_count": 35,
     "metadata": {},
     "output_type": "execute_result"
    }
   ],
   "source": [
    "m0=(min(op[0] for op in ops))\n",
    "m1=min(op[1] for op in ops)\n",
    "m0*m1"
   ]
  },
  {
   "cell_type": "code",
   "execution_count": 102,
   "metadata": {},
   "outputs": [
    {
     "name": "stdout",
     "output_type": "stream",
     "text": [
      "['Shogun', 'Burger King', 'KFC']\n"
     ]
    },
    {
     "data": {
      "text/plain": [
       "'Shogun'"
      ]
     },
     "execution_count": 102,
     "metadata": {},
     "output_type": "execute_result"
    }
   ],
   "source": [
    "list1 =[\"Shogun\",\"Tapioca Express\",\"Burger King\",\"KFC\"]\n",
    "list2=[\"KFC\",\"Shogun\",\"Burger King\"]\n",
    "arr=[]\n",
    "r=0\n",
    "mn=1000\n",
    "ans=None\n",
    "for i in list1:\n",
    "    if i in list2:\n",
    "        arr.append(i)\n",
    "if len(arr)==1:\n",
    "    print(arr)\n",
    "for i in arr:\n",
    "    i1=list1.index(i)\n",
    "    i2=list2.index(i)\n",
    "    r=i1+i2\n",
    "    if mn>r:\n",
    "        ans=i\n",
    "        mn=r\n",
    "    if mn==r:\n",
    "        print(arr)      \n",
    "        break\n",
    "ans   "
   ]
  },
  {
   "cell_type": "code",
   "execution_count": 15,
   "metadata": {},
   "outputs": [
    {
     "data": {
      "text/plain": [
       "'Shogun'"
      ]
     },
     "execution_count": 15,
     "metadata": {},
     "output_type": "execute_result"
    }
   ],
   "source": [
    "m=max(i for i in d.values())\n",
    "if set(d.values)<len(d.values):\n",
    "    \n",
    "value=None\n",
    "for i,j in d.items():\n",
    "    if j==m:\n",
    "        value=i\n",
    "        break\n",
    "value"
   ]
  },
  {
   "cell_type": "code",
   "execution_count": 18,
   "metadata": {},
   "outputs": [],
   "source": [
    "for i in range(1,25):\n",
    "    if i%10==0:\n",
    "        continue\n",
    "    if i>9:\n",
    "        l=list(str(i))\n",
    "        \n",
    "        for j in l:\n",
    "            j=int(j)\n",
    "            if i%j!=0:\n",
    "                break"
   ]
  },
  {
   "cell_type": "code",
   "execution_count": 53,
   "metadata": {},
   "outputs": [
    {
     "data": {
      "text/plain": [
       "False"
      ]
     },
     "execution_count": 53,
     "metadata": {},
     "output_type": "execute_result"
    }
   ],
   "source": [
    "\"c\">\"f\""
   ]
  },
  {
   "cell_type": "code",
   "execution_count": 70,
   "metadata": {},
   "outputs": [
    {
     "name": "stdout",
     "output_type": "stream",
     "text": [
      "0.5\n",
      "12.75\n",
      "10.5\n"
     ]
    },
    {
     "data": {
      "text/plain": [
       "12.75"
      ]
     },
     "execution_count": 70,
     "metadata": {},
     "output_type": "execute_result"
    }
   ],
   "source": [
    "nums = [1,12,-5,-6,50,3]\n",
    "k = 4\n",
    "m=0\n",
    "for i in range(len(nums)-k+1):\n",
    "    s=(nums[i]+nums[i+1]+nums[i+2]+nums[i+3])/k\n",
    "    print(s)\n",
    "    if m<s:\n",
    "        m=s\n",
    "m"
   ]
  },
  {
   "cell_type": "code",
   "execution_count": 6,
   "metadata": {},
   "outputs": [
    {
     "data": {
      "text/plain": [
       "{1: 2, 2: 2, 3: 1}"
      ]
     },
     "execution_count": 6,
     "metadata": {},
     "output_type": "execute_result"
    }
   ],
   "source": [
    "nums = [1,2,2,3,1]\n",
    "di={}\n",
    "for i in set(nums):\n",
    "    di[i]=nums.count(i)\n",
    "di  "
   ]
  },
  {
   "cell_type": "code",
   "execution_count": 4,
   "metadata": {},
   "outputs": [
    {
     "data": {
      "text/plain": [
       "1"
      ]
     },
     "execution_count": 4,
     "metadata": {},
     "output_type": "execute_result"
    }
   ],
   "source": [
    "f = [1,0,0,0,1]\n",
    "n = 1\n",
    "r=0\n",
    "for i in range(len(f)-2):\n",
    "    if f[i]==1 and f[i+1]==0 and f[i+2]==0:\n",
    "        r=r+1\n",
    "r"
   ]
  },
  {
   "cell_type": "code",
   "execution_count": null,
   "metadata": {},
   "outputs": [],
   "source": [
    "An integer x - Record a new score of x.\n",
    "\"+\" - Record a new score that is the sum of the previous two scores. It is guaranteed there will always be two previous scores.\n",
    "\"D\" - Record a new score that is double the previous score. It is guaranteed there will always be a previous score.\n",
    "\"C\" - Invalidate the previous score, removing it from the record. It is guaranteed there will always be a previous score."
   ]
  },
  {
   "cell_type": "code",
   "execution_count": 15,
   "metadata": {},
   "outputs": [
    {
     "data": {
      "text/plain": [
       "30"
      ]
     },
     "execution_count": 15,
     "metadata": {},
     "output_type": "execute_result"
    }
   ],
   "source": [
    "ops = [\"5\",\"2\",\"C\",\"D\",\"+\"]\n",
    "arr=[]\n",
    "stack = []\n",
    "for op in ops:\n",
    "    if op == '+':\n",
    "        stack.append(stack[-1] + stack[-2])\n",
    "    elif op == 'C':\n",
    "        stack.pop()\n",
    "    elif op == 'D':\n",
    "        stack.append(2 * stack[-1])\n",
    "    else:\n",
    "        stack.append(int(op))\n",
    "\n",
    "sum(stack)"
   ]
  },
  {
   "cell_type": "code",
   "execution_count": 20,
   "metadata": {},
   "outputs": [
    {
     "name": "stdout",
     "output_type": "stream",
     "text": [
      "0\n"
     ]
    }
   ],
   "source": [
    "nums = [1]\n",
    "m=max(nums)\n",
    "for i in range(len(nums)):\n",
    "    if nums[i]==m:\n",
    "        continue\n",
    "    if nums[i]*2<=m:\n",
    "        continue\n",
    "    else:\n",
    "        print(-1)\n",
    "print(nums.index(m))"
   ]
  },
  {
   "cell_type": "code",
   "execution_count": 30,
   "metadata": {},
   "outputs": [
    {
     "data": {
      "text/plain": [
       "(100, 9)"
      ]
     },
     "execution_count": 30,
     "metadata": {},
     "output_type": "execute_result"
    }
   ],
   "source": [
    "cost = [1,100,1,1,1,100,1,1,100,1]\n",
    "m=int()\n",
    "r=0\n",
    "for i in range(len(cost)-1):\n",
    "    m=max(cost[i],cost[i+i])\n",
    "    r=r+1\n",
    "m,r "
   ]
  },
  {
   "cell_type": "code",
   "execution_count": 105,
   "metadata": {},
   "outputs": [
    {
     "data": {
      "text/plain": [
       "-240"
      ]
     },
     "execution_count": 105,
     "metadata": {},
     "output_type": "execute_result"
    }
   ],
   "source": [
    "s=[-4,-3,-2,-1,60]\n",
    "n=0\n",
    "r=0\n",
    "ans=1\n",
    "for i in s:\n",
    "    if i<0:\n",
    "        r+=1\n",
    "for i in range(2):\n",
    "    if max(s)<abs(min(s)) and r>1:\n",
    "        m1=(min(s))\n",
    "    else:\n",
    "        m1=max(s)\n",
    "    s.remove(m1)\n",
    "    ans=ans*m1\n",
    "ans"
   ]
  },
  {
   "cell_type": "code",
   "execution_count": 9,
   "metadata": {},
   "outputs": [
    {
     "ename": "KeyError",
     "evalue": "1",
     "output_type": "error",
     "traceback": [
      "\u001b[1;31m---------------------------------------------------------------------------\u001b[0m",
      "\u001b[1;31mKeyError\u001b[0m                                  Traceback (most recent call last)",
      "\u001b[1;32m<ipython-input-9-fc686f5d11ba>\u001b[0m in \u001b[0;36m<module>\u001b[1;34m\u001b[0m\n\u001b[0;32m      2\u001b[0m \u001b[0md\u001b[0m\u001b[1;33m=\u001b[0m\u001b[1;33m{\u001b[0m\u001b[1;33m}\u001b[0m\u001b[1;33m\u001b[0m\u001b[1;33m\u001b[0m\u001b[0m\n\u001b[0;32m      3\u001b[0m \u001b[1;32mfor\u001b[0m \u001b[0mi\u001b[0m \u001b[1;32min\u001b[0m \u001b[0mset\u001b[0m\u001b[1;33m(\u001b[0m\u001b[0mnums\u001b[0m\u001b[1;33m)\u001b[0m\u001b[1;33m:\u001b[0m\u001b[1;33m\u001b[0m\u001b[1;33m\u001b[0m\u001b[0m\n\u001b[1;32m----> 4\u001b[1;33m     \u001b[0md\u001b[0m\u001b[1;33m[\u001b[0m\u001b[0mi\u001b[0m\u001b[1;33m]\u001b[0m\u001b[1;33m+=\u001b[0m\u001b[1;36m1\u001b[0m\u001b[1;33m\u001b[0m\u001b[1;33m\u001b[0m\u001b[0m\n\u001b[0m\u001b[0;32m      5\u001b[0m \u001b[0md\u001b[0m\u001b[1;33m\u001b[0m\u001b[1;33m\u001b[0m\u001b[0m\n",
      "\u001b[1;31mKeyError\u001b[0m: 1"
     ]
    }
   ],
   "source": [
    "nums = [1,2,3,1]\n",
    "d={}\n",
    "for i in set(nums):\n",
    "    d[i]+=1\n",
    "d"
   ]
  },
  {
   "cell_type": "code",
   "execution_count": 22,
   "metadata": {},
   "outputs": [
    {
     "data": {
      "text/plain": [
       "[7, 'null', 4]"
      ]
     },
     "execution_count": 22,
     "metadata": {},
     "output_type": "execute_result"
    }
   ],
   "source": [
    "root1 = [1,3,2,5]\n",
    "root2 = [2,1,3,\"null\",4,\"null\",7]\n",
    "arr=[]\n",
    "for i,j in zip(root1,root2):\n",
    "    if j==\"null\":\n",
    "        j=0\n",
    "    arr.append(i+j)\n",
    "root2[:3:-1]"
   ]
  },
  {
   "cell_type": "code",
   "execution_count": 55,
   "metadata": {},
   "outputs": [
    {
     "data": {
      "text/plain": [
       "2"
      ]
     },
     "execution_count": 55,
     "metadata": {},
     "output_type": "execute_result"
    }
   ],
   "source": [
    "nums = [1,3,2,2,3,1]\n",
    "arr=[]\n",
    "for i in set(nums):\n",
    "    arr.append(nums.count(i))\n",
    "c=max(arr)\n",
    "n=[]\n",
    "for i in set(nums):\n",
    "    if nums.count(i)==c:\n",
    "        n.append(i)\n",
    "ans=[]\n",
    "for m in range(len(n)):\n",
    "    r=0\n",
    "    s=0\n",
    "    i=0\n",
    "    k=n[m]\n",
    "    while r<c:\n",
    "        if nums[i]==k:\n",
    "            r+=1\n",
    "        if r>0:\n",
    "            s+=1\n",
    "        i+=1\n",
    "    ans.append(s)\n",
    "min(ans)"
   ]
  },
  {
   "cell_type": "code",
   "execution_count": 1,
   "metadata": {},
   "outputs": [],
   "source": [
    "def twoSum(self, numbers, target):\n",
    "    left=0\n",
    "    right=len(numbers)-1\n",
    "    while left<right:\n",
    "        if numbers[left]+numbers[right]==target:\n",
    "            return [left+1,right+1]\n",
    "        elif numbers[left]+numbers[right]>target:\n",
    "            right-=1\n",
    "        else:\n",
    "            left+=1"
   ]
  },
  {
   "cell_type": "code",
   "execution_count": 5,
   "metadata": {},
   "outputs": [
    {
     "data": {
      "text/plain": [
       "'Hello mottto'"
      ]
     },
     "execution_count": 5,
     "metadata": {},
     "output_type": "execute_result"
    }
   ],
   "source": [
    "left=0"
   ]
  },
  {
   "cell_type": "code",
   "execution_count": 16,
   "metadata": {},
   "outputs": [
    {
     "name": "stdout",
     "output_type": "stream",
     "text": [
      "False\n"
     ]
    }
   ],
   "source": [
    "n = 3\n",
    "b=bin(n)[2:]\n",
    "for i in range(len(b)-1):\n",
    "    if b[i+1]==b[i]:\n",
    "        print(False)\n",
    "        break\n",
    "else:\n",
    "    print(True)"
   ]
  },
  {
   "cell_type": "code",
   "execution_count": 27,
   "metadata": {},
   "outputs": [],
   "source": [
    "def hasAlternatingBits(self, n):\n",
    "    n, cur = divmod(n, 2)\n",
    "    while n:\n",
    "        if cur == n % 2: return False\n",
    "        n, cur = divmod(n, 2)\n",
    "    return True"
   ]
  },
  {
   "cell_type": "code",
   "execution_count": 27,
   "metadata": {},
   "outputs": [
    {
     "data": {
      "text/plain": [
       "'step'"
      ]
     },
     "execution_count": 27,
     "metadata": {},
     "output_type": "execute_result"
    }
   ],
   "source": [
    "licensePlate = \"1s3 PSt\"\n",
    "arr=[]\n",
    "s=[]\n",
    "words = [\"step\",\"steps\",\"stripe\",\"stepple\"]\n",
    "l=licensePlate.lower()\n",
    "for i in l:\n",
    "    if i<\"a\" or i>\"z\":\n",
    "        continue\n",
    "    else:\n",
    "        arr.append(i)\n",
    "for i in words:\n",
    "    for j in arr:\n",
    "        if j not in i:\n",
    "            break\n",
    "        i.replace(j,\"\")\n",
    "    else:\n",
    "        s.append(i)\n",
    "s.sort(key= lambda x:len(x))\n",
    "s[0]"
   ]
  },
  {
   "cell_type": "code",
   "execution_count": 75,
   "metadata": {},
   "outputs": [
    {
     "data": {
      "text/plain": [
       "['s']"
      ]
     },
     "execution_count": 75,
     "metadata": {},
     "output_type": "execute_result"
    }
   ],
   "source": [
    "letters = [x.lower() for x in licensePlate if x.isalpha()]\n",
    "letters"
   ]
  },
  {
   "cell_type": "code",
   "execution_count": 24,
   "metadata": {},
   "outputs": [
    {
     "ename": "AttributeError",
     "evalue": "'str' object has no attribute 'remove'",
     "output_type": "error",
     "traceback": [
      "\u001b[1;31m---------------------------------------------------------------------------\u001b[0m",
      "\u001b[1;31mAttributeError\u001b[0m                            Traceback (most recent call last)",
      "\u001b[1;32m<ipython-input-24-d5c339f3cc46>\u001b[0m in \u001b[0;36m<module>\u001b[1;34m\u001b[0m\n\u001b[0;32m      1\u001b[0m \u001b[0ma\u001b[0m\u001b[1;33m=\u001b[0m\u001b[1;34m\"ashish\"\u001b[0m\u001b[1;33m\u001b[0m\u001b[1;33m\u001b[0m\u001b[0m\n\u001b[1;32m----> 2\u001b[1;33m \u001b[0ma\u001b[0m\u001b[1;33m.\u001b[0m\u001b[0mremove\u001b[0m\u001b[1;33m(\u001b[0m\u001b[0mi\u001b[0m\u001b[1;33m)\u001b[0m\u001b[1;33m\u001b[0m\u001b[1;33m\u001b[0m\u001b[0m\n\u001b[0m",
      "\u001b[1;31mAttributeError\u001b[0m: 'str' object has no attribute 'remove'"
     ]
    }
   ],
   "source": []
  },
  {
   "cell_type": "code",
   "execution_count": null,
   "metadata": {},
   "outputs": [],
   "source": [
    "nums = [1,7,3,6,5,6]\n"
   ]
  },
  {
   "cell_type": "code",
   "execution_count": 80,
   "metadata": {},
   "outputs": [
    {
     "data": {
      "text/plain": [
       "6"
      ]
     },
     "execution_count": 80,
     "metadata": {},
     "output_type": "execute_result"
    }
   ],
   "source": [
    "19//3"
   ]
  },
  {
   "cell_type": "code",
   "execution_count": 11,
   "metadata": {},
   "outputs": [
    {
     "data": {
      "text/plain": [
       "'0b111'"
      ]
     },
     "execution_count": 11,
     "metadata": {},
     "output_type": "execute_result"
    }
   ],
   "source": [
    "bin(7)"
   ]
  },
  {
   "cell_type": "code",
   "execution_count": 18,
   "metadata": {},
   "outputs": [
    {
     "data": {
      "text/plain": [
       "(3, 2)"
      ]
     },
     "execution_count": 18,
     "metadata": {},
     "output_type": "execute_result"
    }
   ],
   "source": [
    "divmod(17,5)"
   ]
  },
  {
   "cell_type": "code",
   "execution_count": null,
   "metadata": {},
   "outputs": [],
   "source": [
    "length=len(flowerbed)\n",
    "\n",
    "\t\tif length<n :\n",
    "\t\t\treturn False\n",
    "\n",
    "\t\t# The start and end of the array is open so we can place 0 at both the end\n",
    "\t\tflowerbed.insert(0,0)\n",
    "\t\tflowerbed.append(0)\n",
    "\n",
    "\t\tlength=len(flowerbed)\n",
    "\t\tflower=0\n",
    "\t\tidx=1\n",
    "\n",
    "\t\twhile idx<length-1:  # But we are traversing through the original flowerbed [1,length-1]\n",
    "\t\t\tif flowerbed[idx-1:idx+2] == [0,0,0]:  # when you have 3 consecutive 0s only then you can place a flower in the middle\n",
    "\t\t\t\tflower+=1\n",
    "\t\t\t\tidx+=2 # You need to jump 2 steps ahead so that you can share the last 0 for the next set of 3 zeros like 01010\n",
    "\t\t\telse:\n",
    "\t\t\t\tidx+=1 # and if such condition is not met you move ahead\n",
    "\n",
    "\t\t# flower variable contain the maximum number of flowers that can be added to the given flowerbed\n",
    "\t\treturn flower>=n "
   ]
  },
  {
   "cell_type": "code",
   "execution_count": 29,
   "metadata": {},
   "outputs": [
    {
     "name": "stdout",
     "output_type": "stream",
     "text": [
      "True\n"
     ]
    },
    {
     "data": {
      "text/plain": [
       "1"
      ]
     },
     "execution_count": 29,
     "metadata": {},
     "output_type": "execute_result"
    }
   ],
   "source": [
    "flowerbed = [0]\n",
    "n=1\n",
    "flowerbed.insert(0,0)\n",
    "flowerbed.append(0)\n",
    "l=len(flowerbed)\n",
    "flower=0\n",
    "idx=1\n",
    "r=0\n",
    "while idx<l-1:\n",
    "    if flowerbed[idx-1:idx+2]==[0,0,0]:\n",
    "        r+=1\n",
    "        idx+=2\n",
    "    else:\n",
    "        idx+=1\n",
    "if n<=r:\n",
    "    print(True)\n",
    "else:\n",
    "    print(False)\n",
    "r"
   ]
  },
  {
   "cell_type": "code",
   "execution_count": 48,
   "metadata": {},
   "outputs": [
    {
     "data": {
      "text/plain": [
       "{'Shogun': 3, 'Tapioca Express': 2, 'Burger King': 2, 'KFC': 2}"
      ]
     },
     "execution_count": 48,
     "metadata": {},
     "output_type": "execute_result"
    }
   ],
   "source": [
    "d={}\n",
    "list1 = [\"Shogun\",\"Tapioca Express\",\"Burger King\",\"KFC\"]\n",
    "list2 = [\"KFC\",\"Burger King\",\"Tapioca Express\",\"Shogun\",\"Shogun\"]\n",
    "for i in list1:\n",
    "    if i not in d:\n",
    "        d[i]=1\n",
    "for j in list2:\n",
    "    if j in d:\n",
    "        d[j]+=1\n",
    "d"
   ]
  },
  {
   "cell_type": "code",
   "execution_count": 54,
   "metadata": {},
   "outputs": [
    {
     "name": "stdout",
     "output_type": "stream",
     "text": [
      "2\n"
     ]
    }
   ],
   "source": [
    "s=[1,1]\n",
    "s.insert(0,0)\n",
    "for i in range(len(s)):\n",
    "    if i!=s[i]:\n",
    "        print(i)"
   ]
  },
  {
   "cell_type": "code",
   "execution_count": 57,
   "metadata": {},
   "outputs": [
    {
     "data": {
      "text/plain": [
       "961"
      ]
     },
     "execution_count": 57,
     "metadata": {},
     "output_type": "execute_result"
    }
   ],
   "source": [
    "31*31"
   ]
  },
  {
   "cell_type": "code",
   "execution_count": 4,
   "metadata": {},
   "outputs": [
    {
     "name": "stdout",
     "output_type": "stream",
     "text": [
      "False\n"
     ]
    }
   ],
   "source": [
    "bits=[1,1,1,0]\n",
    "i, n = 0, len(bits)\n",
    "while i < n-1:\n",
    "    i += bits[i]+1\n",
    "print(n-i == 1)"
   ]
  },
  {
   "cell_type": "code",
   "execution_count": 29,
   "metadata": {},
   "outputs": [
    {
     "name": "stdout",
     "output_type": "stream",
     "text": [
      "3 8\n"
     ]
    }
   ],
   "source": [
    "nums =  [1,7,3,6,5,6]\n",
    "nums.insert(0,0)\n",
    "nums.append(0)\n",
    "for i in range(1,len(nums)):\n",
    "    if sum(nums[i-1::-1])==sum(nums[i+1::1]):\n",
    "        if (i-1)==len(nums)-2:\n",
    "            print(-1)\n",
    "            break\n",
    "        print(i-1,len(nums))\n",
    "        break\n",
    "else:\n",
    "    print(-1)"
   ]
  },
  {
   "cell_type": "code",
   "execution_count": 9,
   "metadata": {},
   "outputs": [
    {
     "data": {
      "text/plain": [
       "[3, 6, 5, 6]"
      ]
     },
     "execution_count": 9,
     "metadata": {},
     "output_type": "execute_result"
    }
   ],
   "source": [
    "nums = [1,7,3,6,5,6]\n",
    "nums[1+1::1]"
   ]
  },
  {
   "cell_type": "code",
   "execution_count": 30,
   "metadata": {},
   "outputs": [],
   "source": [
    "def pivotIndex(self, nums):\n",
    "    S = sum(nums)\n",
    "    leftsum = 0\n",
    "    for i, x in enumerate(nums):\n",
    "        if leftsum == (S - leftsum - x):\n",
    "            return i\n",
    "        leftsum += x\n",
    "    return -1"
   ]
  },
  {
   "cell_type": "code",
   "execution_count": 32,
   "metadata": {},
   "outputs": [
    {
     "name": "stdout",
     "output_type": "stream",
     "text": [
      "3\n",
      "-1\n"
     ]
    }
   ],
   "source": [
    "nums = [1,7,3,6,5,6]\n",
    "S=sum(nums)\n",
    "leftsum=0\n",
    "for i,x in enumerate(nums):\n",
    "    if leftsum==(S-leftsum-x):\n",
    "        print(i)\n",
    "    leftsum+=x\n",
    "else:\n",
    "    print(-1)"
   ]
  },
  {
   "cell_type": "code",
   "execution_count": 34,
   "metadata": {},
   "outputs": [
    {
     "data": {
      "text/plain": [
       "12.75"
      ]
     },
     "execution_count": 34,
     "metadata": {},
     "output_type": "execute_result"
    }
   ],
   "source": [
    "nums = [1,12,-5,-6,50,3]\n",
    "k = 4\n",
    "m=0\n",
    "for i in range(len(nums)-k+1):\n",
    "    s=(nums[i]+nums[i+1]+nums[i+2]+nums[i+3])/k\n",
    "    if m<s:\n",
    "        m=s\n",
    "m"
   ]
  },
  {
   "cell_type": "code",
   "execution_count": null,
   "metadata": {},
   "outputs": [],
   "source": [
    "g=sum(nums[:k])\n",
    "m=g\n",
    "for i in range(len(nums)-k):\n",
    "    g=g-nums[i]+nums[i+k]\n",
    "    m=max(m,g)\n",
    "return m/k"
   ]
  },
  {
   "cell_type": "code",
   "execution_count": 42,
   "metadata": {},
   "outputs": [
    {
     "data": {
      "text/plain": [
       "[2, 3]"
      ]
     },
     "execution_count": 42,
     "metadata": {},
     "output_type": "execute_result"
    }
   ],
   "source": [
    "nums = [1,2,2,4]\n",
    "n = len(nums)\n",
    "true_sum = n*(n+1)//2\n",
    "actual_sum = sum(nums)\n",
    "set_sum = sum(set(nums))\n",
    "[actual_sum - set_sum, true_sum - set_sum]"
   ]
  },
  {
   "cell_type": "code",
   "execution_count": 40,
   "metadata": {},
   "outputs": [
    {
     "data": {
      "text/plain": [
       "10"
      ]
     },
     "execution_count": 40,
     "metadata": {},
     "output_type": "execute_result"
    }
   ],
   "source": [
    "n*(n+1)//2"
   ]
  },
  {
   "cell_type": "code",
   "execution_count": 44,
   "metadata": {},
   "outputs": [
    {
     "data": {
      "text/plain": [
       "(9, 7)"
      ]
     },
     "execution_count": 44,
     "metadata": {},
     "output_type": "execute_result"
    }
   ],
   "source": [
    "sum(nums),sum(set(nums))"
   ]
  },
  {
   "cell_type": "code",
   "execution_count": 49,
   "metadata": {},
   "outputs": [],
   "source": [
    "def twoSum(self, numbers, target):\n",
    "    l = 0\n",
    "    r = len(numbers)-1\n",
    "\n",
    "    while l < r:\n",
    "        total = numbers[l] + numbers[r]\n",
    "        if total == target:\n",
    "            return [l+1, r+1]\n",
    "        elif total < target:\n",
    "            l+=1\n",
    "        else:\n",
    "            r-=1"
   ]
  },
  {
   "cell_type": "code",
   "execution_count": null,
   "metadata": {},
   "outputs": [],
   "source": [
    "def merge(self, intervals: List[List[int]]) -> List[List[int]]:\n",
    "\n",
    "        intervals.sort(key=lambda x: x[0])\n",
    "\n",
    "        merged = []\n",
    "        for interval in intervals:\n",
    "            # if the list of merged intervals is empty or if the current\n",
    "            # interval does not overlap with the previous, simply append it.\n",
    "            if not merged or merged[-1][1] < interval[0]:\n",
    "                merged.append(interval)\n",
    "            else:\n",
    "            # otherwise, there is overlap, so we merge the current and previous\n",
    "            # intervals.\n",
    "                merged[-1][1] = max(merged[-1][1], interval[1])\n",
    "\n",
    "        return merged"
   ]
  },
  {
   "cell_type": "code",
   "execution_count": 114,
   "metadata": {},
   "outputs": [
    {
     "name": "stdout",
     "output_type": "stream",
     "text": [
      "True\n"
     ]
    }
   ],
   "source": [
    "n=-2147483648\n",
    "s=[2,3,5]\n",
    "while n>1:\n",
    "    if n%2==0:\n",
    "        n=n/2\n",
    "    elif n%3==0:\n",
    "        n=n/3\n",
    "    elif n%5==0:\n",
    "        n=n/5\n",
    "    else:\n",
    "        print(False)\n",
    "        break\n",
    "else: \n",
    "    print(True)"
   ]
  },
  {
   "cell_type": "code",
   "execution_count": 117,
   "metadata": {},
   "outputs": [
    {
     "data": {
      "text/plain": [
       "[2, 1, 1]"
      ]
     },
     "execution_count": 117,
     "metadata": {},
     "output_type": "execute_result"
    }
   ],
   "source": [
    "s = \"abca\"\n",
    "arr=[]\n",
    "for i in set(s):\n",
    "    arr.append(s.count(i))\n",
    "arr"
   ]
  },
  {
   "cell_type": "code",
   "execution_count": 121,
   "metadata": {},
   "outputs": [
    {
     "name": "stdout",
     "output_type": "stream",
     "text": [
      "False\n",
      "False\n",
      "True\n"
     ]
    }
   ],
   "source": [
    "s=\"abbfd\"\n",
    "def validPalindrome(self, s: str) -> bool:\n",
    "    i,j = 0, len(s)-1\n",
    "\n",
    "    while i < j:\n",
    "        if s[i] != s[j]:\n",
    "            return s[i+1:j+1] == s[i+1:j+1][::-1] or s[i:j] == s[i:j][::-1]\n",
    "        i += 1\n",
    "        j -= 1\n",
    "\n",
    "    return True"
   ]
  },
  {
   "cell_type": "code",
   "execution_count": 141,
   "metadata": {},
   "outputs": [
    {
     "name": "stdout",
     "output_type": "stream",
     "text": [
      "False\n"
     ]
    },
    {
     "data": {
      "text/plain": [
       "[2, 3]"
      ]
     },
     "execution_count": 141,
     "metadata": {},
     "output_type": "execute_result"
    }
   ],
   "source": [
    "nums=[1,0,1,1]\n",
    "k=1\n",
    "d={}\n",
    "arr=[]\n",
    "for i in range(len(nums)):\n",
    "    if nums[i] not in d:\n",
    "        d[nums[i]]=i\n",
    "    else:\n",
    "        arr.append(i-d[nums[i]])\n",
    "        if i-d[nums[i]]<=k:\n",
    "            print(True,i,d[nums[i]])\n",
    "            break\n",
    "        else:\n",
    "            d[nums[i]]=i\n",
    "else:\n",
    "    print(False)\n",
    "arr"
   ]
  },
  {
   "cell_type": "code",
   "execution_count": 9,
   "metadata": {},
   "outputs": [],
   "source": [
    "def removeDuplicates(nums):\n",
    "    index = 1\n",
    "    for i in range(1,len(nums)):\n",
    "        if(nums[i-1]!=nums[i]):\n",
    "            nums[index] = nums[i]\n",
    "            index+=1\n",
    "    return index,nums"
   ]
  },
  {
   "cell_type": "code",
   "execution_count": 7,
   "metadata": {},
   "outputs": [
    {
     "data": {
      "text/plain": [
       "(2, [1, 2, 2])"
      ]
     },
     "execution_count": 7,
     "metadata": {},
     "output_type": "execute_result"
    }
   ],
   "source": [
    "removeDuplicates([1,1,2])"
   ]
  },
  {
   "cell_type": "code",
   "execution_count": 8,
   "metadata": {},
   "outputs": [
    {
     "data": {
      "text/plain": [
       "(5, [0, 1, 2, 3, 4, 2, 2, 3, 3, 4])"
      ]
     },
     "execution_count": 8,
     "metadata": {},
     "output_type": "execute_result"
    }
   ],
   "source": [
    "removeDuplicates( [0,0,1,1,1,2,2,3,3,4])"
   ]
  },
  {
   "cell_type": "code",
   "execution_count": 19,
   "metadata": {},
   "outputs": [
    {
     "data": {
      "text/plain": [
       "(97, 122)"
      ]
     },
     "execution_count": 19,
     "metadata": {},
     "output_type": "execute_result"
    }
   ],
   "source": [
    "ord(\"a\"),ord(\"z\")"
   ]
  },
  {
   "cell_type": "code",
   "execution_count": 16,
   "metadata": {
    "collapsed": true
   },
   "outputs": [
    {
     "name": "stdout",
     "output_type": "stream",
     "text": [
      "a\n",
      "b\n",
      "c\n",
      "d\n",
      "e\n",
      "f\n",
      "g\n",
      "h\n",
      "i\n",
      "j\n",
      "k\n",
      "l\n",
      "m\n",
      "n\n",
      "o\n",
      "p\n",
      "q\n",
      "r\n",
      "s\n",
      "t\n",
      "u\n",
      "v\n",
      "w\n",
      "x\n",
      "y\n",
      "z\n"
     ]
    }
   ],
   "source": [
    "for i in range(97,123):\n",
    "    print(chr(i))"
   ]
  },
  {
   "cell_type": "code",
   "execution_count": 21,
   "metadata": {
    "collapsed": true
   },
   "outputs": [
    {
     "name": "stdout",
     "output_type": "stream",
     "text": [
      "a\n",
      "b\n",
      "c\n",
      "d\n",
      "e\n",
      "f\n",
      "g\n",
      "h\n",
      "i\n",
      "j\n",
      "k\n",
      "l\n",
      "m\n",
      "n\n",
      "o\n",
      "p\n",
      "q\n",
      "r\n",
      "s\n",
      "t\n",
      "u\n",
      "v\n",
      "w\n",
      "x\n",
      "y\n",
      "z\n"
     ]
    }
   ],
   "source": [
    "for i in range(ord('a'), ord('z')+1):\n",
    "    print(chr(i))"
   ]
  },
  {
   "cell_type": "code",
   "execution_count": 16,
   "metadata": {},
   "outputs": [
    {
     "data": {
      "text/plain": [
       "{1: 'A',\n",
       " 2: 'B',\n",
       " 3: 'C',\n",
       " 4: 'D',\n",
       " 5: 'E',\n",
       " 6: 'F',\n",
       " 7: 'G',\n",
       " 8: 'H',\n",
       " 9: 'I',\n",
       " 10: 'J',\n",
       " 11: 'K',\n",
       " 12: 'L',\n",
       " 13: 'M',\n",
       " 14: 'N',\n",
       " 15: 'O',\n",
       " 16: 'P',\n",
       " 17: 'Q',\n",
       " 18: 'R',\n",
       " 19: 'S',\n",
       " 20: 'T',\n",
       " 21: 'U',\n",
       " 22: 'V',\n",
       " 23: 'W',\n",
       " 24: 'X',\n",
       " 25: 'Y',\n",
       " 0: 'Z'}"
      ]
     },
     "execution_count": 16,
     "metadata": {},
     "output_type": "execute_result"
    }
   ],
   "source": [
    "d={}\n",
    "for i,j in enumerate(range(97,123)):\n",
    "    d[i+1]=chr(j).upper()\n",
    "d[0]=\"Z\"\n",
    "d.pop(26)\n",
    "d"
   ]
  },
  {
   "cell_type": "code",
   "execution_count": 17,
   "metadata": {},
   "outputs": [
    {
     "data": {
      "text/plain": [
       "'A'"
      ]
     },
     "execution_count": 17,
     "metadata": {},
     "output_type": "execute_result"
    }
   ],
   "source": [
    "\"a\".upper()"
   ]
  },
  {
   "cell_type": "code",
   "execution_count": 18,
   "metadata": {},
   "outputs": [
    {
     "data": {
      "text/plain": [
       "26.96153846153846"
      ]
     },
     "execution_count": 18,
     "metadata": {},
     "output_type": "execute_result"
    }
   ],
   "source": [
    "701/26"
   ]
  },
  {
   "cell_type": "code",
   "execution_count": 19,
   "metadata": {},
   "outputs": [
    {
     "data": {
      "text/plain": [
       "25"
      ]
     },
     "execution_count": 19,
     "metadata": {},
     "output_type": "execute_result"
    }
   ],
   "source": [
    "701%26"
   ]
  },
  {
   "cell_type": "code",
   "execution_count": 20,
   "metadata": {},
   "outputs": [
    {
     "data": {
      "text/plain": [
       "82595524.88461539"
      ]
     },
     "execution_count": 20,
     "metadata": {},
     "output_type": "execute_result"
    }
   ],
   "source": [
    "2147483647/26"
   ]
  },
  {
   "cell_type": "code",
   "execution_count": 21,
   "metadata": {},
   "outputs": [
    {
     "data": {
      "text/plain": [
       "'Y'"
      ]
     },
     "execution_count": 21,
     "metadata": {},
     "output_type": "execute_result"
    }
   ],
   "source": [
    "r=\"\"\n",
    "n=26\n",
    "while n>1:\n",
    "    n=n-1\n",
    "    r+=d[n%26]\n",
    "    n=n//26\n",
    "r[::-1]"
   ]
  },
  {
   "cell_type": "code",
   "execution_count": null,
   "metadata": {},
   "outputs": [],
   "source": [
    "\"FXSHRXW\""
   ]
  },
  {
   "cell_type": "code",
   "execution_count": 114,
   "metadata": {},
   "outputs": [
    {
     "data": {
      "text/plain": [
       "'AY'"
      ]
     },
     "execution_count": 114,
     "metadata": {},
     "output_type": "execute_result"
    }
   ],
   "source": [
    "n=51\n",
    "if n<52:\n",
    "    r=\"A\"+d[n%26]\n",
    "r"
   ]
  },
  {
   "cell_type": "code",
   "execution_count": 26,
   "metadata": {},
   "outputs": [
    {
     "data": {
      "text/plain": [
       "'ALU'"
      ]
     },
     "execution_count": 26,
     "metadata": {},
     "output_type": "execute_result"
    }
   ],
   "source": [
    "# number to Excel column\n",
    "res = \"\"\n",
    "n =  1009\n",
    "\n",
    "while n > 0 :   \n",
    "    n=n-1\n",
    "    res += chr( (n % 26) + 65 )\n",
    "    n //= 26\n",
    "\n",
    "res[::-1]  "
   ]
  },
  {
   "cell_type": "code",
   "execution_count": 30,
   "metadata": {},
   "outputs": [
    {
     "data": {
      "text/plain": [
       "28"
      ]
     },
     "execution_count": 30,
     "metadata": {},
     "output_type": "execute_result"
    }
   ],
   "source": [
    "# Column to number Excel\n",
    "columnTitle = \"AB\"\n",
    "p = 1\n",
    "summ = 0\n",
    "for i in columnTitle[::-1] :\n",
    "    summ += p*(ord(i)-64)        # -ord(A)+1\n",
    "    p*= 26\n",
    "\n",
    "summ"
   ]
  },
  {
   "cell_type": "code",
   "execution_count": 180,
   "metadata": {},
   "outputs": [
    {
     "data": {
      "text/plain": [
       "'U'"
      ]
     },
     "execution_count": 180,
     "metadata": {},
     "output_type": "execute_result"
    }
   ],
   "source": [
    "chr(20+65)"
   ]
  },
  {
   "cell_type": "code",
   "execution_count": 183,
   "metadata": {},
   "outputs": [
    {
     "data": {
      "text/plain": [
       "(1, 11)"
      ]
     },
     "execution_count": 183,
     "metadata": {},
     "output_type": "execute_result"
    }
   ],
   "source": [
    "divmod(37,26)"
   ]
  },
  {
   "cell_type": "code",
   "execution_count": 184,
   "metadata": {},
   "outputs": [
    {
     "data": {
      "text/plain": [
       "'L'"
      ]
     },
     "execution_count": 184,
     "metadata": {},
     "output_type": "execute_result"
    }
   ],
   "source": [
    "chr(11+65)"
   ]
  },
  {
   "cell_type": "code",
   "execution_count": 14,
   "metadata": {},
   "outputs": [
    {
     "name": "stdout",
     "output_type": "stream",
     "text": [
      "[[1], [1, 1]]\n"
     ]
    },
    {
     "data": {
      "text/plain": [
       "[[1], [1, 1], [1, 2, 1]]"
      ]
     },
     "execution_count": 14,
     "metadata": {},
     "output_type": "execute_result"
    }
   ],
   "source": [
    "# Pascal Triangle\n",
    "r=2\n",
    "t=[[1],[1,1],[1,2,1]]\n",
    "if r<3:\n",
    "    print(t[0:r])\n",
    "for i in range(3,r):\n",
    "    arr=[]\n",
    "    arr.append(1)\n",
    "    k=2\n",
    "    l=0\n",
    "    while k<=len(t[-1]):\n",
    "        arr.append(sum(t[-1][l:k]))\n",
    "        l+=1\n",
    "        k+=1\n",
    "    arr.append(1)\n",
    "    t.append(arr)\n",
    "t  "
   ]
  },
  {
   "cell_type": "code",
   "execution_count": 7,
   "metadata": {},
   "outputs": [
    {
     "data": {
      "text/plain": [
       "[1, 2]"
      ]
     },
     "execution_count": 7,
     "metadata": {},
     "output_type": "execute_result"
    }
   ],
   "source": [
    "t[-1][0:2]"
   ]
  },
  {
   "cell_type": "code",
   "execution_count": 51,
   "metadata": {},
   "outputs": [
    {
     "name": "stdout",
     "output_type": "stream",
     "text": [
      "{ ['{']\n",
      "[ ['{', '[']\n",
      "] ['{']\n",
      "} []\n",
      "True\n"
     ]
    },
    {
     "data": {
      "text/plain": [
       "[]"
      ]
     },
     "execution_count": 51,
     "metadata": {},
     "output_type": "execute_result"
    }
   ],
   "source": [
    "# valid Parenthesis\n",
    "s = \"{[]}\"\n",
    "o=[\"(\",\"{\",\"[\"]\n",
    "arr=[]\n",
    "for i in s:\n",
    "    if i in o:\n",
    "        arr.append(i)\n",
    "    elif not arr:\n",
    "        print(False)\n",
    "        break\n",
    "    elif arr[-1]==\"(\" and i==\")\":\n",
    "        arr.pop()\n",
    "    elif arr[-1]==\"{\" and i==\"}\":\n",
    "        arr.pop()\n",
    "    elif arr[-1]==\"[\" and i==\"]\":\n",
    "        arr.pop()\n",
    "    else:\n",
    "        print(False)\n",
    "        break\n",
    "    print(i,arr)\n",
    "if arr==[]:\n",
    "    print(True)\n",
    "else:\n",
    "    print(False)\n",
    "arr"
   ]
  },
  {
   "cell_type": "code",
   "execution_count": null,
   "metadata": {},
   "outputs": [],
   "source": [
    "stack=[]\n",
    "comb={'(':')','{':'}','[':']'}\n",
    "for brkt in s:\n",
    "    if brkt in comb.keys():\n",
    "        stack.append(brkt)\n",
    "    else:\n",
    "        if len(stack)>0 and comb[stack[-1]]==brkt:\n",
    "            stack.pop()\n",
    "        else:\n",
    "            return False\n",
    "return len(stack)==0"
   ]
  },
  {
   "cell_type": "code",
   "execution_count": 17,
   "metadata": {},
   "outputs": [],
   "source": [
    "def maxSubArray(nums):\n",
    "    maxs = nums[0]\n",
    "    curr = nums[0]\n",
    "    for i in range(1,len(nums)):\n",
    "        curr = max(nums[i],curr+nums[i])\n",
    "        maxs = max(maxs,curr)\n",
    "\n",
    "    return maxs"
   ]
  },
  {
   "cell_type": "code",
   "execution_count": 27,
   "metadata": {},
   "outputs": [],
   "source": [
    "# Min cost climbing stairs\n",
    "def minCostClimbingStairs(cost):\n",
    "    length = len(cost)\n",
    "    for i in range(2, length):\n",
    "        cost[i] += min(cost[i - 1], cost[i - 2])\n",
    "    return min(cost[length - 1], cost[length - 2])\n"
   ]
  },
  {
   "cell_type": "code",
   "execution_count": 31,
   "metadata": {},
   "outputs": [
    {
     "data": {
      "text/plain": [
       "6"
      ]
     },
     "execution_count": 31,
     "metadata": {},
     "output_type": "execute_result"
    }
   ],
   "source": [
    "cost = [1,100,1,1,1,100,1,1,100,1]\n",
    "l=len(cost)\n",
    "for i in range(2,l):\n",
    "    cost[i]+=min(cost[i-1],cost[i-2])\n",
    "min(cost[l-1],cost[l - 2])"
   ]
  },
  {
   "cell_type": "code",
   "execution_count": null,
   "metadata": {},
   "outputs": [],
   "source": [
    "n=10\n",
    "for i in range(1,n/2):\n",
    "    if i/2"
   ]
  },
  {
   "cell_type": "code",
   "execution_count": 6,
   "metadata": {},
   "outputs": [
    {
     "data": {
      "text/plain": [
       "1389537"
      ]
     },
     "execution_count": 6,
     "metadata": {},
     "output_type": "execute_result"
    }
   ],
   "source": [
    "#Tribinaco series\n",
    "n=25\n",
    "a=0\n",
    "b=c=1\n",
    "for i in range(2,n):\n",
    "    s=a+b+c\n",
    "    a,b,c=b,c,s\n",
    "s"
   ]
  },
  {
   "cell_type": "code",
   "execution_count": 6,
   "metadata": {},
   "outputs": [
    {
     "name": "stdout",
     "output_type": "stream",
     "text": [
      "abcba abdba\n"
     ]
    }
   ],
   "source": [
    "s = \"abdcba\"\n",
    "arr=[]\n",
    "left,right=0,len(s)-1\n",
    "if s[0]!=s[len(s)-1]:\n",
    "    print(False)\n",
    "while left<=right:\n",
    "    if s[left]!=s[right]:\n",
    "        s1=s[:left]+s[left+1:]\n",
    "        s2=s[:right]+s[right+1:]\n",
    "        print(s1,s2)\n",
    "    left+=1\n",
    "    right-=1"
   ]
  },
  {
   "cell_type": "code",
   "execution_count": 7,
   "metadata": {},
   "outputs": [
    {
     "data": {
      "text/plain": [
       "'Ashish Kumar Chhetri'"
      ]
     },
     "execution_count": 7,
     "metadata": {},
     "output_type": "execute_result"
    }
   ],
   "source": []
  },
  {
   "cell_type": "code",
   "execution_count": 8,
   "metadata": {},
   "outputs": [],
   "source": [
    "def validPalindrome(s):\n",
    "    p1=0\n",
    "    p2=len(s)-1\n",
    "    while p1<=p2:\n",
    "        if s[p1]!=s[p2]:\n",
    "            print(p1,p2)\n",
    "            string1=s[:p1]+s[p1+1:]\n",
    "            string2=s[:p2]+s[p2+1:]\n",
    "            return string1==string1[::-1] or string2==string2[::-1]\n",
    "        p1+=1\n",
    "        p2-=1\n",
    "    return True"
   ]
  },
  {
   "cell_type": "code",
   "execution_count": 9,
   "metadata": {},
   "outputs": [
    {
     "name": "stdout",
     "output_type": "stream",
     "text": [
      "2 3\n"
     ]
    },
    {
     "data": {
      "text/plain": [
       "True"
      ]
     },
     "execution_count": 9,
     "metadata": {},
     "output_type": "execute_result"
    }
   ],
   "source": [
    "validPalindrome(\"abcdba\")"
   ]
  },
  {
   "cell_type": "code",
   "execution_count": 25,
   "metadata": {},
   "outputs": [],
   "source": [
    " def findPoisonedDuration(timeSeries,duration):\n",
    "    n = len(timeSeries)\n",
    "    if n == 0:\n",
    "        return 0\n",
    "\n",
    "    total = 0\n",
    "    for i in range(n - 1):\n",
    "        total += min(timeSeries[i + 1] - timeSeries[i], duration)\n",
    "    return total + duration"
   ]
  },
  {
   "cell_type": "code",
   "execution_count": 1,
   "metadata": {},
   "outputs": [
    {
     "name": "stdout",
     "output_type": "stream",
     "text": [
      "2 3 2\n",
      "4\n"
     ]
    }
   ],
   "source": [
    "timeSeries=[1,4]\n",
    "duration=2\n",
    "n = len(timeSeries)\n",
    "if n == 0:\n",
    "    print(0)\n",
    "\n",
    "total = 0\n",
    "for i in range(n - 1):\n",
    "    total += min(timeSeries[i + 1] - timeSeries[i], duration)\n",
    "    print(total,timeSeries[i + 1] - timeSeries[i], duration)\n",
    "print(total + duration)"
   ]
  },
  {
   "cell_type": "code",
   "execution_count": 8,
   "metadata": {},
   "outputs": [
    {
     "data": {
      "text/plain": [
       "[1, 2, 2, 2, 3, 3, 5, 7]"
      ]
     },
     "execution_count": 8,
     "metadata": {},
     "output_type": "execute_result"
    }
   ],
   "source": [
    "nums = [1,3,2,2,5,2,3,7]\n",
    "arr=[]\n",
    "nums.sort()\n",
    "nums"
   ]
  },
  {
   "cell_type": "code",
   "execution_count": 14,
   "metadata": {},
   "outputs": [],
   "source": [
    "from collections import Counter"
   ]
  },
  {
   "cell_type": "code",
   "execution_count": 16,
   "metadata": {},
   "outputs": [
    {
     "data": {
      "text/plain": [
       "Counter({1: 1, 2: 3, 3: 2, 5: 1, 7: 1})"
      ]
     },
     "execution_count": 16,
     "metadata": {},
     "output_type": "execute_result"
    }
   ],
   "source": [
    "Counter(nums)"
   ]
  },
  {
   "cell_type": "code",
   "execution_count": 26,
   "metadata": {},
   "outputs": [
    {
     "data": {
      "text/plain": [
       "1"
      ]
     },
     "execution_count": 26,
     "metadata": {},
     "output_type": "execute_result"
    }
   ],
   "source": [
    "nums=[1,2,2,1]\n",
    "nums.sort()\n",
    "p1=0\n",
    "p2=1\n",
    "s=0\n",
    "r=0\n",
    "while p1<len(nums)-1 and p2<len(nums)-1:\n",
    "    if abs(nums[p1]-nums[p2])==1:\n",
    "        r+=1\n",
    "        p2+=1\n",
    "    else:\n",
    "        p1+=1\n",
    "    s=max(r,s)\n",
    "        \n",
    "s  \n",
    "\n",
    "        "
   ]
  },
  {
   "cell_type": "code",
   "execution_count": 28,
   "metadata": {},
   "outputs": [
    {
     "name": "stdout",
     "output_type": "stream",
     "text": [
      "7\n",
      "7\n",
      "7\n",
      "7\n"
     ]
    },
    {
     "data": {
      "text/plain": [
       "[]"
      ]
     },
     "execution_count": 28,
     "metadata": {},
     "output_type": "execute_result"
    }
   ],
   "source": [
    "l= \"1s3 PSt\"\n",
    "words = [\"step\",\"steps\",\"stripe\",\"stepple\"]\n",
    "l=l.lower()\n",
    "arr=[]\n",
    "r=str()\n",
    "rs=[]\n",
    "for i in l:\n",
    "    if i<\"a\" or i>\"z\":\n",
    "        continue\n",
    "    else:\n",
    "        arr.append(i)\n",
    "arr.sort()\n"
   ]
  },
  {
   "cell_type": "code",
   "execution_count": 17,
   "metadata": {},
   "outputs": [],
   "source": [
    "def shortestCompletingWord(self, licensePlate, words):\n",
    "    licensePlate=licensePlate.lower()\n",
    "    map_={}\n",
    "    arr=[]\n",
    "    for i in licensePlate:\n",
    "        if i.isalpha():\n",
    "            if i not in map_:\n",
    "                map_[i]=1\n",
    "            else:\n",
    "                map_[i]+=1\n",
    "    for i, word in enumerate(words):\n",
    "        count=0\n",
    "        for key, value in map_.items():\n",
    "            if word.count(key)>=value:\n",
    "                count+=1\n",
    "        if count==len(map_):\n",
    "            arr.append((word, len(word), i))\n",
    "    arr=sorted(arr, key=lambda x:(x[1], x[2]))\n",
    "    return arr[0][0]"
   ]
  },
  {
   "cell_type": "code",
   "execution_count": 21,
   "metadata": {},
   "outputs": [
    {
     "data": {
      "text/plain": [
       "{'s': 2, 'p': 1, 't': 1}"
      ]
     },
     "execution_count": 21,
     "metadata": {},
     "output_type": "execute_result"
    }
   ],
   "source": [
    "licensePlate= \"1s3 PSt\"\n",
    "words = [\"step\",\"steps\",\"stripe\",\"stepple\"]\n",
    "licensePlate=licensePlate.lower()\n",
    "map_={}\n",
    "arr=[]\n",
    "for i in licensePlate:\n",
    "    if i.isalpha():\n",
    "        if i not in map_:\n",
    "            map_[i]=1\n",
    "        else:\n",
    "            map_[i]+=1\n",
    "map_"
   ]
  },
  {
   "cell_type": "code",
   "execution_count": null,
   "metadata": {},
   "outputs": [],
   "source": []
  },
  {
   "cell_type": "code",
   "execution_count": 7,
   "metadata": {},
   "outputs": [
    {
     "data": {
      "text/plain": [
       "'abcd'"
      ]
     },
     "execution_count": 7,
     "metadata": {},
     "output_type": "execute_result"
    }
   ],
   "source": [
    "a=\"abcd\"\n",
    "a.replace(\"k\",\"\")\n",
    "a"
   ]
  },
  {
   "cell_type": "code",
   "execution_count": 10,
   "metadata": {},
   "outputs": [],
   "source": [
    "def findRestaurant(list1,list2):\n",
    "    dic1 = {restaurant:i for i, restaurant in enumerate(list1)}\n",
    "    dic2 = {restaurant:dic1[restaurant]+i for i, restaurant in enumerate(list2) if restaurant in dic1}\n",
    "\n",
    "    MIN = float('inf')\n",
    "    res = []\n",
    "\n",
    "    for key, val in dic2.items():\n",
    "        if val < MIN:\n",
    "            res = [key]\n",
    "            MIN = val\n",
    "        elif val == MIN:\n",
    "            res.append(key)\n",
    "\n",
    "    return res"
   ]
  },
  {
   "cell_type": "code",
   "execution_count": 8,
   "metadata": {},
   "outputs": [
    {
     "data": {
      "text/plain": [
       "['Shogun']"
      ]
     },
     "execution_count": 8,
     "metadata": {},
     "output_type": "execute_result"
    }
   ],
   "source": [
    "list1 = [\"Shogun\",\"Tapioca Express\",\"Burger King\",\"KFC\"]\n",
    "list2 = [\"Piatti\",\"The Grill at Torrey Pines\",\"Hungry Hunter Steakhouse\",\"Shogun\"]\n",
    "list(set(list1) & set(list2))"
   ]
  },
  {
   "cell_type": "code",
   "execution_count": 28,
   "metadata": {},
   "outputs": [
    {
     "data": {
      "text/plain": [
       "['Shogun']"
      ]
     },
     "execution_count": 28,
     "metadata": {},
     "output_type": "execute_result"
    }
   ],
   "source": [
    "list1 = [\"Shogun\",\"Tapioca Express\",\"Burger King\",\"KFC\"]\n",
    "list2 = [\"Piatti\",\"The Grill at Torrey Pines\",\"Hungry Hunter Steakhouse\",\"Shogun\"]\n",
    "list(set(list1) & set(list2))\n"
   ]
  },
  {
   "cell_type": "code",
   "execution_count": 32,
   "metadata": {},
   "outputs": [
    {
     "data": {
      "text/plain": [
       "['Tapioca Express', 'KFC', 'Burger King', 'Shogun']"
      ]
     },
     "execution_count": 32,
     "metadata": {},
     "output_type": "execute_result"
    }
   ],
   "source": [
    "list1 = [\"Shogun\",\"Tapioca Express\",\"Burger King\",\"KFC\"]\n",
    "list2 = [\"KFC\",\"Burger King\",\"Tapioca Express\",\"Shogun\"]\n",
    "f=list(set(list1) & set(list2))\n",
    "if len(f)==1:\n",
    "    print(f)\n",
    "sm=dict()\n",
    "for i in f:\n",
    "    a=list1.index(i)\n",
    "    b=list2.index(i)\n",
    "    sm[i]=a+b\n",
    "mn=min(sm.values())\n",
    "r=[]\n",
    "for i,j in sm.items():\n",
    "    if j==mn:\n",
    "        r.append(i)\n",
    "r"
   ]
  },
  {
   "cell_type": "code",
   "execution_count": 33,
   "metadata": {},
   "outputs": [
    {
     "data": {
      "text/plain": [
       "{'Burger King', 'KFC', 'Shogun', 'Tapioca Express'}"
      ]
     },
     "execution_count": 33,
     "metadata": {},
     "output_type": "execute_result"
    }
   ],
   "source": [
    "set(list1).intersection(list2)"
   ]
  },
  {
   "cell_type": "code",
   "execution_count": 53,
   "metadata": {},
   "outputs": [
    {
     "data": {
      "text/plain": [
       "0"
      ]
     },
     "execution_count": 53,
     "metadata": {},
     "output_type": "execute_result"
    }
   ],
   "source": [
    "nums = [1,1,1,1]\n",
    "nums.sort()\n",
    "j=0\n",
    "r=0\n",
    "mx=0\n",
    "for i in range(len(nums)):\n",
    "    j=i+1\n",
    "    while j<len(nums)-1:\n",
    "        if abs(nums[i]-nums[j])==1:\n",
    "            r+=1\n",
    "            j+=1\n",
    "        else:\n",
    "            break\n",
    "        \n",
    "    mx=max(r,mx)\n",
    "mx"
   ]
  },
  {
   "cell_type": "code",
   "execution_count": 21,
   "metadata": {},
   "outputs": [
    {
     "data": {
      "text/plain": [
       "5"
      ]
     },
     "execution_count": 21,
     "metadata": {},
     "output_type": "execute_result"
    }
   ],
   "source": [
    "# longest harmonious Sequence\n",
    "nums = [1,3,2,2,5,2,3,7]\n",
    "res = 0 \n",
    "cnt={}\n",
    "for i in range(len(nums)):\n",
    "    cnt[nums[i]]=nums.count(nums[i])\n",
    "\n",
    "for k in cnt:\n",
    "    if k + 1 in cnt:\n",
    "        res = max(res, cnt[k]+cnt[k+1])\n",
    "\n",
    "res"
   ]
  },
  {
   "cell_type": "code",
   "execution_count": 25,
   "metadata": {},
   "outputs": [],
   "source": [
    "from collections import Counter"
   ]
  },
  {
   "cell_type": "code",
   "execution_count": null,
   "metadata": {},
   "outputs": [],
   "source": [
    "s = Counter(nums)\n",
    "l = 0\n",
    "for i in s:\n",
    "    if i+1 in s:\n",
    "        l = max(s[i]+s[i+1],l)\n",
    "return l"
   ]
  },
  {
   "cell_type": "code",
   "execution_count": 32,
   "metadata": {},
   "outputs": [
    {
     "data": {
      "text/plain": [
       "5"
      ]
     },
     "execution_count": 32,
     "metadata": {},
     "output_type": "execute_result"
    }
   ],
   "source": [
    "d={}\n",
    "r=0\n",
    "for i in range(len(nums)):\n",
    "    d[nums[i]]=nums.count(nums[i])\n",
    "for i in d:\n",
    "    if i+1 in d:\n",
    "        r=max(r,d[i]+d[i+1])\n",
    "r"
   ]
  },
  {
   "cell_type": "code",
   "execution_count": 2,
   "metadata": {},
   "outputs": [],
   "source": [
    "def isOneBitCharacter(List):\n",
    "    i, n = 0, len(bits)\n",
    "    while i < n-1:\n",
    "        i += bits[i]+1\n",
    "    return n-i == 1"
   ]
  },
  {
   "cell_type": "code",
   "execution_count": 7,
   "metadata": {},
   "outputs": [
    {
     "name": "stdout",
     "output_type": "stream",
     "text": [
      "2\n"
     ]
    },
    {
     "data": {
      "text/plain": [
       "(True, 2)"
      ]
     },
     "execution_count": 7,
     "metadata": {},
     "output_type": "execute_result"
    }
   ],
   "source": [
    "bits = [1,0,0]\n",
    "i,n=0,len(bits)\n",
    "while i<n-1:\n",
    "    i+=bits[i]+1\n",
    "    print(i)\n",
    "n-i==1,i"
   ]
  },
  {
   "cell_type": "code",
   "execution_count": 8,
   "metadata": {},
   "outputs": [],
   "source": [
    "def merge(intervals):\n",
    "\n",
    "    intervals.sort(key=lambda x: x[0])\n",
    "\n",
    "    merged = []\n",
    "    for interval in intervals:\n",
    "        # if the list of merged intervals is empty or if the current\n",
    "        # interval does not overlap with the previous, simply append it.\n",
    "        if not merged or merged[-1][1] < interval[0]:\n",
    "            merged.append(interval)\n",
    "        else:\n",
    "        # otherwise, there is overlap, so we merge the current and previous\n",
    "        # intervals.\n",
    "            merged[-1][1] = max(merged[-1][1], interval[1])\n",
    "\n",
    "    return merged"
   ]
  },
  {
   "cell_type": "code",
   "execution_count": 16,
   "metadata": {},
   "outputs": [
    {
     "data": {
      "text/plain": [
       "[[1, 6], [8, 10], [15, 18]]"
      ]
     },
     "execution_count": 16,
     "metadata": {},
     "output_type": "execute_result"
    }
   ],
   "source": [
    "intervals = [[1,3],[2,6],[8,10],[15,18]]\n",
    "intervals.sort(key= lambda x:x[0])\n",
    "merged=[]\n",
    "for i in intervals:\n",
    "    if not merged or merged[-1][1]<i[0]:\n",
    "        merged.append(i)\n",
    "    else:\n",
    "        merged[-1][1]=max(merged[-1][1],i[1])\n",
    "merged"
   ]
  },
  {
   "cell_type": "code",
   "execution_count": null,
   "metadata": {},
   "outputs": [],
   "source": [
    "s = \"PAYPALISHIRING\", numRows = 3\n",
    "Output: \"PAHNAPLSIIGYIR\""
   ]
  },
  {
   "cell_type": "code",
   "execution_count": 8,
   "metadata": {},
   "outputs": [
    {
     "ename": "KeyboardInterrupt",
     "evalue": "",
     "output_type": "error",
     "traceback": [
      "\u001b[1;31m---------------------------------------------------------------------------\u001b[0m",
      "\u001b[1;31mKeyboardInterrupt\u001b[0m                         Traceback (most recent call last)",
      "\u001b[1;32m<ipython-input-8-d1d7ab789c58>\u001b[0m in \u001b[0;36m<module>\u001b[1;34m\u001b[0m\n\u001b[0;32m      8\u001b[0m     \u001b[0mi\u001b[0m\u001b[1;33m=\u001b[0m\u001b[0mnumRows\u001b[0m\u001b[1;33m\u001b[0m\u001b[1;33m\u001b[0m\u001b[0m\n\u001b[0;32m      9\u001b[0m     \u001b[1;32mfor\u001b[0m \u001b[0mi\u001b[0m \u001b[1;32min\u001b[0m \u001b[0mrange\u001b[0m\u001b[1;33m(\u001b[0m\u001b[0mgap\u001b[0m\u001b[1;33m)\u001b[0m\u001b[1;33m:\u001b[0m\u001b[1;33m\u001b[0m\u001b[1;33m\u001b[0m\u001b[0m\n\u001b[1;32m---> 10\u001b[1;33m         \u001b[0marr\u001b[0m\u001b[1;33m.\u001b[0m\u001b[0mappend\u001b[0m\u001b[1;33m(\u001b[0m\u001b[0ms\u001b[0m\u001b[1;33m[\u001b[0m\u001b[0mi\u001b[0m\u001b[1;33m:\u001b[0m\u001b[0mi\u001b[0m\u001b[1;33m+\u001b[0m\u001b[0mgap\u001b[0m\u001b[1;33m]\u001b[0m\u001b[1;33m)\u001b[0m\u001b[1;33m\u001b[0m\u001b[1;33m\u001b[0m\u001b[0m\n\u001b[0m\u001b[0;32m     11\u001b[0m     \u001b[0mi\u001b[0m\u001b[1;33m=\u001b[0m\u001b[0mgap\u001b[0m\u001b[1;33m+\u001b[0m\u001b[1;36m1\u001b[0m\u001b[1;33m\u001b[0m\u001b[1;33m\u001b[0m\u001b[0m\n",
      "\u001b[1;31mKeyboardInterrupt\u001b[0m: "
     ]
    }
   ],
   "source": [
    "s = \"PAYPALISHIRING\"\n",
    "numRows = 3\n",
    "gap=numRows-2\n",
    "arr=[]\n",
    "i="
   ]
  },
  {
   "cell_type": "code",
   "execution_count": 64,
   "metadata": {},
   "outputs": [
    {
     "name": "stdout",
     "output_type": "stream",
     "text": [
      "0\n",
      "0\n"
     ]
    }
   ],
   "source": [
    "coins = [2]\n",
    "amount =1\n",
    "l=len(coins)-1\n",
    "d=0\n",
    "while l>=0:\n",
    "    if amount>=coins[l]:\n",
    "        d,r=divmod(amount,coins[l])\n",
    "        amount=r\n",
    "        o=o+d\n",
    "    if r==0:\n",
    "        break\n",
    "    l-=1\n",
    "\n",
    "if r!=0:\n",
    "    print(-1)\n",
    "else:print(o)"
   ]
  },
  {
   "cell_type": "code",
   "execution_count": 15,
   "metadata": {},
   "outputs": [
    {
     "data": {
      "text/plain": [
       "5"
      ]
     },
     "execution_count": 15,
     "metadata": {},
     "output_type": "execute_result"
    }
   ],
   "source": [
    "coins[l]"
   ]
  },
  {
   "cell_type": "code",
   "execution_count": 3,
   "metadata": {},
   "outputs": [
    {
     "data": {
      "text/plain": [
       "[6, 105, 5, 5, 4, 102, 3, 2, 100, 1]"
      ]
     },
     "execution_count": 3,
     "metadata": {},
     "output_type": "execute_result"
    }
   ],
   "source": [
    "# Min climbing stairs\n",
    "def minCostClimbingStairs(cost):\n",
    "    for i in range(len(cost) - 3, -1, -1):\n",
    "        cost[i] += min(cost[i+1], cost[i+2])\n",
    "    return min(cost[0], cost[1])\n",
    "cost"
   ]
  },
  {
   "cell_type": "code",
   "execution_count": 4,
   "metadata": {},
   "outputs": [],
   "source": [
    " def minCostClimbingStairs(cost):\n",
    "    # Loop through every cost after the first two steps\n",
    "    for i in range(2, len(cost)):\n",
    "        # Update the cheapest cost to step here\n",
    "        cost[i] += min(cost[i-2], cost[i-1])\n",
    "\n",
    "    # Cheapest cost of the last two steps is the answer\n",
    "    return min(cost[len(cost)-2], cost[len(cost)-1])"
   ]
  },
  {
   "cell_type": "code",
   "execution_count": 3,
   "metadata": {},
   "outputs": [],
   "source": [
    "def shortestCompletingWord(licensePlate):\n",
    "    c1 = Counter(c for c in licensePlate.lower() if c.isalpha())\n",
    "\n",
    "    words.sort(key=len)\n",
    "\n",
    "    for word in words:\n",
    "        c2  = Counter(c for c in word.lower() if c.isalpha())\n",
    "        if not (c1 - c2):\n",
    "            return word"
   ]
  },
  {
   "cell_type": "code",
   "execution_count": 5,
   "metadata": {},
   "outputs": [
    {
     "data": {
      "text/plain": [
       "Counter({'s': 2, 'p': 1, 't': 1})"
      ]
     },
     "execution_count": 5,
     "metadata": {},
     "output_type": "execute_result"
    }
   ],
   "source": [
    "from collections import Counter\n",
    "licensePlate = \"1s3 PSt\"\n",
    "words = [\"step\",\"steps\",\"stripe\",\"stepple\"]\n",
    "c1 = Counter(c for c in licensePlate.lower() if c.isalpha())\n",
    "c1"
   ]
  },
  {
   "cell_type": "code",
   "execution_count": 18,
   "metadata": {},
   "outputs": [],
   "source": [
    "d1={i:licensePlate.lower().count(i) for i in licensePlate.lower() if i.isalpha()}\n",
    "words.sort(key=len)\n",
    "l=licensePlate.lower()"
   ]
  },
  {
   "cell_type": "code",
   "execution_count": 45,
   "metadata": {},
   "outputs": [
    {
     "data": {
      "text/plain": [
       "4"
      ]
     },
     "execution_count": 45,
     "metadata": {},
     "output_type": "execute_result"
    }
   ],
   "source": [
    "left = 6\n",
    "right = 10\n",
    "def prime(number):\n",
    "    if number==1:\n",
    "        return False\n",
    "    if number==2:\n",
    "        return True\n",
    "    for i in range(2,int(number/2)+1):\n",
    "        if number%i==0:\n",
    "            return False\n",
    "    return True\n",
    "r=0\n",
    "for i in range(left,right+1):\n",
    "    bn=bin(i)[2:]\n",
    "    c=bn.count('1')\n",
    "    if prime(c):\n",
    "        r+=1\n",
    "r"
   ]
  },
  {
   "cell_type": "code",
   "execution_count": 46,
   "metadata": {},
   "outputs": [],
   "source": [
    "def isToeplitzMatrix(self, matrix):\n",
    "    return all(r == 0 or c == 0 or matrix[r-1][c-1] == val\n",
    "               for r, row in enumerate(matrix)\n",
    "               for c, val in enumerate(row))"
   ]
  },
  {
   "cell_type": "code",
   "execution_count": 47,
   "metadata": {},
   "outputs": [],
   "source": [
    "def isToeplitzMatrix(self, matrix):\n",
    "    groups = {}\n",
    "    for r, row in enumerate(matrix):\n",
    "        for c, val in enumerate(row):\n",
    "            if r-c not in groups:\n",
    "                groups[r-c] = val\n",
    "            elif groups[r-c] != val:\n",
    "                return False\n",
    "    return True"
   ]
  },
  {
   "cell_type": "code",
   "execution_count": 51,
   "metadata": {},
   "outputs": [
    {
     "data": {
      "text/plain": [
       "{0: 1, -1: 2, -2: 3, -3: 4, 1: 5, 2: 9}"
      ]
     },
     "execution_count": 51,
     "metadata": {},
     "output_type": "execute_result"
    }
   ],
   "source": [
    "matrix = [[1,2,3,4],[5,1,2,3],[9,5,1,2]]\n",
    "groups={}\n",
    "for r,row in enumerate(matrix):\n",
    "    for c,val in enumerate(row):\n",
    "        if r-c not in groups:\n",
    "            groups[r-c]=val\n",
    "groups"
   ]
  },
  {
   "cell_type": "code",
   "execution_count": 10,
   "metadata": {},
   "outputs": [
    {
     "data": {
      "text/plain": [
       "3"
      ]
     },
     "execution_count": 10,
     "metadata": {},
     "output_type": "execute_result"
    }
   ],
   "source": [
    "jewels = \"aA\"\n",
    "stones = \"aAAbbbb\"\n",
    "j=list(\"\".join(jewels))\n",
    "r=0\n",
    "for i in j:\n",
    "    c=stones.count(i)\n",
    "    r+=c\n",
    "r"
   ]
  },
  {
   "cell_type": "code",
   "execution_count": 27,
   "metadata": {},
   "outputs": [
    {
     "name": "stdout",
     "output_type": "stream",
     "text": [
      "False\n"
     ]
    }
   ],
   "source": [
    "s = \"abcde\"\n",
    "goal = \"abced\"\n",
    "for i in range(len(s)):\n",
    "    tmp=s[1:]+s[0]\n",
    "    s=tmp\n",
    "    if s==goal:\n",
    "        print(tmp)\n",
    "        print(True)\n",
    "        break\n",
    "else:\n",
    "    print(False)"
   ]
  },
  {
   "cell_type": "code",
   "execution_count": 52,
   "metadata": {},
   "outputs": [
    {
     "name": "stdout",
     "output_type": "stream",
     "text": [
      "False -1\n"
     ]
    },
    {
     "data": {
      "text/plain": [
       "16"
      ]
     },
     "execution_count": 52,
     "metadata": {},
     "output_type": "execute_result"
    }
   ],
   "source": [
    "coins =[186,419,83,408]\n",
    "amount = 6249\n",
    "coins.sort(reverse=True)\n",
    "c=0\n",
    "d=0\n",
    "for i in coins:\n",
    "    if amount%i!=0:\n",
    "        d+=1\n",
    "if d==len(coins):\n",
    "    print(False,-1)\n",
    "for i in coins:\n",
    "    q,r=divmod(amount,i)\n",
    "    amount=r\n",
    "    c+=q\n",
    "c"
   ]
  },
  {
   "cell_type": "code",
   "execution_count": 1,
   "metadata": {},
   "outputs": [
    {
     "name": "stdout",
     "output_type": "stream",
     "text": [
      "4\n"
     ]
    }
   ],
   "source": [
    "def count(S, m, n):\n",
    " \n",
    "    # table[i] will be storing the number of solutions for\n",
    "    # value i. We need n+1 rows as the table is constructed\n",
    "    # in bottom up manner using the base case (n = 0)\n",
    "    # Initialize all table values as 0\n",
    "    table = [0 for k in range(n+1)]\n",
    " \n",
    "    # Base case (If given value is 0)\n",
    "    table[0] = 1\n",
    " \n",
    "    # Pick all coins one by one and update the table[] values\n",
    "    # after the index greater than or equal to the value of the\n",
    "    # picked coin\n",
    "    for i in range(0,m):\n",
    "        for j in range(S[i],n+1):\n",
    "            table[j] += table[j-S[i]]\n",
    " \n",
    "    return table[n]\n",
    " \n",
    "# Driver program to test above function\n",
    "arr = [1, 2, 3]\n",
    "m = len(arr)\n",
    "n = 4\n",
    "x = count(arr, m, n)\n",
    "print (x)"
   ]
  },
  {
   "cell_type": "code",
   "execution_count": 2,
   "metadata": {},
   "outputs": [
    {
     "data": {
      "text/plain": [
       "[1, 0, 0, 0, 0, 0, 0, 0, 0, 0, 0, 0]"
      ]
     },
     "execution_count": 2,
     "metadata": {},
     "output_type": "execute_result"
    }
   ],
   "source": [
    "coins = [1,2,5]\n",
    "amount = 11\n",
    "table=[0 for k in range(amount+1)]\n",
    "table[0]=1\n",
    "table"
   ]
  },
  {
   "cell_type": "code",
   "execution_count": 3,
   "metadata": {},
   "outputs": [
    {
     "name": "stdout",
     "output_type": "stream",
     "text": [
      "11\n"
     ]
    }
   ],
   "source": [
    "for i in range(0,len(coins)):\n",
    "    for j in range(coins[i],amount+1):\n",
    "        table[j]+=table[j-coins[i]]\n",
    "print(table[amount])\n"
   ]
  },
  {
   "cell_type": "code",
   "execution_count": 17,
   "metadata": {},
   "outputs": [],
   "source": [
    "def inorderTraversal(root):\n",
    "    stack = []\n",
    "    result = []\n",
    "\n",
    "    while root or stack:\n",
    "        while root:\n",
    "            stack.append(root)\n",
    "            root = root.left\n",
    "        root = stack.pop()\n",
    "        result.append(root.val)\n",
    "        root = root.right\n",
    "    return result"
   ]
  },
  {
   "cell_type": "code",
   "execution_count": 19,
   "metadata": {},
   "outputs": [],
   "source": [
    "def uniqueMorseRepresentations(self, words):\n",
    "    MORSE = [\".-\",\"-...\",\"-.-.\",\"-..\",\".\",\"..-.\",\"--.\",\n",
    "             \"....\",\"..\",\".---\",\"-.-\",\".-..\",\"--\",\"-.\",\n",
    "             \"---\",\".--.\",\"--.-\",\".-.\",\"...\",\"-\",\"..-\",\n",
    "             \"...-\",\".--\",\"-..-\",\"-.--\",\"--..\"]\n",
    "\n",
    "    seen = {\"\".join(MORSE[ord(c) - ord('a')] for c in word)\n",
    "            for word in words}\n",
    "\n",
    "    return len(seen)"
   ]
  },
  {
   "cell_type": "code",
   "execution_count": 40,
   "metadata": {},
   "outputs": [
    {
     "data": {
      "text/plain": [
       "1"
      ]
     },
     "execution_count": 40,
     "metadata": {},
     "output_type": "execute_result"
    }
   ],
   "source": [
    "MORSE = [\".-\",\"-...\",\"-.-.\",\"-..\",\".\",\"..-.\",\"--.\",\n",
    "             \"....\",\"..\",\".---\",\"-.-\",\".-..\",\"--\",\"-.\",\n",
    "             \"---\",\".--.\",\"--.-\",\".-.\",\"...\",\"-\",\"..-\",\n",
    "             \"...-\",\".--\",\"-..-\",\"-.--\",\"--..\"]\n",
    "dt=[chr(i) for i in range(97,123)]\n",
    "words = [\"a\"]\n",
    "mp={i:j for i,j in zip(dt,MORSE)}\n",
    "arr=[]\n",
    "for i in words:\n",
    "    r=str()\n",
    "    for j in i:\n",
    "        r=r+mp[j]\n",
    "    arr.append(r)\n",
    "len(set(arr))"
   ]
  },
  {
   "cell_type": "code",
   "execution_count": 113,
   "metadata": {},
   "outputs": [],
   "source": [
    "def lengthOfLongestSubstring(s):\n",
    "    result =\"\"\n",
    "    max_length = 0\n",
    "    for i in s:\n",
    "        if i in result:\n",
    "            result = result[result.index(i)+1:]+i\n",
    "            \"\"\"if abcdas is the string, here after abcd the length would be 4 and result will be replaced as bcda\"\"\"\n",
    "        else:\n",
    "            result += i\n",
    "        max_length = max(max_length, len(result))\n",
    "    return (max_length)"
   ]
  },
  {
   "cell_type": "code",
   "execution_count": 7,
   "metadata": {},
   "outputs": [
    {
     "data": {
      "text/plain": [
       "'dabab'"
      ]
     },
     "execution_count": 7,
     "metadata": {},
     "output_type": "execute_result"
    }
   ],
   "source": [
    "# longest Pallindromic substring\n",
    "s = \"babad\"\n",
    "r=s[::-1]\n"
   ]
  },
  {
   "cell_type": "code",
   "execution_count": 17,
   "metadata": {},
   "outputs": [
    {
     "data": {
      "text/plain": [
       "2.0"
      ]
     },
     "execution_count": 17,
     "metadata": {},
     "output_type": "execute_result"
    }
   ],
   "source": [
    "# Largest area of the triangle\n",
    "points = [[0,0],[0,1],[1,0],[0,2],[2,0]]\n",
    "mx=max([x[0] for x in points]) \n",
    "my=max([y[1] for y in points])\n",
    "area=(1/2)*mx*my\n",
    "float(area)"
   ]
  },
  {
   "cell_type": "code",
   "execution_count": 32,
   "metadata": {},
   "outputs": [
    {
     "name": "stdout",
     "output_type": "stream",
     "text": [
      "2\n",
      "3\n"
     ]
    },
    {
     "data": {
      "text/plain": [
       "[]"
      ]
     },
     "execution_count": 32,
     "metadata": {},
     "output_type": "execute_result"
    }
   ],
   "source": [
    "s = \"caaa\"\n",
    "arr=[]\n",
    "c=1\n",
    "for i in range(len(s)-1):\n",
    "    if s[i]==s[i+1]:\n",
    "        c+=1\n",
    "        print(c)\n",
    "    else:\n",
    "        c=1\n",
    "    if c>=3 and s[i]!=s[i+1]:\n",
    "        arr.append([i-c+1,i])\n",
    "arr    "
   ]
  },
  {
   "cell_type": "code",
   "execution_count": 9,
   "metadata": {},
   "outputs": [],
   "source": [
    "def largeGroupPositions(S):\n",
    "    ans = []\n",
    "    i = 0 # The start of each group\n",
    "    for j in range(len(S)):\n",
    "        if j == len(S) - 1 or S[j] != S[j+1]:\n",
    "            # Here, [i, j] represents a group.\n",
    "            if j-i+1 >= 3:\n",
    "                ans.append([i, j])\n",
    "            i = j+1\n",
    "    return ans"
   ]
  },
  {
   "cell_type": "code",
   "execution_count": 7,
   "metadata": {},
   "outputs": [
    {
     "data": {
      "text/plain": [
       "[[3, 5], [6, 9], [12, 14]]"
      ]
     },
     "execution_count": 7,
     "metadata": {},
     "output_type": "execute_result"
    }
   ],
   "source": [
    "s = \"abcdddeeeeaabbbcd\"\n",
    "arr=[]\n",
    "r=0\n",
    "for i in range(len(s)):\n",
    "    if i==len(s)-1 or s[i]!=s[i+1]:\n",
    "        if i-j+1>=3:\n",
    "            arr.append([j,i])\n",
    "        j=i+1\n",
    "arr"
   ]
  },
  {
   "cell_type": "code",
   "execution_count": 44,
   "metadata": {},
   "outputs": [
    {
     "data": {
      "text/plain": [
       "'ball'"
      ]
     },
     "execution_count": 44,
     "metadata": {},
     "output_type": "execute_result"
    }
   ],
   "source": [
    "import re\n",
    "paragraph = \"Bob hit a ball, the hit BALL flew far after it was hit.\"\n",
    "banned = [\"hit\"]\n",
    "paragraph=paragraph.lower()\n",
    "res=re.sub(\"\\W\",\" \",paragraph)\n",
    "res=res.split()\n",
    "d={res.count(i):i for i in set(res) if i not in banned}\n",
    "m=max(d.keys())\n",
    "d[m]"
   ]
  },
  {
   "cell_type": "code",
   "execution_count": 77,
   "metadata": {},
   "outputs": [
    {
     "name": "stdout",
     "output_type": "stream",
     "text": [
      "ball\n",
      "hit\n"
     ]
    },
    {
     "data": {
      "text/plain": [
       "['Bob',\n",
       " 'hit',\n",
       " 'a',\n",
       " 'ball',\n",
       " 'the',\n",
       " 'hit',\n",
       " 'BALL',\n",
       " 'flew',\n",
       " 'far',\n",
       " 'after',\n",
       " 'it',\n",
       " 'was',\n",
       " 'hit']"
      ]
     },
     "execution_count": 77,
     "metadata": {},
     "output_type": "execute_result"
    }
   ],
   "source": [
    "paragraph.lower()\n",
    "s=paragraph.split()\n",
    "arr=[]\n",
    "for i in s:\n",
    "    if i.isalpha()==False:\n",
    "        for j in i:\n",
    "            if j.isalpha()==False:\n",
    "                i=i.replace(j,\"\")\n",
    "                print(i)\n",
    "    arr.append(i)\n",
    "arr"
   ]
  },
  {
   "cell_type": "code",
   "execution_count": 58,
   "metadata": {},
   "outputs": [
    {
     "data": {
      "text/plain": [
       "True"
      ]
     },
     "execution_count": 58,
     "metadata": {},
     "output_type": "execute_result"
    }
   ],
   "source": []
  },
  {
   "cell_type": "code",
   "execution_count": null,
   "metadata": {},
   "outputs": [],
   "source": []
  },
  {
   "cell_type": "code",
   "execution_count": 1,
   "metadata": {},
   "outputs": [
    {
     "name": "stdout",
     "output_type": "stream",
     "text": [
      ",\n",
      "ball\n",
      ".\n",
      "hit\n"
     ]
    },
    {
     "data": {
      "text/plain": [
       "['bob',\n",
       " 'hit',\n",
       " 'a',\n",
       " 'ball,',\n",
       " 'the',\n",
       " 'hit',\n",
       " 'ball',\n",
       " 'flew',\n",
       " 'far',\n",
       " 'after',\n",
       " 'it',\n",
       " 'was',\n",
       " 'hit.']"
      ]
     },
     "execution_count": 1,
     "metadata": {},
     "output_type": "execute_result"
    }
   ],
   "source": [
    "paragraph = \"Bob hit a ball, the hit BALL flew far after it was hit.\"\n",
    "banned = [\"hit\"]\n",
    "paragraph=paragraph.lower()\n",
    "paragraph=paragraph.split()\n",
    "for i in paragraph:\n",
    "    for j in i:\n",
    "        if j.isalpha()==False:\n",
    "            print(j)\n",
    "            i=i.replace(j,\"\")\n",
    "            print(i)\n",
    "paragraph "
   ]
  },
  {
   "cell_type": "code",
   "execution_count": 3,
   "metadata": {},
   "outputs": [],
   "source": [
    "def mostCommonWord(paragraph, banned):\n",
    "    #1). replace the punctuations with spaces,\n",
    "    #      and put all letters in lower case\n",
    "    normalized_str = ''.join([c.lower() if c.isalnum() else ' ' for c in paragraph])\n",
    "\n",
    "    #2). split the string into words\n",
    "    words = normalized_str.split()\n",
    "\n",
    "    word_count = defaultdict(int)\n",
    "    banned_words = set(banned)\n",
    "\n",
    "    #3). count the appearance of each word, excluding the banned words\n",
    "    for word in words:\n",
    "        if word not in banned_words:\n",
    "            word_count[word] += 1\n",
    "\n",
    "    #4). return the word with the highest frequency\n",
    "    return max(word_count.items(), key=operator.itemgetter(1))[0]"
   ]
  },
  {
   "cell_type": "code",
   "execution_count": 11,
   "metadata": {},
   "outputs": [
    {
     "data": {
      "text/plain": [
       "'bob hit a ball  the hit ball flew far after it was hit '"
      ]
     },
     "execution_count": 11,
     "metadata": {},
     "output_type": "execute_result"
    }
   ],
   "source": [
    "paragraph = \"Bob hit a ball, the hit BALL flew far after it was hit.\"\n",
    "normalized_str=\"\".join([c.lower() if c.isalnum() else \" \" for c in paragraph])\n",
    "normalized_str"
   ]
  },
  {
   "cell_type": "code",
   "execution_count": 2,
   "metadata": {},
   "outputs": [],
   "source": [
    "nums =  [3,-1,0,2]\n",
    "k = 3\n",
    "n=0\n",
    "for i in nums:\n",
    "    if i<0:\n",
    "        n+=1\n"
   ]
  },
  {
   "cell_type": "code",
   "execution_count": 7,
   "metadata": {},
   "outputs": [
    {
     "data": {
      "text/plain": [
       "6"
      ]
     },
     "execution_count": 7,
     "metadata": {},
     "output_type": "execute_result"
    }
   ],
   "source": [
    "A=nums\n",
    "while(k!=0):\n",
    "    A.sort()\n",
    "    A[0]=-A[0]\n",
    "    k-=1\n",
    "sum(A)"
   ]
  },
  {
   "cell_type": "code",
   "execution_count": 13,
   "metadata": {},
   "outputs": [
    {
     "data": {
      "text/plain": [
       "6"
      ]
     },
     "execution_count": 13,
     "metadata": {},
     "output_type": "execute_result"
    }
   ],
   "source": [
    "nums =  [3,-1,0,2]\n",
    "k = 3\n",
    "for i in range(k):\n",
    "    nums.sort()\n",
    "    nums[0]=-nums[0]\n",
    "sum(nums)"
   ]
  },
  {
   "cell_type": "code",
   "execution_count": 56,
   "metadata": {},
   "outputs": [
    {
     "data": {
      "text/plain": [
       "0.5"
      ]
     },
     "execution_count": 56,
     "metadata": {},
     "output_type": "execute_result"
    }
   ],
   "source": [
    "points = [[1,0],[0,0],[0,1]]\n",
    "mx=map(lambda x:x[0],points)\n",
    "x=max(list(mx))\n",
    "my=map(lambda x:x[1],points)\n",
    "y=max(list(my))\n",
    "area=(x*y)/2\n",
    "area"
   ]
  },
  {
   "cell_type": "code",
   "execution_count": null,
   "metadata": {},
   "outputs": [],
   "source": []
  },
  {
   "cell_type": "code",
   "execution_count": 26,
   "metadata": {},
   "outputs": [
    {
     "data": {
      "text/plain": [
       "[[2, 3, 4], [1, 4, 16, 64], [3, 6, 9, 12]]"
      ]
     },
     "execution_count": 26,
     "metadata": {},
     "output_type": "execute_result"
    }
   ],
   "source": [
    "List = [[2,3,4],[1, 4, 16, 64],[3, 6, 9, 12]]\n",
    " \n",
    "# Sort each sublist\n",
    "sortList = lambda x: (sorted(i) for i in x)\n",
    "list(sortList(List))"
   ]
  },
  {
   "cell_type": "code",
   "execution_count": 52,
   "metadata": {},
   "outputs": [
    {
     "name": "stdout",
     "output_type": "stream",
     "text": [
      "True\n"
     ]
    }
   ],
   "source": [
    "n = 4\n",
    "trust = [[1,3],[1,4],[2,3],[2,4],[4,3]]\n",
    "if len(trust)==1:\n",
    "    print(trust[0][1])\n",
    "arr=list(map(lambda x:x[1],trust))\n",
    "arr1=[arr.count(i) for i in set(arr)]\n",
    "m=max(arr1)\n",
    "if m==n-1:\n",
    "    s=max(set(arr), key = arr.count)\n",
    "    if s not in [i[0] for i in trust]:\n",
    "        print(True)\n",
    "else:\n",
    "    print(-1)"
   ]
  },
  {
   "cell_type": "code",
   "execution_count": 32,
   "metadata": {},
   "outputs": [
    {
     "name": "stdout",
     "output_type": "stream",
     "text": [
      "2\n"
     ]
    }
   ],
   "source": [
    "trust = [[1,2]]\n",
    "if len(trust)==1:\n",
    "    print(trust[0][1])\n",
    "if "
   ]
  },
  {
   "cell_type": "code",
   "execution_count": 2,
   "metadata": {},
   "outputs": [
    {
     "name": "stdout",
     "output_type": "stream",
     "text": [
      "-1\n"
     ]
    }
   ],
   "source": [
    "trust = [[1,3],[2,3],[3,1],[2,4]]\n",
    "arr1=list(map(lambda x:x[1],trust))\n",
    "arr2=list(map(lambda x:x[0],trust))\n",
    "m=max(arr1,key=arr1.count)\n",
    "if arr1.count(m)==0:\n",
    "    print(1)\n",
    "else:\n",
    "    print(-1)"
   ]
  },
  {
   "cell_type": "code",
   "execution_count": 3,
   "metadata": {},
   "outputs": [
    {
     "data": {
      "text/plain": [
       "[2, 4]"
      ]
     },
     "execution_count": 3,
     "metadata": {},
     "output_type": "execute_result"
    }
   ],
   "source": [
    "max(trust,key= lambda x:x[1])"
   ]
  },
  {
   "cell_type": "code",
   "execution_count": 34,
   "metadata": {},
   "outputs": [
    {
     "data": {
      "text/plain": [
       "['1', '2', '3', '4']"
      ]
     },
     "execution_count": 34,
     "metadata": {},
     "output_type": "execute_result"
    }
   ],
   "source": [
    "num = [1,2,0,0]\n",
    "k = 34\n",
    "s=str()\n",
    "for i in num:\n",
    "    s+=str(i)\n",
    "s=int(s)+k\n",
    "list(\"\".join(str(s)))"
   ]
  },
  {
   "cell_type": "code",
   "execution_count": 51,
   "metadata": {},
   "outputs": [
    {
     "data": {
      "text/plain": [
       "3"
      ]
     },
     "execution_count": 51,
     "metadata": {},
     "output_type": "execute_result"
    }
   ],
   "source": [
    "n = 4\n",
    "trust = [[1,3],[1,4],[2,3],[2,4],[4,3]]\n",
    "a1=list(map(lambda x:x[1],trust))\n",
    "max(a1,key=arr.count)"
   ]
  },
  {
   "cell_type": "code",
   "execution_count": 49,
   "metadata": {},
   "outputs": [
    {
     "data": {
      "text/plain": [
       "{'a', 'b', 'e', 'l'}"
      ]
     },
     "execution_count": 49,
     "metadata": {},
     "output_type": "execute_result"
    }
   ],
   "source": [
    "words = [\"bella\",\"label\",\"roller\"]\n",
    "d={}\n",
    "if len(words)<2:\n",
    "    print(words)\n",
    "s=set(words[0])\n",
    "s"
   ]
  },
  {
   "cell_type": "code",
   "execution_count": 14,
   "metadata": {},
   "outputs": [
    {
     "name": "stdout",
     "output_type": "stream",
     "text": [
      "No\n",
      "Yes\n"
     ]
    }
   ],
   "source": [
    "n = 3\n",
    "trust=[[1,3],[1,4],[2,3],[2,4],[4,3]]\n",
    "t1=[trust[i][1] for i in range(len(trust))]\n",
    "if len(set(t1))!=1:\n",
    "    print(\"No\")\n",
    "t0=[trust[i][0] for i in range(len(trust))]\n",
    "t0=list(set(t0))\n",
    "if set(t1) not in t0:\n",
    "    print(\"Yes\")\n",
    "else:\n",
    "    print(\"No\")"
   ]
  },
  {
   "cell_type": "code",
   "execution_count": 15,
   "metadata": {},
   "outputs": [],
   "source": [
    "def findJudge(self, N, trust):\n",
    "\ttrusted = [0] * (N+1)\n",
    "\tfor a, b in trust:\n",
    "\t\ttrusted[a] -= 1\n",
    "\t\ttrusted[b] += 1\n",
    "\n",
    "\tfor i in range(1, N+1):\n",
    "\t\tif trusted[i] == N-1:\n",
    "\t\t\treturn i\n",
    "\treturn -1"
   ]
  },
  {
   "cell_type": "code",
   "execution_count": 28,
   "metadata": {},
   "outputs": [
    {
     "name": "stdout",
     "output_type": "stream",
     "text": [
      "3\n"
     ]
    }
   ],
   "source": [
    "trust=[[1,3],[2,3],[3,1],[2,4]]\n",
    "t0=list(set([trust[i][0] for i in range(len(trust))]))\n",
    "t1=[trust[i][1] for i in range(len(trust))]\n",
    "m=max(t1,key=t1.count)\n",
    "if len(t0)==m:\n",
    "    print(m)\n",
    "else:\n",
    "    print(-1)"
   ]
  },
  {
   "cell_type": "code",
   "execution_count": 14,
   "metadata": {},
   "outputs": [
    {
     "name": "stdout",
     "output_type": "stream",
     "text": [
      "1\n",
      "1\n",
      "1\n",
      "1\n"
     ]
    }
   ],
   "source": [
    "trust=[[1,3],[2,3],[3,1],[2,4]]\n",
    "N=4\n",
    "trusted=[0]*(N+1)\n",
    "for a,b in trust:\n",
    "    trusted[a]-=1\n",
    "    trusted[b]+=1\n",
    "for i in range(1,N+1):\n",
    "    if trusted[i]==N-1:\n",
    "        print(i)\n",
    "    print(1)"
   ]
  },
  {
   "cell_type": "code",
   "execution_count": null,
   "metadata": {},
   "outputs": [],
   "source": []
  },
  {
   "cell_type": "code",
   "execution_count": null,
   "metadata": {},
   "outputs": [],
   "source": []
  },
  {
   "cell_type": "code",
   "execution_count": null,
   "metadata": {},
   "outputs": [],
   "source": []
  },
  {
   "cell_type": "code",
   "execution_count": null,
   "metadata": {},
   "outputs": [],
   "source": []
  },
  {
   "cell_type": "code",
   "execution_count": null,
   "metadata": {},
   "outputs": [],
   "source": []
  },
  {
   "cell_type": "code",
   "execution_count": null,
   "metadata": {},
   "outputs": [],
   "source": []
  }
 ],
 "metadata": {
  "kernelspec": {
   "display_name": "Python 3",
   "language": "python",
   "name": "python3"
  },
  "language_info": {
   "codemirror_mode": {
    "name": "ipython",
    "version": 3
   },
   "file_extension": ".py",
   "mimetype": "text/x-python",
   "name": "python",
   "nbconvert_exporter": "python",
   "pygments_lexer": "ipython3",
   "version": "3.8.3"
  }
 },
 "nbformat": 4,
 "nbformat_minor": 4
}
