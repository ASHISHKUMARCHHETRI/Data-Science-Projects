{
 "cells": [
  {
   "cell_type": "code",
   "execution_count": 1,
   "metadata": {},
   "outputs": [],
   "source": [
    "from hashlib import sha256\n",
    "import time\n",
    "import numpy as np"
   ]
  },
  {
   "cell_type": "code",
   "execution_count": 9,
   "metadata": {},
   "outputs": [
    {
     "name": "stdout",
     "output_type": "stream",
     "text": [
      "b5d4045c3f466fa91fe2cc6abe79232a1a57cdf104f7a26e716e0a1e2789df78\n"
     ]
    }
   ],
   "source": [
    "print(sha256(\"ABC\".encode(\"ascii\")).hexdigest())"
   ]
  },
  {
   "cell_type": "code",
   "execution_count": 10,
   "metadata": {},
   "outputs": [],
   "source": [
    "def SHA256(text):\n",
    "    return sha256(text.encode(\"ascii\")).hexdigest()\n"
   ]
  },
  {
   "cell_type": "code",
   "execution_count": 26,
   "metadata": {},
   "outputs": [],
   "source": [
    "def mine(block_number,transactions,previous_hash,prefix_zeros):\n",
    "    prefix_str='0'*prefix_zeros\n",
    "    j=5\n",
    "    for nounce in range(10000000000):\n",
    "        text=str(block_number)+transactions+previous_hash+str(nounce)\n",
    "        new_hash=SHA256(text)\n",
    "        if new_hash.startswith(prefix_str):\n",
    "            print(\"Sucessfully Mined BitCoin:\",{nounce})\n",
    "            return new_hash\n",
    "    raise BaseException(\"Goes very long\")\n",
    "    "
   ]
  },
  {
   "cell_type": "code",
   "execution_count": 29,
   "metadata": {},
   "outputs": [],
   "source": [
    "def mining(zeros):\n",
    "    if __name__==\"__main__\":\n",
    "        transactions='''\n",
    "        Ashish->Aman->30\n",
    "        Abhi->Akash->50\n",
    "        '''\n",
    "        difficulty=zeros\n",
    "        start=time.time()\n",
    "        print(\"started mining,wait till i complte or interupt kernal \")\n",
    "        new_hash=mine(5,transactions,'0000000xa036944e29568d0cff17edbe038f81208fecf9a66be9a2b8321c6ec7',difficulty)\n",
    "        total_time=str((time.time()-start))\n",
    "        print(\"Time Taken:\",{total_time},\"seconds\" )\n",
    "        print(new_hash)    "
   ]
  },
  {
   "cell_type": "code",
   "execution_count": 16,
   "metadata": {},
   "outputs": [
    {
     "data": {
      "text/plain": [
       "64"
      ]
     },
     "execution_count": 16,
     "metadata": {},
     "output_type": "execute_result"
    }
   ],
   "source": [
    "len(\"0000000xa036944e29568d0cff17edbe038f81208fecf9a66be9a2b8321c6ec7\")"
   ]
  },
  {
   "cell_type": "code",
   "execution_count": 30,
   "metadata": {},
   "outputs": [
    {
     "name": "stdout",
     "output_type": "stream",
     "text": [
      "started mining,wait till i complte or interupt kernal \n",
      "Sucessfully Mined BitCoin: {8228}\n",
      "Time Taken: {'0.0277557373046875'} seconds\n",
      "00005eae62b29977a178409f4392f50f71001533000d97188436e0e50e882acb\n"
     ]
    }
   ],
   "source": [
    "mining(4)"
   ]
  },
  {
   "cell_type": "code",
   "execution_count": 31,
   "metadata": {},
   "outputs": [
    {
     "name": "stdout",
     "output_type": "stream",
     "text": [
      "started mining,wait till i complte or interupt kernal \n",
      "Sucessfully Mined BitCoin: {555117}\n",
      "Time Taken: {'3.1981053352355957'} seconds\n",
      "00000d5c17dcb9954270d038b95092fc21a6cc24d6c0faedf622d1322802a4ef\n"
     ]
    }
   ],
   "source": [
    "mining(5)"
   ]
  },
  {
   "cell_type": "code",
   "execution_count": 32,
   "metadata": {},
   "outputs": [
    {
     "name": "stdout",
     "output_type": "stream",
     "text": [
      "started mining,wait till i complte or interupt kernal \n",
      "Sucessfully Mined BitCoin: {32891178}\n",
      "Time Taken: {'182.38043642044067'} seconds\n",
      "0000005375176401195d79cd4369b8598c87a03fc4cae71bb94d7521308ac639\n"
     ]
    }
   ],
   "source": [
    "mining(6)"
   ]
  },
  {
   "cell_type": "code",
   "execution_count": 16,
   "metadata": {},
   "outputs": [
    {
     "name": "stdout",
     "output_type": "stream",
     "text": [
      "3.4630627632141113\n"
     ]
    }
   ],
   "source": [
    "a=[i for i in range(1,10000000)]\n",
    "b=[j for j in range(1,10000000)]\n",
    "c=[]\n",
    "start=time.time()\n",
    "for i,j in zip(a,b):\n",
    "    c=i/j\n",
    "end=time.time()-start\n",
    "print(end)"
   ]
  },
  {
   "cell_type": "code",
   "execution_count": 17,
   "metadata": {},
   "outputs": [
    {
     "name": "stdout",
     "output_type": "stream",
     "text": [
      "0.11057090759277344\n"
     ]
    }
   ],
   "source": [
    "a=np.array([i for i in range(1,10000000)])\n",
    "b=np.array([j for j in range(1,10000000)])\n",
    "start=time.time()\n",
    "np.divide(a,b)\n",
    "end=time.time()-start\n",
    "print(end)"
   ]
  },
  {
   "cell_type": "code",
   "execution_count": 22,
   "metadata": {},
   "outputs": [],
   "source": [
    "\n"
   ]
  },
  {
   "cell_type": "code",
   "execution_count": null,
   "metadata": {},
   "outputs": [],
   "source": []
  }
 ],
 "metadata": {
  "kernelspec": {
   "display_name": "Python 3",
   "language": "python",
   "name": "python3"
  },
  "language_info": {
   "codemirror_mode": {
    "name": "ipython",
    "version": 3
   },
   "file_extension": ".py",
   "mimetype": "text/x-python",
   "name": "python",
   "nbconvert_exporter": "python",
   "pygments_lexer": "ipython3",
   "version": "3.8.3"
  }
 },
 "nbformat": 4,
 "nbformat_minor": 4
}
