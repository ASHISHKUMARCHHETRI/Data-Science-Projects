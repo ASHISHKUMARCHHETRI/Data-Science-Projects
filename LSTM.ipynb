{
 "cells": [
  {
   "cell_type": "code",
   "execution_count": 3,
   "metadata": {},
   "outputs": [],
   "source": [
    "import math \n",
    "import pandas_datareader as web\n",
    "import pandas_datareader.data as pdr\n",
    "import numpy as np\n",
    "import pandas as pd\n",
    "from sklearn.preprocessing import MinMaxScaler,LabelEncoder\n",
    "from keras.models import Sequential\n",
    "from keras.layers import Dense,LSTM,Dropout\n",
    "import matplotlib.pyplot as plt\n",
    "plt.style.use('fivethirtyeight')\n",
    "from keras import Sequential\n",
    "from sklearn.model_selection import train_test_split"
   ]
  },
  {
   "cell_type": "code",
   "execution_count": 15,
   "metadata": {},
   "outputs": [
    {
     "name": "stdout",
     "output_type": "stream",
     "text": [
      "[*********************100%***********************]  1 of 1 completed\n"
     ]
    },
    {
     "data": {
      "text/html": [
       "<div>\n",
       "<style scoped>\n",
       "    .dataframe tbody tr th:only-of-type {\n",
       "        vertical-align: middle;\n",
       "    }\n",
       "\n",
       "    .dataframe tbody tr th {\n",
       "        vertical-align: top;\n",
       "    }\n",
       "\n",
       "    .dataframe thead th {\n",
       "        text-align: right;\n",
       "    }\n",
       "</style>\n",
       "<table border=\"1\" class=\"dataframe\">\n",
       "  <thead>\n",
       "    <tr style=\"text-align: right;\">\n",
       "      <th></th>\n",
       "      <th>Open</th>\n",
       "      <th>High</th>\n",
       "      <th>Low</th>\n",
       "      <th>Close</th>\n",
       "      <th>Adj Close</th>\n",
       "      <th>Volume</th>\n",
       "    </tr>\n",
       "    <tr>\n",
       "      <th>Date</th>\n",
       "      <th></th>\n",
       "      <th></th>\n",
       "      <th></th>\n",
       "      <th></th>\n",
       "      <th></th>\n",
       "      <th></th>\n",
       "    </tr>\n",
       "  </thead>\n",
       "  <tbody>\n",
       "    <tr>\n",
       "      <th>2010-06-29</th>\n",
       "      <td>3.800000</td>\n",
       "      <td>5.000000</td>\n",
       "      <td>3.508000</td>\n",
       "      <td>4.778000</td>\n",
       "      <td>4.778000</td>\n",
       "      <td>93831500</td>\n",
       "    </tr>\n",
       "    <tr>\n",
       "      <th>2010-06-30</th>\n",
       "      <td>5.158000</td>\n",
       "      <td>6.084000</td>\n",
       "      <td>4.660000</td>\n",
       "      <td>4.766000</td>\n",
       "      <td>4.766000</td>\n",
       "      <td>85935500</td>\n",
       "    </tr>\n",
       "    <tr>\n",
       "      <th>2010-07-01</th>\n",
       "      <td>5.000000</td>\n",
       "      <td>5.184000</td>\n",
       "      <td>4.054000</td>\n",
       "      <td>4.392000</td>\n",
       "      <td>4.392000</td>\n",
       "      <td>41094000</td>\n",
       "    </tr>\n",
       "    <tr>\n",
       "      <th>2010-07-02</th>\n",
       "      <td>4.600000</td>\n",
       "      <td>4.620000</td>\n",
       "      <td>3.742000</td>\n",
       "      <td>3.840000</td>\n",
       "      <td>3.840000</td>\n",
       "      <td>25699000</td>\n",
       "    </tr>\n",
       "    <tr>\n",
       "      <th>2010-07-06</th>\n",
       "      <td>4.000000</td>\n",
       "      <td>4.000000</td>\n",
       "      <td>3.166000</td>\n",
       "      <td>3.222000</td>\n",
       "      <td>3.222000</td>\n",
       "      <td>34334500</td>\n",
       "    </tr>\n",
       "    <tr>\n",
       "      <th>...</th>\n",
       "      <td>...</td>\n",
       "      <td>...</td>\n",
       "      <td>...</td>\n",
       "      <td>...</td>\n",
       "      <td>...</td>\n",
       "      <td>...</td>\n",
       "    </tr>\n",
       "    <tr>\n",
       "      <th>2021-06-28</th>\n",
       "      <td>671.640015</td>\n",
       "      <td>694.700012</td>\n",
       "      <td>670.320007</td>\n",
       "      <td>688.719971</td>\n",
       "      <td>688.719971</td>\n",
       "      <td>21628200</td>\n",
       "    </tr>\n",
       "    <tr>\n",
       "      <th>2021-06-29</th>\n",
       "      <td>684.650024</td>\n",
       "      <td>687.510010</td>\n",
       "      <td>675.890015</td>\n",
       "      <td>680.760010</td>\n",
       "      <td>680.760010</td>\n",
       "      <td>17381300</td>\n",
       "    </tr>\n",
       "    <tr>\n",
       "      <th>2021-06-30</th>\n",
       "      <td>679.770020</td>\n",
       "      <td>692.809998</td>\n",
       "      <td>678.140015</td>\n",
       "      <td>679.700012</td>\n",
       "      <td>679.700012</td>\n",
       "      <td>18924900</td>\n",
       "    </tr>\n",
       "    <tr>\n",
       "      <th>2021-07-01</th>\n",
       "      <td>683.919983</td>\n",
       "      <td>687.989990</td>\n",
       "      <td>672.799988</td>\n",
       "      <td>677.919983</td>\n",
       "      <td>677.919983</td>\n",
       "      <td>18634500</td>\n",
       "    </tr>\n",
       "    <tr>\n",
       "      <th>2021-07-02</th>\n",
       "      <td>678.979980</td>\n",
       "      <td>700.000000</td>\n",
       "      <td>673.260010</td>\n",
       "      <td>678.900024</td>\n",
       "      <td>678.900024</td>\n",
       "      <td>27054500</td>\n",
       "    </tr>\n",
       "  </tbody>\n",
       "</table>\n",
       "<p>2773 rows × 6 columns</p>\n",
       "</div>"
      ],
      "text/plain": [
       "                  Open        High         Low       Close   Adj Close  \\\n",
       "Date                                                                     \n",
       "2010-06-29    3.800000    5.000000    3.508000    4.778000    4.778000   \n",
       "2010-06-30    5.158000    6.084000    4.660000    4.766000    4.766000   \n",
       "2010-07-01    5.000000    5.184000    4.054000    4.392000    4.392000   \n",
       "2010-07-02    4.600000    4.620000    3.742000    3.840000    3.840000   \n",
       "2010-07-06    4.000000    4.000000    3.166000    3.222000    3.222000   \n",
       "...                ...         ...         ...         ...         ...   \n",
       "2021-06-28  671.640015  694.700012  670.320007  688.719971  688.719971   \n",
       "2021-06-29  684.650024  687.510010  675.890015  680.760010  680.760010   \n",
       "2021-06-30  679.770020  692.809998  678.140015  679.700012  679.700012   \n",
       "2021-07-01  683.919983  687.989990  672.799988  677.919983  677.919983   \n",
       "2021-07-02  678.979980  700.000000  673.260010  678.900024  678.900024   \n",
       "\n",
       "              Volume  \n",
       "Date                  \n",
       "2010-06-29  93831500  \n",
       "2010-06-30  85935500  \n",
       "2010-07-01  41094000  \n",
       "2010-07-02  25699000  \n",
       "2010-07-06  34334500  \n",
       "...              ...  \n",
       "2021-06-28  21628200  \n",
       "2021-06-29  17381300  \n",
       "2021-06-30  18924900  \n",
       "2021-07-01  18634500  \n",
       "2021-07-02  27054500  \n",
       "\n",
       "[2773 rows x 6 columns]"
      ]
     },
     "execution_count": 15,
     "metadata": {},
     "output_type": "execute_result"
    }
   ],
   "source": [
    "import yfinance as yf\n",
    "import pandas_datareader.data as pdr\n",
    "from datetime import datetime as dt\n",
    "\n",
    "yf.pdr_override()\n",
    "\n",
    "start_date = '01-01-2010'\n",
    "end_date = '03-07-2021'\n",
    "\n",
    "start = dt.strptime(start_date, '%d-%m-%Y')\n",
    "end = dt.strptime(end_date, '%d-%m-%Y')\n",
    "df = pdr.get_data_yahoo('TSLA', data_source='yahoo', start=start, end=end)\n",
    "df"
   ]
  },
  {
   "cell_type": "code",
   "execution_count": 5,
   "metadata": {},
   "outputs": [
    {
     "ename": "NameError",
     "evalue": "name 'webr' is not defined",
     "output_type": "error",
     "traceback": [
      "\u001b[1;31m---------------------------------------------------------------------------\u001b[0m",
      "\u001b[1;31mNameError\u001b[0m                                 Traceback (most recent call last)",
      "\u001b[1;32m<ipython-input-5-08e95754b49e>\u001b[0m in \u001b[0;36m<module>\u001b[1;34m\u001b[0m\n\u001b[1;32m----> 1\u001b[1;33m \u001b[0mdf\u001b[0m\u001b[1;33m=\u001b[0m\u001b[0mwebr\u001b[0m\u001b[1;33m.\u001b[0m\u001b[0mDataReader\u001b[0m\u001b[1;33m(\u001b[0m\u001b[0mname\u001b[0m\u001b[1;33m=\u001b[0m\u001b[1;34m'ORCL'\u001b[0m\u001b[1;33m,\u001b[0m\u001b[0mdata_source\u001b[0m\u001b[1;33m=\u001b[0m\u001b[1;34m'yahoo'\u001b[0m\u001b[1;33m,\u001b[0m\u001b[0mstart\u001b[0m\u001b[1;33m=\u001b[0m\u001b[1;34m'2010-01-01'\u001b[0m\u001b[1;33m,\u001b[0m\u001b[0mend\u001b[0m\u001b[1;33m=\u001b[0m\u001b[1;34m'2021-07-04'\u001b[0m\u001b[1;33m)\u001b[0m\u001b[1;33m\u001b[0m\u001b[1;33m\u001b[0m\u001b[0m\n\u001b[0m\u001b[0;32m      2\u001b[0m \u001b[0mdf\u001b[0m\u001b[1;33m\u001b[0m\u001b[1;33m\u001b[0m\u001b[0m\n",
      "\u001b[1;31mNameError\u001b[0m: name 'webr' is not defined"
     ]
    }
   ],
   "source": [
    "df=webr.DataReader(name='ORCL',data_source='yahoo',start='2010-01-01',end='2021-07-04')\n",
    "df"
   ]
  },
  {
   "cell_type": "code",
   "execution_count": 20,
   "metadata": {},
   "outputs": [
    {
     "name": "stdout",
     "output_type": "stream",
     "text": [
      "[*********************100%***********************]  1 of 1 completed\n"
     ]
    },
    {
     "data": {
      "text/html": [
       "<div>\n",
       "<style scoped>\n",
       "    .dataframe tbody tr th:only-of-type {\n",
       "        vertical-align: middle;\n",
       "    }\n",
       "\n",
       "    .dataframe tbody tr th {\n",
       "        vertical-align: top;\n",
       "    }\n",
       "\n",
       "    .dataframe thead th {\n",
       "        text-align: right;\n",
       "    }\n",
       "</style>\n",
       "<table border=\"1\" class=\"dataframe\">\n",
       "  <thead>\n",
       "    <tr style=\"text-align: right;\">\n",
       "      <th></th>\n",
       "      <th>Open</th>\n",
       "      <th>High</th>\n",
       "      <th>Low</th>\n",
       "      <th>Close</th>\n",
       "      <th>Adj Close</th>\n",
       "      <th>Volume</th>\n",
       "    </tr>\n",
       "    <tr>\n",
       "      <th>Date</th>\n",
       "      <th></th>\n",
       "      <th></th>\n",
       "      <th></th>\n",
       "      <th></th>\n",
       "      <th></th>\n",
       "      <th></th>\n",
       "    </tr>\n",
       "  </thead>\n",
       "  <tbody>\n",
       "    <tr>\n",
       "      <th>2009-12-31</th>\n",
       "      <td>137.089996</td>\n",
       "      <td>137.279999</td>\n",
       "      <td>134.520004</td>\n",
       "      <td>134.520004</td>\n",
       "      <td>134.520004</td>\n",
       "      <td>4523000</td>\n",
       "    </tr>\n",
       "    <tr>\n",
       "      <th>2010-01-04</th>\n",
       "      <td>136.250000</td>\n",
       "      <td>136.610001</td>\n",
       "      <td>133.139999</td>\n",
       "      <td>133.899994</td>\n",
       "      <td>133.899994</td>\n",
       "      <td>7599900</td>\n",
       "    </tr>\n",
       "    <tr>\n",
       "      <th>2010-01-05</th>\n",
       "      <td>133.429993</td>\n",
       "      <td>135.479996</td>\n",
       "      <td>131.809998</td>\n",
       "      <td>134.690002</td>\n",
       "      <td>134.690002</td>\n",
       "      <td>8851900</td>\n",
       "    </tr>\n",
       "    <tr>\n",
       "      <th>2010-01-06</th>\n",
       "      <td>134.600006</td>\n",
       "      <td>134.729996</td>\n",
       "      <td>131.649994</td>\n",
       "      <td>132.250000</td>\n",
       "      <td>132.250000</td>\n",
       "      <td>7178800</td>\n",
       "    </tr>\n",
       "    <tr>\n",
       "      <th>2010-01-07</th>\n",
       "      <td>132.009995</td>\n",
       "      <td>132.320007</td>\n",
       "      <td>128.800003</td>\n",
       "      <td>130.000000</td>\n",
       "      <td>130.000000</td>\n",
       "      <td>11030200</td>\n",
       "    </tr>\n",
       "    <tr>\n",
       "      <th>...</th>\n",
       "      <td>...</td>\n",
       "      <td>...</td>\n",
       "      <td>...</td>\n",
       "      <td>...</td>\n",
       "      <td>...</td>\n",
       "      <td>...</td>\n",
       "    </tr>\n",
       "    <tr>\n",
       "      <th>2021-06-28</th>\n",
       "      <td>3416.000000</td>\n",
       "      <td>3448.000000</td>\n",
       "      <td>3413.510010</td>\n",
       "      <td>3443.889893</td>\n",
       "      <td>3443.889893</td>\n",
       "      <td>2242800</td>\n",
       "    </tr>\n",
       "    <tr>\n",
       "      <th>2021-06-29</th>\n",
       "      <td>3438.820068</td>\n",
       "      <td>3456.030029</td>\n",
       "      <td>3423.030029</td>\n",
       "      <td>3448.139893</td>\n",
       "      <td>3448.139893</td>\n",
       "      <td>2098400</td>\n",
       "    </tr>\n",
       "    <tr>\n",
       "      <th>2021-06-30</th>\n",
       "      <td>3441.060059</td>\n",
       "      <td>3471.600098</td>\n",
       "      <td>3435.000000</td>\n",
       "      <td>3440.159912</td>\n",
       "      <td>3440.159912</td>\n",
       "      <td>2404000</td>\n",
       "    </tr>\n",
       "    <tr>\n",
       "      <th>2021-07-01</th>\n",
       "      <td>3434.610107</td>\n",
       "      <td>3457.000000</td>\n",
       "      <td>3409.419922</td>\n",
       "      <td>3432.969971</td>\n",
       "      <td>3432.969971</td>\n",
       "      <td>2037100</td>\n",
       "    </tr>\n",
       "    <tr>\n",
       "      <th>2021-07-02</th>\n",
       "      <td>3451.639893</td>\n",
       "      <td>3511.719971</td>\n",
       "      <td>3436.919922</td>\n",
       "      <td>3510.979980</td>\n",
       "      <td>3510.979980</td>\n",
       "      <td>3169400</td>\n",
       "    </tr>\n",
       "  </tbody>\n",
       "</table>\n",
       "<p>2896 rows × 6 columns</p>\n",
       "</div>"
      ],
      "text/plain": [
       "                   Open         High          Low        Close    Adj Close  \\\n",
       "Date                                                                          \n",
       "2009-12-31   137.089996   137.279999   134.520004   134.520004   134.520004   \n",
       "2010-01-04   136.250000   136.610001   133.139999   133.899994   133.899994   \n",
       "2010-01-05   133.429993   135.479996   131.809998   134.690002   134.690002   \n",
       "2010-01-06   134.600006   134.729996   131.649994   132.250000   132.250000   \n",
       "2010-01-07   132.009995   132.320007   128.800003   130.000000   130.000000   \n",
       "...                 ...          ...          ...          ...          ...   \n",
       "2021-06-28  3416.000000  3448.000000  3413.510010  3443.889893  3443.889893   \n",
       "2021-06-29  3438.820068  3456.030029  3423.030029  3448.139893  3448.139893   \n",
       "2021-06-30  3441.060059  3471.600098  3435.000000  3440.159912  3440.159912   \n",
       "2021-07-01  3434.610107  3457.000000  3409.419922  3432.969971  3432.969971   \n",
       "2021-07-02  3451.639893  3511.719971  3436.919922  3510.979980  3510.979980   \n",
       "\n",
       "              Volume  \n",
       "Date                  \n",
       "2009-12-31   4523000  \n",
       "2010-01-04   7599900  \n",
       "2010-01-05   8851900  \n",
       "2010-01-06   7178800  \n",
       "2010-01-07  11030200  \n",
       "...              ...  \n",
       "2021-06-28   2242800  \n",
       "2021-06-29   2098400  \n",
       "2021-06-30   2404000  \n",
       "2021-07-01   2037100  \n",
       "2021-07-02   3169400  \n",
       "\n",
       "[2896 rows x 6 columns]"
      ]
     },
     "execution_count": 20,
     "metadata": {},
     "output_type": "execute_result"
    }
   ],
   "source": [
    "yf.pdr_override()\n",
    "\n",
    "start_date = '01-01-2010'\n",
    "end_date = '03-07-2021'\n",
    "\n",
    "start = dt.strptime(start_date, '%d-%m-%Y')\n",
    "end = dt.strptime(end_date, '%d-%m-%Y')\n",
    "data = pdr.get_data_yahoo('AMZN', data_source='yahoo', start=start, end=end)\n",
    "data"
   ]
  },
  {
   "cell_type": "code",
   "execution_count": 17,
   "metadata": {},
   "outputs": [
    {
     "data": {
      "text/plain": [
       "(2773, 7)"
      ]
     },
     "execution_count": 17,
     "metadata": {},
     "output_type": "execute_result"
    }
   ],
   "source": [
    "df1=df.reset_index(level=0)\n",
    "df1.shape"
   ]
  },
  {
   "cell_type": "code",
   "execution_count": 22,
   "metadata": {},
   "outputs": [
    {
     "data": {
      "image/png": "[encoded data removed]",
      "text/plain": [
       "<Figure size 1152x576 with 1 Axes>"
      ]
     },
     "metadata": {},
     "output_type": "display_data"
    }
   ],
   "source": [
    "plt.figure(figsize=(16,8))\n",
    "plt.title('Close Price History Of TSLA')\n",
    "plt.plot(df['Close'])\n",
    "plt.xlabel('Date',fontsize=18)\n",
    "plt.ylabel('Close Price USD($)',fontsize=18)\n",
    "plt.grid(False)"
   ]
  },
  {
   "cell_type": "code",
   "execution_count": 21,
   "metadata": {},
   "outputs": [
    {
     "data": {
      "image/png": "[encoded data removed]",
      "text/plain": [
       "<Figure size 1152x576 with 1 Axes>"
      ]
     },
     "metadata": {},
     "output_type": "display_data"
    }
   ],
   "source": [
    "plt.figure(figsize=(16,8))\n",
    "plt.title('Close Price History Of AMAZON')\n",
    "plt.plot(data['Close'])\n",
    "plt.xlabel('Date',fontsize=18)\n",
    "plt.ylabel('Close Price USD($)',fontsize=18)\n",
    "plt.grid(False)"
   ]
  },
  {
   "cell_type": "code",
   "execution_count": 23,
   "metadata": {},
   "outputs": [
    {
     "data": {
      "text/plain": [
       "2317"
      ]
     },
     "execution_count": 23,
     "metadata": {},
     "output_type": "execute_result"
    }
   ],
   "source": [
    "df2=df.filter(['Close'])\n",
    "values=data.values\n",
    "training_data_len=math.ceil(len(values)*0.8)\n",
    "training_data_len"
   ]
  },
  {
   "cell_type": "code",
   "execution_count": 24,
   "metadata": {},
   "outputs": [
    {
     "data": {
      "text/plain": [
       "array([[1.37089996e+02, 1.37279999e+02, 1.34520004e+02, 1.34520004e+02,\n",
       "        1.34520004e+02, 4.52300000e+06],\n",
       "       [1.36250000e+02, 1.36610001e+02, 1.33139999e+02, 1.33899994e+02,\n",
       "        1.33899994e+02, 7.59990000e+06],\n",
       "       [1.33429993e+02, 1.35479996e+02, 1.31809998e+02, 1.34690002e+02,\n",
       "        1.34690002e+02, 8.85190000e+06],\n",
       "       ...,\n",
       "       [3.44106006e+03, 3.47160010e+03, 3.43500000e+03, 3.44015991e+03,\n",
       "        3.44015991e+03, 2.40400000e+06],\n",
       "       [3.43461011e+03, 3.45700000e+03, 3.40941992e+03, 3.43296997e+03,\n",
       "        3.43296997e+03, 2.03710000e+06],\n",
       "       [3.45163989e+03, 3.51171997e+03, 3.43691992e+03, 3.51097998e+03,\n",
       "        3.51097998e+03, 3.16940000e+06]])"
      ]
     },
     "execution_count": 24,
     "metadata": {},
     "output_type": "execute_result"
    }
   ],
   "source": [
    "values"
   ]
  },
  {
   "cell_type": "code",
   "execution_count": 25,
   "metadata": {},
   "outputs": [
    {
     "data": {
      "text/plain": [
       "array([[0.00905532, 0.00754928, 0.00849481, 0.00756974, 0.00756974,\n",
       "        0.08766773],\n",
       "       [0.00881121, 0.00735467, 0.00808663, 0.0073886 , 0.0073886 ,\n",
       "        0.16173886],\n",
       "       [0.0079917 , 0.00702644, 0.00769324, 0.0076194 , 0.0076194 ,\n",
       "        0.19187863],\n",
       "       ...,\n",
       "       [0.96921308, 0.9760654 , 0.98471114, 0.97332915, 0.97332915,\n",
       "        0.03665641],\n",
       "       [0.96733868, 0.97182452, 0.97714507, 0.97122858, 0.97122858,\n",
       "        0.02782392],\n",
       "       [0.97228766, 0.98771897, 0.98527902, 0.99401959, 0.99401959,\n",
       "        0.05508211]])"
      ]
     },
     "execution_count": 25,
     "metadata": {},
     "output_type": "execute_result"
    }
   ],
   "source": [
    "scaler=MinMaxScaler(feature_range=(0,1))\n",
    "scaled_data=scaler.fit_transform(values)\n",
    "scaled_data"
   ]
  },
  {
   "cell_type": "code",
   "execution_count": 26,
   "metadata": {},
   "outputs": [
    {
     "data": {
      "text/plain": [
       "2317"
      ]
     },
     "execution_count": 26,
     "metadata": {},
     "output_type": "execute_result"
    }
   ],
   "source": [
    "train_data=scaled_data[0:training_data_len]\n",
    "len(train_data)"
   ]
  },
  {
   "cell_type": "code",
   "execution_count": 27,
   "metadata": {},
   "outputs": [],
   "source": [
    "x_train=[]\n",
    "y_train=[]\n",
    "for i in range(60,len(train_data)):\n",
    "    x_train.append(train_data[i-60:i,0])\n",
    "    y_train.append(train_data[i,0])"
   ]
  },
  {
   "cell_type": "code",
   "execution_count": 28,
   "metadata": {},
   "outputs": [
    {
     "data": {
      "text/plain": [
       "(2257, 2257)"
      ]
     },
     "execution_count": 28,
     "metadata": {},
     "output_type": "execute_result"
    }
   ],
   "source": [
    "len(x_train),len(y_train)"
   ]
  },
  {
   "cell_type": "code",
   "execution_count": 29,
   "metadata": {},
   "outputs": [
    {
     "data": {
      "text/plain": [
       "((2257, 60, 1), (2257,))"
      ]
     },
     "execution_count": 29,
     "metadata": {},
     "output_type": "execute_result"
    }
   ],
   "source": [
    "x_train=np.array(x_train)\n",
    "y_train=np.array(y_train)\n",
    "x_train=x_train.reshape(x_train.shape[0],x_train.shape[1],1)\n",
    "x_train.shape,y_train.shape"
   ]
  },
  {
   "cell_type": "code",
   "execution_count": null,
   "metadata": {},
   "outputs": [],
   "source": []
  },
  {
   "cell_type": "code",
   "execution_count": 35,
   "metadata": {},
   "outputs": [
    {
     "name": "stdout",
     "output_type": "stream",
     "text": [
      "Epoch 1/5\n",
      "71/71 [==============================] - 76s 1s/step - loss: 0.0270 - accuracy: 4.4307e-04 - val_loss: 0.0068 - val_accuracy: 4.4307e-04\n",
      "Epoch 2/5\n",
      "71/71 [==============================] - 74s 1s/step - loss: 0.0166 - accuracy: 4.4307e-04 - val_loss: 0.0095 - val_accuracy: 4.4307e-04\n",
      "Epoch 3/5\n",
      "71/71 [==============================] - 74s 1s/step - loss: 0.0157 - accuracy: 4.4307e-04 - val_loss: 0.0069 - val_accuracy: 4.4307e-04\n",
      "Epoch 4/5\n",
      "71/71 [==============================] - 74s 1s/step - loss: 0.0163 - accuracy: 4.4307e-04 - val_loss: 0.0130 - val_accuracy: 4.4307e-04\n",
      "Epoch 5/5\n",
      "71/71 [==============================] - 73s 1s/step - loss: 0.0156 - accuracy: 4.4307e-04 - val_loss: 0.0090 - val_accuracy: 4.4307e-04\n"
     ]
    }
   ],
   "source": [
    "model=Sequential()\n",
    "model.add(LSTM((500),input_shape=(x_train.shape[1],1),return_sequences=True))\n",
    "model.add(Dropout(0.3))\n",
    "model.add(LSTM(250))\n",
    "model.add(Dropout(0.3))\n",
    "model.add(Dense(100,activation='relu'))\n",
    "model.add(Dropout(0.3))\n",
    "model.add(Dense(30,activation='relu'))\n",
    "model.add(Dense(1))\n",
    "model.compile(loss=\"mean_absolute_error\",optimizer='adam',metrics=['accuracy'])\n",
    "history=model.fit(x_train,y_train,epochs=5,validation_data=(x_train,y_train))"
   ]
  },
  {
   "cell_type": "code",
   "execution_count": 37,
   "metadata": {},
   "outputs": [
    {
     "data": {
      "image/png": "[encoded data removed]",
      "text/plain": [
       "<Figure size 432x288 with 1 Axes>"
      ]
     },
     "metadata": {},
     "output_type": "display_data"
    }
   ],
   "source": [
    "plt.plot(history.history['loss'])\n",
    "plt.grid(False)\n",
    "plt.show()"
   ]
  },
  {
   "cell_type": "code",
   "execution_count": 38,
   "metadata": {},
   "outputs": [
    {
     "name": "stdout",
     "output_type": "stream",
     "text": [
      "71/71 [==============================] - 22s 310ms/step - loss: 0.0090 - accuracy: 4.4307e-04\n"
     ]
    },
    {
     "data": {
      "text/plain": [
       "[0.008965140208601952, 0.0004430660046637058]"
      ]
     },
     "execution_count": 38,
     "metadata": {},
     "output_type": "execute_result"
    }
   ],
   "source": [
    "model.evaluate(x_train,y_train)"
   ]
  },
  {
   "cell_type": "code",
   "execution_count": null,
   "metadata": {},
   "outputs": [],
   "source": []
  },
  {
   "cell_type": "markdown",
   "metadata": {},
   "source": [
    "# New Dataset"
   ]
  },
  {
   "cell_type": "code",
   "execution_count": 39,
   "metadata": {},
   "outputs": [
    {
     "data": {
      "text/html": [
       "<div>\n",
       "<style scoped>\n",
       "    .dataframe tbody tr th:only-of-type {\n",
       "        vertical-align: middle;\n",
       "    }\n",
       "\n",
       "    .dataframe tbody tr th {\n",
       "        vertical-align: top;\n",
       "    }\n",
       "\n",
       "    .dataframe thead th {\n",
       "        text-align: right;\n",
       "    }\n",
       "</style>\n",
       "<table border=\"1\" class=\"dataframe\">\n",
       "  <thead>\n",
       "    <tr style=\"text-align: right;\">\n",
       "      <th></th>\n",
       "      <th>datesold</th>\n",
       "      <th>postcode</th>\n",
       "      <th>price</th>\n",
       "      <th>propertyType</th>\n",
       "      <th>bedrooms</th>\n",
       "    </tr>\n",
       "  </thead>\n",
       "  <tbody>\n",
       "    <tr>\n",
       "      <th>0</th>\n",
       "      <td>2007-02-07 00:00:00</td>\n",
       "      <td>2607</td>\n",
       "      <td>525000</td>\n",
       "      <td>house</td>\n",
       "      <td>4</td>\n",
       "    </tr>\n",
       "    <tr>\n",
       "      <th>1</th>\n",
       "      <td>2007-02-27 00:00:00</td>\n",
       "      <td>2906</td>\n",
       "      <td>290000</td>\n",
       "      <td>house</td>\n",
       "      <td>3</td>\n",
       "    </tr>\n",
       "    <tr>\n",
       "      <th>2</th>\n",
       "      <td>2007-03-07 00:00:00</td>\n",
       "      <td>2905</td>\n",
       "      <td>328000</td>\n",
       "      <td>house</td>\n",
       "      <td>3</td>\n",
       "    </tr>\n",
       "    <tr>\n",
       "      <th>3</th>\n",
       "      <td>2007-03-09 00:00:00</td>\n",
       "      <td>2905</td>\n",
       "      <td>380000</td>\n",
       "      <td>house</td>\n",
       "      <td>4</td>\n",
       "    </tr>\n",
       "    <tr>\n",
       "      <th>4</th>\n",
       "      <td>2007-03-21 00:00:00</td>\n",
       "      <td>2906</td>\n",
       "      <td>310000</td>\n",
       "      <td>house</td>\n",
       "      <td>3</td>\n",
       "    </tr>\n",
       "  </tbody>\n",
       "</table>\n",
       "</div>"
      ],
      "text/plain": [
       "              datesold  postcode   price propertyType  bedrooms\n",
       "0  2007-02-07 00:00:00      2607  525000        house         4\n",
       "1  2007-02-27 00:00:00      2906  290000        house         3\n",
       "2  2007-03-07 00:00:00      2905  328000        house         3\n",
       "3  2007-03-09 00:00:00      2905  380000        house         4\n",
       "4  2007-03-21 00:00:00      2906  310000        house         3"
      ]
     },
     "execution_count": 39,
     "metadata": {},
     "output_type": "execute_result"
    }
   ],
   "source": [
    "df1=pd.read_csv(r\"C:\\Mba notes\\novels\\NLP data\\Time series Price Prediction\\raw_sales.csv\")\n",
    "df1.head()"
   ]
  },
  {
   "cell_type": "code",
   "execution_count": 40,
   "metadata": {},
   "outputs": [
    {
     "name": "stderr",
     "output_type": "stream",
     "text": [
      "<ipython-input-40-5c054e5d3aba>:2: FutureWarning: In a future version of pandas all arguments of DataFrame.drop except for the argument 'labels' will be keyword-only\n",
      "  df1.drop('price',1,inplace=True)\n"
     ]
    },
    {
     "data": {
      "text/html": [
       "<div>\n",
       "<style scoped>\n",
       "    .dataframe tbody tr th:only-of-type {\n",
       "        vertical-align: middle;\n",
       "    }\n",
       "\n",
       "    .dataframe tbody tr th {\n",
       "        vertical-align: top;\n",
       "    }\n",
       "\n",
       "    .dataframe thead th {\n",
       "        text-align: right;\n",
       "    }\n",
       "</style>\n",
       "<table border=\"1\" class=\"dataframe\">\n",
       "  <thead>\n",
       "    <tr style=\"text-align: right;\">\n",
       "      <th></th>\n",
       "      <th>datesold</th>\n",
       "      <th>postcode</th>\n",
       "      <th>propertyType</th>\n",
       "      <th>bedrooms</th>\n",
       "      <th>price</th>\n",
       "    </tr>\n",
       "  </thead>\n",
       "  <tbody>\n",
       "    <tr>\n",
       "      <th>0</th>\n",
       "      <td>2007-02-07 00:00:00</td>\n",
       "      <td>2607</td>\n",
       "      <td>house</td>\n",
       "      <td>4</td>\n",
       "      <td>525000</td>\n",
       "    </tr>\n",
       "    <tr>\n",
       "      <th>1</th>\n",
       "      <td>2007-02-27 00:00:00</td>\n",
       "      <td>2906</td>\n",
       "      <td>house</td>\n",
       "      <td>3</td>\n",
       "      <td>290000</td>\n",
       "    </tr>\n",
       "    <tr>\n",
       "      <th>2</th>\n",
       "      <td>2007-03-07 00:00:00</td>\n",
       "      <td>2905</td>\n",
       "      <td>house</td>\n",
       "      <td>3</td>\n",
       "      <td>328000</td>\n",
       "    </tr>\n",
       "    <tr>\n",
       "      <th>3</th>\n",
       "      <td>2007-03-09 00:00:00</td>\n",
       "      <td>2905</td>\n",
       "      <td>house</td>\n",
       "      <td>4</td>\n",
       "      <td>380000</td>\n",
       "    </tr>\n",
       "    <tr>\n",
       "      <th>4</th>\n",
       "      <td>2007-03-21 00:00:00</td>\n",
       "      <td>2906</td>\n",
       "      <td>house</td>\n",
       "      <td>3</td>\n",
       "      <td>310000</td>\n",
       "    </tr>\n",
       "  </tbody>\n",
       "</table>\n",
       "</div>"
      ],
      "text/plain": [
       "              datesold  postcode propertyType  bedrooms   price\n",
       "0  2007-02-07 00:00:00      2607        house         4  525000\n",
       "1  2007-02-27 00:00:00      2906        house         3  290000\n",
       "2  2007-03-07 00:00:00      2905        house         3  328000\n",
       "3  2007-03-09 00:00:00      2905        house         4  380000\n",
       "4  2007-03-21 00:00:00      2906        house         3  310000"
      ]
     },
     "execution_count": 40,
     "metadata": {},
     "output_type": "execute_result"
    }
   ],
   "source": [
    "price=df1['price']\n",
    "df1.drop('price',1,inplace=True)\n",
    "df1['price']=price\n",
    "df1.head()"
   ]
  },
  {
   "cell_type": "code",
   "execution_count": 41,
   "metadata": {},
   "outputs": [
    {
     "data": {
      "text/plain": [
       "house    24552\n",
       "unit      5028\n",
       "Name: propertyType, dtype: int64"
      ]
     },
     "execution_count": 41,
     "metadata": {},
     "output_type": "execute_result"
    }
   ],
   "source": [
    "df1[\"propertyType\"].value_counts()"
   ]
  },
  {
   "cell_type": "code",
   "execution_count": 42,
   "metadata": {},
   "outputs": [
    {
     "name": "stdout",
     "output_type": "stream",
     "text": [
      "<class 'pandas.core.frame.DataFrame'>\n",
      "RangeIndex: 29580 entries, 0 to 29579\n",
      "Data columns (total 5 columns):\n",
      " #   Column        Non-Null Count  Dtype \n",
      "---  ------        --------------  ----- \n",
      " 0   datesold      29580 non-null  object\n",
      " 1   postcode      29580 non-null  int64 \n",
      " 2   propertyType  29580 non-null  object\n",
      " 3   bedrooms      29580 non-null  int64 \n",
      " 4   price         29580 non-null  int64 \n",
      "dtypes: int64(3), object(2)\n",
      "memory usage: 1.1+ MB\n"
     ]
    }
   ],
   "source": [
    "df1.info()"
   ]
  },
  {
   "cell_type": "code",
   "execution_count": 43,
   "metadata": {},
   "outputs": [
    {
     "data": {
      "text/html": [
       "<div>\n",
       "<style scoped>\n",
       "    .dataframe tbody tr th:only-of-type {\n",
       "        vertical-align: middle;\n",
       "    }\n",
       "\n",
       "    .dataframe tbody tr th {\n",
       "        vertical-align: top;\n",
       "    }\n",
       "\n",
       "    .dataframe thead th {\n",
       "        text-align: right;\n",
       "    }\n",
       "</style>\n",
       "<table border=\"1\" class=\"dataframe\">\n",
       "  <thead>\n",
       "    <tr style=\"text-align: right;\">\n",
       "      <th></th>\n",
       "      <th>datesold</th>\n",
       "      <th>postcode</th>\n",
       "      <th>propertyType</th>\n",
       "      <th>bedrooms</th>\n",
       "      <th>price</th>\n",
       "    </tr>\n",
       "  </thead>\n",
       "  <tbody>\n",
       "    <tr>\n",
       "      <th>0</th>\n",
       "      <td>2007-02-07</td>\n",
       "      <td>2607</td>\n",
       "      <td>house</td>\n",
       "      <td>4</td>\n",
       "      <td>525000</td>\n",
       "    </tr>\n",
       "    <tr>\n",
       "      <th>1</th>\n",
       "      <td>2007-02-27</td>\n",
       "      <td>2906</td>\n",
       "      <td>house</td>\n",
       "      <td>3</td>\n",
       "      <td>290000</td>\n",
       "    </tr>\n",
       "    <tr>\n",
       "      <th>2</th>\n",
       "      <td>2007-03-07</td>\n",
       "      <td>2905</td>\n",
       "      <td>house</td>\n",
       "      <td>3</td>\n",
       "      <td>328000</td>\n",
       "    </tr>\n",
       "    <tr>\n",
       "      <th>3</th>\n",
       "      <td>2007-03-09</td>\n",
       "      <td>2905</td>\n",
       "      <td>house</td>\n",
       "      <td>4</td>\n",
       "      <td>380000</td>\n",
       "    </tr>\n",
       "    <tr>\n",
       "      <th>4</th>\n",
       "      <td>2007-03-21</td>\n",
       "      <td>2906</td>\n",
       "      <td>house</td>\n",
       "      <td>3</td>\n",
       "      <td>310000</td>\n",
       "    </tr>\n",
       "  </tbody>\n",
       "</table>\n",
       "</div>"
      ],
      "text/plain": [
       "    datesold  postcode propertyType  bedrooms   price\n",
       "0 2007-02-07      2607        house         4  525000\n",
       "1 2007-02-27      2906        house         3  290000\n",
       "2 2007-03-07      2905        house         3  328000\n",
       "3 2007-03-09      2905        house         4  380000\n",
       "4 2007-03-21      2906        house         3  310000"
      ]
     },
     "execution_count": 43,
     "metadata": {},
     "output_type": "execute_result"
    }
   ],
   "source": [
    "df1['datesold']=pd.to_datetime(df1['datesold'])\n",
    "df1.head()"
   ]
  },
  {
   "cell_type": "code",
   "execution_count": 44,
   "metadata": {},
   "outputs": [
    {
     "data": {
      "text/html": [
       "<div>\n",
       "<style scoped>\n",
       "    .dataframe tbody tr th:only-of-type {\n",
       "        vertical-align: middle;\n",
       "    }\n",
       "\n",
       "    .dataframe tbody tr th {\n",
       "        vertical-align: top;\n",
       "    }\n",
       "\n",
       "    .dataframe thead th {\n",
       "        text-align: right;\n",
       "    }\n",
       "</style>\n",
       "<table border=\"1\" class=\"dataframe\">\n",
       "  <thead>\n",
       "    <tr style=\"text-align: right;\">\n",
       "      <th></th>\n",
       "      <th>datesold</th>\n",
       "      <th>postcode</th>\n",
       "      <th>propertyType</th>\n",
       "      <th>bedrooms</th>\n",
       "      <th>price</th>\n",
       "    </tr>\n",
       "  </thead>\n",
       "  <tbody>\n",
       "    <tr>\n",
       "      <th>0</th>\n",
       "      <td>2007-02-07</td>\n",
       "      <td>2607</td>\n",
       "      <td>0</td>\n",
       "      <td>4</td>\n",
       "      <td>525000</td>\n",
       "    </tr>\n",
       "    <tr>\n",
       "      <th>1</th>\n",
       "      <td>2007-02-27</td>\n",
       "      <td>2906</td>\n",
       "      <td>0</td>\n",
       "      <td>3</td>\n",
       "      <td>290000</td>\n",
       "    </tr>\n",
       "    <tr>\n",
       "      <th>2</th>\n",
       "      <td>2007-03-07</td>\n",
       "      <td>2905</td>\n",
       "      <td>0</td>\n",
       "      <td>3</td>\n",
       "      <td>328000</td>\n",
       "    </tr>\n",
       "    <tr>\n",
       "      <th>3</th>\n",
       "      <td>2007-03-09</td>\n",
       "      <td>2905</td>\n",
       "      <td>0</td>\n",
       "      <td>4</td>\n",
       "      <td>380000</td>\n",
       "    </tr>\n",
       "    <tr>\n",
       "      <th>4</th>\n",
       "      <td>2007-03-21</td>\n",
       "      <td>2906</td>\n",
       "      <td>0</td>\n",
       "      <td>3</td>\n",
       "      <td>310000</td>\n",
       "    </tr>\n",
       "  </tbody>\n",
       "</table>\n",
       "</div>"
      ],
      "text/plain": [
       "    datesold  postcode  propertyType  bedrooms   price\n",
       "0 2007-02-07      2607             0         4  525000\n",
       "1 2007-02-27      2906             0         3  290000\n",
       "2 2007-03-07      2905             0         3  328000\n",
       "3 2007-03-09      2905             0         4  380000\n",
       "4 2007-03-21      2906             0         3  310000"
      ]
     },
     "execution_count": 44,
     "metadata": {},
     "output_type": "execute_result"
    }
   ],
   "source": [
    "L=LabelEncoder()\n",
    "df1['propertyType']=L.fit_transform(df1['propertyType'])\n",
    "df1.head()"
   ]
  },
  {
   "cell_type": "code",
   "execution_count": 45,
   "metadata": {},
   "outputs": [
    {
     "data": {
      "text/plain": [
       "29580"
      ]
     },
     "execution_count": 45,
     "metadata": {},
     "output_type": "execute_result"
    }
   ],
   "source": [
    "len(df1)"
   ]
  },
  {
   "cell_type": "code",
   "execution_count": 58,
   "metadata": {},
   "outputs": [
    {
     "name": "stderr",
     "output_type": "stream",
     "text": [
      "<ipython-input-58-a4578d3e4f17>:1: FutureWarning: In a future version of pandas all arguments of DataFrame.drop except for the argument 'labels' will be keyword-only\n",
      "  x_train,x_test,y_train,y_test=train_test_split(df1.drop(['datesold','price'],1),df1['price'],test_size=0.8,random_state=43)\n"
     ]
    }
   ],
   "source": [
    "x_train,x_test,y_train,y_test=train_test_split(df1.drop(['datesold','price'],1),df1['price'],test_size=0.8,random_state=43)"
   ]
  },
  {
   "cell_type": "code",
   "execution_count": 60,
   "metadata": {},
   "outputs": [],
   "source": [
    "x_train=np.array(x_train)\n",
    "x_train=x_train.reshape(-1,3,1)"
   ]
  },
  {
   "cell_type": "code",
   "execution_count": 62,
   "metadata": {},
   "outputs": [
    {
     "data": {
      "text/plain": [
       "(5916, 3, 1)"
      ]
     },
     "execution_count": 62,
     "metadata": {},
     "output_type": "execute_result"
    }
   ],
   "source": [
    "x_train.shape"
   ]
  },
  {
   "cell_type": "code",
   "execution_count": 63,
   "metadata": {},
   "outputs": [
    {
     "name": "stdout",
     "output_type": "stream",
     "text": [
      "Epoch 1/20\n",
      "185/185 [==============================] - 6s 30ms/step - loss: 607828.8750 - accuracy: 0.0000e+00 - val_loss: 604735.5000 - val_accuracy: 0.0000e+00\n",
      "Epoch 2/20\n",
      "185/185 [==============================] - 3s 17ms/step - loss: 593580.3750 - accuracy: 0.0000e+00 - val_loss: 575927.8750 - val_accuracy: 0.0000e+00\n",
      "Epoch 3/20\n",
      "185/185 [==============================] - 3s 17ms/step - loss: 542182.3125 - accuracy: 0.0000e+00 - val_loss: 498383.8750 - val_accuracy: 0.0000e+00\n",
      "Epoch 4/20\n",
      "185/185 [==============================] - 3s 17ms/step - loss: 433016.2500 - accuracy: 0.0000e+00 - val_loss: 354514.5312 - val_accuracy: 0.0000e+00\n",
      "Epoch 5/20\n",
      "185/185 [==============================] - 3s 17ms/step - loss: 272565.9062 - accuracy: 0.0000e+00 - val_loss: 202760.8281 - val_accuracy: 0.0000e+00\n",
      "Epoch 6/20\n",
      "185/185 [==============================] - 3s 17ms/step - loss: 193137.2812 - accuracy: 0.0000e+00 - val_loss: 179013.0938 - val_accuracy: 0.0000e+00\n",
      "Epoch 7/20\n",
      "185/185 [==============================] - 3s 17ms/step - loss: 186948.8750 - accuracy: 0.0000e+00 - val_loss: 177843.8281 - val_accuracy: 0.0000e+00\n",
      "Epoch 8/20\n",
      "185/185 [==============================] - 3s 17ms/step - loss: 185982.1406 - accuracy: 0.0000e+00 - val_loss: 177848.8281 - val_accuracy: 0.0000e+00\n",
      "Epoch 9/20\n",
      "185/185 [==============================] - 3s 17ms/step - loss: 185462.1094 - accuracy: 0.0000e+00 - val_loss: 177708.7031 - val_accuracy: 0.0000e+00\n",
      "Epoch 10/20\n",
      "185/185 [==============================] - 3s 17ms/step - loss: 185037.0312 - accuracy: 0.0000e+00 - val_loss: 177776.6406 - val_accuracy: 0.0000e+00\n",
      "Epoch 11/20\n",
      "185/185 [==============================] - 3s 17ms/step - loss: 185363.7969 - accuracy: 0.0000e+00 - val_loss: 177704.0625 - val_accuracy: 0.0000e+00\n",
      "Epoch 12/20\n",
      "185/185 [==============================] - 3s 17ms/step - loss: 185485.3750 - accuracy: 0.0000e+00 - val_loss: 177955.1875 - val_accuracy: 0.0000e+00\n",
      "Epoch 13/20\n",
      "185/185 [==============================] - 3s 17ms/step - loss: 186467.0469 - accuracy: 0.0000e+00 - val_loss: 177720.0625 - val_accuracy: 0.0000e+00\n",
      "Epoch 14/20\n",
      "185/185 [==============================] - 3s 17ms/step - loss: 186563.3750 - accuracy: 0.0000e+00 - val_loss: 177719.3438 - val_accuracy: 0.0000e+00\n",
      "Epoch 15/20\n",
      "185/185 [==============================] - 3s 17ms/step - loss: 185859.3125 - accuracy: 0.0000e+00 - val_loss: 177883.0469 - val_accuracy: 0.0000e+00\n",
      "Epoch 16/20\n",
      "185/185 [==============================] - 3s 18ms/step - loss: 186743.9688 - accuracy: 0.0000e+00 - val_loss: 177879.2656 - val_accuracy: 0.0000e+00\n",
      "Epoch 17/20\n",
      "185/185 [==============================] - 3s 17ms/step - loss: 185554.2188 - accuracy: 0.0000e+00 - val_loss: 177830.8750 - val_accuracy: 0.0000e+00\n",
      "Epoch 18/20\n",
      "185/185 [==============================] - 3s 17ms/step - loss: 187059.5156 - accuracy: 0.0000e+00 - val_loss: 177871.3438 - val_accuracy: 0.0000e+00\n",
      "Epoch 19/20\n",
      "185/185 [==============================] - 3s 17ms/step - loss: 186309.9219 - accuracy: 0.0000e+00 - val_loss: 177777.9844 - val_accuracy: 0.0000e+00\n",
      "Epoch 20/20\n",
      "185/185 [==============================] - 3s 16ms/step - loss: 187943.2188 - accuracy: 0.0000e+00 - val_loss: 177898.0781 - val_accuracy: 0.0000e+00\n"
     ]
    }
   ],
   "source": [
    "model=Sequential()\n",
    "model.add(LSTM((200),input_shape=(x_train.shape[1:]),return_sequences=True))\n",
    "model.add(Dropout(0.3))\n",
    "model.add(LSTM(80))\n",
    "model.add(Dropout(0.3))\n",
    "model.add(Dense(50))\n",
    "model.add(Dropout(0.3))\n",
    "model.add(Dense(20))\n",
    "model.add(Dense(1))\n",
    "model.compile(loss=\"mean_absolute_error\",optimizer='adam',metrics=['accuracy'])\n",
    "history=model.fit(x_train,y_train,epochs=20,validation_data=(x_train,y_train))\n"
   ]
  },
  {
   "cell_type": "code",
   "execution_count": 64,
   "metadata": {},
   "outputs": [
    {
     "name": "stdout",
     "output_type": "stream",
     "text": [
      "185/185 [==============================] - 1s 4ms/step - loss: 177898.0781 - accuracy: 0.0000e+00\n"
     ]
    },
    {
     "data": {
      "text/plain": [
       "[177898.078125, 0.0]"
      ]
     },
     "execution_count": 64,
     "metadata": {},
     "output_type": "execute_result"
    }
   ],
   "source": [
    "model.evaluate(x_train,y_train)"
   ]
  },
  {
   "cell_type": "code",
   "execution_count": 65,
   "metadata": {},
   "outputs": [
    {
     "data": {
      "image/png": "[encoded data removed]",
      "text/plain": [
       "<Figure size 432x288 with 1 Axes>"
      ]
     },
     "metadata": {},
     "output_type": "display_data"
    }
   ],
   "source": [
    "plt.plot(history.history['loss'])\n",
    "plt.grid(False)\n",
    "plt.show()"
   ]
  },
  {
   "cell_type": "code",
   "execution_count": null,
   "metadata": {},
   "outputs": [],
   "source": []
  }
 ],
 "metadata": {
  "kernelspec": {
   "display_name": "Python 3",
   "language": "python",
   "name": "python3"
  },
  "language_info": {
   "codemirror_mode": {
    "name": "ipython",
    "version": 3
   },
   "file_extension": ".py",
   "mimetype": "text/x-python",
   "name": "python",
   "nbconvert_exporter": "python",
   "pygments_lexer": "ipython3",
   "version": "3.8.3"
  }
 },
 "nbformat": 4,
 "nbformat_minor": 4
}
