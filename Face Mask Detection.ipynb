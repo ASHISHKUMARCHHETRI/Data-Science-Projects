{
 "cells": [
  {
   "cell_type": "code",
   "execution_count": 32,
   "metadata": {},
   "outputs": [],
   "source": [
    "import cv2\n",
    "import os\n",
    "import tensorflow as tf\n",
    "from tensorflow import keras\n",
    "from tensorflow.keras import datasets,layers,models\n",
    "import matplotlib.pyplot as plt\n",
    "import numpy as np\n",
    "from sklearn.metrics import confusion_matrix,classification_report\n",
    "import cv2\n",
    "import os\n",
    "import PIL\n",
    "from tensorflow.keras.models import Sequential\n",
    "import pathlib\n",
    "import pandas as pd\n",
    "from sklearn.model_selection import train_test_split\n",
    "from sklearn.linear_model import LinearRegression\n",
    "from sklearn.linear_model import Ridge\n",
    "from sklearn.linear_model import Lasso\n",
    "from keras.callbacks import ModelCheckpoint\n",
    "from keras.models import load_model"
   ]
  },
  {
   "cell_type": "code",
   "execution_count": 6,
   "metadata": {},
   "outputs": [
    {
     "name": "stdout",
     "output_type": "stream",
     "text": [
      "{'Mask': 0, 'Non Mask': 1}\n",
      "['Mask', 'Non Mask']\n",
      "[0, 1]\n"
     ]
    }
   ],
   "source": [
    "data_path=\"Desktop/New Masks Dataset/Train\"\n",
    "categories=os.listdir(data_path)\n",
    "labels=[i for i in range(len(categories))]\n",
    "labels_dict=dict(zip(categories,labels))\n",
    "print(labels_dict)\n",
    "print(categories)\n",
    "print(labels)"
   ]
  },
  {
   "cell_type": "code",
   "execution_count": 7,
   "metadata": {},
   "outputs": [],
   "source": [
    "img_size=100\n",
    "data=[]\n",
    "target=[]\n",
    "for category in categories:\n",
    "    folder_path=os.path.join(data_path,category)\n",
    "    img_names=os.listdir(folder_path)\n",
    "\n",
    "    for img_name in img_names:\n",
    "        img_path=os.path.join(folder_path,img_name)\n",
    "        img=cv2.imread(img_path)\n",
    "        \n",
    "        try:\n",
    "            gray=cv2.cvtColor(img,cv2.COLOR_BGR2GRAY)\n",
    "            resized=cv2.resize(gray,(img_size,img_size))\n",
    "            data.append(resized)\n",
    "            target.append(labels_dict[category])\n",
    "        except Exception as e:\n",
    "            print(\"Exception: \",e)\n",
    "            \n",
    "    "
   ]
  },
  {
   "cell_type": "code",
   "execution_count": 8,
   "metadata": {},
   "outputs": [
    {
     "data": {
      "text/plain": [
       "700"
      ]
     },
     "execution_count": 8,
     "metadata": {},
     "output_type": "execute_result"
    }
   ],
   "source": [
    "len(data)"
   ]
  },
  {
   "cell_type": "code",
   "execution_count": 9,
   "metadata": {},
   "outputs": [
    {
     "data": {
      "text/plain": [
       "700"
      ]
     },
     "execution_count": 9,
     "metadata": {},
     "output_type": "execute_result"
    }
   ],
   "source": [
    "len(target)"
   ]
  },
  {
   "cell_type": "code",
   "execution_count": 10,
   "metadata": {},
   "outputs": [
    {
     "data": {
      "text/plain": [
       "(700, 100, 100, 1)"
      ]
     },
     "execution_count": 10,
     "metadata": {},
     "output_type": "execute_result"
    }
   ],
   "source": [
    "data1=np.array(data)/255\n",
    "data2=np.reshape(data1,(data1.shape[0],img_size,img_size,1))\n",
    "data2.shape"
   ]
  },
  {
   "cell_type": "code",
   "execution_count": 11,
   "metadata": {},
   "outputs": [
    {
     "data": {
      "text/plain": [
       "(700,)"
      ]
     },
     "execution_count": 11,
     "metadata": {},
     "output_type": "execute_result"
    }
   ],
   "source": [
    "target=np.array(target)\n",
    "target.shape"
   ]
  },
  {
   "cell_type": "code",
   "execution_count": 12,
   "metadata": {},
   "outputs": [
    {
     "data": {
      "text/plain": [
       "(700,)"
      ]
     },
     "execution_count": 12,
     "metadata": {},
     "output_type": "execute_result"
    }
   ],
   "source": [
    "\n",
    "from keras.utils import np_utils\n",
    "new_target=np_utils.to_categorical(target)\n",
    "target.shape"
   ]
  },
  {
   "cell_type": "code",
   "execution_count": 13,
   "metadata": {},
   "outputs": [],
   "source": [
    "np.save(\"data2\",data)\n",
    "np.save(\"target\",new_target)"
   ]
  },
  {
   "cell_type": "code",
   "execution_count": 14,
   "metadata": {},
   "outputs": [],
   "source": [
    "data=np.load(\"data2.npy\")\n",
    "target=np.load(\"target.npy\")"
   ]
  },
  {
   "cell_type": "code",
   "execution_count": 15,
   "metadata": {},
   "outputs": [
    {
     "data": {
      "text/plain": [
       "(700, 100, 100, 1)"
      ]
     },
     "execution_count": 15,
     "metadata": {},
     "output_type": "execute_result"
    }
   ],
   "source": [
    "data2.shape"
   ]
  },
  {
   "cell_type": "code",
   "execution_count": 16,
   "metadata": {},
   "outputs": [
    {
     "data": {
      "text/plain": [
       "(700, 2)"
      ]
     },
     "execution_count": 16,
     "metadata": {},
     "output_type": "execute_result"
    }
   ],
   "source": [
    "new_target.shape"
   ]
  },
  {
   "cell_type": "code",
   "execution_count": 17,
   "metadata": {},
   "outputs": [
    {
     "name": "stdout",
     "output_type": "stream",
     "text": [
      "Model: \"sequential\"\n",
      "_________________________________________________________________\n",
      "Layer (type)                 Output Shape              Param #   \n",
      "=================================================================\n",
      "conv2d (Conv2D)              (None, 98, 98, 200)       2000      \n",
      "_________________________________________________________________\n",
      "max_pooling2d (MaxPooling2D) (None, 49, 49, 200)       0         \n",
      "_________________________________________________________________\n",
      "conv2d_1 (Conv2D)            (None, 47, 47, 180)       324180    \n",
      "_________________________________________________________________\n",
      "max_pooling2d_1 (MaxPooling2 (None, 23, 23, 180)       0         \n",
      "_________________________________________________________________\n",
      "flatten (Flatten)            (None, 95220)             0         \n",
      "_________________________________________________________________\n",
      "dense (Dense)                (None, 200)               19044200  \n",
      "_________________________________________________________________\n",
      "dropout (Dropout)            (None, 200)               0         \n",
      "_________________________________________________________________\n",
      "dense_1 (Dense)              (None, 50)                10050     \n",
      "_________________________________________________________________\n",
      "dropout_1 (Dropout)          (None, 50)                0         \n",
      "_________________________________________________________________\n",
      "dense_2 (Dense)              (None, 10)                510       \n",
      "_________________________________________________________________\n",
      "dense_3 (Dense)              (None, 5)                 55        \n",
      "_________________________________________________________________\n",
      "dropout_2 (Dropout)          (None, 5)                 0         \n",
      "_________________________________________________________________\n",
      "dense_4 (Dense)              (None, 2)                 12        \n",
      "=================================================================\n",
      "Total params: 19,381,007\n",
      "Trainable params: 19,381,007\n",
      "Non-trainable params: 0\n",
      "_________________________________________________________________\n"
     ]
    }
   ],
   "source": [
    "model=keras.Sequential([\n",
    "    layers.Conv2D(filters=200,kernel_size=(3,3),activation=\"relu\",input_shape=data2.shape[1:]),\n",
    "    layers.MaxPooling2D((2,2)),\n",
    "    layers.Conv2D(filters=180,kernel_size=(3,3),activation=\"relu\"),\n",
    "    layers.MaxPooling2D((2,2)),\n",
    "    layers.Flatten(),\n",
    "    layers.Dense(200,activation=\"relu\",kernel_regularizer=keras.regularizers.l2(0.001)),\n",
    "    layers.Dropout(0.3),\n",
    "    layers.Dense(50,activation=\"relu\",kernel_regularizer=keras.regularizers.l2(0.001)),\n",
    "    layers.Dropout(0.3),\n",
    "    layers.Dense(10,activation=\"relu\",kernel_regularizer=keras.regularizers.l2(0.001)),\n",
    "    layers.Dense(5,activation=\"relu\",kernel_regularizer=keras.regularizers.l2(0.001)),\n",
    "    layers.Dropout(0.3),\n",
    "    layers.Dense(2,activation=\"softmax\")\n",
    "])\n",
    "model.compile(optimizer=\"adam\",\n",
    "              loss=\"categorical_crossentropy\",\n",
    "             metrics=[\"accuracy\"])\n",
    "model.summary()"
   ]
  },
  {
   "cell_type": "markdown",
   "metadata": {},
   "source": [
    "Val_loss is value for cross-validation data and loss is value for cost function"
   ]
  },
  {
   "cell_type": "code",
   "execution_count": 18,
   "metadata": {},
   "outputs": [
    {
     "name": "stdout",
     "output_type": "stream",
     "text": [
      "Epoch 1/15\n",
      "18/18 [==============================] - ETA: 0s - loss: 1.3596 - accuracy: 0.5589WARNING:tensorflow:From C:\\Mba notes\\novels\\Anaconda\\lib\\site-packages\\tensorflow\\python\\training\\tracking\\tracking.py:111: Model.state_updates (from tensorflow.python.keras.engine.training) is deprecated and will be removed in a future version.\n",
      "Instructions for updating:\n",
      "This property should not be used in TensorFlow 2.0, as updates are applied automatically.\n",
      "WARNING:tensorflow:From C:\\Mba notes\\novels\\Anaconda\\lib\\site-packages\\tensorflow\\python\\training\\tracking\\tracking.py:111: Layer.updates (from tensorflow.python.keras.engine.base_layer) is deprecated and will be removed in a future version.\n",
      "Instructions for updating:\n",
      "This property should not be used in TensorFlow 2.0, as updates are applied automatically.\n",
      "INFO:tensorflow:Assets written to: Desktop/New Masks Dataset\\New folder\\assets\n",
      "18/18 [==============================] - 55s 3s/step - loss: 1.3596 - accuracy: 0.5589 - val_loss: 1.1582 - val_accuracy: 0.0000e+00\n",
      "Epoch 2/15\n",
      "18/18 [==============================] - 45s 2s/step - loss: 0.9480 - accuracy: 0.5750 - val_loss: 1.1824 - val_accuracy: 0.2214\n",
      "Epoch 3/15\n",
      "18/18 [==============================] - ETA: 0s - loss: 0.7928 - accuracy: 0.6839INFO:tensorflow:Assets written to: Desktop/New Masks Dataset\\New folder\\assets\n",
      "18/18 [==============================] - 55s 3s/step - loss: 0.7928 - accuracy: 0.6839 - val_loss: 0.8554 - val_accuracy: 0.7357\n",
      "Epoch 4/15\n",
      "18/18 [==============================] - 45s 2s/step - loss: 0.6967 - accuracy: 0.7286 - val_loss: 0.8729 - val_accuracy: 0.6571\n",
      "Epoch 5/15\n",
      "18/18 [==============================] - ETA: 0s - loss: 0.6763 - accuracy: 0.7804INFO:tensorflow:Assets written to: Desktop/New Masks Dataset\\New folder\\assets\n",
      "18/18 [==============================] - 54s 3s/step - loss: 0.6763 - accuracy: 0.7804 - val_loss: 0.6687 - val_accuracy: 0.7714\n",
      "Epoch 6/15\n",
      "18/18 [==============================] - 45s 3s/step - loss: 0.6131 - accuracy: 0.8143 - val_loss: 0.7041 - val_accuracy: 0.6786\n",
      "Epoch 7/15\n",
      "18/18 [==============================] - 49s 3s/step - loss: 0.5427 - accuracy: 0.8304 - val_loss: 0.8342 - val_accuracy: 0.6500\n",
      "Epoch 8/15\n",
      "18/18 [==============================] - 48s 3s/step - loss: 0.4900 - accuracy: 0.8518 - val_loss: 0.7515 - val_accuracy: 0.6929\n",
      "Epoch 9/15\n",
      "18/18 [==============================] - 38s 2s/step - loss: 0.4768 - accuracy: 0.8411 - val_loss: 0.8178 - val_accuracy: 0.6857\n",
      "Epoch 10/15\n",
      "18/18 [==============================] - 48s 3s/step - loss: 0.4459 - accuracy: 0.8625 - val_loss: 0.8623 - val_accuracy: 0.6929\n",
      "Epoch 11/15\n",
      "18/18 [==============================] - 48s 3s/step - loss: 0.4161 - accuracy: 0.8750 - val_loss: 1.2199 - val_accuracy: 0.7500\n",
      "Epoch 12/15\n",
      "18/18 [==============================] - 48s 3s/step - loss: 0.3806 - accuracy: 0.9036 - val_loss: 1.0182 - val_accuracy: 0.6643\n",
      "Epoch 13/15\n",
      "18/18 [==============================] - 48s 3s/step - loss: 0.3588 - accuracy: 0.9054 - val_loss: 0.9788 - val_accuracy: 0.6643\n",
      "Epoch 14/15\n",
      "18/18 [==============================] - 49s 3s/step - loss: 0.3388 - accuracy: 0.9304 - val_loss: 0.9403 - val_accuracy: 0.7857\n",
      "Epoch 15/15\n",
      "18/18 [==============================] - 48s 3s/step - loss: 0.3353 - accuracy: 0.9250 - val_loss: 0.9175 - val_accuracy: 0.7429\n"
     ]
    }
   ],
   "source": [
    "checkpoint=ModelCheckpoint(filepath=\"Desktop/New Masks Dataset/New folder\",monitor=\"val_loss\",verbose=0,save_best_only=True,mode=\"auto\")\n",
    "history=model.fit(data2,new_target,epochs=15,callbacks=[checkpoint],validation_split=0.2)"
   ]
  },
  {
   "cell_type": "code",
   "execution_count": 19,
   "metadata": {},
   "outputs": [
    {
     "data": {
      "image/png": "[encoded data removed]",
      "text/plain": [
       "<Figure size 432x288 with 1 Axes>"
      ]
     },
     "metadata": {
      "needs_background": "light"
     },
     "output_type": "display_data"
    }
   ],
   "source": [
    "plt.plot(history.history[\"loss\"],\"r\",label=\"training loss\")\n",
    "plt.plot(history.history[\"val_loss\"],label=\"validation loss\")\n",
    "plt.xlabel(\"epochs\")\n",
    "plt.ylabel(\"loss\")\n",
    "plt.legend()\n",
    "plt.show()"
   ]
  },
  {
   "cell_type": "code",
   "execution_count": 20,
   "metadata": {},
   "outputs": [
    {
     "data": {
      "image/png": "[encoded data removed]",
      "text/plain": [
       "<Figure size 432x288 with 1 Axes>"
      ]
     },
     "metadata": {
      "needs_background": "light"
     },
     "output_type": "display_data"
    }
   ],
   "source": [
    "plt.plot(history.history[\"accuracy\"],\"r\",label=\"training loss\")\n",
    "plt.plot(history.history[\"val_accuracy\"],label=\"validation loss\")\n",
    "plt.xlabel(\"epochs\")\n",
    "plt.ylabel(\"loss\")\n",
    "plt.legend()\n",
    "plt.show()"
   ]
  },
  {
   "cell_type": "code",
   "execution_count": 34,
   "metadata": {},
   "outputs": [
    {
     "name": "stdout",
     "output_type": "stream",
     "text": [
      "INFO:tensorflow:Assets written to: Desktop/New Masks Dataset/model_for_mask_detection\\assets\n"
     ]
    }
   ],
   "source": [
    "model.save(\"Desktop/New Masks Dataset/model_for_mask_detection\")"
   ]
  },
  {
   "cell_type": "code",
   "execution_count": 35,
   "metadata": {},
   "outputs": [],
   "source": [
    "model=load_model(\"Desktop/New Masks Dataset/model_for_mask_detection\")"
   ]
  },
  {
   "cell_type": "code",
   "execution_count": 36,
   "metadata": {},
   "outputs": [],
   "source": [
    "face_clsfr=cv2.CascadeClassifier(\"haarcascade_frontalface_default.xml\")\n",
    "source=cv2.VideoCapture(0)\n",
    "labels_dict={0:\"MASK\",1:\"NO MASK\"}\n",
    "color_dict={0:(0,255,0),1:(0,0,255)}"
   ]
  },
  {
   "cell_type": "code",
   "execution_count": 37,
   "metadata": {},
   "outputs": [],
   "source": [
    "while(True):\n",
    "    ret,img=source.read()\n",
    "    gray=cv2.cvtColor(img,cv2.COLOR_BGR2GRAY)\n",
    "    faces=face_clsfr.detectMultiScale(gray,1.3,5)\n",
    "    \n",
    "    for x,y,w,h in faces:\n",
    "        face_img=gray[y:y+w,x:x+w]\n",
    "        resized=cv2.resize(face_img,(100,100))\n",
    "        normalized=resized/255\n",
    "        reshaped=np.reshape(normalized,(1,100,100,1))\n",
    "        result=model.predict(reshaped)\n",
    "        \n",
    "        label=np.argmax(result,axis=1)[0]\n",
    "        \n",
    "        cv2.rectangle(img,(x,y),(x+w,y+h),color_dict[label],2)\n",
    "        cv2.rectangle(img,(x,y-40),(x+w,y),color_dict[label],-1)\n",
    "        cv2.putText(img,labels_dict[label],(x,y-10),cv2.FONT_HERSHEY_SIMPLEX,0.8,(255,255,255),2)\n",
    "    cv2.imshow(\"LIVE\",img)\n",
    "    key=cv2.waitKey(1)\n",
    "    \n",
    "    if(key==ord(\"q\")):\n",
    "        break\n",
    "cv2.destroyAllWindows()\n",
    "source.release()\n",
    "\n",
    "        \n",
    "        "
   ]
  },
  {
   "cell_type": "markdown",
   "metadata": {},
   "source": [
    "# Face mask Detection 2"
   ]
  },
  {
   "cell_type": "code",
   "execution_count": 2,
   "metadata": {},
   "outputs": [],
   "source": [
    "import cv2\n",
    "import os"
   ]
  },
  {
   "cell_type": "code",
   "execution_count": 17,
   "metadata": {},
   "outputs": [
    {
     "name": "stdout",
     "output_type": "stream",
     "text": [
      "{'Mask': 0, 'Non Mask': 1}\n"
     ]
    }
   ],
   "source": [
    "data_dir=\"Desktop/New Masks Dataset/Train\"\n",
    "category=os.listdir(data_dir)\n",
    "list=[i for i in range(len(category))]\n",
    "labels_dict=dict(zip(category,list))\n",
    "\n",
    "print(labels_dict)"
   ]
  },
  {
   "cell_type": "code",
   "execution_count": 19,
   "metadata": {},
   "outputs": [
    {
     "name": "stdout",
     "output_type": "stream",
     "text": [
      "{'Mask': 'Non Mask', 0: 1}\n"
     ]
    }
   ],
   "source": [
    "print(dict((category,list)))"
   ]
  },
  {
   "cell_type": "code",
   "execution_count": 35,
   "metadata": {},
   "outputs": [
    {
     "name": "stdout",
     "output_type": "stream",
     "text": [
      "Desktop/New Masks Dataset/Train\\Mask\n",
      "Desktop/New Masks Dataset/Train\\Non Mask\n"
     ]
    }
   ],
   "source": [
    "data=[]\n",
    "target=[]\n",
    "for i in category:\n",
    "    # here i will get two path one for mask and other for non-mask.Basically it is going inside category on mask and\n",
    "    #non-mask folder\n",
    "    folder_path=os.path.join(data_dir,i)\n",
    "    # here it goes in all photos in mask and and non-mask folder\n",
    "    img_name=os.listdir(folder_path)\n",
    "    print(folder_path)\n",
    "    for j in img_name:\n",
    "        img_path=os.path.join(folder_path,j)\n",
    "        img=cv2.imread(img_path)\n",
    "        try:\n",
    "            gray=cv2.cvtColor(img,cv2.COLOR_BGR2GRAY)\n",
    "            resize=cv2.resize(gray,(100,100))\n",
    "            data.append(resize)\n",
    "            target.append(labels_dict[i])\n",
    "        except Exception as e:\n",
    "            print(\"Exception: \",e)"
   ]
  },
  {
   "cell_type": "code",
   "execution_count": 39,
   "metadata": {},
   "outputs": [
    {
     "data": {
      "text/plain": [
       "(700, 100, 100)"
      ]
     },
     "execution_count": 39,
     "metadata": {},
     "output_type": "execute_result"
    }
   ],
   "source": [
    "data1=np.array(data)/255\n",
    "data1.shape\n",
    "        "
   ]
  },
  {
   "cell_type": "code",
   "execution_count": 41,
   "metadata": {},
   "outputs": [
    {
     "data": {
      "text/plain": [
       "(700, 100, 100, 1)"
      ]
     },
     "execution_count": 41,
     "metadata": {},
     "output_type": "execute_result"
    }
   ],
   "source": [
    "data2=data1.reshape(-1,100,100,1)\n",
    "data2.shape"
   ]
  },
  {
   "cell_type": "code",
   "execution_count": 43,
   "metadata": {},
   "outputs": [
    {
     "data": {
      "text/plain": [
       "(700,)"
      ]
     },
     "execution_count": 43,
     "metadata": {},
     "output_type": "execute_result"
    }
   ],
   "source": [
    "target=np.array(target)\n",
    "target.shape"
   ]
  },
  {
   "cell_type": "code",
   "execution_count": 63,
   "metadata": {},
   "outputs": [],
   "source": [
    "from keras.utils import np_utils\n",
    "new_target=np_utils.to_categorical(target)"
   ]
  },
  {
   "cell_type": "code",
   "execution_count": 96,
   "metadata": {},
   "outputs": [
    {
     "name": "stdout",
     "output_type": "stream",
     "text": [
      "Epoch 1/15\n",
      "18/18 [==============================] - 21s 1s/step - loss: 0.6849 - accuracy: 0.6107 - val_loss: 0.8155 - val_accuracy: 0.0071\n",
      "Epoch 2/15\n",
      "18/18 [==============================] - 20s 1s/step - loss: 0.5117 - accuracy: 0.7536 - val_loss: 0.4265 - val_accuracy: 0.8500\n",
      "Epoch 3/15\n",
      "18/18 [==============================] - 20s 1s/step - loss: 0.3852 - accuracy: 0.8482 - val_loss: 0.4809 - val_accuracy: 0.7643\n",
      "Epoch 4/15\n",
      "18/18 [==============================] - 20s 1s/step - loss: 0.3776 - accuracy: 0.8393 - val_loss: 0.5991 - val_accuracy: 0.6357\n",
      "Epoch 5/15\n",
      "18/18 [==============================] - 20s 1s/step - loss: 0.2929 - accuracy: 0.8875 - val_loss: 0.5534 - val_accuracy: 0.7071\n",
      "Epoch 6/15\n",
      "18/18 [==============================] - 20s 1s/step - loss: 0.2421 - accuracy: 0.9143 - val_loss: 0.5780 - val_accuracy: 0.7214\n",
      "Epoch 7/15\n",
      "18/18 [==============================] - 20s 1s/step - loss: 0.1708 - accuracy: 0.9464 - val_loss: 0.7768 - val_accuracy: 0.6786\n",
      "Epoch 8/15\n",
      "18/18 [==============================] - 20s 1s/step - loss: 0.1211 - accuracy: 0.9589 - val_loss: 1.0115 - val_accuracy: 0.6286\n",
      "Epoch 9/15\n",
      "18/18 [==============================] - 20s 1s/step - loss: 0.0689 - accuracy: 0.9786 - val_loss: 0.6859 - val_accuracy: 0.8000\n",
      "Epoch 10/15\n",
      "18/18 [==============================] - 20s 1s/step - loss: 0.0532 - accuracy: 0.9750 - val_loss: 0.6523 - val_accuracy: 0.8143\n",
      "Epoch 11/15\n",
      "18/18 [==============================] - 20s 1s/step - loss: 0.0354 - accuracy: 0.9875 - val_loss: 0.9987 - val_accuracy: 0.7286\n",
      "Epoch 12/15\n",
      "18/18 [==============================] - 20s 1s/step - loss: 0.0496 - accuracy: 0.9857 - val_loss: 0.6856 - val_accuracy: 0.7786\n",
      "Epoch 13/15\n",
      "18/18 [==============================] - 20s 1s/step - loss: 0.0293 - accuracy: 0.9946 - val_loss: 1.7494 - val_accuracy: 0.6429\n",
      "Epoch 14/15\n",
      "18/18 [==============================] - 20s 1s/step - loss: 0.0293 - accuracy: 0.9929 - val_loss: 0.5899 - val_accuracy: 0.8429\n",
      "Epoch 15/15\n",
      "18/18 [==============================] - 20s 1s/step - loss: 0.0482 - accuracy: 0.9857 - val_loss: 0.7612 - val_accuracy: 0.8000\n"
     ]
    },
    {
     "data": {
      "text/plain": [
       "<tensorflow.python.keras.callbacks.History at 0x1b1947a5ac0>"
      ]
     },
     "execution_count": 96,
     "metadata": {},
     "output_type": "execute_result"
    }
   ],
   "source": [
    "\n",
    "model=keras.Sequential([\n",
    "    layers.Conv2D(filters=200,kernel_size=(2,2),activation=\"relu\",input_shape=(100,100,1)),\n",
    "    layers.MaxPool2D((2,2)),\n",
    "    layers.Conv2D(filters=100,kernel_size=(2,2),activation=\"relu\",input_shape=data2.shape),\n",
    "    layers.MaxPool2D((2,2)),\n",
    "    layers.Flatten(),\n",
    "    layers.Dense(300,activation=\"relu\"),\n",
    "    layers.Dropout(0.2),\n",
    "    layers.Dense(100,activation=\"relu\"),\n",
    "    layers.Dense(30,activation=\"relu\"),\n",
    "    layers.Dropout(0.2),\n",
    "    layers.Dense(10,activation=\"relu\"),\n",
    "    layers.Dense(2,activation=\"softmax\")\n",
    "])\n",
    "model.compile(optimizer=\"adam\",\n",
    "              loss=\"categorical_crossentropy\",\n",
    "              metrics=[\"accuracy\"])\n",
    "model.fit(data2,new_target,epochs=15,validation_split=0.2)"
   ]
  },
  {
   "cell_type": "code",
   "execution_count": 82,
   "metadata": {},
   "outputs": [
    {
     "name": "stdout",
     "output_type": "stream",
     "text": [
      "Epoch 1/15\n",
      "18/18 [==============================] - ETA: 0s - loss: 0.6337 - accuracy: 0.6268WARNING:tensorflow:From C:\\Mba notes\\novels\\Anaconda\\lib\\site-packages\\tensorflow\\python\\training\\tracking\\tracking.py:111: Model.state_updates (from tensorflow.python.keras.engine.training) is deprecated and will be removed in a future version.\n",
      "Instructions for updating:\n",
      "This property should not be used in TensorFlow 2.0, as updates are applied automatically.\n",
      "WARNING:tensorflow:From C:\\Mba notes\\novels\\Anaconda\\lib\\site-packages\\tensorflow\\python\\training\\tracking\\tracking.py:111: Layer.updates (from tensorflow.python.keras.engine.base_layer) is deprecated and will be removed in a future version.\n",
      "Instructions for updating:\n",
      "This property should not be used in TensorFlow 2.0, as updates are applied automatically.\n",
      "INFO:tensorflow:Assets written to: Desktop/New Masks Dataset\\New folder\\assets\n",
      "18/18 [==============================] - 26s 1s/step - loss: 0.6337 - accuracy: 0.6268 - val_loss: 0.9313 - val_accuracy: 0.0000e+00\n",
      "Epoch 2/15\n",
      "18/18 [==============================] - ETA: 0s - loss: 0.5214 - accuracy: 0.7179INFO:tensorflow:Assets written to: Desktop/New Masks Dataset\\New folder\\assets\n",
      "18/18 [==============================] - 26s 1s/step - loss: 0.5214 - accuracy: 0.7179 - val_loss: 0.7538 - val_accuracy: 0.6643\n",
      "Epoch 3/15\n",
      "18/18 [==============================] - 20s 1s/step - loss: 0.4681 - accuracy: 0.8304 - val_loss: 0.9351 - val_accuracy: 0.5429\n",
      "Epoch 4/15\n",
      "18/18 [==============================] - ETA: 0s - loss: 0.4191 - accuracy: 0.8429INFO:tensorflow:Assets written to: Desktop/New Masks Dataset\\New folder\\assets\n",
      "18/18 [==============================] - 26s 1s/step - loss: 0.4191 - accuracy: 0.8429 - val_loss: 0.7343 - val_accuracy: 0.8000\n",
      "Epoch 5/15\n",
      "18/18 [==============================] - 20s 1s/step - loss: 0.3500 - accuracy: 0.8857 - val_loss: 0.7396 - val_accuracy: 0.8000\n",
      "Epoch 6/15\n",
      "18/18 [==============================] - 20s 1s/step - loss: 0.2402 - accuracy: 0.9375 - val_loss: 0.9097 - val_accuracy: 0.7500\n",
      "Epoch 7/15\n",
      "18/18 [==============================] - 20s 1s/step - loss: 0.1522 - accuracy: 0.9518 - val_loss: 1.7418 - val_accuracy: 0.6000\n",
      "Epoch 8/15\n",
      "18/18 [==============================] - 20s 1s/step - loss: 0.1536 - accuracy: 0.9482 - val_loss: 0.9848 - val_accuracy: 0.6929\n",
      "Epoch 9/15\n",
      "18/18 [==============================] - 20s 1s/step - loss: 0.0943 - accuracy: 0.9679 - val_loss: 1.4778 - val_accuracy: 0.6786\n",
      "Epoch 10/15\n",
      "18/18 [==============================] - 20s 1s/step - loss: 0.0505 - accuracy: 0.9893 - val_loss: 1.4203 - val_accuracy: 0.7500\n",
      "Epoch 11/15\n",
      "18/18 [==============================] - 20s 1s/step - loss: 0.0640 - accuracy: 0.9804 - val_loss: 3.1529 - val_accuracy: 0.4786\n",
      "Epoch 12/15\n",
      "18/18 [==============================] - 20s 1s/step - loss: 0.0585 - accuracy: 0.9821 - val_loss: 1.1647 - val_accuracy: 0.7500\n",
      "Epoch 13/15\n",
      "18/18 [==============================] - 20s 1s/step - loss: 0.0241 - accuracy: 0.9946 - val_loss: 2.1396 - val_accuracy: 0.7071\n",
      "Epoch 14/15\n",
      "18/18 [==============================] - 20s 1s/step - loss: 0.0152 - accuracy: 0.9911 - val_loss: 2.1338 - val_accuracy: 0.6929\n",
      "Epoch 15/15\n",
      "18/18 [==============================] - 20s 1s/step - loss: 0.0129 - accuracy: 0.9964 - val_loss: 1.7066 - val_accuracy: 0.7714\n"
     ]
    }
   ],
   "source": [
    "checkpoint=ModelCheckpoint(filepath=\"Desktop/New Masks Dataset/New folder\",monitor=\"val_loss\",vebose=0,save_best_only=True,mode=\"auto\")\n",
    "history=model.fit(data2,new_target,epochs=15,callbacks=[checkpoint],validation_split=0.2)"
   ]
  },
  {
   "cell_type": "code",
   "execution_count": 101,
   "metadata": {},
   "outputs": [],
   "source": [
    "face_clsfr=cv2.CascadeClassifier(\"haarcascade_frontalface_default.xml\")\n",
    "source=cv2.VideoCapture(0)\n",
    "labels_dict={\n",
    "    0:\"MASK\",\n",
    "    1:\"NO MASK\"\n",
    "}\n",
    "color_dict={\n",
    "    0:(0,255,0),\n",
    "    1:(0,0,255)\n",
    "}\n"
   ]
  },
  {
   "cell_type": "code",
   "execution_count": null,
   "metadata": {},
   "outputs": [],
   "source": [
    "while(True):\n",
    "    # opens the camera and reads the images\n",
    "    ret,img=source.read()\n",
    "    gray=cv2.Color(img,COLOR_BGR2GRAY)\n",
    "    faces=face_clf.detectMultiscale(gray,1.3,5)"
   ]
  },
  {
   "cell_type": "code",
   "execution_count": null,
   "metadata": {},
   "outputs": [],
   "source": [
    "while(True):\n",
    "    ret,img=source.read()\n",
    "    gray=cv2.cvtColor(img,cv2.COLOR_BGR2GRAY)\n",
    "    faces=face_clsfr.detectMultiScale(gray,1.3,5)\n",
    "    \n",
    "    for x,y,w,h in faces:\n",
    "        face_img=gray[y:y+w,x:x+w]\n",
    "        resized=cv2.resize(face_img,(100,100))\n",
    "        normalized=resized/255\n",
    "        reshaped=np.reshape(normalized,(1,100,100,1))\n",
    "        result=model.predict(reshaped)\n",
    "        \n",
    "        label=np.argmax(result,axis=1)[0]\n",
    "        \n",
    "        cv2.rectangle(img,(x,y),(x+w,y+h),color_dict[label],2)\n",
    "        cv2.rectangle(img,(x,y-40),(x+w,y),color_dict[label],-1)\n",
    "        cv2.putText(img,labels_dict[label],(x,y-10),cv2.FONT_HERSHEY_SIMPLEX,0.8,(255,255,255),2)\n",
    "    cv2.imshow(\"LIVE\",img)\n",
    "    key=cv2.waitKey(1)\n",
    "    \n",
    "    if(key==27):\n",
    "        break\n",
    "cv2.destroyAllWindows()\n",
    "source.release()"
   ]
  },
  {
   "cell_type": "code",
   "execution_count": null,
   "metadata": {},
   "outputs": [],
   "source": []
  }
 ],
 "metadata": {
  "kernelspec": {
   "display_name": "Python 3",
   "language": "python",
   "name": "python3"
  },
  "language_info": {
   "codemirror_mode": {
    "name": "ipython",
    "version": 3
   },
   "file_extension": ".py",
   "mimetype": "text/x-python",
   "name": "python",
   "nbconvert_exporter": "python",
   "pygments_lexer": "ipython3",
   "version": "3.8.3"
  }
 },
 "nbformat": 4,
 "nbformat_minor": 4
}
