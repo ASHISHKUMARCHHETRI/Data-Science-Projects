{
 "cells": [
  {
   "cell_type": "code",
   "execution_count": 74,
   "metadata": {},
   "outputs": [],
   "source": [
    "import pandas as pd\n",
    "import math\n",
    "import numpy as np\n",
    "import pandas_datareader as web\n",
    "import tensorflow as tf\n",
    "from sklearn.preprocessing import MinMaxScaler\n",
    "import matplotlib.pyplot as plt\n",
    "plt.style.use(\"fivethirtyeight\")\n",
    "import seaborn as sns\n",
    "import random\n",
    "import tensorflow as tf \n",
    "from tensorflow import keras"
   ]
  },
  {
   "cell_type": "code",
   "execution_count": 3,
   "metadata": {},
   "outputs": [],
   "source": [
    "df=web.DataReader(\"AAPL\",data_source='yahoo',start='2011-01-01',end='2021-01-01')"
   ]
  },
  {
   "cell_type": "code",
   "execution_count": 4,
   "metadata": {},
   "outputs": [],
   "source": [
    "df1=df.copy()"
   ]
  },
  {
   "cell_type": "code",
   "execution_count": 6,
   "metadata": {},
   "outputs": [
    {
     "data": {
      "text/html": [
       "<div>\n",
       "<style scoped>\n",
       "    .dataframe tbody tr th:only-of-type {\n",
       "        vertical-align: middle;\n",
       "    }\n",
       "\n",
       "    .dataframe tbody tr th {\n",
       "        vertical-align: top;\n",
       "    }\n",
       "\n",
       "    .dataframe thead th {\n",
       "        text-align: right;\n",
       "    }\n",
       "</style>\n",
       "<table border=\"1\" class=\"dataframe\">\n",
       "  <thead>\n",
       "    <tr style=\"text-align: right;\">\n",
       "      <th></th>\n",
       "      <th>High</th>\n",
       "      <th>Low</th>\n",
       "      <th>Open</th>\n",
       "      <th>Close</th>\n",
       "      <th>Volume</th>\n",
       "      <th>Adj Close</th>\n",
       "    </tr>\n",
       "    <tr>\n",
       "      <th>Date</th>\n",
       "      <th></th>\n",
       "      <th></th>\n",
       "      <th></th>\n",
       "      <th></th>\n",
       "      <th></th>\n",
       "      <th></th>\n",
       "    </tr>\n",
       "  </thead>\n",
       "  <tbody>\n",
       "    <tr>\n",
       "      <th>2010-12-31</th>\n",
       "      <td>11.552857</td>\n",
       "      <td>11.475357</td>\n",
       "      <td>11.533929</td>\n",
       "      <td>11.520000</td>\n",
       "      <td>193508000.0</td>\n",
       "      <td>9.922909</td>\n",
       "    </tr>\n",
       "    <tr>\n",
       "      <th>2011-01-03</th>\n",
       "      <td>11.795000</td>\n",
       "      <td>11.601429</td>\n",
       "      <td>11.630000</td>\n",
       "      <td>11.770357</td>\n",
       "      <td>445138400.0</td>\n",
       "      <td>10.138556</td>\n",
       "    </tr>\n",
       "    <tr>\n",
       "      <th>2011-01-04</th>\n",
       "      <td>11.875000</td>\n",
       "      <td>11.719643</td>\n",
       "      <td>11.872857</td>\n",
       "      <td>11.831786</td>\n",
       "      <td>309080800.0</td>\n",
       "      <td>10.191467</td>\n",
       "    </tr>\n",
       "    <tr>\n",
       "      <th>2011-01-05</th>\n",
       "      <td>11.940714</td>\n",
       "      <td>11.767857</td>\n",
       "      <td>11.769643</td>\n",
       "      <td>11.928571</td>\n",
       "      <td>255519600.0</td>\n",
       "      <td>10.274836</td>\n",
       "    </tr>\n",
       "    <tr>\n",
       "      <th>2011-01-06</th>\n",
       "      <td>11.973214</td>\n",
       "      <td>11.889286</td>\n",
       "      <td>11.954286</td>\n",
       "      <td>11.918929</td>\n",
       "      <td>300428800.0</td>\n",
       "      <td>10.266529</td>\n",
       "    </tr>\n",
       "    <tr>\n",
       "      <th>...</th>\n",
       "      <td>...</td>\n",
       "      <td>...</td>\n",
       "      <td>...</td>\n",
       "      <td>...</td>\n",
       "      <td>...</td>\n",
       "      <td>...</td>\n",
       "    </tr>\n",
       "    <tr>\n",
       "      <th>2020-12-24</th>\n",
       "      <td>133.460007</td>\n",
       "      <td>131.100006</td>\n",
       "      <td>131.320007</td>\n",
       "      <td>131.970001</td>\n",
       "      <td>54930100.0</td>\n",
       "      <td>131.773087</td>\n",
       "    </tr>\n",
       "    <tr>\n",
       "      <th>2020-12-28</th>\n",
       "      <td>137.339996</td>\n",
       "      <td>133.509995</td>\n",
       "      <td>133.990005</td>\n",
       "      <td>136.690002</td>\n",
       "      <td>124486200.0</td>\n",
       "      <td>136.486053</td>\n",
       "    </tr>\n",
       "    <tr>\n",
       "      <th>2020-12-29</th>\n",
       "      <td>138.789993</td>\n",
       "      <td>134.339996</td>\n",
       "      <td>138.050003</td>\n",
       "      <td>134.869995</td>\n",
       "      <td>121047300.0</td>\n",
       "      <td>134.668762</td>\n",
       "    </tr>\n",
       "    <tr>\n",
       "      <th>2020-12-30</th>\n",
       "      <td>135.990005</td>\n",
       "      <td>133.399994</td>\n",
       "      <td>135.580002</td>\n",
       "      <td>133.720001</td>\n",
       "      <td>96452100.0</td>\n",
       "      <td>133.520477</td>\n",
       "    </tr>\n",
       "    <tr>\n",
       "      <th>2020-12-31</th>\n",
       "      <td>134.740005</td>\n",
       "      <td>131.720001</td>\n",
       "      <td>134.080002</td>\n",
       "      <td>132.690002</td>\n",
       "      <td>98990400.0</td>\n",
       "      <td>132.492020</td>\n",
       "    </tr>\n",
       "  </tbody>\n",
       "</table>\n",
       "<p>2518 rows × 6 columns</p>\n",
       "</div>"
      ],
      "text/plain": [
       "                  High         Low        Open       Close       Volume  \\\n",
       "Date                                                                      \n",
       "2010-12-31   11.552857   11.475357   11.533929   11.520000  193508000.0   \n",
       "2011-01-03   11.795000   11.601429   11.630000   11.770357  445138400.0   \n",
       "2011-01-04   11.875000   11.719643   11.872857   11.831786  309080800.0   \n",
       "2011-01-05   11.940714   11.767857   11.769643   11.928571  255519600.0   \n",
       "2011-01-06   11.973214   11.889286   11.954286   11.918929  300428800.0   \n",
       "...                ...         ...         ...         ...          ...   \n",
       "2020-12-24  133.460007  131.100006  131.320007  131.970001   54930100.0   \n",
       "2020-12-28  137.339996  133.509995  133.990005  136.690002  124486200.0   \n",
       "2020-12-29  138.789993  134.339996  138.050003  134.869995  121047300.0   \n",
       "2020-12-30  135.990005  133.399994  135.580002  133.720001   96452100.0   \n",
       "2020-12-31  134.740005  131.720001  134.080002  132.690002   98990400.0   \n",
       "\n",
       "             Adj Close  \n",
       "Date                    \n",
       "2010-12-31    9.922909  \n",
       "2011-01-03   10.138556  \n",
       "2011-01-04   10.191467  \n",
       "2011-01-05   10.274836  \n",
       "2011-01-06   10.266529  \n",
       "...                ...  \n",
       "2020-12-24  131.773087  \n",
       "2020-12-28  136.486053  \n",
       "2020-12-29  134.668762  \n",
       "2020-12-30  133.520477  \n",
       "2020-12-31  132.492020  \n",
       "\n",
       "[2518 rows x 6 columns]"
      ]
     },
     "execution_count": 6,
     "metadata": {},
     "output_type": "execute_result"
    }
   ],
   "source": [
    "df1"
   ]
  },
  {
   "cell_type": "code",
   "execution_count": 7,
   "metadata": {},
   "outputs": [
    {
     "name": "stdout",
     "output_type": "stream",
     "text": [
      "<class 'pandas.core.frame.DataFrame'>\n",
      "DatetimeIndex: 2518 entries, 2010-12-31 to 2020-12-31\n",
      "Data columns (total 6 columns):\n",
      " #   Column     Non-Null Count  Dtype  \n",
      "---  ------     --------------  -----  \n",
      " 0   High       2518 non-null   float64\n",
      " 1   Low        2518 non-null   float64\n",
      " 2   Open       2518 non-null   float64\n",
      " 3   Close      2518 non-null   float64\n",
      " 4   Volume     2518 non-null   float64\n",
      " 5   Adj Close  2518 non-null   float64\n",
      "dtypes: float64(6)\n",
      "memory usage: 137.7 KB\n"
     ]
    }
   ],
   "source": [
    "df.info()"
   ]
  },
  {
   "cell_type": "code",
   "execution_count": 11,
   "metadata": {},
   "outputs": [
    {
     "data": {
      "text/plain": [
       "<matplotlib.axes._subplots.AxesSubplot at 0x1971e388b50>"
      ]
     },
     "execution_count": 11,
     "metadata": {},
     "output_type": "execute_result"
    },
    {
     "data": {
      "image/png": "[encoded data removed]",
      "text/plain": [
       "<Figure size 432x288 with 2 Axes>"
      ]
     },
     "metadata": {},
     "output_type": "display_data"
    }
   ],
   "source": [
    "sns.heatmap(df.corr(),annot=True)"
   ]
  },
  {
   "cell_type": "code",
   "execution_count": 14,
   "metadata": {},
   "outputs": [
    {
     "data": {
      "text/plain": [
       "<matplotlib.axes._subplots.AxesSubplot at 0x197201156a0>"
      ]
     },
     "execution_count": 14,
     "metadata": {},
     "output_type": "execute_result"
    },
    {
     "data": {
      "image/png": "[encoded data removed]",
      "text/plain": [
       "<Figure size 432x288 with 1 Axes>"
      ]
     },
     "metadata": {},
     "output_type": "display_data"
    }
   ],
   "source": [
    "df.plot()"
   ]
  },
  {
   "cell_type": "code",
   "execution_count": 26,
   "metadata": {},
   "outputs": [
    {
     "data": {
      "image/png": "[encoded data removed]",
      "text/plain": [
       "<Figure size 1008x504 with 1 Axes>"
      ]
     },
     "metadata": {},
     "output_type": "display_data"
    }
   ],
   "source": [
    "plt.figure(figsize=(14,7))\n",
    "plt.title(\"Close Price History\")\n",
    "plt.plot(df[\"Close\"])\n",
    "plt.xlabel(\"Date\",fontsize=15)\n",
    "plt.ylabel(\"Close Price\",fontsize=15)\n",
    "plt.show()"
   ]
  },
  {
   "cell_type": "code",
   "execution_count": 27,
   "metadata": {},
   "outputs": [
    {
     "data": {
      "text/html": [
       "<div>\n",
       "<style scoped>\n",
       "    .dataframe tbody tr th:only-of-type {\n",
       "        vertical-align: middle;\n",
       "    }\n",
       "\n",
       "    .dataframe tbody tr th {\n",
       "        vertical-align: top;\n",
       "    }\n",
       "\n",
       "    .dataframe thead th {\n",
       "        text-align: right;\n",
       "    }\n",
       "</style>\n",
       "<table border=\"1\" class=\"dataframe\">\n",
       "  <thead>\n",
       "    <tr style=\"text-align: right;\">\n",
       "      <th></th>\n",
       "      <th>Close</th>\n",
       "    </tr>\n",
       "    <tr>\n",
       "      <th>Date</th>\n",
       "      <th></th>\n",
       "    </tr>\n",
       "  </thead>\n",
       "  <tbody>\n",
       "    <tr>\n",
       "      <th>2010-12-31</th>\n",
       "      <td>11.520000</td>\n",
       "    </tr>\n",
       "    <tr>\n",
       "      <th>2011-01-03</th>\n",
       "      <td>11.770357</td>\n",
       "    </tr>\n",
       "    <tr>\n",
       "      <th>2011-01-04</th>\n",
       "      <td>11.831786</td>\n",
       "    </tr>\n",
       "    <tr>\n",
       "      <th>2011-01-05</th>\n",
       "      <td>11.928571</td>\n",
       "    </tr>\n",
       "    <tr>\n",
       "      <th>2011-01-06</th>\n",
       "      <td>11.918929</td>\n",
       "    </tr>\n",
       "    <tr>\n",
       "      <th>...</th>\n",
       "      <td>...</td>\n",
       "    </tr>\n",
       "    <tr>\n",
       "      <th>2020-12-24</th>\n",
       "      <td>131.970001</td>\n",
       "    </tr>\n",
       "    <tr>\n",
       "      <th>2020-12-28</th>\n",
       "      <td>136.690002</td>\n",
       "    </tr>\n",
       "    <tr>\n",
       "      <th>2020-12-29</th>\n",
       "      <td>134.869995</td>\n",
       "    </tr>\n",
       "    <tr>\n",
       "      <th>2020-12-30</th>\n",
       "      <td>133.720001</td>\n",
       "    </tr>\n",
       "    <tr>\n",
       "      <th>2020-12-31</th>\n",
       "      <td>132.690002</td>\n",
       "    </tr>\n",
       "  </tbody>\n",
       "</table>\n",
       "<p>2518 rows × 1 columns</p>\n",
       "</div>"
      ],
      "text/plain": [
       "                 Close\n",
       "Date                  \n",
       "2010-12-31   11.520000\n",
       "2011-01-03   11.770357\n",
       "2011-01-04   11.831786\n",
       "2011-01-05   11.928571\n",
       "2011-01-06   11.918929\n",
       "...                ...\n",
       "2020-12-24  131.970001\n",
       "2020-12-28  136.690002\n",
       "2020-12-29  134.869995\n",
       "2020-12-30  133.720001\n",
       "2020-12-31  132.690002\n",
       "\n",
       "[2518 rows x 1 columns]"
      ]
     },
     "execution_count": 27,
     "metadata": {},
     "output_type": "execute_result"
    }
   ],
   "source": [
    "data=df.filter([\"Close\"])\n",
    "data\n"
   ]
  },
  {
   "cell_type": "code",
   "execution_count": 28,
   "metadata": {},
   "outputs": [
    {
     "data": {
      "text/plain": [
       "array([[ 11.52000046],\n",
       "       [ 11.77035713],\n",
       "       [ 11.83178616],\n",
       "       ...,\n",
       "       [134.86999512],\n",
       "       [133.72000122],\n",
       "       [132.69000244]])"
      ]
     },
     "execution_count": 28,
     "metadata": {},
     "output_type": "execute_result"
    }
   ],
   "source": [
    "dataset=data.values\n",
    "dataset"
   ]
  },
  {
   "cell_type": "code",
   "execution_count": 34,
   "metadata": {},
   "outputs": [
    {
     "data": {
      "text/plain": [
       "15"
      ]
     },
     "execution_count": 34,
     "metadata": {},
     "output_type": "execute_result"
    }
   ],
   "source": [
    "math.ceil(14.2)"
   ]
  },
  {
   "cell_type": "code",
   "execution_count": 44,
   "metadata": {},
   "outputs": [
    {
     "data": {
      "text/plain": [
       "14.0"
      ]
     },
     "execution_count": 44,
     "metadata": {},
     "output_type": "execute_result"
    }
   ],
   "source": [
    "round(14.5,0)"
   ]
  },
  {
   "cell_type": "code",
   "execution_count": 45,
   "metadata": {},
   "outputs": [
    {
     "data": {
      "text/plain": [
       "15.0"
      ]
     },
     "execution_count": 45,
     "metadata": {},
     "output_type": "execute_result"
    }
   ],
   "source": [
    "round(14.6,0)"
   ]
  },
  {
   "cell_type": "code",
   "execution_count": 47,
   "metadata": {},
   "outputs": [
    {
     "data": {
      "text/plain": [
       "2015"
      ]
     },
     "execution_count": 47,
     "metadata": {},
     "output_type": "execute_result"
    }
   ],
   "source": [
    "training_data_len=math.ceil(len(dataset)*.8)\n",
    "training_data_len"
   ]
  },
  {
   "cell_type": "code",
   "execution_count": 52,
   "metadata": {},
   "outputs": [
    {
     "name": "stdout",
     "output_type": "stream",
     "text": [
      "[1.] [0.]\n"
     ]
    },
    {
     "data": {
      "text/plain": [
       "array([[0.0020615 ],\n",
       "       [0.00405751],\n",
       "       [0.00454727],\n",
       "       ...,\n",
       "       [0.98548969],\n",
       "       [0.97632118],\n",
       "       [0.96810934]])"
      ]
     },
     "execution_count": 52,
     "metadata": {},
     "output_type": "execute_result"
    }
   ],
   "source": [
    "S=MinMaxScaler()\n",
    "scaled_data=S.fit_transform(dataset)\n",
    "print(max(scaled_data),min(scaled_data))\n",
    "scaled_data"
   ]
  },
  {
   "cell_type": "code",
   "execution_count": 57,
   "metadata": {},
   "outputs": [
    {
     "data": {
      "text/plain": [
       "2"
      ]
     },
     "execution_count": 57,
     "metadata": {},
     "output_type": "execute_result"
    }
   ],
   "source": [
    "a=[1,2,3,4]\n",
    "random.choice(a)"
   ]
  },
  {
   "cell_type": "code",
   "execution_count": 61,
   "metadata": {},
   "outputs": [
    {
     "data": {
      "text/plain": [
       "2015"
      ]
     },
     "execution_count": 61,
     "metadata": {},
     "output_type": "execute_result"
    }
   ],
   "source": [
    "train_data=scaled_data[0:training_data_len]\n",
    "len(train_data)"
   ]
  },
  {
   "cell_type": "code",
   "execution_count": 67,
   "metadata": {},
   "outputs": [
    {
     "name": "stdout",
     "output_type": "stream",
     "text": [
      "[array([0.0020615 , 0.00405751, 0.00454727, 0.0053189 , 0.00524203,\n",
      "       0.00592255, 0.00772494, 0.00749431, 0.00828587, 0.00864464,\n",
      "       0.00944191, 0.00721241, 0.00669704, 0.00494305, 0.00324601,\n",
      "       0.00630126, 0.00742596, 0.00812358, 0.00794134, 0.00591685,\n",
      "       0.00683371, 0.00845957, 0.0082574 , 0.00800683, 0.00887813,\n",
      "       0.01041003, 0.01135535, 0.01219818, 0.01116742, 0.01182517,\n",
      "       0.01248861, 0.01269362, 0.01361333, 0.01223804, 0.01003417,\n",
      "       0.00663154, 0.00777335, 0.00784738, 0.0093508 , 0.01078872,\n",
      "       0.00967824, 0.01047836, 0.01259681, 0.0127221 , 0.01140091,\n",
      "       0.0115148 , 0.01057801, 0.00892653, 0.01044134, 0.01088838,\n",
      "       0.00857346, 0.00418279, 0.00550114, 0.00437073, 0.00682801,\n",
      "       0.00736901, 0.0067967 , 0.00844248, 0.01031321, 0.00999999])]\n",
      "[0.010148060172599144]\n",
      "[array([0.0020615 , 0.00405751, 0.00454727, 0.0053189 , 0.00524203,\n",
      "       0.00592255, 0.00772494, 0.00749431, 0.00828587, 0.00864464,\n",
      "       0.00944191, 0.00721241, 0.00669704, 0.00494305, 0.00324601,\n",
      "       0.00630126, 0.00742596, 0.00812358, 0.00794134, 0.00591685,\n",
      "       0.00683371, 0.00845957, 0.0082574 , 0.00800683, 0.00887813,\n",
      "       0.01041003, 0.01135535, 0.01219818, 0.01116742, 0.01182517,\n",
      "       0.01248861, 0.01269362, 0.01361333, 0.01223804, 0.01003417,\n",
      "       0.00663154, 0.00777335, 0.00784738, 0.0093508 , 0.01078872,\n",
      "       0.00967824, 0.01047836, 0.01259681, 0.0127221 , 0.01140091,\n",
      "       0.0115148 , 0.01057801, 0.00892653, 0.01044134, 0.01088838,\n",
      "       0.00857346, 0.00418279, 0.00550114, 0.00437073, 0.00682801,\n",
      "       0.00736901, 0.0067967 , 0.00844248, 0.01031321, 0.00999999]), array([0.00405751, 0.00454727, 0.0053189 , 0.00524203, 0.00592255,\n",
      "       0.00772494, 0.00749431, 0.00828587, 0.00864464, 0.00944191,\n",
      "       0.00721241, 0.00669704, 0.00494305, 0.00324601, 0.00630126,\n",
      "       0.00742596, 0.00812358, 0.00794134, 0.00591685, 0.00683371,\n",
      "       0.00845957, 0.0082574 , 0.00800683, 0.00887813, 0.01041003,\n",
      "       0.01135535, 0.01219818, 0.01116742, 0.01182517, 0.01248861,\n",
      "       0.01269362, 0.01361333, 0.01223804, 0.01003417, 0.00663154,\n",
      "       0.00777335, 0.00784738, 0.0093508 , 0.01078872, 0.00967824,\n",
      "       0.01047836, 0.01259681, 0.0127221 , 0.01140091, 0.0115148 ,\n",
      "       0.01057801, 0.00892653, 0.01044134, 0.01088838, 0.00857346,\n",
      "       0.00418279, 0.00550114, 0.00437073, 0.00682801, 0.00736901,\n",
      "       0.0067967 , 0.00844248, 0.01031321, 0.00999999, 0.01014806])]\n",
      "[0.010148060172599144, 0.009484616768654641]\n"
     ]
    }
   ],
   "source": [
    "x_train=[]\n",
    "y_train=[]\n",
    "for i in range(60,len(train_data)):\n",
    "    x_train.append(train_data[i-60:i,0])\n",
    "    y_train.append(train_data[i,0])\n",
    "    if i<=61:\n",
    "        print(x_train)\n",
    "        print(y_train)"
   ]
  },
  {
   "cell_type": "code",
   "execution_count": 69,
   "metadata": {},
   "outputs": [
    {
     "data": {
      "text/plain": [
       "(1955, 1955, 2015)"
      ]
     },
     "execution_count": 69,
     "metadata": {},
     "output_type": "execute_result"
    }
   ],
   "source": [
    "len(y_train),len(x_train),len(train_data)"
   ]
  },
  {
   "cell_type": "code",
   "execution_count": 70,
   "metadata": {},
   "outputs": [],
   "source": [
    "x_train,y_train=np.array(x_train),np.array(y_train)"
   ]
  },
  {
   "cell_type": "code",
   "execution_count": 72,
   "metadata": {},
   "outputs": [
    {
     "data": {
      "text/plain": [
       "(1955, 60, 1)"
      ]
     },
     "execution_count": 72,
     "metadata": {},
     "output_type": "execute_result"
    }
   ],
   "source": [
    "x_train=np.reshape(x_train,(x_train.shape[0],x_train.shape[1],1))\n",
    "x_train.shape"
   ]
  },
  {
   "cell_type": "code",
   "execution_count": 83,
   "metadata": {},
   "outputs": [],
   "source": [
    "model=keras.Sequential([\n",
    "    keras.layers.LSTM(50,input_shape=(x_train.shape[1],1),return_sequences=True),\n",
    "    keras.layers.LSTM(50,return_sequences=False,activation=\"relu\"),\n",
    "    keras.layers.Dense(25,activation=\"relu\"),\n",
    "    keras.layers.Dense(1)\n",
    "])\n",
    "model.compile(optimizer=\"adam\",\n",
    "             loss=\"mean_squared_error\",\n",
    "             metrics=[\"accuracy\"])\n"
   ]
  },
  {
   "cell_type": "code",
   "execution_count": 84,
   "metadata": {},
   "outputs": [
    {
     "name": "stdout",
     "output_type": "stream",
     "text": [
      "1955/1955 [==============================] - 79s 40ms/step - loss: 3.9201e-04 - accuracy: 5.1151e-04\n"
     ]
    },
    {
     "data": {
      "text/plain": [
       "<tensorflow.python.keras.callbacks.History at 0x19732aeca60>"
      ]
     },
     "execution_count": 84,
     "metadata": {},
     "output_type": "execute_result"
    }
   ],
   "source": [
    "model.fit(x_train,y_train,batch_size=1,epochs=1)"
   ]
  },
  {
   "cell_type": "code",
   "execution_count": 102,
   "metadata": {},
   "outputs": [
    {
     "data": {
      "text/plain": [
       "2015"
      ]
     },
     "execution_count": 102,
     "metadata": {},
     "output_type": "execute_result"
    }
   ],
   "source": [
    "training_data_len"
   ]
  },
  {
   "cell_type": "code",
   "execution_count": 104,
   "metadata": {},
   "outputs": [
    {
     "data": {
      "text/plain": [
       "(0, 1)"
      ]
     },
     "execution_count": 104,
     "metadata": {},
     "output_type": "execute_result"
    }
   ],
   "source": [
    "test_data=scaled_data[2015-1950]\n",
    "x_test=[]\n",
    "y_test=dataset[training_data_len:,:]\n",
    "len(y_test)\n",
    "for i in range(60,len(test_data)):\n",
    "    x_test.append(test_data[i-60:i,0])\n",
    "len(x_test),len(test_data)"
   ]
  },
  {
   "cell_type": "code",
   "execution_count": 95,
   "metadata": {},
   "outputs": [
    {
     "data": {
      "text/plain": [
       "(0,)"
      ]
     },
     "execution_count": 95,
     "metadata": {},
     "output_type": "execute_result"
    }
   ],
   "source": [
    "x_test=np.array(x_test)\n",
    "x_test.shape\n"
   ]
  },
  {
   "cell_type": "code",
   "execution_count": 108,
   "metadata": {},
   "outputs": [
    {
     "data": {
      "text/plain": [
       "array([[ 11.52000046],\n",
       "       [ 11.77035713],\n",
       "       [ 11.83178616],\n",
       "       ...,\n",
       "       [134.86999512],\n",
       "       [133.72000122],\n",
       "       [132.69000244]])"
      ]
     },
     "execution_count": 108,
     "metadata": {},
     "output_type": "execute_result"
    }
   ],
   "source": [
    "unscaled_data=S.inverse_transform(scaled_data)\n",
    "unscaled_data"
   ]
  },
  {
   "cell_type": "code",
   "execution_count": null,
   "metadata": {},
   "outputs": [],
   "source": []
  }
 ],
 "metadata": {
  "kernelspec": {
   "display_name": "Python 3",
   "language": "python",
   "name": "python3"
  },
  "language_info": {
   "codemirror_mode": {
    "name": "ipython",
    "version": 3
   },
   "file_extension": ".py",
   "mimetype": "text/x-python",
   "name": "python",
   "nbconvert_exporter": "python",
   "pygments_lexer": "ipython3",
   "version": "3.8.3"
  }
 },
 "nbformat": 4,
 "nbformat_minor": 4
}
