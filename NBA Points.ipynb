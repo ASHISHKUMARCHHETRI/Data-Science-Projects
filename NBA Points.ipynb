{
 "cells": [
  {
   "cell_type": "code",
   "execution_count": 95,
   "metadata": {},
   "outputs": [],
   "source": [
    "import pandas as pd\n",
    "from sklearn.linear_model import LinearRegression\n",
    "import matplotlib.pyplot as plt\n",
    "from sklearn.preprocessing import LabelEncoder,MinMaxScaler\n",
    "from sklearn.model_selection import train_test_split"
   ]
  },
  {
   "cell_type": "code",
   "execution_count": 3,
   "metadata": {},
   "outputs": [],
   "source": [
    "df1=pd.read_csv('Downloads/nba_2013.csv')"
   ]
  },
  {
   "cell_type": "code",
   "execution_count": 4,
   "metadata": {},
   "outputs": [
    {
     "data": {
      "text/html": [
       "<div>\n",
       "<style scoped>\n",
       "    .dataframe tbody tr th:only-of-type {\n",
       "        vertical-align: middle;\n",
       "    }\n",
       "\n",
       "    .dataframe tbody tr th {\n",
       "        vertical-align: top;\n",
       "    }\n",
       "\n",
       "    .dataframe thead th {\n",
       "        text-align: right;\n",
       "    }\n",
       "</style>\n",
       "<table border=\"1\" class=\"dataframe\">\n",
       "  <thead>\n",
       "    <tr style=\"text-align: right;\">\n",
       "      <th></th>\n",
       "      <th>player</th>\n",
       "      <th>pos</th>\n",
       "      <th>age</th>\n",
       "      <th>bref_team_id</th>\n",
       "      <th>g</th>\n",
       "      <th>gs</th>\n",
       "      <th>mp</th>\n",
       "      <th>fg</th>\n",
       "      <th>fga</th>\n",
       "      <th>fg.</th>\n",
       "      <th>...</th>\n",
       "      <th>drb</th>\n",
       "      <th>trb</th>\n",
       "      <th>ast</th>\n",
       "      <th>stl</th>\n",
       "      <th>blk</th>\n",
       "      <th>tov</th>\n",
       "      <th>pf</th>\n",
       "      <th>pts</th>\n",
       "      <th>season</th>\n",
       "      <th>season_end</th>\n",
       "    </tr>\n",
       "  </thead>\n",
       "  <tbody>\n",
       "    <tr>\n",
       "      <th>0</th>\n",
       "      <td>Quincy Acy</td>\n",
       "      <td>SF</td>\n",
       "      <td>23</td>\n",
       "      <td>TOT</td>\n",
       "      <td>63</td>\n",
       "      <td>0</td>\n",
       "      <td>847</td>\n",
       "      <td>66</td>\n",
       "      <td>141</td>\n",
       "      <td>0.468</td>\n",
       "      <td>...</td>\n",
       "      <td>144</td>\n",
       "      <td>216</td>\n",
       "      <td>28</td>\n",
       "      <td>23</td>\n",
       "      <td>26</td>\n",
       "      <td>30</td>\n",
       "      <td>122</td>\n",
       "      <td>171</td>\n",
       "      <td>2013-2014</td>\n",
       "      <td>2013</td>\n",
       "    </tr>\n",
       "    <tr>\n",
       "      <th>1</th>\n",
       "      <td>Steven Adams</td>\n",
       "      <td>C</td>\n",
       "      <td>20</td>\n",
       "      <td>OKC</td>\n",
       "      <td>81</td>\n",
       "      <td>20</td>\n",
       "      <td>1197</td>\n",
       "      <td>93</td>\n",
       "      <td>185</td>\n",
       "      <td>0.503</td>\n",
       "      <td>...</td>\n",
       "      <td>190</td>\n",
       "      <td>332</td>\n",
       "      <td>43</td>\n",
       "      <td>40</td>\n",
       "      <td>57</td>\n",
       "      <td>71</td>\n",
       "      <td>203</td>\n",
       "      <td>265</td>\n",
       "      <td>2013-2014</td>\n",
       "      <td>2013</td>\n",
       "    </tr>\n",
       "    <tr>\n",
       "      <th>2</th>\n",
       "      <td>Jeff Adrien</td>\n",
       "      <td>PF</td>\n",
       "      <td>27</td>\n",
       "      <td>TOT</td>\n",
       "      <td>53</td>\n",
       "      <td>12</td>\n",
       "      <td>961</td>\n",
       "      <td>143</td>\n",
       "      <td>275</td>\n",
       "      <td>0.520</td>\n",
       "      <td>...</td>\n",
       "      <td>204</td>\n",
       "      <td>306</td>\n",
       "      <td>38</td>\n",
       "      <td>24</td>\n",
       "      <td>36</td>\n",
       "      <td>39</td>\n",
       "      <td>108</td>\n",
       "      <td>362</td>\n",
       "      <td>2013-2014</td>\n",
       "      <td>2013</td>\n",
       "    </tr>\n",
       "    <tr>\n",
       "      <th>3</th>\n",
       "      <td>Arron Afflalo</td>\n",
       "      <td>SG</td>\n",
       "      <td>28</td>\n",
       "      <td>ORL</td>\n",
       "      <td>73</td>\n",
       "      <td>73</td>\n",
       "      <td>2552</td>\n",
       "      <td>464</td>\n",
       "      <td>1011</td>\n",
       "      <td>0.459</td>\n",
       "      <td>...</td>\n",
       "      <td>230</td>\n",
       "      <td>262</td>\n",
       "      <td>248</td>\n",
       "      <td>35</td>\n",
       "      <td>3</td>\n",
       "      <td>146</td>\n",
       "      <td>136</td>\n",
       "      <td>1330</td>\n",
       "      <td>2013-2014</td>\n",
       "      <td>2013</td>\n",
       "    </tr>\n",
       "    <tr>\n",
       "      <th>4</th>\n",
       "      <td>Alexis Ajinca</td>\n",
       "      <td>C</td>\n",
       "      <td>25</td>\n",
       "      <td>NOP</td>\n",
       "      <td>56</td>\n",
       "      <td>30</td>\n",
       "      <td>951</td>\n",
       "      <td>136</td>\n",
       "      <td>249</td>\n",
       "      <td>0.546</td>\n",
       "      <td>...</td>\n",
       "      <td>183</td>\n",
       "      <td>277</td>\n",
       "      <td>40</td>\n",
       "      <td>23</td>\n",
       "      <td>46</td>\n",
       "      <td>63</td>\n",
       "      <td>187</td>\n",
       "      <td>328</td>\n",
       "      <td>2013-2014</td>\n",
       "      <td>2013</td>\n",
       "    </tr>\n",
       "    <tr>\n",
       "      <th>...</th>\n",
       "      <td>...</td>\n",
       "      <td>...</td>\n",
       "      <td>...</td>\n",
       "      <td>...</td>\n",
       "      <td>...</td>\n",
       "      <td>...</td>\n",
       "      <td>...</td>\n",
       "      <td>...</td>\n",
       "      <td>...</td>\n",
       "      <td>...</td>\n",
       "      <td>...</td>\n",
       "      <td>...</td>\n",
       "      <td>...</td>\n",
       "      <td>...</td>\n",
       "      <td>...</td>\n",
       "      <td>...</td>\n",
       "      <td>...</td>\n",
       "      <td>...</td>\n",
       "      <td>...</td>\n",
       "      <td>...</td>\n",
       "      <td>...</td>\n",
       "    </tr>\n",
       "    <tr>\n",
       "      <th>476</th>\n",
       "      <td>Tony Wroten</td>\n",
       "      <td>SG</td>\n",
       "      <td>20</td>\n",
       "      <td>PHI</td>\n",
       "      <td>72</td>\n",
       "      <td>16</td>\n",
       "      <td>1765</td>\n",
       "      <td>345</td>\n",
       "      <td>808</td>\n",
       "      <td>0.427</td>\n",
       "      <td>...</td>\n",
       "      <td>159</td>\n",
       "      <td>228</td>\n",
       "      <td>217</td>\n",
       "      <td>78</td>\n",
       "      <td>16</td>\n",
       "      <td>204</td>\n",
       "      <td>151</td>\n",
       "      <td>939</td>\n",
       "      <td>2013-2014</td>\n",
       "      <td>2013</td>\n",
       "    </tr>\n",
       "    <tr>\n",
       "      <th>477</th>\n",
       "      <td>Nick Young</td>\n",
       "      <td>SG</td>\n",
       "      <td>28</td>\n",
       "      <td>LAL</td>\n",
       "      <td>64</td>\n",
       "      <td>9</td>\n",
       "      <td>1810</td>\n",
       "      <td>387</td>\n",
       "      <td>889</td>\n",
       "      <td>0.435</td>\n",
       "      <td>...</td>\n",
       "      <td>137</td>\n",
       "      <td>166</td>\n",
       "      <td>95</td>\n",
       "      <td>46</td>\n",
       "      <td>12</td>\n",
       "      <td>95</td>\n",
       "      <td>156</td>\n",
       "      <td>1144</td>\n",
       "      <td>2013-2014</td>\n",
       "      <td>2013</td>\n",
       "    </tr>\n",
       "    <tr>\n",
       "      <th>478</th>\n",
       "      <td>Thaddeus Young</td>\n",
       "      <td>PF</td>\n",
       "      <td>25</td>\n",
       "      <td>PHI</td>\n",
       "      <td>79</td>\n",
       "      <td>78</td>\n",
       "      <td>2718</td>\n",
       "      <td>582</td>\n",
       "      <td>1283</td>\n",
       "      <td>0.454</td>\n",
       "      <td>...</td>\n",
       "      <td>310</td>\n",
       "      <td>476</td>\n",
       "      <td>182</td>\n",
       "      <td>167</td>\n",
       "      <td>36</td>\n",
       "      <td>165</td>\n",
       "      <td>213</td>\n",
       "      <td>1417</td>\n",
       "      <td>2013-2014</td>\n",
       "      <td>2013</td>\n",
       "    </tr>\n",
       "    <tr>\n",
       "      <th>479</th>\n",
       "      <td>Cody Zeller</td>\n",
       "      <td>C</td>\n",
       "      <td>21</td>\n",
       "      <td>CHA</td>\n",
       "      <td>82</td>\n",
       "      <td>3</td>\n",
       "      <td>1416</td>\n",
       "      <td>172</td>\n",
       "      <td>404</td>\n",
       "      <td>0.426</td>\n",
       "      <td>...</td>\n",
       "      <td>235</td>\n",
       "      <td>353</td>\n",
       "      <td>92</td>\n",
       "      <td>40</td>\n",
       "      <td>41</td>\n",
       "      <td>87</td>\n",
       "      <td>170</td>\n",
       "      <td>490</td>\n",
       "      <td>2013-2014</td>\n",
       "      <td>2013</td>\n",
       "    </tr>\n",
       "    <tr>\n",
       "      <th>480</th>\n",
       "      <td>Tyler Zeller</td>\n",
       "      <td>C</td>\n",
       "      <td>24</td>\n",
       "      <td>CLE</td>\n",
       "      <td>70</td>\n",
       "      <td>9</td>\n",
       "      <td>1049</td>\n",
       "      <td>156</td>\n",
       "      <td>290</td>\n",
       "      <td>0.538</td>\n",
       "      <td>...</td>\n",
       "      <td>179</td>\n",
       "      <td>282</td>\n",
       "      <td>36</td>\n",
       "      <td>18</td>\n",
       "      <td>38</td>\n",
       "      <td>60</td>\n",
       "      <td>137</td>\n",
       "      <td>399</td>\n",
       "      <td>2013-2014</td>\n",
       "      <td>2013</td>\n",
       "    </tr>\n",
       "  </tbody>\n",
       "</table>\n",
       "<p>481 rows × 31 columns</p>\n",
       "</div>"
      ],
      "text/plain": [
       "             player pos  age bref_team_id   g  gs    mp   fg   fga    fg.  \\\n",
       "0        Quincy Acy  SF   23          TOT  63   0   847   66   141  0.468   \n",
       "1      Steven Adams   C   20          OKC  81  20  1197   93   185  0.503   \n",
       "2       Jeff Adrien  PF   27          TOT  53  12   961  143   275  0.520   \n",
       "3     Arron Afflalo  SG   28          ORL  73  73  2552  464  1011  0.459   \n",
       "4     Alexis Ajinca   C   25          NOP  56  30   951  136   249  0.546   \n",
       "..              ...  ..  ...          ...  ..  ..   ...  ...   ...    ...   \n",
       "476     Tony Wroten  SG   20          PHI  72  16  1765  345   808  0.427   \n",
       "477      Nick Young  SG   28          LAL  64   9  1810  387   889  0.435   \n",
       "478  Thaddeus Young  PF   25          PHI  79  78  2718  582  1283  0.454   \n",
       "479     Cody Zeller   C   21          CHA  82   3  1416  172   404  0.426   \n",
       "480    Tyler Zeller   C   24          CLE  70   9  1049  156   290  0.538   \n",
       "\n",
       "     ...  drb  trb  ast  stl  blk  tov   pf   pts     season  season_end  \n",
       "0    ...  144  216   28   23   26   30  122   171  2013-2014        2013  \n",
       "1    ...  190  332   43   40   57   71  203   265  2013-2014        2013  \n",
       "2    ...  204  306   38   24   36   39  108   362  2013-2014        2013  \n",
       "3    ...  230  262  248   35    3  146  136  1330  2013-2014        2013  \n",
       "4    ...  183  277   40   23   46   63  187   328  2013-2014        2013  \n",
       "..   ...  ...  ...  ...  ...  ...  ...  ...   ...        ...         ...  \n",
       "476  ...  159  228  217   78   16  204  151   939  2013-2014        2013  \n",
       "477  ...  137  166   95   46   12   95  156  1144  2013-2014        2013  \n",
       "478  ...  310  476  182  167   36  165  213  1417  2013-2014        2013  \n",
       "479  ...  235  353   92   40   41   87  170   490  2013-2014        2013  \n",
       "480  ...  179  282   36   18   38   60  137   399  2013-2014        2013  \n",
       "\n",
       "[481 rows x 31 columns]"
      ]
     },
     "execution_count": 4,
     "metadata": {},
     "output_type": "execute_result"
    }
   ],
   "source": [
    "df1"
   ]
  },
  {
   "cell_type": "code",
   "execution_count": 123,
   "metadata": {},
   "outputs": [
    {
     "data": {
      "text/plain": [
       "array(['2013-2014'], dtype=object)"
      ]
     },
     "execution_count": 123,
     "metadata": {},
     "output_type": "execute_result"
    }
   ],
   "source": [
    "df1['season'].unique()"
   ]
  },
  {
   "cell_type": "code",
   "execution_count": 138,
   "metadata": {},
   "outputs": [
    {
     "data": {
      "text/plain": [
       "array([2013], dtype=int64)"
      ]
     },
     "execution_count": 138,
     "metadata": {},
     "output_type": "execute_result"
    }
   ],
   "source": [
    "df1['season_end'].unique()"
   ]
  },
  {
   "cell_type": "code",
   "execution_count": 6,
   "metadata": {},
   "outputs": [
    {
     "data": {
      "text/plain": [
       "player           0\n",
       "pos              0\n",
       "age              0\n",
       "bref_team_id     0\n",
       "g                0\n",
       "gs               0\n",
       "mp               0\n",
       "fg               0\n",
       "fga              0\n",
       "fg.              2\n",
       "x3p              0\n",
       "x3pa             0\n",
       "x3p.            67\n",
       "x2p              0\n",
       "x2pa             0\n",
       "x2p.             3\n",
       "efg.             2\n",
       "ft               0\n",
       "fta              0\n",
       "ft.             20\n",
       "orb              0\n",
       "drb              0\n",
       "trb              0\n",
       "ast              0\n",
       "stl              0\n",
       "blk              0\n",
       "tov              0\n",
       "pf               0\n",
       "pts              0\n",
       "season           0\n",
       "season_end       0\n",
       "dtype: int64"
      ]
     },
     "execution_count": 6,
     "metadata": {},
     "output_type": "execute_result"
    }
   ],
   "source": [
    "df1.isnull().sum()"
   ]
  },
  {
   "cell_type": "code",
   "execution_count": 7,
   "metadata": {},
   "outputs": [],
   "source": [
    "tmp=df1.dropna()"
   ]
  },
  {
   "cell_type": "code",
   "execution_count": 8,
   "metadata": {},
   "outputs": [
    {
     "data": {
      "text/plain": [
       "(403, 31)"
      ]
     },
     "execution_count": 8,
     "metadata": {},
     "output_type": "execute_result"
    }
   ],
   "source": [
    "tmp.shape"
   ]
  },
  {
   "cell_type": "code",
   "execution_count": 11,
   "metadata": {},
   "outputs": [
    {
     "name": "stdout",
     "output_type": "stream",
     "text": [
      "<class 'pandas.core.frame.DataFrame'>\n",
      "Int64Index: 403 entries, 0 to 480\n",
      "Data columns (total 31 columns):\n",
      " #   Column        Non-Null Count  Dtype  \n",
      "---  ------        --------------  -----  \n",
      " 0   player        403 non-null    object \n",
      " 1   pos           403 non-null    object \n",
      " 2   age           403 non-null    int64  \n",
      " 3   bref_team_id  403 non-null    object \n",
      " 4   g             403 non-null    int64  \n",
      " 5   gs            403 non-null    int64  \n",
      " 6   mp            403 non-null    int64  \n",
      " 7   fg            403 non-null    int64  \n",
      " 8   fga           403 non-null    int64  \n",
      " 9   fg.           403 non-null    float64\n",
      " 10  x3p           403 non-null    int64  \n",
      " 11  x3pa          403 non-null    int64  \n",
      " 12  x3p.          403 non-null    float64\n",
      " 13  x2p           403 non-null    int64  \n",
      " 14  x2pa          403 non-null    int64  \n",
      " 15  x2p.          403 non-null    float64\n",
      " 16  efg.          403 non-null    float64\n",
      " 17  ft            403 non-null    int64  \n",
      " 18  fta           403 non-null    int64  \n",
      " 19  ft.           403 non-null    float64\n",
      " 20  orb           403 non-null    int64  \n",
      " 21  drb           403 non-null    int64  \n",
      " 22  trb           403 non-null    int64  \n",
      " 23  ast           403 non-null    int64  \n",
      " 24  stl           403 non-null    int64  \n",
      " 25  blk           403 non-null    int64  \n",
      " 26  tov           403 non-null    int64  \n",
      " 27  pf            403 non-null    int64  \n",
      " 28  pts           403 non-null    int64  \n",
      " 29  season        403 non-null    object \n",
      " 30  season_end    403 non-null    int64  \n",
      "dtypes: float64(5), int64(22), object(4)\n",
      "memory usage: 100.8+ KB\n"
     ]
    }
   ],
   "source": [
    "tmp.info()"
   ]
  },
  {
   "cell_type": "code",
   "execution_count": 13,
   "metadata": {},
   "outputs": [
    {
     "data": {
      "text/plain": [
       "6"
      ]
     },
     "execution_count": 13,
     "metadata": {},
     "output_type": "execute_result"
    }
   ],
   "source": [
    "len(tmp['pos'].unique())"
   ]
  },
  {
   "cell_type": "code",
   "execution_count": 14,
   "metadata": {},
   "outputs": [
    {
     "data": {
      "text/plain": [
       "31"
      ]
     },
     "execution_count": 14,
     "metadata": {},
     "output_type": "execute_result"
    }
   ],
   "source": [
    "len(tmp['bref_team_id'].unique())"
   ]
  },
  {
   "cell_type": "code",
   "execution_count": 15,
   "metadata": {},
   "outputs": [
    {
     "data": {
      "text/plain": [
       "1"
      ]
     },
     "execution_count": 15,
     "metadata": {},
     "output_type": "execute_result"
    }
   ],
   "source": [
    "len(tmp['season'].unique())"
   ]
  },
  {
   "cell_type": "code",
   "execution_count": 57,
   "metadata": {},
   "outputs": [],
   "source": [
    "tmp1=tmp.drop(['player','pos','season'],1)"
   ]
  },
  {
   "cell_type": "code",
   "execution_count": 58,
   "metadata": {},
   "outputs": [],
   "source": [
    "L=LabelEncoder()\n",
    "tmp1['bref_team_id']=L.fit_transform(tmp1['bref_team_id'])"
   ]
  },
  {
   "cell_type": "code",
   "execution_count": 59,
   "metadata": {},
   "outputs": [
    {
     "data": {
      "text/plain": [
       "(403, 28)"
      ]
     },
     "execution_count": 59,
     "metadata": {},
     "output_type": "execute_result"
    }
   ],
   "source": [
    "tmp1.shape"
   ]
  },
  {
   "cell_type": "code",
   "execution_count": 60,
   "metadata": {},
   "outputs": [
    {
     "data": {
      "text/plain": [
       "LinearRegression()"
      ]
     },
     "execution_count": 60,
     "metadata": {},
     "output_type": "execute_result"
    }
   ],
   "source": [
    "model=LinearRegression()\n",
    "model.fit(tmp1.drop('pts',1),tmp1['pts'])"
   ]
  },
  {
   "cell_type": "code",
   "execution_count": 61,
   "metadata": {},
   "outputs": [
    {
     "data": {
      "text/plain": [
       "1.0"
      ]
     },
     "execution_count": 61,
     "metadata": {},
     "output_type": "execute_result"
    }
   ],
   "source": [
    "model.score(tmp1.drop('pts',1),tmp1['pts'])"
   ]
  },
  {
   "cell_type": "code",
   "execution_count": 62,
   "metadata": {},
   "outputs": [
    {
     "data": {
      "text/plain": [
       "array([ 1.14350788e-14,  1.02738703e-14,  5.87608961e-15, -9.72684910e-16,\n",
       "       -1.07565487e-15,  1.66666667e+00,  2.90968251e-15, -2.52509101e-13,\n",
       "        1.33333333e+00, -3.29686872e-16, -9.53808133e-15,  3.33333333e-01,\n",
       "        2.64200552e-15,  2.70811233e-13, -2.92055020e-14,  1.00000000e+00,\n",
       "       -1.03869111e-15, -3.29780649e-15,  3.88389186e-17, -2.33086319e-15,\n",
       "       -1.32969878e-15, -8.31728563e-17, -2.98328191e-16,  1.00876409e-15,\n",
       "       -5.00604053e-16, -3.11213211e-16,  0.00000000e+00])"
      ]
     },
     "execution_count": 62,
     "metadata": {},
     "output_type": "execute_result"
    }
   ],
   "source": [
    "importance=model.coef_\n",
    "importance"
   ]
  },
  {
   "cell_type": "code",
   "execution_count": 63,
   "metadata": {},
   "outputs": [
    {
     "name": "stdout",
     "output_type": "stream",
     "text": [
      "Feature: 0, Score: 0.00000\n",
      "Feature: 1, Score: 0.00000\n",
      "Feature: 2, Score: 0.00000\n",
      "Feature: 3, Score: -0.00000\n",
      "Feature: 4, Score: -0.00000\n",
      "Feature: 5, Score: 1.66667\n",
      "Feature: 6, Score: 0.00000\n",
      "Feature: 7, Score: -0.00000\n",
      "Feature: 8, Score: 1.33333\n",
      "Feature: 9, Score: -0.00000\n",
      "Feature: 10, Score: -0.00000\n",
      "Feature: 11, Score: 0.33333\n",
      "Feature: 12, Score: 0.00000\n",
      "Feature: 13, Score: 0.00000\n",
      "Feature: 14, Score: -0.00000\n",
      "Feature: 15, Score: 1.00000\n",
      "Feature: 16, Score: -0.00000\n",
      "Feature: 17, Score: -0.00000\n",
      "Feature: 18, Score: 0.00000\n",
      "Feature: 19, Score: -0.00000\n",
      "Feature: 20, Score: -0.00000\n",
      "Feature: 21, Score: -0.00000\n",
      "Feature: 22, Score: -0.00000\n",
      "Feature: 23, Score: 0.00000\n",
      "Feature: 24, Score: -0.00000\n",
      "Feature: 25, Score: -0.00000\n",
      "Feature: 26, Score: 0.00000\n"
     ]
    }
   ],
   "source": [
    "importance=model.coef_\n",
    "for i,v in enumerate(importance):\n",
    "    print('Feature: %0d, Score: %.5f' % (i,v))"
   ]
  },
  {
   "cell_type": "code",
   "execution_count": 64,
   "metadata": {},
   "outputs": [
    {
     "data": {
      "image/png": "[encoded data removed]",
      "text/plain": [
       "<Figure size 432x288 with 1 Axes>"
      ]
     },
     "metadata": {
      "needs_background": "light"
     },
     "output_type": "display_data"
    }
   ],
   "source": [
    "plt.bar([x for x in range(len(importance))], importance)\n",
    "plt.show()"
   ]
  },
  {
   "cell_type": "markdown",
   "metadata": {},
   "source": [
    "Here we can clearly see there are only 4 main variables for prediction that is 4,7,10,14"
   ]
  },
  {
   "cell_type": "code",
   "execution_count": 41,
   "metadata": {},
   "outputs": [
    {
     "data": {
      "text/plain": [
       "('fg', 'x3p', 'x2p', 'ft')"
      ]
     },
     "execution_count": 41,
     "metadata": {},
     "output_type": "execute_result"
    }
   ],
   "source": [
    "tmp1.columns[4],tmp1.columns[7],tmp1.columns[10],tmp1.columns[14]"
   ]
  },
  {
   "cell_type": "code",
   "execution_count": 42,
   "metadata": {},
   "outputs": [
    {
     "data": {
      "text/plain": [
       "Index(['player', 'pos', 'age', 'bref_team_id', 'g', 'gs', 'mp', 'fg', 'fga',\n",
       "       'fg.', 'x3p', 'x3pa', 'x3p.', 'x2p', 'x2pa', 'x2p.', 'efg.', 'ft',\n",
       "       'fta', 'ft.', 'orb', 'drb', 'trb', 'ast', 'stl', 'blk', 'tov', 'pf',\n",
       "       'pts', 'season', 'season_end'],\n",
       "      dtype='object')"
      ]
     },
     "execution_count": 42,
     "metadata": {},
     "output_type": "execute_result"
    }
   ],
   "source": [
    "df1.columns"
   ]
  },
  {
   "cell_type": "code",
   "execution_count": 88,
   "metadata": {},
   "outputs": [],
   "source": [
    "# lets take the data for prediction\n",
    "data=df1[['pos','fg','x3p','x2p','ft','pts']]"
   ]
  },
  {
   "cell_type": "code",
   "execution_count": 89,
   "metadata": {},
   "outputs": [
    {
     "data": {
      "text/html": [
       "<div>\n",
       "<style scoped>\n",
       "    .dataframe tbody tr th:only-of-type {\n",
       "        vertical-align: middle;\n",
       "    }\n",
       "\n",
       "    .dataframe tbody tr th {\n",
       "        vertical-align: top;\n",
       "    }\n",
       "\n",
       "    .dataframe thead th {\n",
       "        text-align: right;\n",
       "    }\n",
       "</style>\n",
       "<table border=\"1\" class=\"dataframe\">\n",
       "  <thead>\n",
       "    <tr style=\"text-align: right;\">\n",
       "      <th></th>\n",
       "      <th>pos</th>\n",
       "      <th>fg</th>\n",
       "      <th>x3p</th>\n",
       "      <th>x2p</th>\n",
       "      <th>ft</th>\n",
       "      <th>pts</th>\n",
       "    </tr>\n",
       "  </thead>\n",
       "  <tbody>\n",
       "    <tr>\n",
       "      <th>0</th>\n",
       "      <td>SF</td>\n",
       "      <td>66</td>\n",
       "      <td>4</td>\n",
       "      <td>62</td>\n",
       "      <td>35</td>\n",
       "      <td>171</td>\n",
       "    </tr>\n",
       "    <tr>\n",
       "      <th>1</th>\n",
       "      <td>C</td>\n",
       "      <td>93</td>\n",
       "      <td>0</td>\n",
       "      <td>93</td>\n",
       "      <td>79</td>\n",
       "      <td>265</td>\n",
       "    </tr>\n",
       "    <tr>\n",
       "      <th>2</th>\n",
       "      <td>PF</td>\n",
       "      <td>143</td>\n",
       "      <td>0</td>\n",
       "      <td>143</td>\n",
       "      <td>76</td>\n",
       "      <td>362</td>\n",
       "    </tr>\n",
       "    <tr>\n",
       "      <th>3</th>\n",
       "      <td>SG</td>\n",
       "      <td>464</td>\n",
       "      <td>128</td>\n",
       "      <td>336</td>\n",
       "      <td>274</td>\n",
       "      <td>1330</td>\n",
       "    </tr>\n",
       "    <tr>\n",
       "      <th>4</th>\n",
       "      <td>C</td>\n",
       "      <td>136</td>\n",
       "      <td>0</td>\n",
       "      <td>136</td>\n",
       "      <td>56</td>\n",
       "      <td>328</td>\n",
       "    </tr>\n",
       "    <tr>\n",
       "      <th>...</th>\n",
       "      <td>...</td>\n",
       "      <td>...</td>\n",
       "      <td>...</td>\n",
       "      <td>...</td>\n",
       "      <td>...</td>\n",
       "      <td>...</td>\n",
       "    </tr>\n",
       "    <tr>\n",
       "      <th>476</th>\n",
       "      <td>SG</td>\n",
       "      <td>345</td>\n",
       "      <td>40</td>\n",
       "      <td>305</td>\n",
       "      <td>209</td>\n",
       "      <td>939</td>\n",
       "    </tr>\n",
       "    <tr>\n",
       "      <th>477</th>\n",
       "      <td>SG</td>\n",
       "      <td>387</td>\n",
       "      <td>135</td>\n",
       "      <td>252</td>\n",
       "      <td>235</td>\n",
       "      <td>1144</td>\n",
       "    </tr>\n",
       "    <tr>\n",
       "      <th>478</th>\n",
       "      <td>PF</td>\n",
       "      <td>582</td>\n",
       "      <td>90</td>\n",
       "      <td>492</td>\n",
       "      <td>163</td>\n",
       "      <td>1417</td>\n",
       "    </tr>\n",
       "    <tr>\n",
       "      <th>479</th>\n",
       "      <td>C</td>\n",
       "      <td>172</td>\n",
       "      <td>0</td>\n",
       "      <td>172</td>\n",
       "      <td>146</td>\n",
       "      <td>490</td>\n",
       "    </tr>\n",
       "    <tr>\n",
       "      <th>480</th>\n",
       "      <td>C</td>\n",
       "      <td>156</td>\n",
       "      <td>0</td>\n",
       "      <td>156</td>\n",
       "      <td>87</td>\n",
       "      <td>399</td>\n",
       "    </tr>\n",
       "  </tbody>\n",
       "</table>\n",
       "<p>481 rows × 6 columns</p>\n",
       "</div>"
      ],
      "text/plain": [
       "    pos   fg  x3p  x2p   ft   pts\n",
       "0    SF   66    4   62   35   171\n",
       "1     C   93    0   93   79   265\n",
       "2    PF  143    0  143   76   362\n",
       "3    SG  464  128  336  274  1330\n",
       "4     C  136    0  136   56   328\n",
       "..   ..  ...  ...  ...  ...   ...\n",
       "476  SG  345   40  305  209   939\n",
       "477  SG  387  135  252  235  1144\n",
       "478  PF  582   90  492  163  1417\n",
       "479   C  172    0  172  146   490\n",
       "480   C  156    0  156   87   399\n",
       "\n",
       "[481 rows x 6 columns]"
      ]
     },
     "execution_count": 89,
     "metadata": {},
     "output_type": "execute_result"
    }
   ],
   "source": [
    "data"
   ]
  },
  {
   "cell_type": "code",
   "execution_count": 90,
   "metadata": {},
   "outputs": [
    {
     "data": {
      "text/plain": [
       "pos    0\n",
       "fg     0\n",
       "x3p    0\n",
       "x2p    0\n",
       "ft     0\n",
       "pts    0\n",
       "dtype: int64"
      ]
     },
     "execution_count": 90,
     "metadata": {},
     "output_type": "execute_result"
    }
   ],
   "source": [
    "data.isnull().sum()"
   ]
  },
  {
   "cell_type": "code",
   "execution_count": 91,
   "metadata": {},
   "outputs": [
    {
     "name": "stderr",
     "output_type": "stream",
     "text": [
      "<ipython-input-91-8f903f0638ec>:2: SettingWithCopyWarning: \n",
      "A value is trying to be set on a copy of a slice from a DataFrame.\n",
      "Try using .loc[row_indexer,col_indexer] = value instead\n",
      "\n",
      "See the caveats in the documentation: https://pandas.pydata.org/pandas-docs/stable/user_guide/indexing.html#returning-a-view-versus-a-copy\n",
      "  data['pos']=L.fit_transform(data['pos'])\n"
     ]
    }
   ],
   "source": [
    "# As position can be ordinal data as points can be effected to the position players play so we labelencode it\n",
    "data['pos']=L.fit_transform(data['pos'])"
   ]
  },
  {
   "cell_type": "code",
   "execution_count": 92,
   "metadata": {},
   "outputs": [
    {
     "data": {
      "text/html": [
       "<div>\n",
       "<style scoped>\n",
       "    .dataframe tbody tr th:only-of-type {\n",
       "        vertical-align: middle;\n",
       "    }\n",
       "\n",
       "    .dataframe tbody tr th {\n",
       "        vertical-align: top;\n",
       "    }\n",
       "\n",
       "    .dataframe thead th {\n",
       "        text-align: right;\n",
       "    }\n",
       "</style>\n",
       "<table border=\"1\" class=\"dataframe\">\n",
       "  <thead>\n",
       "    <tr style=\"text-align: right;\">\n",
       "      <th></th>\n",
       "      <th>pos</th>\n",
       "      <th>fg</th>\n",
       "      <th>x3p</th>\n",
       "      <th>x2p</th>\n",
       "      <th>ft</th>\n",
       "      <th>pts</th>\n",
       "    </tr>\n",
       "  </thead>\n",
       "  <tbody>\n",
       "    <tr>\n",
       "      <th>0</th>\n",
       "      <td>5</td>\n",
       "      <td>66</td>\n",
       "      <td>4</td>\n",
       "      <td>62</td>\n",
       "      <td>35</td>\n",
       "      <td>171</td>\n",
       "    </tr>\n",
       "    <tr>\n",
       "      <th>1</th>\n",
       "      <td>0</td>\n",
       "      <td>93</td>\n",
       "      <td>0</td>\n",
       "      <td>93</td>\n",
       "      <td>79</td>\n",
       "      <td>265</td>\n",
       "    </tr>\n",
       "    <tr>\n",
       "      <th>2</th>\n",
       "      <td>3</td>\n",
       "      <td>143</td>\n",
       "      <td>0</td>\n",
       "      <td>143</td>\n",
       "      <td>76</td>\n",
       "      <td>362</td>\n",
       "    </tr>\n",
       "    <tr>\n",
       "      <th>3</th>\n",
       "      <td>6</td>\n",
       "      <td>464</td>\n",
       "      <td>128</td>\n",
       "      <td>336</td>\n",
       "      <td>274</td>\n",
       "      <td>1330</td>\n",
       "    </tr>\n",
       "    <tr>\n",
       "      <th>4</th>\n",
       "      <td>0</td>\n",
       "      <td>136</td>\n",
       "      <td>0</td>\n",
       "      <td>136</td>\n",
       "      <td>56</td>\n",
       "      <td>328</td>\n",
       "    </tr>\n",
       "    <tr>\n",
       "      <th>...</th>\n",
       "      <td>...</td>\n",
       "      <td>...</td>\n",
       "      <td>...</td>\n",
       "      <td>...</td>\n",
       "      <td>...</td>\n",
       "      <td>...</td>\n",
       "    </tr>\n",
       "    <tr>\n",
       "      <th>476</th>\n",
       "      <td>6</td>\n",
       "      <td>345</td>\n",
       "      <td>40</td>\n",
       "      <td>305</td>\n",
       "      <td>209</td>\n",
       "      <td>939</td>\n",
       "    </tr>\n",
       "    <tr>\n",
       "      <th>477</th>\n",
       "      <td>6</td>\n",
       "      <td>387</td>\n",
       "      <td>135</td>\n",
       "      <td>252</td>\n",
       "      <td>235</td>\n",
       "      <td>1144</td>\n",
       "    </tr>\n",
       "    <tr>\n",
       "      <th>478</th>\n",
       "      <td>3</td>\n",
       "      <td>582</td>\n",
       "      <td>90</td>\n",
       "      <td>492</td>\n",
       "      <td>163</td>\n",
       "      <td>1417</td>\n",
       "    </tr>\n",
       "    <tr>\n",
       "      <th>479</th>\n",
       "      <td>0</td>\n",
       "      <td>172</td>\n",
       "      <td>0</td>\n",
       "      <td>172</td>\n",
       "      <td>146</td>\n",
       "      <td>490</td>\n",
       "    </tr>\n",
       "    <tr>\n",
       "      <th>480</th>\n",
       "      <td>0</td>\n",
       "      <td>156</td>\n",
       "      <td>0</td>\n",
       "      <td>156</td>\n",
       "      <td>87</td>\n",
       "      <td>399</td>\n",
       "    </tr>\n",
       "  </tbody>\n",
       "</table>\n",
       "<p>481 rows × 6 columns</p>\n",
       "</div>"
      ],
      "text/plain": [
       "     pos   fg  x3p  x2p   ft   pts\n",
       "0      5   66    4   62   35   171\n",
       "1      0   93    0   93   79   265\n",
       "2      3  143    0  143   76   362\n",
       "3      6  464  128  336  274  1330\n",
       "4      0  136    0  136   56   328\n",
       "..   ...  ...  ...  ...  ...   ...\n",
       "476    6  345   40  305  209   939\n",
       "477    6  387  135  252  235  1144\n",
       "478    3  582   90  492  163  1417\n",
       "479    0  172    0  172  146   490\n",
       "480    0  156    0  156   87   399\n",
       "\n",
       "[481 rows x 6 columns]"
      ]
     },
     "execution_count": 92,
     "metadata": {},
     "output_type": "execute_result"
    }
   ],
   "source": [
    "data"
   ]
  },
  {
   "cell_type": "code",
   "execution_count": 93,
   "metadata": {},
   "outputs": [
    {
     "data": {
      "text/plain": [
       "array([[<matplotlib.axes._subplots.AxesSubplot object at 0x0000017113D59D60>,\n",
       "        <matplotlib.axes._subplots.AxesSubplot object at 0x0000017113D806A0>],\n",
       "       [<matplotlib.axes._subplots.AxesSubplot object at 0x0000017113DAC940>,\n",
       "        <matplotlib.axes._subplots.AxesSubplot object at 0x0000017113DD9DC0>],\n",
       "       [<matplotlib.axes._subplots.AxesSubplot object at 0x0000017113E11250>,\n",
       "        <matplotlib.axes._subplots.AxesSubplot object at 0x0000017113E36DF0>]],\n",
       "      dtype=object)"
      ]
     },
     "execution_count": 93,
     "metadata": {},
     "output_type": "execute_result"
    },
    {
     "data": {
      "image/png": "[encoded data removed]",
      "text/plain": [
       "<Figure size 432x288 with 6 Axes>"
      ]
     },
     "metadata": {
      "needs_background": "light"
     },
     "output_type": "display_data"
    }
   ],
   "source": [
    "data.hist()"
   ]
  },
  {
   "cell_type": "markdown",
   "metadata": {},
   "source": [
    "Here we can see mostly data is positive skewed."
   ]
  },
  {
   "cell_type": "code",
   "execution_count": 108,
   "metadata": {},
   "outputs": [
    {
     "data": {
      "text/plain": [
       "(481, 6)"
      ]
     },
     "execution_count": 108,
     "metadata": {},
     "output_type": "execute_result"
    }
   ],
   "source": [
    "data.shape"
   ]
  },
  {
   "cell_type": "code",
   "execution_count": 112,
   "metadata": {},
   "outputs": [
    {
     "name": "stderr",
     "output_type": "stream",
     "text": [
      "<ipython-input-112-0b020af27f46>:3: SettingWithCopyWarning: \n",
      "A value is trying to be set on a copy of a slice from a DataFrame.\n",
      "Try using .loc[row_indexer,col_indexer] = value instead\n",
      "\n",
      "See the caveats in the documentation: https://pandas.pydata.org/pandas-docs/stable/user_guide/indexing.html#returning-a-view-versus-a-copy\n",
      "  data[data.columns[:5]]=S.fit_transform(data[data.columns[:5]])\n",
      "C:\\Mba notes\\novels\\Anaconda\\lib\\site-packages\\pandas\\core\\indexing.py:966: SettingWithCopyWarning: \n",
      "A value is trying to be set on a copy of a slice from a DataFrame.\n",
      "Try using .loc[row_indexer,col_indexer] = value instead\n",
      "\n",
      "See the caveats in the documentation: https://pandas.pydata.org/pandas-docs/stable/user_guide/indexing.html#returning-a-view-versus-a-copy\n",
      "  self.obj[item] = s\n"
     ]
    },
    {
     "data": {
      "text/html": [
       "<div>\n",
       "<style scoped>\n",
       "    .dataframe tbody tr th:only-of-type {\n",
       "        vertical-align: middle;\n",
       "    }\n",
       "\n",
       "    .dataframe tbody tr th {\n",
       "        vertical-align: top;\n",
       "    }\n",
       "\n",
       "    .dataframe thead th {\n",
       "        text-align: right;\n",
       "    }\n",
       "</style>\n",
       "<table border=\"1\" class=\"dataframe\">\n",
       "  <thead>\n",
       "    <tr style=\"text-align: right;\">\n",
       "      <th></th>\n",
       "      <th>pos</th>\n",
       "      <th>fg</th>\n",
       "      <th>x3p</th>\n",
       "      <th>x2p</th>\n",
       "      <th>ft</th>\n",
       "      <th>pts</th>\n",
       "    </tr>\n",
       "  </thead>\n",
       "  <tbody>\n",
       "    <tr>\n",
       "      <th>0</th>\n",
       "      <td>0.833333</td>\n",
       "      <td>0.077739</td>\n",
       "      <td>0.015326</td>\n",
       "      <td>0.087819</td>\n",
       "      <td>0.049787</td>\n",
       "      <td>171</td>\n",
       "    </tr>\n",
       "    <tr>\n",
       "      <th>1</th>\n",
       "      <td>0.000000</td>\n",
       "      <td>0.109541</td>\n",
       "      <td>0.000000</td>\n",
       "      <td>0.131728</td>\n",
       "      <td>0.112376</td>\n",
       "      <td>265</td>\n",
       "    </tr>\n",
       "    <tr>\n",
       "      <th>2</th>\n",
       "      <td>0.500000</td>\n",
       "      <td>0.168433</td>\n",
       "      <td>0.000000</td>\n",
       "      <td>0.202550</td>\n",
       "      <td>0.108108</td>\n",
       "      <td>362</td>\n",
       "    </tr>\n",
       "    <tr>\n",
       "      <th>3</th>\n",
       "      <td>1.000000</td>\n",
       "      <td>0.546525</td>\n",
       "      <td>0.490421</td>\n",
       "      <td>0.475921</td>\n",
       "      <td>0.389758</td>\n",
       "      <td>1330</td>\n",
       "    </tr>\n",
       "    <tr>\n",
       "      <th>4</th>\n",
       "      <td>0.000000</td>\n",
       "      <td>0.160188</td>\n",
       "      <td>0.000000</td>\n",
       "      <td>0.192635</td>\n",
       "      <td>0.079659</td>\n",
       "      <td>328</td>\n",
       "    </tr>\n",
       "    <tr>\n",
       "      <th>...</th>\n",
       "      <td>...</td>\n",
       "      <td>...</td>\n",
       "      <td>...</td>\n",
       "      <td>...</td>\n",
       "      <td>...</td>\n",
       "      <td>...</td>\n",
       "    </tr>\n",
       "    <tr>\n",
       "      <th>476</th>\n",
       "      <td>1.000000</td>\n",
       "      <td>0.406360</td>\n",
       "      <td>0.153257</td>\n",
       "      <td>0.432011</td>\n",
       "      <td>0.297297</td>\n",
       "      <td>939</td>\n",
       "    </tr>\n",
       "    <tr>\n",
       "      <th>477</th>\n",
       "      <td>1.000000</td>\n",
       "      <td>0.455830</td>\n",
       "      <td>0.517241</td>\n",
       "      <td>0.356941</td>\n",
       "      <td>0.334282</td>\n",
       "      <td>1144</td>\n",
       "    </tr>\n",
       "    <tr>\n",
       "      <th>478</th>\n",
       "      <td>0.500000</td>\n",
       "      <td>0.685512</td>\n",
       "      <td>0.344828</td>\n",
       "      <td>0.696884</td>\n",
       "      <td>0.231863</td>\n",
       "      <td>1417</td>\n",
       "    </tr>\n",
       "    <tr>\n",
       "      <th>479</th>\n",
       "      <td>0.000000</td>\n",
       "      <td>0.202591</td>\n",
       "      <td>0.000000</td>\n",
       "      <td>0.243626</td>\n",
       "      <td>0.207681</td>\n",
       "      <td>490</td>\n",
       "    </tr>\n",
       "    <tr>\n",
       "      <th>480</th>\n",
       "      <td>0.000000</td>\n",
       "      <td>0.183746</td>\n",
       "      <td>0.000000</td>\n",
       "      <td>0.220963</td>\n",
       "      <td>0.123755</td>\n",
       "      <td>399</td>\n",
       "    </tr>\n",
       "  </tbody>\n",
       "</table>\n",
       "<p>481 rows × 6 columns</p>\n",
       "</div>"
      ],
      "text/plain": [
       "          pos        fg       x3p       x2p        ft   pts\n",
       "0    0.833333  0.077739  0.015326  0.087819  0.049787   171\n",
       "1    0.000000  0.109541  0.000000  0.131728  0.112376   265\n",
       "2    0.500000  0.168433  0.000000  0.202550  0.108108   362\n",
       "3    1.000000  0.546525  0.490421  0.475921  0.389758  1330\n",
       "4    0.000000  0.160188  0.000000  0.192635  0.079659   328\n",
       "..        ...       ...       ...       ...       ...   ...\n",
       "476  1.000000  0.406360  0.153257  0.432011  0.297297   939\n",
       "477  1.000000  0.455830  0.517241  0.356941  0.334282  1144\n",
       "478  0.500000  0.685512  0.344828  0.696884  0.231863  1417\n",
       "479  0.000000  0.202591  0.000000  0.243626  0.207681   490\n",
       "480  0.000000  0.183746  0.000000  0.220963  0.123755   399\n",
       "\n",
       "[481 rows x 6 columns]"
      ]
     },
     "execution_count": 112,
     "metadata": {},
     "output_type": "execute_result"
    }
   ],
   "source": [
    "# Now lets's scale our data using MinMaxScaler\n",
    "S=MinMaxScaler()\n",
    "data[data.columns[:5]]=S.fit_transform(data[data.columns[:5]])\n",
    "data"
   ]
  },
  {
   "cell_type": "code",
   "execution_count": 113,
   "metadata": {},
   "outputs": [],
   "source": [
    "# Now let's split our data for training and testing \n",
    "x_train,x_test,y_train,y_test=train_test_split(data.drop('pts',1),data['pts'],test_size=0.8,random_state=56)"
   ]
  },
  {
   "cell_type": "code",
   "execution_count": 119,
   "metadata": {},
   "outputs": [
    {
     "data": {
      "text/plain": [
       "1.0"
      ]
     },
     "execution_count": 119,
     "metadata": {},
     "output_type": "execute_result"
    }
   ],
   "source": [
    "model=LinearRegression()\n",
    "model.fit(x_train,y_train)\n",
    "model.score(x_test,y_test)"
   ]
  },
  {
   "cell_type": "markdown",
   "metadata": {},
   "source": [
    " So Here we can see model is giving 100% accuracy even for testing dataset"
   ]
  },
  {
   "cell_type": "code",
   "execution_count": 121,
   "metadata": {},
   "outputs": [
    {
     "data": {
      "text/plain": [
       "1.0"
      ]
     },
     "execution_count": 121,
     "metadata": {},
     "output_type": "execute_result"
    }
   ],
   "source": [
    "# Now let's make our final model by using all dataset for training\n",
    "final_model=LinearRegression()\n",
    "final_model.fit(data.drop('pts',1),data['pts'])\n",
    "final_model.score(data.drop('pts',1),data['pts'])"
   ]
  },
  {
   "cell_type": "code",
   "execution_count": 124,
   "metadata": {},
   "outputs": [],
   "source": [
    "predictions=final_model.predict(data.drop('pts',1))"
   ]
  },
  {
   "cell_type": "code",
   "execution_count": 137,
   "metadata": {},
   "outputs": [
    {
     "data": {
      "text/html": [
       "<div>\n",
       "<style scoped>\n",
       "    .dataframe tbody tr th:only-of-type {\n",
       "        vertical-align: middle;\n",
       "    }\n",
       "\n",
       "    .dataframe tbody tr th {\n",
       "        vertical-align: top;\n",
       "    }\n",
       "\n",
       "    .dataframe thead th {\n",
       "        text-align: right;\n",
       "    }\n",
       "</style>\n",
       "<table border=\"1\" class=\"dataframe\">\n",
       "  <thead>\n",
       "    <tr style=\"text-align: right;\">\n",
       "      <th></th>\n",
       "      <th>player</th>\n",
       "      <th>Predictions</th>\n",
       "    </tr>\n",
       "  </thead>\n",
       "  <tbody>\n",
       "    <tr>\n",
       "      <th>0</th>\n",
       "      <td>Quincy Acy</td>\n",
       "      <td>171</td>\n",
       "    </tr>\n",
       "    <tr>\n",
       "      <th>1</th>\n",
       "      <td>Steven Adams</td>\n",
       "      <td>265</td>\n",
       "    </tr>\n",
       "    <tr>\n",
       "      <th>2</th>\n",
       "      <td>Jeff Adrien</td>\n",
       "      <td>362</td>\n",
       "    </tr>\n",
       "    <tr>\n",
       "      <th>3</th>\n",
       "      <td>Arron Afflalo</td>\n",
       "      <td>1330</td>\n",
       "    </tr>\n",
       "    <tr>\n",
       "      <th>4</th>\n",
       "      <td>Alexis Ajinca</td>\n",
       "      <td>328</td>\n",
       "    </tr>\n",
       "    <tr>\n",
       "      <th>...</th>\n",
       "      <td>...</td>\n",
       "      <td>...</td>\n",
       "    </tr>\n",
       "    <tr>\n",
       "      <th>476</th>\n",
       "      <td>Tony Wroten</td>\n",
       "      <td>939</td>\n",
       "    </tr>\n",
       "    <tr>\n",
       "      <th>477</th>\n",
       "      <td>Nick Young</td>\n",
       "      <td>1144</td>\n",
       "    </tr>\n",
       "    <tr>\n",
       "      <th>478</th>\n",
       "      <td>Thaddeus Young</td>\n",
       "      <td>1417</td>\n",
       "    </tr>\n",
       "    <tr>\n",
       "      <th>479</th>\n",
       "      <td>Cody Zeller</td>\n",
       "      <td>490</td>\n",
       "    </tr>\n",
       "    <tr>\n",
       "      <th>480</th>\n",
       "      <td>Tyler Zeller</td>\n",
       "      <td>399</td>\n",
       "    </tr>\n",
       "  </tbody>\n",
       "</table>\n",
       "<p>481 rows × 2 columns</p>\n",
       "</div>"
      ],
      "text/plain": [
       "             player Predictions\n",
       "0        Quincy Acy         171\n",
       "1      Steven Adams         265\n",
       "2       Jeff Adrien         362\n",
       "3     Arron Afflalo        1330\n",
       "4     Alexis Ajinca         328\n",
       "..              ...         ...\n",
       "476     Tony Wroten         939\n",
       "477      Nick Young        1144\n",
       "478  Thaddeus Young        1417\n",
       "479     Cody Zeller         490\n",
       "480    Tyler Zeller         399\n",
       "\n",
       "[481 rows x 2 columns]"
      ]
     },
     "execution_count": 137,
     "metadata": {},
     "output_type": "execute_result"
    }
   ],
   "source": [
    "final_data=pd.DataFrame([df1['player'],predictions]).T\n",
    "final_data=final_data.rename(columns={'Unnamed 0':'Predictions'})\n",
    "final_data"
   ]
  },
  {
   "cell_type": "markdown",
   "metadata": {},
   "source": [
    "Above are the predictions of points scored by Players"
   ]
  },
  {
   "cell_type": "code",
   "execution_count": 141,
   "metadata": {},
   "outputs": [
    {
     "name": "stdout",
     "output_type": "stream",
     "text": [
      "Total points scored : 248476.0\n"
     ]
    }
   ],
   "source": [
    "# Total points scored by NBA players \n",
    "print(\"Total points scored :\" ,sum(final_data['Predictions']))"
   ]
  },
  {
   "cell_type": "code",
   "execution_count": null,
   "metadata": {},
   "outputs": [],
   "source": []
  }
 ],
 "metadata": {
  "kernelspec": {
   "display_name": "Python 3",
   "language": "python",
   "name": "python3"
  },
  "language_info": {
   "codemirror_mode": {
    "name": "ipython",
    "version": 3
   },
   "file_extension": ".py",
   "mimetype": "text/x-python",
   "name": "python",
   "nbconvert_exporter": "python",
   "pygments_lexer": "ipython3",
   "version": "3.8.3"
  }
 },
 "nbformat": 4,
 "nbformat_minor": 4
}
