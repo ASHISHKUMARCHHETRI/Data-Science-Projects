{
 "cells": [
  {
   "cell_type": "code",
   "execution_count": 1,
   "metadata": {},
   "outputs": [],
   "source": [
    "import re\n",
    "import pandas as pd"
   ]
  },
  {
   "cell_type": "code",
   "execution_count": 2,
   "metadata": {},
   "outputs": [],
   "source": [
    "nameage='''\n",
    "Ashish is 22 yrs now and Abcd is 33\n",
    "John is 32 now and Lucy is 19\n",
    "'''"
   ]
  },
  {
   "cell_type": "code",
   "execution_count": 4,
   "metadata": {},
   "outputs": [
    {
     "name": "stdout",
     "output_type": "stream",
     "text": [
      "['22', '33', '32', '19']\n",
      "use to find all 2 digits number\n"
     ]
    }
   ],
   "source": [
    "ages=re.findall(r\"\\d{1,3}\",nameage)\n",
    "print(ages)\n",
    "print(\"use to find all 2 digits number\")"
   ]
  },
  {
   "cell_type": "code",
   "execution_count": 6,
   "metadata": {},
   "outputs": [
    {
     "name": "stdout",
     "output_type": "stream",
     "text": [
      "['Ashish', 'Abcd', 'John', 'Lucy']\n",
      "use to find all the names\n"
     ]
    }
   ],
   "source": [
    "names=re.findall(r\"[A-Z][a-z]*\",nameage)\n",
    "print(names)\n",
    "print(\"use to find all the names\")"
   ]
  },
  {
   "cell_type": "code",
   "execution_count": 16,
   "metadata": {},
   "outputs": [
    {
     "ename": "TypeError",
     "evalue": "'str' object does not support item assignment",
     "output_type": "error",
     "traceback": [
      "\u001b[1;31m---------------------------------------------------------------------------\u001b[0m",
      "\u001b[1;31mTypeError\u001b[0m                                 Traceback (most recent call last)",
      "\u001b[1;32m<ipython-input-16-bf13e51cb0aa>\u001b[0m in \u001b[0;36m<module>\u001b[1;34m\u001b[0m\n\u001b[0;32m      1\u001b[0m \u001b[0mx\u001b[0m\u001b[1;33m=\u001b[0m\u001b[1;36m0\u001b[0m\u001b[1;33m\u001b[0m\u001b[1;33m\u001b[0m\u001b[0m\n\u001b[0;32m      2\u001b[0m \u001b[1;32mfor\u001b[0m \u001b[0mi\u001b[0m \u001b[1;32min\u001b[0m \u001b[0mnames\u001b[0m\u001b[1;33m:\u001b[0m\u001b[1;33m\u001b[0m\u001b[1;33m\u001b[0m\u001b[0m\n\u001b[1;32m----> 3\u001b[1;33m     \u001b[0mage_dict\u001b[0m\u001b[1;33m[\u001b[0m\u001b[0mi\u001b[0m\u001b[1;33m]\u001b[0m\u001b[1;33m=\u001b[0m\u001b[0mages\u001b[0m\u001b[1;33m[\u001b[0m\u001b[0mx\u001b[0m\u001b[1;33m]\u001b[0m\u001b[1;33m\u001b[0m\u001b[1;33m\u001b[0m\u001b[0m\n\u001b[0m\u001b[0;32m      4\u001b[0m     \u001b[0mx\u001b[0m\u001b[1;33m=\u001b[0m\u001b[0mx\u001b[0m\u001b[1;33m+\u001b[0m\u001b[1;36m1\u001b[0m\u001b[1;33m\u001b[0m\u001b[1;33m\u001b[0m\u001b[0m\n\u001b[0;32m      5\u001b[0m \u001b[0mprint\u001b[0m\u001b[1;33m(\u001b[0m\u001b[0mage_dict\u001b[0m\u001b[1;33m)\u001b[0m\u001b[1;33m\u001b[0m\u001b[1;33m\u001b[0m\u001b[0m\n",
      "\u001b[1;31mTypeError\u001b[0m: 'str' object does not support item assignment"
     ]
    }
   ],
   "source": [
    "x=0\n",
    "for i in names:\n",
    "    age_dict[i]=ages[x]\n",
    "    x=x+1\n",
    "print(age_dict)"
   ]
  },
  {
   "cell_type": "code",
   "execution_count": 17,
   "metadata": {},
   "outputs": [
    {
     "name": "stdout",
     "output_type": "stream",
     "text": [
      "{'Ashish': '22', 'Abcd': '33', 'John': '32', 'Lucy': '19'}\n"
     ]
    }
   ],
   "source": [
    "age_dict={}\n",
    "x=0\n",
    "for i in names:\n",
    "    age_dict[i]=ages[x]\n",
    "    x=x+1\n",
    "print(age_dict)"
   ]
  },
  {
   "cell_type": "code",
   "execution_count": 24,
   "metadata": {},
   "outputs": [
    {
     "name": "stdout",
     "output_type": "stream",
     "text": [
      "Yes there is inform\n"
     ]
    }
   ],
   "source": [
    "if re.search(\"inform\",\"we need ti inform him with the latest information\"):\n",
    "    print(\"Yes there is inform\")"
   ]
  },
  {
   "cell_type": "code",
   "execution_count": 21,
   "metadata": {},
   "outputs": [
    {
     "name": "stdout",
     "output_type": "stream",
     "text": [
      "['inform', 'inform']\n",
      "it find ionformation 2 times,1 for only inform words and then for inform in information\n"
     ]
    }
   ],
   "source": [
    "print(re.findall(\"inform\",\"we need ti inform him with the latest information\"))\n",
    "print(\"it find ionformation 2 times,1 for only inform words and then for inform in information\")"
   ]
  },
  {
   "cell_type": "code",
   "execution_count": 25,
   "metadata": {},
   "outputs": [
    {
     "name": "stdout",
     "output_type": "stream",
     "text": [
      "(11, 17)\n",
      "(38, 44)\n"
     ]
    }
   ],
   "source": [
    "strg=\"we need to inform him with the latest information\"\n",
    "for i in re.finditer(\"inform\",strg):\n",
    "    loctup=i.span()\n",
    "    print(loctup)"
   ]
  },
  {
   "cell_type": "code",
   "execution_count": 30,
   "metadata": {},
   "outputs": [
    {
     "data": {
      "text/plain": [
       "['sat', 'hat', 'mat', 'pat', 'hat', 'Bat', 'Mat']"
      ]
     },
     "execution_count": 30,
     "metadata": {},
     "output_type": "execute_result"
    }
   ],
   "source": [
    "a=\"sat,hat,mat,pat,chat,Bat,Mat\"\n",
    "re.findall(\"[A-Za-z]at\",a)"
   ]
  },
  {
   "cell_type": "code",
   "execution_count": 32,
   "metadata": {},
   "outputs": [
    {
     "data": {
      "text/plain": [
       "'sat,hat,food,pat,chat,Bat,Mat'"
      ]
     },
     "execution_count": 32,
     "metadata": {},
     "output_type": "execute_result"
    }
   ],
   "source": [
    "re.sub(\"mat\",\"food\",a)"
   ]
  },
  {
   "cell_type": "code",
   "execution_count": 39,
   "metadata": {},
   "outputs": [
    {
     "name": "stdout",
     "output_type": "stream",
     "text": [
      "<re.Match object; span=(16, 22), match='//Goat'>\n"
     ]
    }
   ],
   "source": [
    "b=\"Messi is called //Goat of football \"\n",
    "print(re.search(r\"//Goat\",b))"
   ]
  },
  {
   "cell_type": "code",
   "execution_count": 48,
   "metadata": {},
   "outputs": [
    {
     "name": "stdout",
     "output_type": "stream",
     "text": [
      "\n",
      "I am\n",
      "doing MBA in AI\n",
      "from geu\n",
      "\n"
     ]
    }
   ],
   "source": [
    "a=\"\"\"\n",
    "I am\n",
    "doing MBA in AI\n",
    "from geu\n",
    "\"\"\"\n",
    "print(a)"
   ]
  },
  {
   "cell_type": "code",
   "execution_count": 51,
   "metadata": {},
   "outputs": [],
   "source": [
    "## Writing above in one line"
   ]
  },
  {
   "cell_type": "code",
   "execution_count": 50,
   "metadata": {},
   "outputs": [
    {
     "name": "stdout",
     "output_type": "stream",
     "text": [
      " I am doing MBA in AI from geu \n"
     ]
    }
   ],
   "source": [
    "regex=re.compile(\"\\n\")\n",
    "b=regex.sub(\" \",a)\n",
    "print(b)"
   ]
  },
  {
   "cell_type": "code",
   "execution_count": 52,
   "metadata": {},
   "outputs": [],
   "source": [
    "#\\b:backspace\n",
    "#\\f:formfeed\n",
    "#\\r:carriage return\n",
    "#\\t:tab\n",
    "#\\v:Vertical tab"
   ]
  },
  {
   "cell_type": "code",
   "execution_count": 59,
   "metadata": {},
   "outputs": [
    {
     "name": "stdout",
     "output_type": "stream",
     "text": [
      "Matches:  ['1', '2', '3', '4', '5', '6']\n",
      "matches all the numbers\n"
     ]
    }
   ],
   "source": [
    "a=\"123456abc/!@\"\n",
    "print(\"Matches: \",re.findall(\"\\d\",a))\n",
    "print(\"matches all the numbers\")"
   ]
  },
  {
   "cell_type": "code",
   "execution_count": 61,
   "metadata": {},
   "outputs": [
    {
     "name": "stdout",
     "output_type": "stream",
     "text": [
      "Matches:  ['a', 'b', 'c', '/', '!', '@']\n",
      "matches anything except number\n"
     ]
    }
   ],
   "source": [
    "a=\"123456abc/!@\"\n",
    "print(\"Matches: \",re.findall(\"\\D\",a))\n",
    "print(\"matches anything except number\")"
   ]
  },
  {
   "cell_type": "code",
   "execution_count": 76,
   "metadata": {},
   "outputs": [
    {
     "name": "stdout",
     "output_type": "stream",
     "text": [
      "Matches:  1\n",
      "matches only specific number given in dictionary\n"
     ]
    }
   ],
   "source": [
    "a=\"123456abc/!@\"\n",
    "print(\"Matches: \",len(re.findall(\"\\d{5}\",a)))\n",
    "print(\"matches only specific number given in dictionary\")"
   ]
  },
  {
   "cell_type": "code",
   "execution_count": 9,
   "metadata": {},
   "outputs": [],
   "source": [
    "#\\w wil match anything like [a-zA-Z0-9_]\n",
    "#\\W match anything except inside the bracket\n",
    "#\\W will match anything except [^a-zA-z0-9]"
   ]
  },
  {
   "cell_type": "code",
   "execution_count": 33,
   "metadata": {},
   "outputs": [
    {
     "name": "stdout",
     "output_type": "stream",
     "text": [
      "<re.Match object; span=(0, 12), match='123-456-7890'>\n"
     ]
    }
   ],
   "source": [
    "phn=\"123-456-7890\"\n",
    "print(re.search(\"\\w{3}-\\w{3}-\\w{4}\",phn))\n"
   ]
  },
  {
   "cell_type": "code",
   "execution_count": 35,
   "metadata": {},
   "outputs": [
    {
     "name": "stdout",
     "output_type": "stream",
     "text": [
      "None\n"
     ]
    }
   ],
   "source": [
    "print(re.search(\"\\d{3}-\\d{3}-d{4}\",phn))"
   ]
  },
  {
   "cell_type": "code",
   "execution_count": 43,
   "metadata": {},
   "outputs": [
    {
     "name": "stdout",
     "output_type": "stream",
     "text": [
      "['Ashish Chhetri', 'Amansing\\nAbhinav', 'sharma\\nMahatma']\n",
      "['Ashish', 'Chhetri', 'Amansing', 'Abhinav', 'sharma', 'Mahatma', 'Gandhi']\n"
     ]
    }
   ],
   "source": [
    "name=\"\"\"\n",
    "Ashish Chhetri\n",
    "Amansing\n",
    "Abhinav sharma\n",
    "Mahatma Gandhi\n",
    "\"\"\"\n",
    "print(re.findall(\"\\w{1,20}\\s\\w{1,20}\",name))\n",
    "print(re.findall(\"\\w{1,20}\\S\\w{1,20}\",name))"
   ]
  },
  {
   "cell_type": "code",
   "execution_count": null,
   "metadata": {},
   "outputs": [],
   "source": []
  }
 ],
 "metadata": {
  "kernelspec": {
   "display_name": "Python 3",
   "language": "python",
   "name": "python3"
  },
  "language_info": {
   "codemirror_mode": {
    "name": "ipython",
    "version": 3
   },
   "file_extension": ".py",
   "mimetype": "text/x-python",
   "name": "python",
   "nbconvert_exporter": "python",
   "pygments_lexer": "ipython3",
   "version": "3.8.3"
  }
 },
 "nbformat": 4,
 "nbformat_minor": 4
}
